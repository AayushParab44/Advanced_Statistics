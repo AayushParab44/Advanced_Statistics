{
 "cells": [
  {
   "cell_type": "code",
   "execution_count": 17,
   "id": "76d4d1ed-6a18-490c-968f-8ecf62516c05",
   "metadata": {},
   "outputs": [],
   "source": [
    "import numpy as np"
   ]
  },
  {
   "cell_type": "code",
   "execution_count": 18,
   "id": "3320a220-149a-44b9-9443-28d57fbabebe",
   "metadata": {},
   "outputs": [
    {
     "data": {
      "text/plain": [
       "array([0, 1, 2, 3, 4, 5, 6, 7, 8, 9])"
      ]
     },
     "execution_count": 18,
     "metadata": {},
     "output_type": "execute_result"
    }
   ],
   "source": [
    "a1=np.arange(10)\n",
    "a1\n"
   ]
  },
  {
   "cell_type": "code",
   "execution_count": 19,
   "id": "f73041d3-ec87-4430-93ac-25b69af18802",
   "metadata": {},
   "outputs": [
    {
     "name": "stdout",
     "output_type": "stream",
     "text": [
      "4\n"
     ]
    }
   ],
   "source": [
    "print(a1[4])"
   ]
  },
  {
   "cell_type": "code",
   "execution_count": 20,
   "id": "45587e69-8ea6-4803-ab5c-afeeccb1445a",
   "metadata": {},
   "outputs": [
    {
     "data": {
      "text/plain": [
       "array([ 4,  7, 10, 13, 16, 19, 22])"
      ]
     },
     "execution_count": 20,
     "metadata": {},
     "output_type": "execute_result"
    }
   ],
   "source": [
    "a3=np.arange(4,24,3)\n",
    "a3\n"
   ]
  },
  {
   "cell_type": "code",
   "execution_count": 21,
   "id": "ab7dc6d0-b4ef-4f0a-a7ef-7a8a4d0ba109",
   "metadata": {},
   "outputs": [
    {
     "data": {
      "text/plain": [
       "array([40, 38, 36])"
      ]
     },
     "execution_count": 21,
     "metadata": {},
     "output_type": "execute_result"
    }
   ],
   "source": [
    "a4=np.arange(40,35,-2)\n",
    "a4"
   ]
  },
  {
   "cell_type": "code",
   "execution_count": 22,
   "id": "952df74c-ca79-46bb-ab21-d1e9c1b42189",
   "metadata": {},
   "outputs": [
    {
     "data": {
      "text/plain": [
       "numpy.ndarray"
      ]
     },
     "execution_count": 22,
     "metadata": {},
     "output_type": "execute_result"
    }
   ],
   "source": [
    "type(a1)  #n - dimensional array"
   ]
  },
  {
   "cell_type": "code",
   "execution_count": 23,
   "id": "20faf9ef-9470-428e-819b-234f6f30e7cb",
   "metadata": {},
   "outputs": [],
   "source": [
    "a1=np.append(a1,7)"
   ]
  },
  {
   "cell_type": "code",
   "execution_count": 24,
   "id": "eb6a449b-96dc-48cb-82db-1881174bce6a",
   "metadata": {},
   "outputs": [
    {
     "data": {
      "text/plain": [
       "array([0, 1, 2, 3, 4, 5, 6, 7, 8, 9, 7])"
      ]
     },
     "execution_count": 24,
     "metadata": {},
     "output_type": "execute_result"
    }
   ],
   "source": [
    "a1"
   ]
  },
  {
   "cell_type": "code",
   "execution_count": null,
   "id": "cc3e3579-b0ba-4800-ad63-32f5c74b6f63",
   "metadata": {},
   "outputs": [],
   "source": []
  },
  {
   "cell_type": "code",
   "execution_count": 26,
   "id": "7d33e98a-87aa-43ab-b0f7-d5ba785474af",
   "metadata": {},
   "outputs": [],
   "source": [
    "a2=np.array([4,3,7,6])"
   ]
  },
  {
   "cell_type": "code",
   "execution_count": 28,
   "id": "771a9c26-6302-48b6-a6cf-dedb9cf6f366",
   "metadata": {},
   "outputs": [],
   "source": [
    "a3=np.concatenate((a1,a2))"
   ]
  },
  {
   "cell_type": "code",
   "execution_count": 29,
   "id": "844176d3-23ce-43c9-8d7c-7f162adcb57e",
   "metadata": {},
   "outputs": [
    {
     "data": {
      "text/plain": [
       "array([0, 1, 2, 3, 4, 5, 6, 7, 8, 9, 7, 4, 3, 7, 6])"
      ]
     },
     "execution_count": 29,
     "metadata": {},
     "output_type": "execute_result"
    }
   ],
   "source": [
    "a3"
   ]
  },
  {
   "cell_type": "code",
   "execution_count": 42,
   "id": "71826962-a5d9-48f0-8116-a8750f05401c",
   "metadata": {},
   "outputs": [
    {
     "data": {
      "text/plain": [
       "array([   0,    1,    2, 1000,    3,    4,    5,    6,    7,    8,    9,\n",
       "          7])"
      ]
     },
     "execution_count": 42,
     "metadata": {},
     "output_type": "execute_result"
    }
   ],
   "source": [
    "a1=np.insert(a1,3,1000)\n",
    "a1"
   ]
  },
  {
   "cell_type": "code",
   "execution_count": 43,
   "id": "4eb604e6-e125-4042-a9d8-a2d890579ad0",
   "metadata": {},
   "outputs": [
    {
     "data": {
      "text/plain": [
       "array([0, 1, 2, 3, 4, 5, 6, 7, 8, 9, 7])"
      ]
     },
     "execution_count": 43,
     "metadata": {},
     "output_type": "execute_result"
    }
   ],
   "source": [
    "a1=np.delete(a1,3)\n",
    "a1"
   ]
  },
  {
   "cell_type": "code",
   "execution_count": null,
   "id": "cf77ef20-7bac-4947-9da4-b7ec074235d6",
   "metadata": {},
   "outputs": [],
   "source": []
  },
  {
   "cell_type": "code",
   "execution_count": 44,
   "id": "196c76c5-7b6f-494c-99a0-7d18224fa518",
   "metadata": {},
   "outputs": [
    {
     "data": {
      "text/plain": [
       "array([[6, 8, 4, 3],\n",
       "       [4, 5, 1, 7]])"
      ]
     },
     "execution_count": 44,
     "metadata": {},
     "output_type": "execute_result"
    }
   ],
   "source": [
    "p1=[6,8,4,3]\n",
    "p2=[4,5,1,7]\n",
    "a1=np.array([p1,p2])\n",
    "a1"
   ]
  },
  {
   "cell_type": "code",
   "execution_count": 46,
   "id": "b229c914-b47b-41ca-a4f8-1987f126dd76",
   "metadata": {},
   "outputs": [
    {
     "data": {
      "text/plain": [
       "array([4, 7, 5, 8, 9])"
      ]
     },
     "execution_count": 46,
     "metadata": {},
     "output_type": "execute_result"
    }
   ],
   "source": [
    "a2=np.array([4,7,5,8,9])\n",
    "a2"
   ]
  },
  {
   "cell_type": "code",
   "execution_count": 48,
   "id": "a3717e5e-4a5b-4f8c-a663-d4670ae81384",
   "metadata": {},
   "outputs": [
    {
     "name": "stdout",
     "output_type": "stream",
     "text": [
      "(2, 4)\n"
     ]
    }
   ],
   "source": [
    "print(a1.shape)"
   ]
  },
  {
   "cell_type": "code",
   "execution_count": 49,
   "id": "b2fea411-eaba-4d3a-b879-2cbd8aff0d9c",
   "metadata": {},
   "outputs": [
    {
     "name": "stdout",
     "output_type": "stream",
     "text": [
      "(5,)\n"
     ]
    }
   ],
   "source": [
    "print(a2.shape)"
   ]
  },
  {
   "cell_type": "code",
   "execution_count": 55,
   "id": "ba630282-9236-404f-9b27-80bb9233c550",
   "metadata": {},
   "outputs": [
    {
     "data": {
      "text/plain": [
       "array([[ 1,  5,  6, 78,  5],\n",
       "       [ 5, 23,  1,  7,  9],\n",
       "       [ 7,  8,  9,  5,  2]])"
      ]
     },
     "execution_count": 55,
     "metadata": {},
     "output_type": "execute_result"
    }
   ],
   "source": [
    "a2=np.array([[1,5,6,78,5],[5,23,1,7,9],[7,8,9,5,2]])\n",
    "a2"
   ]
  },
  {
   "cell_type": "code",
   "execution_count": 56,
   "id": "c2ea22b3-6fab-4b9d-a893-860f6aab63ab",
   "metadata": {},
   "outputs": [
    {
     "data": {
      "text/plain": [
       "(3, 5)"
      ]
     },
     "execution_count": 56,
     "metadata": {},
     "output_type": "execute_result"
    }
   ],
   "source": [
    "a2.shape\n"
   ]
  },
  {
   "cell_type": "code",
   "execution_count": 58,
   "id": "886c5e95-e777-4602-8543-865d2a842426",
   "metadata": {},
   "outputs": [
    {
     "data": {
      "text/plain": [
       "array([[ 1,  5,  6],\n",
       "       [78,  5,  5],\n",
       "       [23,  1,  7],\n",
       "       [ 9,  7,  8],\n",
       "       [ 9,  5,  2]])"
      ]
     },
     "execution_count": 58,
     "metadata": {},
     "output_type": "execute_result"
    }
   ],
   "source": [
    "a6=a2.reshape(5,3)\n",
    "a6"
   ]
  },
  {
   "cell_type": "code",
   "execution_count": 66,
   "id": "12e826b5-81d2-47f1-929c-b6606a83e72f",
   "metadata": {},
   "outputs": [
    {
     "data": {
      "text/plain": [
       "(12,)"
      ]
     },
     "execution_count": 66,
     "metadata": {},
     "output_type": "execute_result"
    }
   ],
   "source": [
    "a7=np.array([4,1,2,4,2,5,12,2,20,24,21,2])\n",
    "a7.shape"
   ]
  },
  {
   "cell_type": "code",
   "execution_count": 67,
   "id": "d3e21a61-f535-4563-ad93-bad3f43c3005",
   "metadata": {},
   "outputs": [
    {
     "data": {
      "text/plain": [
       "array([[ 4,  1,  2,  4],\n",
       "       [ 2,  5, 12,  2],\n",
       "       [20, 24, 21,  2]])"
      ]
     },
     "execution_count": 67,
     "metadata": {},
     "output_type": "execute_result"
    }
   ],
   "source": [
    "a8=a7.reshape(3,4)\n",
    "a8"
   ]
  },
  {
   "cell_type": "code",
   "execution_count": null,
   "id": "40d0fc91-539c-417e-9714-701731bb16a3",
   "metadata": {},
   "outputs": [],
   "source": []
  },
  {
   "cell_type": "code",
   "execution_count": null,
   "id": "7b39be6e-857e-481e-a89f-8c6460f08e44",
   "metadata": {},
   "outputs": [],
   "source": []
  },
  {
   "cell_type": "code",
   "execution_count": 86,
   "id": "75376df9-9092-4557-ab46-0c30042f966f",
   "metadata": {},
   "outputs": [],
   "source": [
    "a=[4,7,5,8,1]\n",
    "b=[7,'dd',9]\n",
    "c=[4,7,5,2]\n",
    "\n",
    "d=['ad',54,4,'f']"
   ]
  },
  {
   "cell_type": "code",
   "execution_count": 87,
   "id": "079bc0f8-4470-4176-a87f-9b03f9f0451d",
   "metadata": {},
   "outputs": [],
   "source": [
    "# d.append(a,b)"
   ]
  },
  {
   "cell_type": "code",
   "execution_count": 88,
   "id": "85735d20-b6c7-422c-b7d8-527479cf4f2f",
   "metadata": {},
   "outputs": [
    {
     "data": {
      "text/plain": [
       "['ad', 54, 4, 'f']"
      ]
     },
     "execution_count": 88,
     "metadata": {},
     "output_type": "execute_result"
    }
   ],
   "source": [
    "d"
   ]
  },
  {
   "cell_type": "code",
   "execution_count": 89,
   "id": "0cf6578e-0464-4992-a271-ed6d3af61aef",
   "metadata": {},
   "outputs": [
    {
     "data": {
      "text/plain": [
       "['ad', 54, 4, 'f', 4, 7, 5, 8, 1, 7, 'dd', 9, 4, 7, 5, 2]"
      ]
     },
     "execution_count": 89,
     "metadata": {},
     "output_type": "execute_result"
    }
   ],
   "source": [
    "d=d+a+b+c\n",
    "d"
   ]
  },
  {
   "cell_type": "code",
   "execution_count": 90,
   "id": "8e33d6ac-f28c-498c-bdd1-d9d43a2c4eeb",
   "metadata": {},
   "outputs": [],
   "source": [
    "d.extend(a)"
   ]
  },
  {
   "cell_type": "code",
   "execution_count": 91,
   "id": "3c3b13bf-e9fc-4acf-b36d-31355a804909",
   "metadata": {},
   "outputs": [
    {
     "data": {
      "text/plain": [
       "['ad', 54, 4, 'f', 4, 7, 5, 8, 1, 7, 'dd', 9, 4, 7, 5, 2, 4, 7, 5, 8, 1]"
      ]
     },
     "execution_count": 91,
     "metadata": {},
     "output_type": "execute_result"
    }
   ],
   "source": [
    "d\n"
   ]
  },
  {
   "cell_type": "code",
   "execution_count": null,
   "id": "1fefee8f-b2a4-4d3e-9c7b-1e0f71191f3c",
   "metadata": {},
   "outputs": [],
   "source": []
  },
  {
   "cell_type": "code",
   "execution_count": null,
   "id": "8910ac4b-d6df-4f7e-a35c-7a728626846a",
   "metadata": {},
   "outputs": [],
   "source": []
  }
 ],
 "metadata": {
  "kernelspec": {
   "display_name": "Python 3 (ipykernel)",
   "language": "python",
   "name": "python3"
  },
  "language_info": {
   "codemirror_mode": {
    "name": "ipython",
    "version": 3
   },
   "file_extension": ".py",
   "mimetype": "text/x-python",
   "name": "python",
   "nbconvert_exporter": "python",
   "pygments_lexer": "ipython3",
   "version": "3.12.7"
  }
 },
 "nbformat": 4,
 "nbformat_minor": 5
}
