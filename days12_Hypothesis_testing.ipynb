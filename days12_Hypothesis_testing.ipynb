{
 "cells": [
  {
   "cell_type": "code",
   "execution_count": 1,
   "id": "0e426282-a386-43b8-9892-bc1677a1ef58",
   "metadata": {},
   "outputs": [
    {
     "ename": "ModuleNotFoundError",
     "evalue": "No module named 'statsmodels'",
     "output_type": "error",
     "traceback": [
      "\u001b[1;31m---------------------------------------------------------------------------\u001b[0m",
      "\u001b[1;31mModuleNotFoundError\u001b[0m                       Traceback (most recent call last)",
      "Cell \u001b[1;32mIn[1], line 1\u001b[0m\n\u001b[1;32m----> 1\u001b[0m \u001b[38;5;28;01mimport\u001b[39;00m \u001b[38;5;21;01mstatsmodels\u001b[39;00m\n\u001b[0;32m      2\u001b[0m \u001b[38;5;28;01mfrom\u001b[39;00m \u001b[38;5;21;01mstatsmodels\u001b[39;00m \u001b[38;5;28;01mimport\u001b[39;00m stats\n\u001b[0;32m      3\u001b[0m \u001b[38;5;28;01mfrom\u001b[39;00m \u001b[38;5;21;01mstatsmodels\u001b[39;00m\u001b[38;5;21;01m.\u001b[39;00m\u001b[38;5;21;01mstats\u001b[39;00m \u001b[38;5;28;01mimport\u001b[39;00m weightstats \u001b[38;5;28;01mas\u001b[39;00m ssw\n",
      "\u001b[1;31mModuleNotFoundError\u001b[0m: No module named 'statsmodels'"
     ]
    }
   ],
   "source": [
    "import statsmodels\n",
    "from statsmodels import stats\n",
    "from statsmodels.stats import weightstats as ssw"
   ]
  },
  {
   "cell_type": "code",
   "execution_count": null,
   "id": "c402a54d-e772-4de1-b3fb-8798ddaf2f21",
   "metadata": {},
   "outputs": [],
   "source": []
  },
  {
   "cell_type": "markdown",
   "id": "d0469a24-16f8-4fd5-9254-9bf211a614f6",
   "metadata": {},
   "source": [
    "# Hypothesis testing"
   ]
  },
  {
   "cell_type": "markdown",
   "id": "4ff98e97-75f1-4375-b027-81ff217bc1f3",
   "metadata": {},
   "source": [
    "If something is true for a small population it is true for the entire population."
   ]
  },
  {
   "cell_type": "code",
   "execution_count": null,
   "id": "4a04bf96-c0e5-4177-9bb7-39270a545fb2",
   "metadata": {},
   "outputs": [],
   "source": []
  },
  {
   "cell_type": "code",
   "execution_count": null,
   "id": "8aeefd18-223d-4f90-a4c2-b865ce152ba4",
   "metadata": {},
   "outputs": [],
   "source": []
  },
  {
   "cell_type": "markdown",
   "id": "7ce6fb7a-f6a7-41c2-aa43-ab730f129dad",
   "metadata": {},
   "source": [
    "# Errors\n",
    "- Type 1 - when we reject the null hypothesis which is actually true we are commiting type1 error.<br>\n",
    "         - For example if we reject an important call like a job opportunity then we are commiting a type 1 error.\n",
    "- Type 2 - when we do not reject a null hypothesis which is actually false, we are commiting type2 error.<br>\n",
    "         - For example if we do not reject a spam call then we are commiting a type 2 error."
   ]
  },
  {
   "cell_type": "markdown",
   "id": "c4a09639-edd3-4fd6-901b-f42e7995b3ed",
   "metadata": {},
   "source": [
    "If we decrease the probability of the type 2 error then the probability of type 1 error increases."
   ]
  },
  {
   "cell_type": "code",
   "execution_count": null,
   "id": "d29126c4-2d00-4210-9cc0-204a4b8b2d1f",
   "metadata": {},
   "outputs": [],
   "source": []
  },
  {
   "cell_type": "markdown",
   "id": "c7221d0c-ab88-4dcc-b669-b4b79fada353",
   "metadata": {},
   "source": [
    "p-value - probability of commiting the type 1 error is called as the p-value."
   ]
  },
  {
   "cell_type": "markdown",
   "id": "ec48be41-32e7-4fc4-9569-58ff450960dc",
   "metadata": {},
   "source": [
    "Level of significance - is the maximum probabilty of commiting a type 1 error."
   ]
  },
  {
   "cell_type": "code",
   "execution_count": null,
   "id": "16c82c44-711f-45d5-b763-3e2de4ef29f0",
   "metadata": {},
   "outputs": [],
   "source": []
  },
  {
   "cell_type": "code",
   "execution_count": null,
   "id": "6329904a-f049-49b0-b737-9b16a2b70332",
   "metadata": {},
   "outputs": [],
   "source": []
  },
  {
   "cell_type": "code",
   "execution_count": null,
   "id": "59d9b170-0861-418b-b8be-52ca34112e3b",
   "metadata": {},
   "outputs": [],
   "source": []
  },
  {
   "cell_type": "code",
   "execution_count": null,
   "id": "81234ca5-83ef-40b1-82d7-1cc81c26f239",
   "metadata": {},
   "outputs": [],
   "source": []
  },
  {
   "cell_type": "code",
   "execution_count": null,
   "id": "c876c59b-dfaf-4eb7-82cd-af2104bd78b7",
   "metadata": {},
   "outputs": [],
   "source": []
  }
 ],
 "metadata": {
  "kernelspec": {
   "display_name": "Python 3 (ipykernel)",
   "language": "python",
   "name": "python3"
  },
  "language_info": {
   "codemirror_mode": {
    "name": "ipython",
    "version": 3
   },
   "file_extension": ".py",
   "mimetype": "text/x-python",
   "name": "python",
   "nbconvert_exporter": "python",
   "pygments_lexer": "ipython3",
   "version": "3.12.7"
  }
 },
 "nbformat": 4,
 "nbformat_minor": 5
}
