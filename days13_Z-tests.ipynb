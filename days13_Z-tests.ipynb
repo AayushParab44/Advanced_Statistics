{
 "cells": [
  {
   "cell_type": "code",
   "execution_count": 2,
   "id": "2dd9a7a3-70a4-4c91-af51-674fc80af870",
   "metadata": {},
   "outputs": [],
   "source": [
    "import numpy as np\n",
    "import pandas as pd\n",
    "import matplotlib.pyplot as plt\n",
    "import seaborn as sns\n",
    "\n",
    "from numpy import random\n",
    "\n",
    "import scipy\n",
    "from scipy import stats\n",
    "from scipy.stats import binom,poisson,norm,t\n",
    "\n",
    "import pylab\n",
    "from pylab import legend, plot, show ,title, xlabel, ylabel\n",
    "\n",
    "import statsmodels\n",
    "from statsmodels import stats\n",
    "from statsmodels.stats import weightstats as ssw"
   ]
  },
  {
   "cell_type": "code",
   "execution_count": null,
   "id": "f8562add-5ed6-4f3a-b74e-59e12659295b",
   "metadata": {},
   "outputs": [],
   "source": []
  },
  {
   "cell_type": "code",
   "execution_count": 3,
   "id": "fa552e8c-dae0-4898-81a6-a4c70a7fbafc",
   "metadata": {},
   "outputs": [],
   "source": [
    "x1=[4,6,8,3,9,7,3,2,7,8]"
   ]
  },
  {
   "cell_type": "code",
   "execution_count": 4,
   "id": "2b579282-dd27-477e-8fc2-4660cf8cdfbf",
   "metadata": {},
   "outputs": [
    {
     "data": {
      "text/plain": [
       "10"
      ]
     },
     "execution_count": 4,
     "metadata": {},
     "output_type": "execute_result"
    }
   ],
   "source": [
    "len(x1)"
   ]
  },
  {
   "cell_type": "code",
   "execution_count": 8,
   "id": "57075d71-3cb4-4d85-81d8-fa91a4159d81",
   "metadata": {},
   "outputs": [
    {
     "data": {
      "text/plain": [
       "np.float64(5.7)"
      ]
     },
     "execution_count": 8,
     "metadata": {},
     "output_type": "execute_result"
    }
   ],
   "source": [
    "np.mean(x1)"
   ]
  },
  {
   "cell_type": "code",
   "execution_count": 13,
   "id": "e2321373-5268-4a57-a065-619887686be3",
   "metadata": {},
   "outputs": [
    {
     "data": {
      "text/plain": [
       "(np.float64(-0.5066403971048982), np.float64(0.306203579065079))"
      ]
     },
     "execution_count": 13,
     "metadata": {},
     "output_type": "execute_result"
    }
   ],
   "source": [
    "ssw.ztest(x1,value=6.1,alternative='smaller') #smaller since the value is less than the null hypothesis \n",
    "# which is value should greater than or equal to 6.1\n"
   ]
  },
  {
   "cell_type": "code",
   "execution_count": 15,
   "id": "7f767c58-ca61-497c-b8a2-5fabf1a19bad",
   "metadata": {},
   "outputs": [],
   "source": [
    "#(test statistic, p-value)"
   ]
  },
  {
   "cell_type": "code",
   "execution_count": 17,
   "id": "8ace78f5-243f-4128-9344-0d98a1e0f376",
   "metadata": {},
   "outputs": [],
   "source": [
    "#pvalue = 0.306>0.05 so we do not reject the HO "
   ]
  },
  {
   "cell_type": "code",
   "execution_count": null,
   "id": "3b254a9b-6199-4c1c-a522-96ae59e3db2a",
   "metadata": {},
   "outputs": [],
   "source": [
    "#the diff between 5.7(sample mean) and 6.1(claim value or population parameter) is statistically \n",
    "# insignificant or can be ignored and so no action is needed."
   ]
  },
  {
   "cell_type": "code",
   "execution_count": 22,
   "id": "8b146329-e62a-4479-805e-a7d9e9732bb7",
   "metadata": {},
   "outputs": [
    {
     "data": {
      "text/plain": [
       "(np.float64(-2.279881786972045), np.float64(0.011307350269273653))"
      ]
     },
     "execution_count": 22,
     "metadata": {},
     "output_type": "execute_result"
    }
   ],
   "source": [
    "ssw.ztest(x1,value=7.5,alternative='smaller')"
   ]
  },
  {
   "cell_type": "code",
   "execution_count": 23,
   "id": "3fd60003-d9f8-46a7-b3df-379032a68a0c",
   "metadata": {},
   "outputs": [],
   "source": [
    "#pvalue = 0.011<0.05 so we reject the HO "
   ]
  },
  {
   "cell_type": "code",
   "execution_count": 24,
   "id": "c425823d-1b77-4838-92de-5500f5458510",
   "metadata": {},
   "outputs": [],
   "source": [
    "#the diff between 5.7(sample mean) and 7.5(claim value or population parameter) is statistically \n",
    "# significant or cannot be ignored and so action is needed.\n"
   ]
  },
  {
   "cell_type": "code",
   "execution_count": 25,
   "id": "896680f6-ba61-4dc1-b1c6-c1e4ce81be1a",
   "metadata": {},
   "outputs": [
    {
     "data": {
      "text/plain": [
       "(np.float64(-1.6465812905909212), np.float64(0.04982206933009018))"
      ]
     },
     "execution_count": 25,
     "metadata": {},
     "output_type": "execute_result"
    }
   ],
   "source": [
    "ssw.ztest(x1,value=7,alternative='smaller')"
   ]
  },
  {
   "cell_type": "code",
   "execution_count": 27,
   "id": "c7bfc0c4-9f59-4198-a8d8-9bd7105a8735",
   "metadata": {},
   "outputs": [],
   "source": [
    "#pvalue = 0.049<0.05 so we reject the HO "
   ]
  },
  {
   "cell_type": "code",
   "execution_count": 29,
   "id": "b6025439-d017-4045-a7f7-7086f515281a",
   "metadata": {},
   "outputs": [],
   "source": [
    "#the diff between 5.7(sample mean) and 7(claim value or population parameter) is statistically \n",
    "# significant or cannot be ignored and so action is needed.\n"
   ]
  },
  {
   "cell_type": "code",
   "execution_count": null,
   "id": "7f0aed58-4491-428d-a6db-66c457cbe716",
   "metadata": {},
   "outputs": [],
   "source": []
  },
  {
   "cell_type": "code",
   "execution_count": 31,
   "id": "c81aece9-a902-4161-8111-492282b8ba24",
   "metadata": {},
   "outputs": [
    {
     "data": {
      "text/plain": [
       "(np.float64(1.139940893486023), np.float64(0.12715546332491617))"
      ]
     },
     "execution_count": 31,
     "metadata": {},
     "output_type": "execute_result"
    }
   ],
   "source": [
    "ssw.ztest(x1,value=4.8,alternative='larger')  #larger values than 4.8 will be a problem"
   ]
  },
  {
   "cell_type": "code",
   "execution_count": null,
   "id": "d01d1241-fb3a-4956-a6d5-c687e20caf2a",
   "metadata": {},
   "outputs": [],
   "source": []
  },
  {
   "cell_type": "code",
   "execution_count": 202,
   "id": "1aad2f57-5f3d-41f4-a223-02fb0daf70a6",
   "metadata": {},
   "outputs": [
    {
     "data": {
      "text/plain": [
       "(np.float64(3.4198226804580676), np.float64(0.000313309832333736))"
      ]
     },
     "execution_count": 202,
     "metadata": {},
     "output_type": "execute_result"
    }
   ],
   "source": [
    "ssw.ztest(x1,value=3,alternative='larger')  #larger values than 3 will be a problem"
   ]
  },
  {
   "cell_type": "code",
   "execution_count": null,
   "id": "061f0040-afb9-4c67-bb64-8ff4e55f7da0",
   "metadata": {},
   "outputs": [],
   "source": []
  },
  {
   "cell_type": "code",
   "execution_count": 51,
   "id": "203c576e-1f7d-4dd5-b3b9-7268b792a2bd",
   "metadata": {},
   "outputs": [
    {
     "data": {
      "text/plain": [
       "np.float64(-1.8331129326536337)"
      ]
     },
     "execution_count": 51,
     "metadata": {},
     "output_type": "execute_result"
    }
   ],
   "source": [
    "#Calculation-\n",
    "t.ppf(.05,9)\n"
   ]
  },
  {
   "cell_type": "code",
   "execution_count": 42,
   "id": "08f88d52-eb9a-49ea-9490-b6ad203c0625",
   "metadata": {},
   "outputs": [
    {
     "data": {
      "text/plain": [
       "np.float64(7.147259247762243)"
      ]
     },
     "execution_count": 42,
     "metadata": {},
     "output_type": "execute_result"
    }
   ],
   "source": [
    "5.7+1.8331*np.std(x1,ddof=1)/10**.5  #95% upper bound"
   ]
  },
  {
   "cell_type": "code",
   "execution_count": null,
   "id": "ce504049-ad75-4b12-8b44-c9622898f3d1",
   "metadata": {},
   "outputs": [],
   "source": []
  },
  {
   "cell_type": "code",
   "execution_count": 63,
   "id": "3c83b2d3-b4ae-4bfe-ad13-dceb4a7684ff",
   "metadata": {},
   "outputs": [
    {
     "data": {
      "text/plain": [
       "(np.float64(-1.6465812905909212), np.float64(0.04982206933009018))"
      ]
     },
     "execution_count": 63,
     "metadata": {},
     "output_type": "execute_result"
    }
   ],
   "source": [
    "ssw.ztest(x1,value=7,alternative='smaller')"
   ]
  },
  {
   "cell_type": "code",
   "execution_count": 64,
   "id": "858949d6-8be3-42cf-83b7-f92b11f3a029",
   "metadata": {},
   "outputs": [
    {
     "data": {
      "text/plain": [
       "(np.float64(-1.8330999999999995), np.float64(0.03339385056536337))"
      ]
     },
     "execution_count": 64,
     "metadata": {},
     "output_type": "execute_result"
    }
   ],
   "source": [
    "ssw.ztest(x1,value=7.147259247762243,alternative='smaller')"
   ]
  },
  {
   "cell_type": "code",
   "execution_count": 68,
   "id": "48b25528-9df8-4a6d-86b8-9f5368418904",
   "metadata": {},
   "outputs": [
    {
     "data": {
      "text/plain": [
       "(np.float64(-1.6465812905909212), np.float64(0.04982206933009018))"
      ]
     },
     "execution_count": 68,
     "metadata": {},
     "output_type": "execute_result"
    }
   ],
   "source": [
    "ssw.ztest(x1,value=7,alternative='smaller')\n"
   ]
  },
  {
   "cell_type": "code",
   "execution_count": null,
   "id": "526167e6-356d-4302-a091-018796f7f6e3",
   "metadata": {},
   "outputs": [],
   "source": []
  },
  {
   "cell_type": "code",
   "execution_count": null,
   "id": "c54626f9-9b9d-482d-9b94-8b440918d388",
   "metadata": {},
   "outputs": [],
   "source": []
  },
  {
   "cell_type": "markdown",
   "id": "ce27354e-2320-452f-ba25-3a6806f7aaec",
   "metadata": {},
   "source": [
    "# 1-sample Z-test(only for continuous data)\n",
    "- The purpose of the 1-sample z-test is to compare the sample mean with the claim value(this is given).\n",
    "- sample mean will be calculated.\n",
    "-  "
   ]
  },
  {
   "cell_type": "code",
   "execution_count": null,
   "id": "45ba626b-fa3f-47b9-bfec-61ef529617c1",
   "metadata": {},
   "outputs": [],
   "source": []
  },
  {
   "cell_type": "code",
   "execution_count": null,
   "id": "a059afbb-98af-4218-9df8-d345fecc60fe",
   "metadata": {},
   "outputs": [],
   "source": []
  },
  {
   "cell_type": "markdown",
   "id": "886d7cd8-26bb-4fbf-8b77-e8988d26c6fb",
   "metadata": {},
   "source": [
    "# 2-Sample Z-test\n",
    "- My claim is tha the speed in Delhi is atleast 10kmph more than that in Banglore.\n",
    "- Ho: mean(Delhi) - mean(Banglore) >= 10\n",
    "- Ho: mean(Delhi) - mean(Banglore) < 10\n",
    "  "
   ]
  },
  {
   "cell_type": "code",
   "execution_count": 70,
   "id": "42f7c798-b4cf-44a0-8bc6-abc111fd66b8",
   "metadata": {},
   "outputs": [],
   "source": [
    "delhi=[25,30,28,27,35,25,31,20,29,28]\n",
    "blore=[18,25,23,18,22,21,23,17,20]"
   ]
  },
  {
   "cell_type": "code",
   "execution_count": 71,
   "id": "2efbc7d7-f1a7-4c66-9b24-ef1f9fbd8c3f",
   "metadata": {},
   "outputs": [
    {
     "data": {
      "text/plain": [
       "(np.float64(-1.8656044049252152), np.float64(0.03104836644546031))"
      ]
     },
     "execution_count": 71,
     "metadata": {},
     "output_type": "execute_result"
    }
   ],
   "source": [
    "ssw.ztest(delhi,blore,value=10,alternative='smaller')"
   ]
  },
  {
   "cell_type": "code",
   "execution_count": 72,
   "id": "b6eaa148-c728-43b0-a94d-86b61f1a1c2b",
   "metadata": {},
   "outputs": [
    {
     "data": {
      "text/plain": [
       "np.float64(7.022222222222222)"
      ]
     },
     "execution_count": 72,
     "metadata": {},
     "output_type": "execute_result"
    }
   ],
   "source": [
    "np.mean(delhi)-np.mean(blore)"
   ]
  },
  {
   "cell_type": "code",
   "execution_count": 73,
   "id": "7a898066-3e48-449a-8d57-c6a8f6ed49e2",
   "metadata": {},
   "outputs": [
    {
     "data": {
      "text/plain": [
       "(np.float64(-1.8656044049252152), np.float64(0.03104836644546031))"
      ]
     },
     "execution_count": 73,
     "metadata": {},
     "output_type": "execute_result"
    }
   ],
   "source": [
    "ssw.ztest(delhi,blore,value=10,alternative='smaller')"
   ]
  },
  {
   "cell_type": "code",
   "execution_count": 91,
   "id": "a0793ca2-a1b4-4221-ab0c-2a93a3f2b227",
   "metadata": {},
   "outputs": [
    {
     "data": {
      "text/plain": [
       "(np.float64(-1.2390954629727176), np.float64(0.10765507351945708))"
      ]
     },
     "execution_count": 91,
     "metadata": {},
     "output_type": "execute_result"
    }
   ],
   "source": [
    "ssw.ztest(delhi,blore,value=9,alternative='smaller')"
   ]
  },
  {
   "cell_type": "code",
   "execution_count": null,
   "id": "b08bde34-5813-4356-ae72-8386a819fb35",
   "metadata": {},
   "outputs": [],
   "source": [
    "#My clain is that max difference between means of samples1 and sample 2 is at max 0.5."
   ]
  },
  {
   "cell_type": "code",
   "execution_count": 171,
   "id": "c2d48bd9-0217-443e-9a45-3e5d9ba12bd0",
   "metadata": {},
   "outputs": [],
   "source": [
    "# Ho mean(sample1) - mean sample 2 <= 0.5\n",
    "# Ha mean(sample1) - mean sample 2 > 0.5\n"
   ]
  },
  {
   "cell_type": "code",
   "execution_count": 197,
   "id": "232a939a-b608-496f-8eed-b08405c9929f",
   "metadata": {},
   "outputs": [],
   "source": [
    "s1=np.random.randint(20,60,15)\n",
    "s2=np.random.randint(20,60,20)"
   ]
  },
  {
   "cell_type": "code",
   "execution_count": 198,
   "id": "ec380bb7-8c78-4d6a-9390-b7ed73a75c91",
   "metadata": {},
   "outputs": [
    {
     "data": {
      "text/plain": [
       "array([37, 53, 22, 50, 38, 58, 22, 56, 57, 27, 57, 56, 21, 41, 33],\n",
       "      dtype=int32)"
      ]
     },
     "execution_count": 198,
     "metadata": {},
     "output_type": "execute_result"
    }
   ],
   "source": [
    "s1"
   ]
  },
  {
   "cell_type": "code",
   "execution_count": 199,
   "id": "086bec25-2d4e-445e-bcb1-cc123b4a288b",
   "metadata": {},
   "outputs": [
    {
     "data": {
      "text/plain": [
       "array([50, 48, 36, 37, 52, 40, 55, 38, 43, 58, 55, 27, 33, 38, 43, 48, 44,\n",
       "       41, 21, 50], dtype=int32)"
      ]
     },
     "execution_count": 199,
     "metadata": {},
     "output_type": "execute_result"
    }
   ],
   "source": [
    "s2"
   ]
  },
  {
   "cell_type": "code",
   "execution_count": 200,
   "id": "7f30ca49-94bb-4a6a-9e08-7373587b7ab9",
   "metadata": {},
   "outputs": [
    {
     "data": {
      "text/plain": [
       "np.float64(-0.9833333333333343)"
      ]
     },
     "execution_count": 200,
     "metadata": {},
     "output_type": "execute_result"
    }
   ],
   "source": [
    "np.mean(s1)-np.mean(s2)"
   ]
  },
  {
   "cell_type": "code",
   "execution_count": 201,
   "id": "cc879ab3-5e8f-4ea8-8bea-f45d8b607e9f",
   "metadata": {},
   "outputs": [
    {
     "data": {
      "text/plain": [
       "(np.float64(-0.36773558310720833), np.float64(0.6434647973150525))"
      ]
     },
     "execution_count": 201,
     "metadata": {},
     "output_type": "execute_result"
    }
   ],
   "source": [
    "ssw.ztest(s1,s2,value=0.5,alternative='larger')"
   ]
  },
  {
   "cell_type": "code",
   "execution_count": null,
   "id": "86786fcf-2802-47c1-968d-07ffd3aa09db",
   "metadata": {},
   "outputs": [],
   "source": []
  },
  {
   "cell_type": "code",
   "execution_count": null,
   "id": "9b959c65-86ed-4ed9-82ab-8a17ea9e81de",
   "metadata": {},
   "outputs": [],
   "source": []
  },
  {
   "cell_type": "code",
   "execution_count": null,
   "id": "f8ea72cb-2695-44b9-86db-8a5473f3330b",
   "metadata": {},
   "outputs": [],
   "source": []
  },
  {
   "cell_type": "code",
   "execution_count": null,
   "id": "305edeb7-35b7-4f26-a7d8-fa9588ae17b5",
   "metadata": {},
   "outputs": [],
   "source": []
  },
  {
   "cell_type": "code",
   "execution_count": null,
   "id": "d97381cb-efa9-4076-9e4a-a40ad01b1570",
   "metadata": {},
   "outputs": [],
   "source": []
  },
  {
   "cell_type": "code",
   "execution_count": null,
   "id": "ef96ed67-2e3f-4512-9b93-4da6c0e6d1ca",
   "metadata": {},
   "outputs": [],
   "source": []
  },
  {
   "cell_type": "code",
   "execution_count": null,
   "id": "7fe57255-17bd-4574-8827-a4d48be3e4e6",
   "metadata": {},
   "outputs": [],
   "source": []
  },
  {
   "cell_type": "code",
   "execution_count": null,
   "id": "ee75a00d-f0e8-4ed7-a2df-794ae3a54441",
   "metadata": {},
   "outputs": [],
   "source": []
  },
  {
   "cell_type": "code",
   "execution_count": null,
   "id": "d96f59dc-19a4-4563-9824-de79fab29cfa",
   "metadata": {},
   "outputs": [],
   "source": []
  },
  {
   "cell_type": "code",
   "execution_count": null,
   "id": "dc810eb5-0346-46d3-8fa7-9d50c6190091",
   "metadata": {},
   "outputs": [],
   "source": []
  },
  {
   "cell_type": "code",
   "execution_count": null,
   "id": "94d9b3b3-2e1f-4143-b02f-6b65dc3e9499",
   "metadata": {},
   "outputs": [],
   "source": []
  },
  {
   "cell_type": "code",
   "execution_count": null,
   "id": "6d98e17e-3aaa-4888-82d8-26358808fe75",
   "metadata": {},
   "outputs": [],
   "source": []
  }
 ],
 "metadata": {
  "kernelspec": {
   "display_name": "Python 3 (ipykernel)",
   "language": "python",
   "name": "python3"
  },
  "language_info": {
   "codemirror_mode": {
    "name": "ipython",
    "version": 3
   },
   "file_extension": ".py",
   "mimetype": "text/x-python",
   "name": "python",
   "nbconvert_exporter": "python",
   "pygments_lexer": "ipython3",
   "version": "3.12.7"
  }
 },
 "nbformat": 4,
 "nbformat_minor": 5
}
