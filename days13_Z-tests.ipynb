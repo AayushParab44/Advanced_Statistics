{
 "cells": [
  {
   "cell_type": "code",
   "execution_count": 2,
   "id": "2dd9a7a3-70a4-4c91-af51-674fc80af870",
   "metadata": {},
   "outputs": [],
   "source": [
    "import numpy as np\n",
    "import pandas as pd\n",
    "import matplotlib.pyplot as plt\n",
    "import seaborn as sns\n",
    "\n",
    "from numpy import random\n",
    "\n",
    "import scipy\n",
    "from scipy import stats\n",
    "from scipy.stats import binom,poisson,norm,t\n",
    "\n",
    "import pylab\n",
    "from pylab import legend, plot, show ,title, xlabel, ylabel\n",
    "\n",
    "import statsmodels\n",
    "from statsmodels import stats\n",
    "from statsmodels.stats import weightstats as ssw\n",
    "\n",
    "import statsmodels.api as sm\n",
    "from statsmodels.formula.api import ols\n",
    "import statsmodels.stats.multicomp"
   ]
  },
  {
   "cell_type": "code",
   "execution_count": null,
   "id": "f8562add-5ed6-4f3a-b74e-59e12659295b",
   "metadata": {},
   "outputs": [],
   "source": []
  },
  {
   "cell_type": "code",
   "execution_count": 3,
   "id": "fa552e8c-dae0-4898-81a6-a4c70a7fbafc",
   "metadata": {},
   "outputs": [],
   "source": [
    "x1=[4,6,8,3,9,7,3,2,7,8]"
   ]
  },
  {
   "cell_type": "code",
   "execution_count": 4,
   "id": "2b579282-dd27-477e-8fc2-4660cf8cdfbf",
   "metadata": {},
   "outputs": [
    {
     "data": {
      "text/plain": [
       "10"
      ]
     },
     "execution_count": 4,
     "metadata": {},
     "output_type": "execute_result"
    }
   ],
   "source": [
    "len(x1)"
   ]
  },
  {
   "cell_type": "code",
   "execution_count": 5,
   "id": "57075d71-3cb4-4d85-81d8-fa91a4159d81",
   "metadata": {},
   "outputs": [
    {
     "data": {
      "text/plain": [
       "np.float64(5.7)"
      ]
     },
     "execution_count": 5,
     "metadata": {},
     "output_type": "execute_result"
    }
   ],
   "source": [
    "np.mean(x1)"
   ]
  },
  {
   "cell_type": "code",
   "execution_count": 6,
   "id": "e2321373-5268-4a57-a065-619887686be3",
   "metadata": {},
   "outputs": [
    {
     "data": {
      "text/plain": [
       "(np.float64(-0.5066403971048982), np.float64(0.306203579065079))"
      ]
     },
     "execution_count": 6,
     "metadata": {},
     "output_type": "execute_result"
    }
   ],
   "source": [
    "ssw.ztest(x1,value=6.1,alternative='smaller') #smaller since the value is less than the null hypothesis \n",
    "# which is value should greater than or equal to 6.1\n"
   ]
  },
  {
   "cell_type": "code",
   "execution_count": 7,
   "id": "7f767c58-ca61-497c-b8a2-5fabf1a19bad",
   "metadata": {},
   "outputs": [],
   "source": [
    "#(test statistic, p-value)"
   ]
  },
  {
   "cell_type": "code",
   "execution_count": 8,
   "id": "8ace78f5-243f-4128-9344-0d98a1e0f376",
   "metadata": {},
   "outputs": [],
   "source": [
    "#pvalue = 0.306>0.05 so we do not reject the HO "
   ]
  },
  {
   "cell_type": "code",
   "execution_count": 9,
   "id": "3b254a9b-6199-4c1c-a522-96ae59e3db2a",
   "metadata": {},
   "outputs": [],
   "source": [
    "#the diff between 5.7(sample mean) and 6.1(claim value or population parameter) is statistically \n",
    "# insignificant or can be ignored and so no action is needed."
   ]
  },
  {
   "cell_type": "code",
   "execution_count": 10,
   "id": "8b146329-e62a-4479-805e-a7d9e9732bb7",
   "metadata": {},
   "outputs": [
    {
     "data": {
      "text/plain": [
       "(np.float64(-2.279881786972045), np.float64(0.011307350269273653))"
      ]
     },
     "execution_count": 10,
     "metadata": {},
     "output_type": "execute_result"
    }
   ],
   "source": [
    "ssw.ztest(x1,value=7.5,alternative='smaller')"
   ]
  },
  {
   "cell_type": "code",
   "execution_count": 11,
   "id": "3fd60003-d9f8-46a7-b3df-379032a68a0c",
   "metadata": {},
   "outputs": [],
   "source": [
    "#pvalue = 0.011<0.05 so we reject the HO "
   ]
  },
  {
   "cell_type": "code",
   "execution_count": 12,
   "id": "c425823d-1b77-4838-92de-5500f5458510",
   "metadata": {},
   "outputs": [],
   "source": [
    "#the diff between 5.7(sample mean) and 7.5(claim value or population parameter) is statistically \n",
    "# significant or cannot be ignored and so action is needed.\n"
   ]
  },
  {
   "cell_type": "code",
   "execution_count": 13,
   "id": "896680f6-ba61-4dc1-b1c6-c1e4ce81be1a",
   "metadata": {},
   "outputs": [
    {
     "data": {
      "text/plain": [
       "(np.float64(-1.6465812905909212), np.float64(0.04982206933009018))"
      ]
     },
     "execution_count": 13,
     "metadata": {},
     "output_type": "execute_result"
    }
   ],
   "source": [
    "ssw.ztest(x1,value=7,alternative='smaller')"
   ]
  },
  {
   "cell_type": "code",
   "execution_count": 14,
   "id": "c7bfc0c4-9f59-4198-a8d8-9bd7105a8735",
   "metadata": {},
   "outputs": [],
   "source": [
    "#pvalue = 0.049<0.05 so we reject the HO "
   ]
  },
  {
   "cell_type": "code",
   "execution_count": 15,
   "id": "b6025439-d017-4045-a7f7-7086f515281a",
   "metadata": {},
   "outputs": [],
   "source": [
    "#the diff between 5.7(sample mean) and 7(claim value or population parameter) is statistically \n",
    "# significant or cannot be ignored and so action is needed.\n"
   ]
  },
  {
   "cell_type": "code",
   "execution_count": null,
   "id": "7f0aed58-4491-428d-a6db-66c457cbe716",
   "metadata": {},
   "outputs": [],
   "source": []
  },
  {
   "cell_type": "code",
   "execution_count": 16,
   "id": "c81aece9-a902-4161-8111-492282b8ba24",
   "metadata": {},
   "outputs": [
    {
     "data": {
      "text/plain": [
       "(np.float64(1.139940893486023), np.float64(0.12715546332491617))"
      ]
     },
     "execution_count": 16,
     "metadata": {},
     "output_type": "execute_result"
    }
   ],
   "source": [
    "ssw.ztest(x1,value=4.8,alternative='larger')  #larger values than 4.8 will be a problem"
   ]
  },
  {
   "cell_type": "code",
   "execution_count": null,
   "id": "d01d1241-fb3a-4956-a6d5-c687e20caf2a",
   "metadata": {},
   "outputs": [],
   "source": []
  },
  {
   "cell_type": "code",
   "execution_count": 17,
   "id": "1aad2f57-5f3d-41f4-a223-02fb0daf70a6",
   "metadata": {},
   "outputs": [
    {
     "data": {
      "text/plain": [
       "(np.float64(3.4198226804580676), np.float64(0.000313309832333736))"
      ]
     },
     "execution_count": 17,
     "metadata": {},
     "output_type": "execute_result"
    }
   ],
   "source": [
    "ssw.ztest(x1,value=3,alternative='larger')  #larger values than 3 will be a problem"
   ]
  },
  {
   "cell_type": "code",
   "execution_count": null,
   "id": "061f0040-afb9-4c67-bb64-8ff4e55f7da0",
   "metadata": {},
   "outputs": [],
   "source": []
  },
  {
   "cell_type": "code",
   "execution_count": 18,
   "id": "203c576e-1f7d-4dd5-b3b9-7268b792a2bd",
   "metadata": {},
   "outputs": [
    {
     "data": {
      "text/plain": [
       "np.float64(-1.8331129326536337)"
      ]
     },
     "execution_count": 18,
     "metadata": {},
     "output_type": "execute_result"
    }
   ],
   "source": [
    "#Calculation-\n",
    "t.ppf(.05,9)\n"
   ]
  },
  {
   "cell_type": "code",
   "execution_count": 19,
   "id": "08f88d52-eb9a-49ea-9490-b6ad203c0625",
   "metadata": {},
   "outputs": [
    {
     "data": {
      "text/plain": [
       "np.float64(7.147259247762243)"
      ]
     },
     "execution_count": 19,
     "metadata": {},
     "output_type": "execute_result"
    }
   ],
   "source": [
    "5.7+1.8331*np.std(x1,ddof=1)/10**.5  #95% upper bound"
   ]
  },
  {
   "cell_type": "code",
   "execution_count": null,
   "id": "ce504049-ad75-4b12-8b44-c9622898f3d1",
   "metadata": {},
   "outputs": [],
   "source": []
  },
  {
   "cell_type": "code",
   "execution_count": 20,
   "id": "3c83b2d3-b4ae-4bfe-ad13-dceb4a7684ff",
   "metadata": {},
   "outputs": [
    {
     "data": {
      "text/plain": [
       "(np.float64(-1.6465812905909212), np.float64(0.04982206933009018))"
      ]
     },
     "execution_count": 20,
     "metadata": {},
     "output_type": "execute_result"
    }
   ],
   "source": [
    "ssw.ztest(x1,value=7,alternative='smaller')"
   ]
  },
  {
   "cell_type": "code",
   "execution_count": 21,
   "id": "858949d6-8be3-42cf-83b7-f92b11f3a029",
   "metadata": {},
   "outputs": [
    {
     "data": {
      "text/plain": [
       "(np.float64(-1.8330999999999995), np.float64(0.03339385056536337))"
      ]
     },
     "execution_count": 21,
     "metadata": {},
     "output_type": "execute_result"
    }
   ],
   "source": [
    "ssw.ztest(x1,value=7.147259247762243,alternative='smaller')"
   ]
  },
  {
   "cell_type": "code",
   "execution_count": 22,
   "id": "48b25528-9df8-4a6d-86b8-9f5368418904",
   "metadata": {},
   "outputs": [
    {
     "data": {
      "text/plain": [
       "(np.float64(-1.6465812905909212), np.float64(0.04982206933009018))"
      ]
     },
     "execution_count": 22,
     "metadata": {},
     "output_type": "execute_result"
    }
   ],
   "source": [
    "ssw.ztest(x1,value=7,alternative='smaller')\n"
   ]
  },
  {
   "cell_type": "code",
   "execution_count": null,
   "id": "526167e6-356d-4302-a091-018796f7f6e3",
   "metadata": {},
   "outputs": [],
   "source": []
  },
  {
   "cell_type": "code",
   "execution_count": null,
   "id": "c54626f9-9b9d-482d-9b94-8b440918d388",
   "metadata": {},
   "outputs": [],
   "source": []
  },
  {
   "cell_type": "markdown",
   "id": "ce27354e-2320-452f-ba25-3a6806f7aaec",
   "metadata": {},
   "source": [
    "# 1-sample Z-test(only for continuous data)\n",
    "- The purpose of the 1-sample z-test is to compare the sample mean with the claim value(this is given).\n",
    "- sample mean will be calculated.\n",
    "-  "
   ]
  },
  {
   "cell_type": "code",
   "execution_count": null,
   "id": "45ba626b-fa3f-47b9-bfec-61ef529617c1",
   "metadata": {},
   "outputs": [],
   "source": []
  },
  {
   "cell_type": "code",
   "execution_count": null,
   "id": "a059afbb-98af-4218-9df8-d345fecc60fe",
   "metadata": {},
   "outputs": [],
   "source": []
  },
  {
   "cell_type": "markdown",
   "id": "886d7cd8-26bb-4fbf-8b77-e8988d26c6fb",
   "metadata": {},
   "source": [
    "# 2-Sample Z-test\n",
    "- My claim is tha the speed in Delhi is atleast 10kmph more than that in Banglore.\n",
    "- Ho: mean(Delhi) - mean(Banglore) >= 10\n",
    "- Ho: mean(Delhi) - mean(Banglore) < 10\n",
    "  "
   ]
  },
  {
   "cell_type": "code",
   "execution_count": 23,
   "id": "42f7c798-b4cf-44a0-8bc6-abc111fd66b8",
   "metadata": {},
   "outputs": [],
   "source": [
    "delhi=[25,30,28,27,35,25,31,20,29,28]\n",
    "blore=[18,25,23,18,22,21,23,17,20]"
   ]
  },
  {
   "cell_type": "code",
   "execution_count": 24,
   "id": "2efbc7d7-f1a7-4c66-9b24-ef1f9fbd8c3f",
   "metadata": {},
   "outputs": [
    {
     "data": {
      "text/plain": [
       "(np.float64(-1.8656044049252152), np.float64(0.03104836644546031))"
      ]
     },
     "execution_count": 24,
     "metadata": {},
     "output_type": "execute_result"
    }
   ],
   "source": [
    "ssw.ztest(delhi,blore,value=10,alternative='smaller')"
   ]
  },
  {
   "cell_type": "code",
   "execution_count": 25,
   "id": "b6eaa148-c728-43b0-a94d-86b61f1a1c2b",
   "metadata": {},
   "outputs": [
    {
     "data": {
      "text/plain": [
       "np.float64(7.022222222222222)"
      ]
     },
     "execution_count": 25,
     "metadata": {},
     "output_type": "execute_result"
    }
   ],
   "source": [
    "np.mean(delhi)-np.mean(blore)"
   ]
  },
  {
   "cell_type": "code",
   "execution_count": 26,
   "id": "7a898066-3e48-449a-8d57-c6a8f6ed49e2",
   "metadata": {},
   "outputs": [
    {
     "data": {
      "text/plain": [
       "(np.float64(-1.8656044049252152), np.float64(0.03104836644546031))"
      ]
     },
     "execution_count": 26,
     "metadata": {},
     "output_type": "execute_result"
    }
   ],
   "source": [
    "ssw.ztest(delhi,blore,value=10,alternative='smaller')"
   ]
  },
  {
   "cell_type": "code",
   "execution_count": 27,
   "id": "a0793ca2-a1b4-4221-ab0c-2a93a3f2b227",
   "metadata": {},
   "outputs": [
    {
     "data": {
      "text/plain": [
       "(np.float64(-1.2390954629727176), np.float64(0.10765507351945708))"
      ]
     },
     "execution_count": 27,
     "metadata": {},
     "output_type": "execute_result"
    }
   ],
   "source": [
    "ssw.ztest(delhi,blore,value=9,alternative='smaller')"
   ]
  },
  {
   "cell_type": "code",
   "execution_count": 28,
   "id": "b08bde34-5813-4356-ae72-8386a819fb35",
   "metadata": {},
   "outputs": [],
   "source": [
    "#My clain is that max difference between means of samples1 and sample 2 is at max 0.5."
   ]
  },
  {
   "cell_type": "code",
   "execution_count": 29,
   "id": "c2d48bd9-0217-443e-9a45-3e5d9ba12bd0",
   "metadata": {},
   "outputs": [],
   "source": [
    "# Ho mean(sample1) - mean sample 2 <= 0.5\n",
    "# Ha mean(sample1) - mean sample 2 > 0.5\n"
   ]
  },
  {
   "cell_type": "code",
   "execution_count": 30,
   "id": "232a939a-b608-496f-8eed-b08405c9929f",
   "metadata": {},
   "outputs": [],
   "source": [
    "s1=np.random.randint(20,60,15)\n",
    "s2=np.random.randint(20,60,20)"
   ]
  },
  {
   "cell_type": "code",
   "execution_count": 31,
   "id": "ec380bb7-8c78-4d6a-9390-b7ed73a75c91",
   "metadata": {},
   "outputs": [
    {
     "data": {
      "text/plain": [
       "array([29, 38, 40, 44, 51, 58, 41, 28, 35, 47, 49, 35, 54, 47, 23],\n",
       "      dtype=int32)"
      ]
     },
     "execution_count": 31,
     "metadata": {},
     "output_type": "execute_result"
    }
   ],
   "source": [
    "s1"
   ]
  },
  {
   "cell_type": "code",
   "execution_count": 32,
   "id": "086bec25-2d4e-445e-bcb1-cc123b4a288b",
   "metadata": {},
   "outputs": [
    {
     "data": {
      "text/plain": [
       "array([54, 22, 50, 31, 22, 48, 21, 49, 59, 40, 46, 33, 52, 51, 35, 33, 35,\n",
       "       53, 58, 25], dtype=int32)"
      ]
     },
     "execution_count": 32,
     "metadata": {},
     "output_type": "execute_result"
    }
   ],
   "source": [
    "s2"
   ]
  },
  {
   "cell_type": "code",
   "execution_count": 33,
   "id": "7f30ca49-94bb-4a6a-9e08-7373587b7ab9",
   "metadata": {},
   "outputs": [
    {
     "data": {
      "text/plain": [
       "np.float64(0.4166666666666643)"
      ]
     },
     "execution_count": 33,
     "metadata": {},
     "output_type": "execute_result"
    }
   ],
   "source": [
    "np.mean(s1)-np.mean(s2)"
   ]
  },
  {
   "cell_type": "code",
   "execution_count": 34,
   "id": "cc879ab3-5e8f-4ea8-8bea-f45d8b607e9f",
   "metadata": {},
   "outputs": [
    {
     "data": {
      "text/plain": [
       "(np.float64(-0.020973363924837646), np.float64(0.5083665482450462))"
      ]
     },
     "execution_count": 34,
     "metadata": {},
     "output_type": "execute_result"
    }
   ],
   "source": [
    "ssw.ztest(s1,s2,value=0.5,alternative='larger')"
   ]
  },
  {
   "cell_type": "code",
   "execution_count": null,
   "id": "86786fcf-2802-47c1-968d-07ffd3aa09db",
   "metadata": {},
   "outputs": [],
   "source": []
  },
  {
   "cell_type": "code",
   "execution_count": null,
   "id": "9b959c65-86ed-4ed9-82ab-8a17ea9e81de",
   "metadata": {},
   "outputs": [],
   "source": []
  },
  {
   "cell_type": "code",
   "execution_count": null,
   "id": "f8ea72cb-2695-44b9-86db-8a5473f3330b",
   "metadata": {},
   "outputs": [],
   "source": []
  },
  {
   "cell_type": "code",
   "execution_count": null,
   "id": "305edeb7-35b7-4f26-a7d8-fa9588ae17b5",
   "metadata": {},
   "outputs": [],
   "source": []
  },
  {
   "cell_type": "code",
   "execution_count": 35,
   "id": "a364ff6d-62a7-44e9-8014-bc070a74a4ac",
   "metadata": {},
   "outputs": [
    {
     "name": "stdout",
     "output_type": "stream",
     "text": [
      "Sample size- 32\n",
      "Sample Mean- 78.125\n",
      "z= 1.9248780907751957\n",
      "p= 0.027122305728334357\n"
     ]
    },
    {
     "data": {
      "text/plain": [
       "np.float64(0.031731787893457215)"
      ]
     },
     "execution_count": 35,
     "metadata": {},
     "output_type": "execute_result"
    }
   ],
   "source": [
    "# Question-1\n",
    "\n",
    "# The WHO guidelines say that the concentration of a pollutant A should be limited to 75 units. A sample of readings was collected over some days. The readings are as below.\n",
    "\n",
    "# 81.6, 66.6, 70.9, 82.5, 58.3, 71.6, 72.4, 96.6, 78.6, 76.1, 80.0, 73.2, 85.5, 73.2, 68.6, 74.0, 68.7, 83.0, 86.9, 94.9, 75.6, 77.3, 86.6, 71.7, 88.5, 87.0, 72.5, 83.0, 85.8, 74.9, 61.7, 92.2\n",
    "\n",
    "# Are these readings meeting the WHO guidelines or any action needs to be taken. Calculate the upper or lower bound as the case may be and explain how that reading helps you in decision making.\n",
    " \n",
    "# What is the minimum reduction in the pollution levels would you recommend if the readings are not meeting the WHO guidelines.\n",
    "\n",
    "ls=np.array([81.6, 66.6, 70.9, 82.5, 58.3, 71.6, 72.4, 96.6, 78.6, 76.1, 80.0, 73.2, 85.5, 73.2, 68.6, 74.0, 68.7, 83.0, 86.9, 94.9, 75.6, 77.3, 86.6, 71.7, 88.5, 87.0, 72.5, 83.0, 85.8, 74.9, 61.7, 92.2])\n",
    "print('Sample size-',len(ls))\n",
    "#sample size=32\n",
    "\n",
    "print('Sample Mean-',np.mean(ls))\n",
    "\n",
    "\n",
    "#ho- <=75\n",
    "#ha - >75\n",
    "\n",
    "#error on right side hence it is a right tail test.\n",
    "\n",
    "# we must ensure that our value is as much as possible towards the left side in this case.\n",
    "\n",
    "# so we find 95% lower bound\n",
    "(z,p)=ssw.ztest(ls,value=75,alternative='larger')\n",
    "\n",
    "print('z=',z)\n",
    "print('p=',p)\n",
    "\n",
    "# whichever side we have that error we find the area under that part \n",
    "t.sf(z,31)\n",
    "\n"
   ]
  },
  {
   "cell_type": "code",
   "execution_count": 36,
   "id": "0add360a-0fcd-44fa-9805-9c7eda9b04c1",
   "metadata": {},
   "outputs": [
    {
     "data": {
      "text/plain": [
       "(np.float64(-1.8525337707152358), np.float64(0.03197460641107757))"
      ]
     },
     "execution_count": 36,
     "metadata": {},
     "output_type": "execute_result"
    }
   ],
   "source": [
    "# Question-2\n",
    "\n",
    "# CDAC Kharghar claims that the average salary offered to their students is atleast 1.4 LPA more than the Juhu center. To check this claim following data was collected from some students at both centers. Do these numbers justify claim made by Kharghar office.\n",
    "\n",
    "# Kharghar = 3.7,4.5,6.8,3.5,4.25.6,4,1,3.9\n",
    "# Juhu = 4.6,5.2,3.7,2.9,4.2,3.6,4.1,3.74.6,5.2,3.7,2.9,4.2,3.6,4.1,3.7\n",
    "\n",
    "# What is the maximum difference that can be expected between the salaries of the two centers.\n",
    "\n",
    "kh=[3.7,4.5,6.8,3.5,4.2,5.6,4.1,3.9]\n",
    "jh=[4.6,5.2,3.7,2.9,4.2,3.6,4.1,3.7]\n",
    "\n",
    "ssw.ztest(kh,jh,value=1.4,alternative='smaller')"
   ]
  },
  {
   "cell_type": "code",
   "execution_count": 37,
   "id": "55fd40d4-b72c-478a-9b4f-e986c68452da",
   "metadata": {},
   "outputs": [
    {
     "data": {
      "text/plain": [
       "np.float64(0.5374999999999996)"
      ]
     },
     "execution_count": 37,
     "metadata": {},
     "output_type": "execute_result"
    }
   ],
   "source": [
    "np.mean(kh)-np.mean(jh)"
   ]
  },
  {
   "cell_type": "code",
   "execution_count": 38,
   "id": "2a2776ca-690d-4d5d-99be-f015202a053e",
   "metadata": {},
   "outputs": [],
   "source": [
    "#The difference is statistically significant because pvalue= 0.03<0.05"
   ]
  },
  {
   "cell_type": "code",
   "execution_count": 39,
   "id": "d0e91ac4-1b82-4350-9ecd-1d097a3930dd",
   "metadata": {},
   "outputs": [],
   "source": [
    "#UB"
   ]
  },
  {
   "cell_type": "code",
   "execution_count": null,
   "id": "2101222f-e1f4-4dae-94ec-3b166efb01cb",
   "metadata": {},
   "outputs": [],
   "source": []
  },
  {
   "cell_type": "code",
   "execution_count": null,
   "id": "b9708220-1c4c-4557-aeca-b1523593e371",
   "metadata": {},
   "outputs": [],
   "source": []
  },
  {
   "cell_type": "code",
   "execution_count": null,
   "id": "1f3b7f7f-867a-4e38-a70e-2be5c50c5c46",
   "metadata": {},
   "outputs": [],
   "source": []
  },
  {
   "cell_type": "code",
   "execution_count": null,
   "id": "ae1e1987-dbd6-4cdc-8870-20551c979477",
   "metadata": {},
   "outputs": [],
   "source": []
  },
  {
   "cell_type": "code",
   "execution_count": null,
   "id": "165f93b1-4fec-4b4d-8910-5d509616c403",
   "metadata": {},
   "outputs": [],
   "source": []
  },
  {
   "cell_type": "code",
   "execution_count": 40,
   "id": "78dc5957-ad6e-459c-8c63-220242c178f0",
   "metadata": {},
   "outputs": [
    {
     "data": {
      "text/plain": [
       "(np.float64(-1.8525337707152358), np.float64(0.03197460641107757))"
      ]
     },
     "execution_count": 40,
     "metadata": {},
     "output_type": "execute_result"
    }
   ],
   "source": [
    "# h0 avg(kh)-avg(jh)>=1.4\n",
    "# ha                 <1.4\n",
    "\n",
    "kh = [3.7,4.5,6.8,3.5,4.2,5.6,4.1,3.9]\n",
    "jh = [4.6,5.2,3.7,2.9,4.2,3.6,4.1,3.7]\n",
    "\n",
    "ssw.ztest(kh,jh,value=1.4,alternative='smaller')"
   ]
  },
  {
   "cell_type": "code",
   "execution_count": 41,
   "id": "d56b8295-e3ee-410d-a98c-22ccc0e5c4b9",
   "metadata": {},
   "outputs": [],
   "source": [
    "# (z,pvalue)\n",
    "# pvalue 0.031<0.05\n",
    "# so we reject the null hypothesis\n"
   ]
  },
  {
   "cell_type": "code",
   "execution_count": null,
   "id": "ecef8fde-eff7-4ce9-8ad0-d242ef76647f",
   "metadata": {},
   "outputs": [],
   "source": []
  },
  {
   "cell_type": "code",
   "execution_count": null,
   "id": "21a2aec7-58cf-4fc5-929c-98db7092325c",
   "metadata": {},
   "outputs": [],
   "source": []
  },
  {
   "cell_type": "code",
   "execution_count": null,
   "id": "243af7dc-6815-42ea-ab0d-4dbe6a45e959",
   "metadata": {},
   "outputs": [],
   "source": []
  },
  {
   "cell_type": "markdown",
   "id": "6be51872-c927-4f90-adf7-0d1de9a5142c",
   "metadata": {},
   "source": [
    "# Test 3"
   ]
  },
  {
   "cell_type": "markdown",
   "id": "a3ab5d45-4aee-4087-81ce-73a764738f08",
   "metadata": {},
   "source": [
    "In Paired t test we find the average of the difference with a claim value"
   ]
  },
  {
   "cell_type": "code",
   "execution_count": 42,
   "id": "d5aec4dc-655a-410c-8e2d-267ed235197d",
   "metadata": {},
   "outputs": [],
   "source": [
    "#The company claims that since people started working from home there has been an\n",
    "# average decrease of atleast 0.8mins in completing thing the particular task"
   ]
  },
  {
   "cell_type": "code",
   "execution_count": 43,
   "id": "e11e1019-f55c-418f-8b93-d8023b859470",
   "metadata": {},
   "outputs": [],
   "source": [
    "bef_cov=np.array([12.5,13.2,15.6,9.8,10.4,12.6])\n",
    "aft_cov=np.array([11.6,13.5,14.8,10.6,10.2,11.4])"
   ]
  },
  {
   "cell_type": "code",
   "execution_count": 44,
   "id": "1841b8a7-f631-41bf-a8d1-dc5dc77b9cfc",
   "metadata": {},
   "outputs": [
    {
     "data": {
      "text/plain": [
       "6"
      ]
     },
     "execution_count": 44,
     "metadata": {},
     "output_type": "execute_result"
    }
   ],
   "source": [
    "len(bef_cov)"
   ]
  },
  {
   "cell_type": "code",
   "execution_count": 45,
   "id": "95c3875b-3f23-4bf6-a35b-b3793658d354",
   "metadata": {},
   "outputs": [
    {
     "data": {
      "text/plain": [
       "6"
      ]
     },
     "execution_count": 45,
     "metadata": {},
     "output_type": "execute_result"
    }
   ],
   "source": [
    "len(aft_cov)"
   ]
  },
  {
   "cell_type": "code",
   "execution_count": 46,
   "id": "66db3e14-1cf4-4cef-bb20-48ed04d07431",
   "metadata": {},
   "outputs": [
    {
     "data": {
      "text/plain": [
       "np.float64(0.3333333333333333)"
      ]
     },
     "execution_count": 46,
     "metadata": {},
     "output_type": "execute_result"
    }
   ],
   "source": [
    "np.mean(bef_cov-aft_cov)"
   ]
  },
  {
   "cell_type": "code",
   "execution_count": 47,
   "id": "024c3405-1b35-445f-a533-d02dfe4a24d0",
   "metadata": {},
   "outputs": [
    {
     "data": {
      "text/plain": [
       "(np.float64(0.9001907149476014),\n",
       " (np.float64(-1.4773720121759466),\n",
       "  np.float64(0.9001907149476014),\n",
       "  np.float64(5.0)),\n",
       " (np.float64(-1.4773720121759466),\n",
       "  np.float64(0.09980928505239861),\n",
       "  np.float64(5.0)))"
      ]
     },
     "execution_count": 47,
     "metadata": {},
     "output_type": "execute_result"
    }
   ],
   "source": [
    "ssw.ttost_paired(bef_cov,aft_cov,low=0.8,upp=0.8)"
   ]
  },
  {
   "cell_type": "code",
   "execution_count": 48,
   "id": "f40de256-e118-4e05-af4c-42759e99d759",
   "metadata": {},
   "outputs": [],
   "source": [
    "#ignore first output value in all cases\n",
    "#left tail test - 3rd output(is the error)\n",
    "#-1.47 is the t-test value (statistics )\n",
    "#right tail test - 2nd output(is the error)\n"
   ]
  },
  {
   "cell_type": "code",
   "execution_count": null,
   "id": "5b917cdd-8725-4973-89d5-ac59fe141b13",
   "metadata": {},
   "outputs": [],
   "source": []
  },
  {
   "cell_type": "code",
   "execution_count": 49,
   "id": "128aae4c-0d94-4960-8699-bb1b8a4e7adc",
   "metadata": {},
   "outputs": [],
   "source": [
    "# 0.09>0.05 we do note reject null hypothesis"
   ]
  },
  {
   "cell_type": "code",
   "execution_count": 50,
   "id": "4ca01aa6-7f7a-4a17-91a5-138f6cbc3837",
   "metadata": {},
   "outputs": [],
   "source": [
    "# (Mean-cv)/sd/sqrt(n)"
   ]
  },
  {
   "cell_type": "code",
   "execution_count": 51,
   "id": "74e0442c-e62a-4c3e-bc20-a8cadefc819d",
   "metadata": {},
   "outputs": [
    {
     "data": {
      "text/plain": [
       "(np.float64(-0.9933876741516486), np.float64(0.1602605329943651))"
      ]
     },
     "execution_count": 51,
     "metadata": {},
     "output_type": "execute_result"
    }
   ],
   "source": [
    "\n",
    "ssw.ztest(kh,jh,value=1,alternative='smaller')"
   ]
  },
  {
   "cell_type": "code",
   "execution_count": 52,
   "id": "a0eec61f-2268-421c-91ad-f49f75a624eb",
   "metadata": {},
   "outputs": [],
   "source": [
    "NR=np.mean(kh)-np.mean(jh)-1.4"
   ]
  },
  {
   "cell_type": "code",
   "execution_count": 53,
   "id": "a4890902-1786-4b66-b495-bbeb08000c00",
   "metadata": {},
   "outputs": [],
   "source": [
    "s1=np.std(kh,ddof=1)"
   ]
  },
  {
   "cell_type": "code",
   "execution_count": 54,
   "id": "0b7f6f1d-48e8-43d5-91e7-150c831db1f8",
   "metadata": {},
   "outputs": [],
   "source": [
    "n1=len(kh)"
   ]
  },
  {
   "cell_type": "code",
   "execution_count": 55,
   "id": "c5e782a3-aadb-4307-8b6f-4b83ee206ecb",
   "metadata": {},
   "outputs": [],
   "source": [
    "s2=np.std(jh,ddof=1)"
   ]
  },
  {
   "cell_type": "code",
   "execution_count": 56,
   "id": "89e9cc56-082a-4189-8d71-26802c1df807",
   "metadata": {},
   "outputs": [],
   "source": [
    "n2=len(jh)"
   ]
  },
  {
   "cell_type": "code",
   "execution_count": 57,
   "id": "578cd17a-fb9a-4210-8ccd-9357c2e0629e",
   "metadata": {},
   "outputs": [],
   "source": [
    "sp=(((s1**2)*(n1-1)+(s2**2)*(n2-1))/(n1+n2-2))**0.5"
   ]
  },
  {
   "cell_type": "code",
   "execution_count": 58,
   "id": "f40f084a-e470-4b2a-ba19-a1bdd5daade9",
   "metadata": {},
   "outputs": [
    {
     "data": {
      "text/plain": [
       "np.float64(0.9311571142554684)"
      ]
     },
     "execution_count": 58,
     "metadata": {},
     "output_type": "execute_result"
    }
   ],
   "source": [
    "sp"
   ]
  },
  {
   "cell_type": "code",
   "execution_count": 59,
   "id": "98c5443b-11f3-4607-bebd-0a9149b73bef",
   "metadata": {},
   "outputs": [
    {
     "data": {
      "text/plain": [
       "0.5"
      ]
     },
     "execution_count": 59,
     "metadata": {},
     "output_type": "execute_result"
    }
   ],
   "source": [
    "A=(1/n1+1/n2)**0.5\n",
    "A"
   ]
  },
  {
   "cell_type": "code",
   "execution_count": 60,
   "id": "1628a682-7f72-4768-b757-87246a8574c2",
   "metadata": {},
   "outputs": [],
   "source": [
    "DR=sp*A"
   ]
  },
  {
   "cell_type": "code",
   "execution_count": 61,
   "id": "897a29b4-ab2e-4d9a-923c-0ff9c4527c13",
   "metadata": {},
   "outputs": [
    {
     "data": {
      "text/plain": [
       "np.float64(-1.8525337707152358)"
      ]
     },
     "execution_count": 61,
     "metadata": {},
     "output_type": "execute_result"
    }
   ],
   "source": [
    "TS=NR/DR\n",
    "TS"
   ]
  },
  {
   "cell_type": "code",
   "execution_count": null,
   "id": "95ee7816-d9af-4d85-ad10-4528e446f5ca",
   "metadata": {},
   "outputs": [],
   "source": []
  },
  {
   "cell_type": "code",
   "execution_count": 62,
   "id": "c91b498e-2488-477a-ab24-aa2f3af35246",
   "metadata": {},
   "outputs": [
    {
     "data": {
      "text/plain": [
       "np.float64(0.042573648709279106)"
      ]
     },
     "execution_count": 62,
     "metadata": {},
     "output_type": "execute_result"
    }
   ],
   "source": [
    "t.cdf(TS,len(kh)+len(jh)-2)"
   ]
  },
  {
   "cell_type": "code",
   "execution_count": 63,
   "id": "b3f68ee8-4a21-4dcf-94bc-b8647e924c4a",
   "metadata": {},
   "outputs": [
    {
     "data": {
      "text/plain": [
       "np.float64(0.03197460641107757)"
      ]
     },
     "execution_count": 63,
     "metadata": {},
     "output_type": "execute_result"
    }
   ],
   "source": [
    "norm.cdf(TS)"
   ]
  },
  {
   "cell_type": "code",
   "execution_count": null,
   "id": "6b06e40d-4720-4d55-bb8f-b3be0649a74b",
   "metadata": {},
   "outputs": [],
   "source": []
  },
  {
   "cell_type": "code",
   "execution_count": null,
   "id": "5f94d5dc-23e4-42dd-af67-c69b7c075218",
   "metadata": {},
   "outputs": [],
   "source": []
  },
  {
   "cell_type": "markdown",
   "id": "d4cc6fc3-3cf6-4ac9-8392-c2fca503f44d",
   "metadata": {},
   "source": [
    "Test 4 Anova(Analyis of variance) -used for multiple samples(more than 2)"
   ]
  },
  {
   "cell_type": "markdown",
   "id": "7f573ff1-badb-4915-b492-c254666ec132",
   "metadata": {},
   "source": [
    "h0: all the pair of samples have equal means<br>\n",
    "ha: atleast one of the pair of samples have unequal means."
   ]
  },
  {
   "cell_type": "code",
   "execution_count": null,
   "id": "fcdc4216-f27c-4186-a5fc-d6e65847650e",
   "metadata": {},
   "outputs": [],
   "source": []
  },
  {
   "cell_type": "code",
   "execution_count": 64,
   "id": "49a79538-855a-483c-8d41-c1d3a7e8f630",
   "metadata": {},
   "outputs": [],
   "source": [
    "city=np.repeat(['MUM','DLI','BLR'],[6,5,7])\n",
    "marks= [34,57,63,45,50,62,34,37,52,43,47,68,76,50,48,57,48,50]\n",
    "d1 = {'City':city, 'Marks':marks}"
   ]
  },
  {
   "cell_type": "code",
   "execution_count": 65,
   "id": "2de4eb81-a353-47d5-b3a9-3f33f50450e7",
   "metadata": {},
   "outputs": [
    {
     "data": {
      "text/plain": [
       "array(['MUM', 'MUM', 'MUM', 'MUM', 'MUM', 'MUM', 'DLI', 'DLI', 'DLI',\n",
       "       'DLI', 'DLI', 'BLR', 'BLR', 'BLR', 'BLR', 'BLR', 'BLR', 'BLR'],\n",
       "      dtype='<U3')"
      ]
     },
     "execution_count": 65,
     "metadata": {},
     "output_type": "execute_result"
    }
   ],
   "source": [
    "city"
   ]
  },
  {
   "cell_type": "code",
   "execution_count": 66,
   "id": "80265232-369a-4173-a36f-185084cd2efc",
   "metadata": {},
   "outputs": [],
   "source": [
    "df = pd.DataFrame(d1)"
   ]
  },
  {
   "cell_type": "code",
   "execution_count": 67,
   "id": "3d6c1904-748a-486c-9a76-6f898fff159c",
   "metadata": {},
   "outputs": [
    {
     "data": {
      "text/html": [
       "<div>\n",
       "<style scoped>\n",
       "    .dataframe tbody tr th:only-of-type {\n",
       "        vertical-align: middle;\n",
       "    }\n",
       "\n",
       "    .dataframe tbody tr th {\n",
       "        vertical-align: top;\n",
       "    }\n",
       "\n",
       "    .dataframe thead th {\n",
       "        text-align: right;\n",
       "    }\n",
       "</style>\n",
       "<table border=\"1\" class=\"dataframe\">\n",
       "  <thead>\n",
       "    <tr style=\"text-align: right;\">\n",
       "      <th></th>\n",
       "      <th>City</th>\n",
       "      <th>Marks</th>\n",
       "    </tr>\n",
       "  </thead>\n",
       "  <tbody>\n",
       "    <tr>\n",
       "      <th>0</th>\n",
       "      <td>MUM</td>\n",
       "      <td>34</td>\n",
       "    </tr>\n",
       "    <tr>\n",
       "      <th>1</th>\n",
       "      <td>MUM</td>\n",
       "      <td>57</td>\n",
       "    </tr>\n",
       "    <tr>\n",
       "      <th>2</th>\n",
       "      <td>MUM</td>\n",
       "      <td>63</td>\n",
       "    </tr>\n",
       "    <tr>\n",
       "      <th>3</th>\n",
       "      <td>MUM</td>\n",
       "      <td>45</td>\n",
       "    </tr>\n",
       "    <tr>\n",
       "      <th>4</th>\n",
       "      <td>MUM</td>\n",
       "      <td>50</td>\n",
       "    </tr>\n",
       "    <tr>\n",
       "      <th>5</th>\n",
       "      <td>MUM</td>\n",
       "      <td>62</td>\n",
       "    </tr>\n",
       "    <tr>\n",
       "      <th>6</th>\n",
       "      <td>DLI</td>\n",
       "      <td>34</td>\n",
       "    </tr>\n",
       "    <tr>\n",
       "      <th>7</th>\n",
       "      <td>DLI</td>\n",
       "      <td>37</td>\n",
       "    </tr>\n",
       "    <tr>\n",
       "      <th>8</th>\n",
       "      <td>DLI</td>\n",
       "      <td>52</td>\n",
       "    </tr>\n",
       "    <tr>\n",
       "      <th>9</th>\n",
       "      <td>DLI</td>\n",
       "      <td>43</td>\n",
       "    </tr>\n",
       "    <tr>\n",
       "      <th>10</th>\n",
       "      <td>DLI</td>\n",
       "      <td>47</td>\n",
       "    </tr>\n",
       "    <tr>\n",
       "      <th>11</th>\n",
       "      <td>BLR</td>\n",
       "      <td>68</td>\n",
       "    </tr>\n",
       "    <tr>\n",
       "      <th>12</th>\n",
       "      <td>BLR</td>\n",
       "      <td>76</td>\n",
       "    </tr>\n",
       "    <tr>\n",
       "      <th>13</th>\n",
       "      <td>BLR</td>\n",
       "      <td>50</td>\n",
       "    </tr>\n",
       "    <tr>\n",
       "      <th>14</th>\n",
       "      <td>BLR</td>\n",
       "      <td>48</td>\n",
       "    </tr>\n",
       "    <tr>\n",
       "      <th>15</th>\n",
       "      <td>BLR</td>\n",
       "      <td>57</td>\n",
       "    </tr>\n",
       "    <tr>\n",
       "      <th>16</th>\n",
       "      <td>BLR</td>\n",
       "      <td>48</td>\n",
       "    </tr>\n",
       "    <tr>\n",
       "      <th>17</th>\n",
       "      <td>BLR</td>\n",
       "      <td>50</td>\n",
       "    </tr>\n",
       "  </tbody>\n",
       "</table>\n",
       "</div>"
      ],
      "text/plain": [
       "   City  Marks\n",
       "0   MUM     34\n",
       "1   MUM     57\n",
       "2   MUM     63\n",
       "3   MUM     45\n",
       "4   MUM     50\n",
       "5   MUM     62\n",
       "6   DLI     34\n",
       "7   DLI     37\n",
       "8   DLI     52\n",
       "9   DLI     43\n",
       "10  DLI     47\n",
       "11  BLR     68\n",
       "12  BLR     76\n",
       "13  BLR     50\n",
       "14  BLR     48\n",
       "15  BLR     57\n",
       "16  BLR     48\n",
       "17  BLR     50"
      ]
     },
     "execution_count": 67,
     "metadata": {},
     "output_type": "execute_result"
    }
   ],
   "source": [
    "df"
   ]
  },
  {
   "cell_type": "markdown",
   "id": "30721027-5bf2-450c-b525-ad21680bca7d",
   "metadata": {},
   "source": [
    "If assumptions are violated we use non parametric test"
   ]
  },
  {
   "cell_type": "markdown",
   "id": "e5fb6373-adaa-4cca-ab2e-135b15010a22",
   "metadata": {},
   "source": [
    "when 1 factor(teacher) is influencing the response(marks of the students) then it is called as 1-way anova"
   ]
  },
  {
   "cell_type": "code",
   "execution_count": null,
   "id": "752fe711-a1a7-4961-8527-0d476ce1986e",
   "metadata": {},
   "outputs": [],
   "source": []
  },
  {
   "cell_type": "code",
   "execution_count": 68,
   "id": "14cead4b-9fff-4d97-be62-5e4c69954af1",
   "metadata": {},
   "outputs": [],
   "source": [
    "mod1=ols('Marks ~ City',data=df).fit()"
   ]
  },
  {
   "cell_type": "code",
   "execution_count": 69,
   "id": "c7a9af5b-1b88-481d-b233-6c87ba5912c6",
   "metadata": {},
   "outputs": [
    {
     "data": {
      "text/html": [
       "<div>\n",
       "<style scoped>\n",
       "    .dataframe tbody tr th:only-of-type {\n",
       "        vertical-align: middle;\n",
       "    }\n",
       "\n",
       "    .dataframe tbody tr th {\n",
       "        vertical-align: top;\n",
       "    }\n",
       "\n",
       "    .dataframe thead th {\n",
       "        text-align: right;\n",
       "    }\n",
       "</style>\n",
       "<table border=\"1\" class=\"dataframe\">\n",
       "  <thead>\n",
       "    <tr style=\"text-align: right;\">\n",
       "      <th></th>\n",
       "      <th>df</th>\n",
       "      <th>sum_sq</th>\n",
       "      <th>mean_sq</th>\n",
       "      <th>F</th>\n",
       "      <th>PR(&gt;F)</th>\n",
       "    </tr>\n",
       "  </thead>\n",
       "  <tbody>\n",
       "    <tr>\n",
       "      <th>City</th>\n",
       "      <td>2.0</td>\n",
       "      <td>585.038095</td>\n",
       "      <td>292.519048</td>\n",
       "      <td>2.781548</td>\n",
       "      <td>0.093869</td>\n",
       "    </tr>\n",
       "    <tr>\n",
       "      <th>Residual</th>\n",
       "      <td>15.0</td>\n",
       "      <td>1577.461905</td>\n",
       "      <td>105.164127</td>\n",
       "      <td>NaN</td>\n",
       "      <td>NaN</td>\n",
       "    </tr>\n",
       "  </tbody>\n",
       "</table>\n",
       "</div>"
      ],
      "text/plain": [
       "            df       sum_sq     mean_sq         F    PR(>F)\n",
       "City       2.0   585.038095  292.519048  2.781548  0.093869\n",
       "Residual  15.0  1577.461905  105.164127       NaN       NaN"
      ]
     },
     "execution_count": 69,
     "metadata": {},
     "output_type": "execute_result"
    }
   ],
   "source": [
    "tbl1=sm.stats.anova_lm(mod1)\n",
    "tbl1"
   ]
  },
  {
   "cell_type": "markdown",
   "id": "d65616e0-25fc-47f2-a62e-c7237c45f376",
   "metadata": {},
   "source": [
    "F-value(similiar to zvalue)\n",
    "<br>\n",
    "\n",
    "p value=0.09 > 0.05<br>\n",
    "-> we do not reject the null hypothesis(ho) and the value is statistically insignificant.\n"
   ]
  },
  {
   "cell_type": "code",
   "execution_count": 70,
   "id": "7f9b5928-be30-4520-927e-54c782518f9a",
   "metadata": {},
   "outputs": [],
   "source": [
    "# df - degrees of freedom"
   ]
  },
  {
   "cell_type": "code",
   "execution_count": 71,
   "id": "46e46296-dc46-44e7-a6c9-cf15e868692b",
   "metadata": {},
   "outputs": [],
   "source": [
    "#since the p value is more than 0.05 , the ho is not rejected"
   ]
  },
  {
   "cell_type": "code",
   "execution_count": 72,
   "id": "251ba4b7-3557-47cb-b3df-d6dfa9b2f5a4",
   "metadata": {},
   "outputs": [],
   "source": [
    "#we conclude that all pair of means are equal."
   ]
  },
  {
   "cell_type": "code",
   "execution_count": 73,
   "id": "da24ff64-a357-4c93-bb26-070720331941",
   "metadata": {},
   "outputs": [],
   "source": [
    "#city factor does not include the marks"
   ]
  },
  {
   "cell_type": "code",
   "execution_count": 74,
   "id": "9792ee0d-c9bf-4fe3-959d-07d0aeb49bef",
   "metadata": {},
   "outputs": [
    {
     "data": {
      "text/plain": [
       "(18, 2)"
      ]
     },
     "execution_count": 74,
     "metadata": {},
     "output_type": "execute_result"
    }
   ],
   "source": [
    "df.shape"
   ]
  },
  {
   "cell_type": "code",
   "execution_count": 75,
   "id": "81216953-a33e-480e-afbe-42f8b164b105",
   "metadata": {},
   "outputs": [],
   "source": [
    "from statsmodels.stats.multicomp import pairwise_tukeyhsd"
   ]
  },
  {
   "cell_type": "code",
   "execution_count": 76,
   "id": "efdd11be-0344-4d07-b90c-bd2bd13a429a",
   "metadata": {},
   "outputs": [
    {
     "name": "stdout",
     "output_type": "stream",
     "text": [
      " Multiple Comparison of Means - Tukey HSD, FWER=0.05 \n",
      "=====================================================\n",
      "group1 group2 meandiff p-adj   lower    upper  reject\n",
      "-----------------------------------------------------\n",
      "   BLR    DLI -14.1143 0.0791 -29.7113  1.4827  False\n",
      "   BLR    MUM   -4.881 0.6754 -19.7004  9.9385  False\n",
      "   DLI    MUM   9.2333 0.3247  -6.8961 25.3628  False\n",
      "-----------------------------------------------------\n"
     ]
    }
   ],
   "source": [
    "print(pairwise_tukeyhsd(df.Marks,df.City))"
   ]
  },
  {
   "cell_type": "code",
   "execution_count": 78,
   "id": "b0f1b60f-112c-44bb-ae7c-c930712eadef",
   "metadata": {},
   "outputs": [
    {
     "data": {
      "text/html": [
       "<div>\n",
       "<style scoped>\n",
       "    .dataframe tbody tr th:only-of-type {\n",
       "        vertical-align: middle;\n",
       "    }\n",
       "\n",
       "    .dataframe tbody tr th {\n",
       "        vertical-align: top;\n",
       "    }\n",
       "\n",
       "    .dataframe thead th {\n",
       "        text-align: right;\n",
       "    }\n",
       "</style>\n",
       "<table border=\"1\" class=\"dataframe\">\n",
       "  <thead>\n",
       "    <tr style=\"text-align: right;\">\n",
       "      <th></th>\n",
       "      <th>City</th>\n",
       "      <th>Marks</th>\n",
       "    </tr>\n",
       "  </thead>\n",
       "  <tbody>\n",
       "    <tr>\n",
       "      <th>0</th>\n",
       "      <td>MUM</td>\n",
       "      <td>34</td>\n",
       "    </tr>\n",
       "    <tr>\n",
       "      <th>1</th>\n",
       "      <td>MUM</td>\n",
       "      <td>57</td>\n",
       "    </tr>\n",
       "    <tr>\n",
       "      <th>2</th>\n",
       "      <td>MUM</td>\n",
       "      <td>63</td>\n",
       "    </tr>\n",
       "    <tr>\n",
       "      <th>3</th>\n",
       "      <td>MUM</td>\n",
       "      <td>45</td>\n",
       "    </tr>\n",
       "    <tr>\n",
       "      <th>4</th>\n",
       "      <td>MUM</td>\n",
       "      <td>50</td>\n",
       "    </tr>\n",
       "    <tr>\n",
       "      <th>5</th>\n",
       "      <td>MUM</td>\n",
       "      <td>62</td>\n",
       "    </tr>\n",
       "    <tr>\n",
       "      <th>6</th>\n",
       "      <td>DLI</td>\n",
       "      <td>34</td>\n",
       "    </tr>\n",
       "    <tr>\n",
       "      <th>7</th>\n",
       "      <td>DLI</td>\n",
       "      <td>37</td>\n",
       "    </tr>\n",
       "    <tr>\n",
       "      <th>8</th>\n",
       "      <td>DLI</td>\n",
       "      <td>52</td>\n",
       "    </tr>\n",
       "    <tr>\n",
       "      <th>9</th>\n",
       "      <td>DLI</td>\n",
       "      <td>43</td>\n",
       "    </tr>\n",
       "    <tr>\n",
       "      <th>10</th>\n",
       "      <td>DLI</td>\n",
       "      <td>47</td>\n",
       "    </tr>\n",
       "    <tr>\n",
       "      <th>11</th>\n",
       "      <td>BLR</td>\n",
       "      <td>68</td>\n",
       "    </tr>\n",
       "    <tr>\n",
       "      <th>12</th>\n",
       "      <td>BLR</td>\n",
       "      <td>76</td>\n",
       "    </tr>\n",
       "    <tr>\n",
       "      <th>13</th>\n",
       "      <td>BLR</td>\n",
       "      <td>50</td>\n",
       "    </tr>\n",
       "    <tr>\n",
       "      <th>14</th>\n",
       "      <td>BLR</td>\n",
       "      <td>48</td>\n",
       "    </tr>\n",
       "    <tr>\n",
       "      <th>15</th>\n",
       "      <td>BLR</td>\n",
       "      <td>57</td>\n",
       "    </tr>\n",
       "    <tr>\n",
       "      <th>16</th>\n",
       "      <td>BLR</td>\n",
       "      <td>48</td>\n",
       "    </tr>\n",
       "    <tr>\n",
       "      <th>17</th>\n",
       "      <td>BLR</td>\n",
       "      <td>50</td>\n",
       "    </tr>\n",
       "  </tbody>\n",
       "</table>\n",
       "</div>"
      ],
      "text/plain": [
       "   City  Marks\n",
       "0   MUM     34\n",
       "1   MUM     57\n",
       "2   MUM     63\n",
       "3   MUM     45\n",
       "4   MUM     50\n",
       "5   MUM     62\n",
       "6   DLI     34\n",
       "7   DLI     37\n",
       "8   DLI     52\n",
       "9   DLI     43\n",
       "10  DLI     47\n",
       "11  BLR     68\n",
       "12  BLR     76\n",
       "13  BLR     50\n",
       "14  BLR     48\n",
       "15  BLR     57\n",
       "16  BLR     48\n",
       "17  BLR     50"
      ]
     },
     "execution_count": 78,
     "metadata": {},
     "output_type": "execute_result"
    }
   ],
   "source": [
    "df"
   ]
  },
  {
   "cell_type": "code",
   "execution_count": null,
   "id": "232ed3a2-7a84-43f6-8513-47d4e32b41ab",
   "metadata": {},
   "outputs": [],
   "source": []
  },
  {
   "cell_type": "code",
   "execution_count": null,
   "id": "7e823d33-4a86-48f2-924f-975aa35b5736",
   "metadata": {},
   "outputs": [],
   "source": []
  },
  {
   "cell_type": "code",
   "execution_count": null,
   "id": "4ca6ac7a-e8e0-4b11-937a-4a581c2e1db4",
   "metadata": {},
   "outputs": [],
   "source": []
  },
  {
   "cell_type": "markdown",
   "id": "4f34a139-4b22-4939-aee7-d9ad8dc1bfe5",
   "metadata": {},
   "source": [
    "# Two way anova test"
   ]
  },
  {
   "cell_type": "code",
   "execution_count": 79,
   "id": "e616f06e-9280-4bc0-8070-1ebf075570d2",
   "metadata": {},
   "outputs": [],
   "source": [
    "gender = ['M','M','M','F','F','F','M','M','F','F','F','M','M','M','M','F','F','F']"
   ]
  },
  {
   "cell_type": "code",
   "execution_count": 80,
   "id": "87e59915-f874-4113-b5c2-94b8133dae13",
   "metadata": {},
   "outputs": [],
   "source": [
    "df['Gender']=np.array(gender)"
   ]
  },
  {
   "cell_type": "code",
   "execution_count": 81,
   "id": "b4f83ae6-01f9-4fc6-8d52-69e30205e14e",
   "metadata": {},
   "outputs": [
    {
     "data": {
      "text/html": [
       "<div>\n",
       "<style scoped>\n",
       "    .dataframe tbody tr th:only-of-type {\n",
       "        vertical-align: middle;\n",
       "    }\n",
       "\n",
       "    .dataframe tbody tr th {\n",
       "        vertical-align: top;\n",
       "    }\n",
       "\n",
       "    .dataframe thead th {\n",
       "        text-align: right;\n",
       "    }\n",
       "</style>\n",
       "<table border=\"1\" class=\"dataframe\">\n",
       "  <thead>\n",
       "    <tr style=\"text-align: right;\">\n",
       "      <th></th>\n",
       "      <th>City</th>\n",
       "      <th>Marks</th>\n",
       "      <th>Gender</th>\n",
       "    </tr>\n",
       "  </thead>\n",
       "  <tbody>\n",
       "    <tr>\n",
       "      <th>0</th>\n",
       "      <td>MUM</td>\n",
       "      <td>34</td>\n",
       "      <td>M</td>\n",
       "    </tr>\n",
       "    <tr>\n",
       "      <th>1</th>\n",
       "      <td>MUM</td>\n",
       "      <td>57</td>\n",
       "      <td>M</td>\n",
       "    </tr>\n",
       "    <tr>\n",
       "      <th>2</th>\n",
       "      <td>MUM</td>\n",
       "      <td>63</td>\n",
       "      <td>M</td>\n",
       "    </tr>\n",
       "    <tr>\n",
       "      <th>3</th>\n",
       "      <td>MUM</td>\n",
       "      <td>45</td>\n",
       "      <td>F</td>\n",
       "    </tr>\n",
       "    <tr>\n",
       "      <th>4</th>\n",
       "      <td>MUM</td>\n",
       "      <td>50</td>\n",
       "      <td>F</td>\n",
       "    </tr>\n",
       "    <tr>\n",
       "      <th>5</th>\n",
       "      <td>MUM</td>\n",
       "      <td>62</td>\n",
       "      <td>F</td>\n",
       "    </tr>\n",
       "    <tr>\n",
       "      <th>6</th>\n",
       "      <td>DLI</td>\n",
       "      <td>34</td>\n",
       "      <td>M</td>\n",
       "    </tr>\n",
       "    <tr>\n",
       "      <th>7</th>\n",
       "      <td>DLI</td>\n",
       "      <td>37</td>\n",
       "      <td>M</td>\n",
       "    </tr>\n",
       "    <tr>\n",
       "      <th>8</th>\n",
       "      <td>DLI</td>\n",
       "      <td>52</td>\n",
       "      <td>F</td>\n",
       "    </tr>\n",
       "    <tr>\n",
       "      <th>9</th>\n",
       "      <td>DLI</td>\n",
       "      <td>43</td>\n",
       "      <td>F</td>\n",
       "    </tr>\n",
       "    <tr>\n",
       "      <th>10</th>\n",
       "      <td>DLI</td>\n",
       "      <td>47</td>\n",
       "      <td>F</td>\n",
       "    </tr>\n",
       "    <tr>\n",
       "      <th>11</th>\n",
       "      <td>BLR</td>\n",
       "      <td>68</td>\n",
       "      <td>M</td>\n",
       "    </tr>\n",
       "    <tr>\n",
       "      <th>12</th>\n",
       "      <td>BLR</td>\n",
       "      <td>76</td>\n",
       "      <td>M</td>\n",
       "    </tr>\n",
       "    <tr>\n",
       "      <th>13</th>\n",
       "      <td>BLR</td>\n",
       "      <td>50</td>\n",
       "      <td>M</td>\n",
       "    </tr>\n",
       "    <tr>\n",
       "      <th>14</th>\n",
       "      <td>BLR</td>\n",
       "      <td>48</td>\n",
       "      <td>M</td>\n",
       "    </tr>\n",
       "    <tr>\n",
       "      <th>15</th>\n",
       "      <td>BLR</td>\n",
       "      <td>57</td>\n",
       "      <td>F</td>\n",
       "    </tr>\n",
       "    <tr>\n",
       "      <th>16</th>\n",
       "      <td>BLR</td>\n",
       "      <td>48</td>\n",
       "      <td>F</td>\n",
       "    </tr>\n",
       "    <tr>\n",
       "      <th>17</th>\n",
       "      <td>BLR</td>\n",
       "      <td>50</td>\n",
       "      <td>F</td>\n",
       "    </tr>\n",
       "  </tbody>\n",
       "</table>\n",
       "</div>"
      ],
      "text/plain": [
       "   City  Marks Gender\n",
       "0   MUM     34      M\n",
       "1   MUM     57      M\n",
       "2   MUM     63      M\n",
       "3   MUM     45      F\n",
       "4   MUM     50      F\n",
       "5   MUM     62      F\n",
       "6   DLI     34      M\n",
       "7   DLI     37      M\n",
       "8   DLI     52      F\n",
       "9   DLI     43      F\n",
       "10  DLI     47      F\n",
       "11  BLR     68      M\n",
       "12  BLR     76      M\n",
       "13  BLR     50      M\n",
       "14  BLR     48      M\n",
       "15  BLR     57      F\n",
       "16  BLR     48      F\n",
       "17  BLR     50      F"
      ]
     },
     "execution_count": 81,
     "metadata": {},
     "output_type": "execute_result"
    }
   ],
   "source": [
    "df"
   ]
  },
  {
   "cell_type": "code",
   "execution_count": null,
   "id": "e9fe1b0b-8e2b-4ebe-a8e3-1fecc3616749",
   "metadata": {},
   "outputs": [],
   "source": []
  },
  {
   "cell_type": "code",
   "execution_count": 82,
   "id": "a4bf9934-fbe8-4da4-a2b2-c982cb4fa725",
   "metadata": {},
   "outputs": [],
   "source": [
    "mod2=ols('Marks ~ City + Gender',data=df).fit()"
   ]
  },
  {
   "cell_type": "code",
   "execution_count": 84,
   "id": "3d141471-9f04-46f5-bc7a-2848ea6597b6",
   "metadata": {},
   "outputs": [],
   "source": [
    "tb2=sm.stats.anova_lm(mod2)"
   ]
  },
  {
   "cell_type": "code",
   "execution_count": 85,
   "id": "dbc18bf7-6cde-4da0-b3ac-b586f77229ca",
   "metadata": {},
   "outputs": [
    {
     "data": {
      "text/html": [
       "<div>\n",
       "<style scoped>\n",
       "    .dataframe tbody tr th:only-of-type {\n",
       "        vertical-align: middle;\n",
       "    }\n",
       "\n",
       "    .dataframe tbody tr th {\n",
       "        vertical-align: top;\n",
       "    }\n",
       "\n",
       "    .dataframe thead th {\n",
       "        text-align: right;\n",
       "    }\n",
       "</style>\n",
       "<table border=\"1\" class=\"dataframe\">\n",
       "  <thead>\n",
       "    <tr style=\"text-align: right;\">\n",
       "      <th></th>\n",
       "      <th>df</th>\n",
       "      <th>sum_sq</th>\n",
       "      <th>mean_sq</th>\n",
       "      <th>F</th>\n",
       "      <th>PR(&gt;F)</th>\n",
       "    </tr>\n",
       "  </thead>\n",
       "  <tbody>\n",
       "    <tr>\n",
       "      <th>City</th>\n",
       "      <td>2.0</td>\n",
       "      <td>585.038095</td>\n",
       "      <td>292.519048</td>\n",
       "      <td>2.596227</td>\n",
       "      <td>0.109896</td>\n",
       "    </tr>\n",
       "    <tr>\n",
       "      <th>Gender</th>\n",
       "      <td>1.0</td>\n",
       "      <td>0.070319</td>\n",
       "      <td>0.070319</td>\n",
       "      <td>0.000624</td>\n",
       "      <td>0.980422</td>\n",
       "    </tr>\n",
       "    <tr>\n",
       "      <th>Residual</th>\n",
       "      <td>14.0</td>\n",
       "      <td>1577.391586</td>\n",
       "      <td>112.670828</td>\n",
       "      <td>NaN</td>\n",
       "      <td>NaN</td>\n",
       "    </tr>\n",
       "  </tbody>\n",
       "</table>\n",
       "</div>"
      ],
      "text/plain": [
       "            df       sum_sq     mean_sq         F    PR(>F)\n",
       "City       2.0   585.038095  292.519048  2.596227  0.109896\n",
       "Gender     1.0     0.070319    0.070319  0.000624  0.980422\n",
       "Residual  14.0  1577.391586  112.670828       NaN       NaN"
      ]
     },
     "execution_count": 85,
     "metadata": {},
     "output_type": "execute_result"
    }
   ],
   "source": [
    "tb2"
   ]
  },
  {
   "cell_type": "code",
   "execution_count": null,
   "id": "c537957d-e8a7-4a64-9adb-c638192ba149",
   "metadata": {},
   "outputs": [],
   "source": []
  },
  {
   "cell_type": "code",
   "execution_count": 94,
   "id": "8fd90ce9-7521-429a-a3c9-2386c922b322",
   "metadata": {},
   "outputs": [],
   "source": [
    "mod3=ols('Marks ~ City * Gender',data=df).fit() #the null hypothesis is that the factor city has no effect on the factor gender on the marks"
   ]
  },
  {
   "cell_type": "code",
   "execution_count": 95,
   "id": "51e4be1d-2467-4a24-b2ed-268403a5d2d4",
   "metadata": {},
   "outputs": [],
   "source": [
    "tbl3=sm.stats.anova_lm(mod3)"
   ]
  },
  {
   "cell_type": "code",
   "execution_count": 96,
   "id": "a6cb5415-29a3-4dbe-87b4-ede4ea7f1f5e",
   "metadata": {},
   "outputs": [
    {
     "data": {
      "text/html": [
       "<div>\n",
       "<style scoped>\n",
       "    .dataframe tbody tr th:only-of-type {\n",
       "        vertical-align: middle;\n",
       "    }\n",
       "\n",
       "    .dataframe tbody tr th {\n",
       "        vertical-align: top;\n",
       "    }\n",
       "\n",
       "    .dataframe thead th {\n",
       "        text-align: right;\n",
       "    }\n",
       "</style>\n",
       "<table border=\"1\" class=\"dataframe\">\n",
       "  <thead>\n",
       "    <tr style=\"text-align: right;\">\n",
       "      <th></th>\n",
       "      <th>df</th>\n",
       "      <th>sum_sq</th>\n",
       "      <th>mean_sq</th>\n",
       "      <th>F</th>\n",
       "      <th>PR(&gt;F)</th>\n",
       "    </tr>\n",
       "  </thead>\n",
       "  <tbody>\n",
       "    <tr>\n",
       "      <th>City</th>\n",
       "      <td>2.0</td>\n",
       "      <td>585.038095</td>\n",
       "      <td>292.519048</td>\n",
       "      <td>2.754921</td>\n",
       "      <td>0.103608</td>\n",
       "    </tr>\n",
       "    <tr>\n",
       "      <th>Gender</th>\n",
       "      <td>1.0</td>\n",
       "      <td>0.070319</td>\n",
       "      <td>0.070319</td>\n",
       "      <td>0.000662</td>\n",
       "      <td>0.979892</td>\n",
       "    </tr>\n",
       "    <tr>\n",
       "      <th>City:Gender</th>\n",
       "      <td>2.0</td>\n",
       "      <td>303.224919</td>\n",
       "      <td>151.612460</td>\n",
       "      <td>1.427874</td>\n",
       "      <td>0.277792</td>\n",
       "    </tr>\n",
       "    <tr>\n",
       "      <th>Residual</th>\n",
       "      <td>12.0</td>\n",
       "      <td>1274.166667</td>\n",
       "      <td>106.180556</td>\n",
       "      <td>NaN</td>\n",
       "      <td>NaN</td>\n",
       "    </tr>\n",
       "  </tbody>\n",
       "</table>\n",
       "</div>"
      ],
      "text/plain": [
       "               df       sum_sq     mean_sq         F    PR(>F)\n",
       "City          2.0   585.038095  292.519048  2.754921  0.103608\n",
       "Gender        1.0     0.070319    0.070319  0.000662  0.979892\n",
       "City:Gender   2.0   303.224919  151.612460  1.427874  0.277792\n",
       "Residual     12.0  1274.166667  106.180556       NaN       NaN"
      ]
     },
     "execution_count": 96,
     "metadata": {},
     "output_type": "execute_result"
    }
   ],
   "source": [
    "tbl3"
   ]
  },
  {
   "cell_type": "code",
   "execution_count": null,
   "id": "090830f2-0b62-4036-a6e8-21fb714bf6fa",
   "metadata": {},
   "outputs": [],
   "source": []
  },
  {
   "cell_type": "code",
   "execution_count": 98,
   "id": "906cf45c-9b02-4468-beea-39f8750ac238",
   "metadata": {},
   "outputs": [],
   "source": [
    "# since 0.277>0.05 gender does not have any effect on city factor and hence the marks"
   ]
  },
  {
   "cell_type": "code",
   "execution_count": null,
   "id": "bf030102-f434-44bf-aeee-3849683b59aa",
   "metadata": {},
   "outputs": [],
   "source": []
  }
 ],
 "metadata": {
  "kernelspec": {
   "display_name": "Python 3 (ipykernel)",
   "language": "python",
   "name": "python3"
  },
  "language_info": {
   "codemirror_mode": {
    "name": "ipython",
    "version": 3
   },
   "file_extension": ".py",
   "mimetype": "text/x-python",
   "name": "python",
   "nbconvert_exporter": "python",
   "pygments_lexer": "ipython3",
   "version": "3.12.5"
  }
 },
 "nbformat": 4,
 "nbformat_minor": 5
}
