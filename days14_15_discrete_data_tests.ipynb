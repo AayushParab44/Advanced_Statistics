{
 "cells": [
  {
   "cell_type": "code",
   "execution_count": 7,
   "id": "584b2e2a-e330-499f-ab27-033c90ca3ec1",
   "metadata": {},
   "outputs": [],
   "source": [
    "import numpy as np\n",
    "import pandas as pd\n",
    "import matplotlib.pyplot as plt\n",
    "import seaborn as sns\n",
    "\n",
    "from numpy import random\n",
    "\n",
    "import scipy\n",
    "from scipy import stats\n",
    "from scipy.stats import binom,poisson,norm,t\n",
    "\n",
    "import pylab\n",
    "from pylab import legend, plot, show ,title, xlabel, ylabel\n",
    "\n",
    "import statsmodels\n",
    "from statsmodels import stats\n",
    "from statsmodels.stats import weightstats as ssw\n",
    "\n",
    "import statsmodels.api as sm\n",
    "from statsmodels.formula.api import ols\n",
    "import statsmodels.stats.multicomp\n",
    "\n",
    "from statsmodels.stats import proportion as ssp"
   ]
  },
  {
   "cell_type": "code",
   "execution_count": 8,
   "id": "b55dd96f-d00f-41a6-bbaa-b0495650d42f",
   "metadata": {},
   "outputs": [],
   "source": [
    "# Ho: prop of exp students<=0.1"
   ]
  },
  {
   "cell_type": "code",
   "execution_count": 9,
   "id": "a8b12097-ede0-48c9-a395-4c60d3ec7d11",
   "metadata": {},
   "outputs": [],
   "source": [
    "# Ha: prop of exp students>0.1"
   ]
  },
  {
   "cell_type": "code",
   "execution_count": 10,
   "id": "272beadc-d2f3-4448-be3f-a663784863ab",
   "metadata": {},
   "outputs": [],
   "source": [
    "# In a sample of 30 students , 5 students had work experience. Isthe sample in sync with Vineeta Maams claim?\n"
   ]
  },
  {
   "cell_type": "code",
   "execution_count": 11,
   "id": "a23bb8c5-22fe-4ef1-bb7c-4eea5377ada3",
   "metadata": {},
   "outputs": [
    {
     "data": {
      "text/plain": [
       "(np.float64(0.979795897113271), np.float64(0.16359343889515293))"
      ]
     },
     "execution_count": 11,
     "metadata": {},
     "output_type": "execute_result"
    }
   ],
   "source": [
    "ssp.proportions_ztest(5,30,0.1,alternative='larger')"
   ]
  },
  {
   "cell_type": "code",
   "execution_count": 12,
   "id": "37443d28-d74b-4757-adf4-84326d08cc33",
   "metadata": {},
   "outputs": [],
   "source": [
    "#Since the p-value is more than the LOS we do not reject the null hypothesis."
   ]
  },
  {
   "cell_type": "code",
   "execution_count": null,
   "id": "1ffce84d-0c7b-42ad-9f07-9137b2f6ac80",
   "metadata": {},
   "outputs": [],
   "source": []
  }
 ],
 "metadata": {
  "kernelspec": {
   "display_name": "Python 3 (ipykernel)",
   "language": "python",
   "name": "python3"
  },
  "language_info": {
   "codemirror_mode": {
    "name": "ipython",
    "version": 3
   },
   "file_extension": ".py",
   "mimetype": "text/x-python",
   "name": "python",
   "nbconvert_exporter": "python",
   "pygments_lexer": "ipython3",
   "version": "3.12.5"
  }
 },
 "nbformat": 4,
 "nbformat_minor": 5
}
