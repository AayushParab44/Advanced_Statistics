{
 "cells": [
  {
   "cell_type": "code",
   "execution_count": 56,
   "id": "584b2e2a-e330-499f-ab27-033c90ca3ec1",
   "metadata": {},
   "outputs": [],
   "source": [
    "import numpy as np\n",
    "import pandas as pd\n",
    "import matplotlib.pyplot as plt\n",
    "import seaborn as sns\n",
    "\n",
    "from numpy import random\n",
    "\n",
    "import scipy\n",
    "from scipy import stats\n",
    "from scipy.stats import binom,poisson,norm,t\n",
    "\n",
    "import pylab\n",
    "from pylab import legend, plot, show ,title, xlabel, ylabel\n",
    "\n",
    "import statsmodels\n",
    "from statsmodels import stats\n",
    "from statsmodels.stats import weightstats as ssw\n",
    "\n",
    "import statsmodels.api as sm\n",
    "from statsmodels.formula.api import ols\n",
    "import statsmodels.stats.multicomp\n",
    "\n",
    "from statsmodels.stats import proportion as ssp\n",
    "\n",
    "from scipy.stats import chisquare, chi2_contingency"
   ]
  },
  {
   "cell_type": "code",
   "execution_count": 2,
   "id": "b55dd96f-d00f-41a6-bbaa-b0495650d42f",
   "metadata": {},
   "outputs": [],
   "source": [
    "# Ho: prop of exp students<=0.1"
   ]
  },
  {
   "cell_type": "code",
   "execution_count": 3,
   "id": "a8b12097-ede0-48c9-a395-4c60d3ec7d11",
   "metadata": {},
   "outputs": [],
   "source": [
    "# Ha: prop of exp students>0.1"
   ]
  },
  {
   "cell_type": "code",
   "execution_count": 4,
   "id": "272beadc-d2f3-4448-be3f-a663784863ab",
   "metadata": {},
   "outputs": [],
   "source": [
    "# In a sample of 30 students , 5 students had work experience. Isthe sample in sync with Vineeta Maams claim?\n"
   ]
  },
  {
   "cell_type": "code",
   "execution_count": 5,
   "id": "a23bb8c5-22fe-4ef1-bb7c-4eea5377ada3",
   "metadata": {},
   "outputs": [
    {
     "data": {
      "text/plain": [
       "(np.float64(0.979795897113271), np.float64(0.16359343889515293))"
      ]
     },
     "execution_count": 5,
     "metadata": {},
     "output_type": "execute_result"
    }
   ],
   "source": [
    "ssp.proportions_ztest(5,30,0.1,alternative='larger')"
   ]
  },
  {
   "cell_type": "code",
   "execution_count": 6,
   "id": "37443d28-d74b-4757-adf4-84326d08cc33",
   "metadata": {},
   "outputs": [],
   "source": [
    "#Since the p-value is more than the LOS we do not reject the null hypothesis."
   ]
  },
  {
   "cell_type": "code",
   "execution_count": null,
   "id": "1ffce84d-0c7b-42ad-9f07-9137b2f6ac80",
   "metadata": {},
   "outputs": [],
   "source": []
  },
  {
   "cell_type": "code",
   "execution_count": null,
   "id": "68dcf581-0271-42e6-85e4-8a98fdf44db4",
   "metadata": {},
   "outputs": [],
   "source": []
  },
  {
   "cell_type": "code",
   "execution_count": 7,
   "id": "ae6c10e8-e72b-4390-adc1-dfb3e0df1840",
   "metadata": {},
   "outputs": [],
   "source": [
    "#My claim is that minimum 30% of the people in kharghar are graduates. In a sample of 200 people, 50 were found to be grads.\n",
    "#Does the sample support the claim."
   ]
  },
  {
   "cell_type": "markdown",
   "id": "282fe125-762f-49f6-9d18-2998d7b0ff7e",
   "metadata": {},
   "source": [
    "##### "
   ]
  },
  {
   "cell_type": "code",
   "execution_count": 8,
   "id": "7b4d324b-9311-499f-8790-ce470c94feed",
   "metadata": {},
   "outputs": [
    {
     "data": {
      "text/plain": [
       "0.25"
      ]
     },
     "execution_count": 8,
     "metadata": {},
     "output_type": "execute_result"
    }
   ],
   "source": [
    "50/200"
   ]
  },
  {
   "cell_type": "code",
   "execution_count": 13,
   "id": "8e367dca-931d-4a67-ac66-a96de6456e5d",
   "metadata": {},
   "outputs": [
    {
     "data": {
      "text/plain": [
       "(np.float64(-1.6329931618554518), np.float64(0.051235217429874705))"
      ]
     },
     "execution_count": 13,
     "metadata": {},
     "output_type": "execute_result"
    }
   ],
   "source": [
    "ssp.proportions_ztest(50,200,.3,alternative='smaller')"
   ]
  },
  {
   "cell_type": "code",
   "execution_count": 14,
   "id": "e943891f-2905-4ae7-862a-1dbd80dc165e",
   "metadata": {},
   "outputs": [],
   "source": [
    "# ho-    >=30\n",
    "#ha      <30"
   ]
  },
  {
   "cell_type": "code",
   "execution_count": 12,
   "id": "8f96ad6b-a191-4ce0-904b-8207d4f5e44a",
   "metadata": {},
   "outputs": [],
   "source": [
    "# p-value>0.05 so we do not reject Ho"
   ]
  },
  {
   "cell_type": "code",
   "execution_count": 15,
   "id": "83bcebfd-6f1a-4226-9c97-07e71b3d75d7",
   "metadata": {},
   "outputs": [],
   "source": [
    "#Lower bound at 95% conf level"
   ]
  },
  {
   "cell_type": "code",
   "execution_count": 22,
   "id": "e52ccc19-9ab1-4ee4-8574-e0e4316c92ec",
   "metadata": {},
   "outputs": [
    {
     "data": {
      "text/plain": [
       "np.float64(-1.6448536269514729)"
      ]
     },
     "execution_count": 22,
     "metadata": {},
     "output_type": "execute_result"
    }
   ],
   "source": [
    "norm.ppf(0.05)"
   ]
  },
  {
   "cell_type": "code",
   "execution_count": 23,
   "id": "0b537102-0183-4171-8215-9831aa0fe88f",
   "metadata": {},
   "outputs": [
    {
     "data": {
      "text/plain": [
       "np.float64(-1.6329931618554525)"
      ]
     },
     "execution_count": 23,
     "metadata": {},
     "output_type": "execute_result"
    }
   ],
   "source": [
    "norm.ppf(0.051235217429874705)"
   ]
  },
  {
   "cell_type": "code",
   "execution_count": 18,
   "id": "7762a6ec-cf77-4d1b-ad76-7914fff46a7c",
   "metadata": {},
   "outputs": [],
   "source": [
    "# sd of proportion= (proportion * 1-proportion)**0.5"
   ]
  },
  {
   "cell_type": "code",
   "execution_count": 19,
   "id": "22241344-2433-4e9a-bb4a-be5f70af1bcf",
   "metadata": {},
   "outputs": [
    {
     "data": {
      "text/plain": [
       "0.19670065078445906"
      ]
     },
     "execution_count": 19,
     "metadata": {},
     "output_type": "execute_result"
    }
   ],
   "source": [
    "# lb=0.25-(1.6448536269514729*(0.3*0.7)**0.5/200**.5)\n",
    "# lb"
   ]
  },
  {
   "cell_type": "code",
   "execution_count": 25,
   "id": "f8f45bde-56e1-4ce6-8bbe-0efb372e80ff",
   "metadata": {},
   "outputs": [
    {
     "data": {
      "text/plain": [
       "0.30329934921554097"
      ]
     },
     "execution_count": 25,
     "metadata": {},
     "output_type": "execute_result"
    }
   ],
   "source": [
    "ub=0.25+(1.6448536269514729*(0.3*0.7)**0.5/200**.5)\n",
    "ub   #Here we calculate upper bound because our error is on the left side"
   ]
  },
  {
   "cell_type": "code",
   "execution_count": null,
   "id": "34918f5f-afb9-425f-a653-991ac87d5a5c",
   "metadata": {},
   "outputs": [],
   "source": []
  },
  {
   "cell_type": "code",
   "execution_count": null,
   "id": "08eec659-113d-43a1-931a-4b022939cc13",
   "metadata": {},
   "outputs": [],
   "source": []
  },
  {
   "cell_type": "markdown",
   "id": "3e0f0d50-3d70-45df-859e-8e7a4c6dd209",
   "metadata": {},
   "source": [
    "# Two Sample proportion test"
   ]
  },
  {
   "cell_type": "code",
   "execution_count": 32,
   "id": "d036aded-558f-4607-84a7-566c02e14288",
   "metadata": {},
   "outputs": [],
   "source": [
    "# Ho: prop(mum)-prop(blor)<=.15   Ha: prop(mum)-prop(blore)>.15"
   ]
  },
  {
   "cell_type": "code",
   "execution_count": 33,
   "id": "27c8e60c-44a6-4720-873d-b50d9c054f5e",
   "metadata": {},
   "outputs": [],
   "source": [
    "# in mumbai, in a sample of 150 people, 60 were grads"
   ]
  },
  {
   "cell_type": "code",
   "execution_count": 34,
   "id": "cc57dde6-7a68-4dd7-ace1-eae00555807c",
   "metadata": {},
   "outputs": [],
   "source": [
    "\n",
    "#in blore, in a sample of 180 people , 40 were grads"
   ]
  },
  {
   "cell_type": "code",
   "execution_count": 35,
   "id": "31248a48-33e7-4e9a-b80f-adeda6ccaf2d",
   "metadata": {},
   "outputs": [
    {
     "data": {
      "text/plain": [
       "0.1777777777777778"
      ]
     },
     "execution_count": 35,
     "metadata": {},
     "output_type": "execute_result"
    }
   ],
   "source": [
    "60/150-40/180"
   ]
  },
  {
   "cell_type": "code",
   "execution_count": 36,
   "id": "defbb8e9-46b1-42c7-9c2d-aabd98dbe3be",
   "metadata": {},
   "outputs": [
    {
     "data": {
      "text/plain": [
       "(np.float64(0.5467294060851874), np.float64(0.29228232428556866))"
      ]
     },
     "execution_count": 36,
     "metadata": {},
     "output_type": "execute_result"
    }
   ],
   "source": [
    "ssp.proportions_ztest(np.array([60,40]),np.array([150,180]),.15,alternative='larger')"
   ]
  },
  {
   "cell_type": "code",
   "execution_count": 38,
   "id": "0e4950cc-d4fa-483e-b6c5-717a439fc875",
   "metadata": {},
   "outputs": [],
   "source": [
    "# p-value = 0.2922 > 0.05 , so we do not reject Ho."
   ]
  },
  {
   "cell_type": "code",
   "execution_count": null,
   "id": "7fd5fbff-1dca-47c8-b2ef-41b63b6f2ff2",
   "metadata": {},
   "outputs": [],
   "source": []
  },
  {
   "cell_type": "code",
   "execution_count": 42,
   "id": "53dc008c-a1d8-4c15-b09b-ab43fac2ebdc",
   "metadata": {},
   "outputs": [
    {
     "data": {
      "text/plain": [
       "-0.1777777777777778"
      ]
     },
     "execution_count": 42,
     "metadata": {},
     "output_type": "execute_result"
    }
   ],
   "source": [
    "40/180-60/150  #(blore-mum)"
   ]
  },
  {
   "cell_type": "code",
   "execution_count": 43,
   "id": "e848fb13-2493-43b0-b285-d8ed91b50607",
   "metadata": {},
   "outputs": [
    {
     "data": {
      "text/plain": [
       "(np.float64(-6.451406991805203), np.float64(0.9999999999445918))"
      ]
     },
     "execution_count": 43,
     "metadata": {},
     "output_type": "execute_result"
    }
   ],
   "source": [
    "ssp.proportions_ztest(np.array([40,60]),np.array([180,150]),.15,alternative='larger')"
   ]
  },
  {
   "cell_type": "code",
   "execution_count": null,
   "id": "26f481ae-1402-455b-98e4-e2780c9056af",
   "metadata": {},
   "outputs": [],
   "source": []
  },
  {
   "cell_type": "code",
   "execution_count": null,
   "id": "7736c5ec-24b1-4e01-b87f-75d2b6923876",
   "metadata": {},
   "outputs": [],
   "source": []
  },
  {
   "cell_type": "code",
   "execution_count": 44,
   "id": "95ae3ddb-9e03-4ed3-910c-b9258d2b5a48",
   "metadata": {},
   "outputs": [
    {
     "data": {
      "text/plain": [
       "0.30303030303030304"
      ]
     },
     "execution_count": 44,
     "metadata": {},
     "output_type": "execute_result"
    }
   ],
   "source": [
    "pbar=(60+40)/(150+180)\n",
    "pbar"
   ]
  },
  {
   "cell_type": "code",
   "execution_count": 45,
   "id": "84f35235-391e-4dbe-9dbd-60ef46d948e6",
   "metadata": {},
   "outputs": [],
   "source": [
    "qbar=(1-pbar)"
   ]
  },
  {
   "cell_type": "code",
   "execution_count": 46,
   "id": "304ab476-7bb8-4c32-bf33-ebfe2db990d8",
   "metadata": {},
   "outputs": [
    {
     "data": {
      "text/plain": [
       "0.696969696969697"
      ]
     },
     "execution_count": 46,
     "metadata": {},
     "output_type": "execute_result"
    }
   ],
   "source": [
    "qbar"
   ]
  },
  {
   "cell_type": "code",
   "execution_count": 48,
   "id": "7e58e8ff-4b70-4c15-83d0-33b60ecd0c8b",
   "metadata": {},
   "outputs": [],
   "source": [
    "Nr=60/150-40/180-0.15"
   ]
  },
  {
   "cell_type": "code",
   "execution_count": 49,
   "id": "9d997024-cefa-4976-98b5-8de284f464a4",
   "metadata": {},
   "outputs": [],
   "source": [
    "Dr=(pbar*qbar*(1/150+1/180))**0.5"
   ]
  },
  {
   "cell_type": "code",
   "execution_count": 50,
   "id": "45a2b807-a8b4-458b-8194-0748cfb2f4e1",
   "metadata": {},
   "outputs": [
    {
     "data": {
      "text/plain": [
       "0.5467294060851874"
      ]
     },
     "execution_count": 50,
     "metadata": {},
     "output_type": "execute_result"
    }
   ],
   "source": [
    "Nr/Dr"
   ]
  },
  {
   "cell_type": "code",
   "execution_count": 51,
   "id": "64a80211-8475-413d-8a85-14b5a09fe062",
   "metadata": {},
   "outputs": [
    {
     "data": {
      "text/plain": [
       "np.float64(0.29228232428556866)"
      ]
     },
     "execution_count": 51,
     "metadata": {},
     "output_type": "execute_result"
    }
   ],
   "source": [
    "norm.sf(Nr/Dr)"
   ]
  },
  {
   "cell_type": "code",
   "execution_count": null,
   "id": "95e8765e-4172-4810-ae7b-c95be928e447",
   "metadata": {},
   "outputs": [],
   "source": []
  },
  {
   "cell_type": "code",
   "execution_count": 52,
   "id": "a56cef6d-87fe-4661-aac8-61e404c96e68",
   "metadata": {},
   "outputs": [
    {
     "data": {
      "text/plain": [
       "np.float64(0.04456546275854304)"
      ]
     },
     "execution_count": 52,
     "metadata": {},
     "output_type": "execute_result"
    }
   ],
   "source": [
    "norm.sf(1.7)"
   ]
  },
  {
   "cell_type": "code",
   "execution_count": 54,
   "id": "a8758551-d4bb-4023-b96f-e5aa8de44b3d",
   "metadata": {},
   "outputs": [
    {
     "data": {
      "text/plain": [
       "0.09419997138926046"
      ]
     },
     "execution_count": 54,
     "metadata": {},
     "output_type": "execute_result"
    }
   ],
   "source": [
    "0.17777777777-1.645*Dr  #Lower bound"
   ]
  },
  {
   "cell_type": "code",
   "execution_count": 55,
   "id": "c05cacaf-9454-4c25-8d91-2ae939f8fca8",
   "metadata": {},
   "outputs": [
    {
     "data": {
      "text/plain": [
       "(np.float64(1.66861814737199), np.float64(0.047596540033846606))"
      ]
     },
     "execution_count": 55,
     "metadata": {},
     "output_type": "execute_result"
    }
   ],
   "source": [
    "ssp.proportions_ztest(np.array([60,40]),np.array([150,180]),0.093,alternative='larger')"
   ]
  },
  {
   "cell_type": "code",
   "execution_count": null,
   "id": "53693277-4cd1-4bc2-8b84-93644daa313a",
   "metadata": {},
   "outputs": [],
   "source": []
  },
  {
   "cell_type": "code",
   "execution_count": null,
   "id": "6b7b958b-7fd4-4201-83f2-2338a129ae11",
   "metadata": {},
   "outputs": [],
   "source": []
  },
  {
   "cell_type": "code",
   "execution_count": null,
   "id": "0800b949-d74d-4710-bf2d-f8eaf9fa60b2",
   "metadata": {},
   "outputs": [],
   "source": []
  },
  {
   "cell_type": "markdown",
   "id": "871cfaf9-9513-4957-b72c-bc0d449f314d",
   "metadata": {},
   "source": [
    "# Chi Square Test\n",
    "- for goodness of fit."
   ]
  },
  {
   "cell_type": "code",
   "execution_count": null,
   "id": "2422106d-641c-42df-b279-81ca58df9098",
   "metadata": {},
   "outputs": [],
   "source": [
    "# Expected mkt share of different colours of a car"
   ]
  },
  {
   "cell_type": "markdown",
   "id": "d8a6702b-44df-4a67-95af-785b76cc18f7",
   "metadata": {},
   "source": [
    "Ho: count follow the pattern(of expected market share) <br>\n",
    "Ha: count do not follow the pattern"
   ]
  },
  {
   "cell_type": "code",
   "execution_count": 72,
   "id": "c9460895-cd98-492d-92df-c43cc52fc0df",
   "metadata": {},
   "outputs": [],
   "source": [
    "exp_mkt_share=np.array([0.45,0.3,.2,.05])   #given"
   ]
  },
  {
   "cell_type": "code",
   "execution_count": 59,
   "id": "655de158-9a1f-4f45-bb9f-55aa3ea45cf5",
   "metadata": {},
   "outputs": [],
   "source": [
    "obs_counts=np.array([400,350,150,100])"
   ]
  },
  {
   "cell_type": "code",
   "execution_count": 69,
   "id": "7c22b6b7-ae9b-44b6-a391-080149921981",
   "metadata": {},
   "outputs": [
    {
     "data": {
      "text/plain": [
       "array([0.4 , 0.35, 0.15, 0.1 ])"
      ]
     },
     "execution_count": 69,
     "metadata": {},
     "output_type": "execute_result"
    }
   ],
   "source": [
    "obs_mkt_share=obs_counts/sum(obs_counts)\n",
    "obs_mkt_share  #obs prop share"
   ]
  },
  {
   "cell_type": "code",
   "execution_count": 70,
   "id": "3d2a4ae4-878f-4eb3-823c-17e80385bc0c",
   "metadata": {},
   "outputs": [],
   "source": [
    "#if the difference between expected and observed market share significant or not is determined by chi square test\n"
   ]
  },
  {
   "cell_type": "code",
   "execution_count": 68,
   "id": "5121d61c-5dc0-402f-a8ed-da783d3a5be9",
   "metadata": {},
   "outputs": [
    {
     "data": {
      "text/plain": [
       "array([450., 300., 200.,  50.])"
      ]
     },
     "execution_count": 68,
     "metadata": {},
     "output_type": "execute_result"
    }
   ],
   "source": [
    "exp_counts=exp_mkt_share*sum(obs_counts)\n",
    "exp_counts"
   ]
  },
  {
   "cell_type": "code",
   "execution_count": 74,
   "id": "6a6c67c5-7a4e-473c-809c-d235c5c9d8b5",
   "metadata": {},
   "outputs": [
    {
     "data": {
      "text/plain": [
       "Power_divergenceResult(statistic=np.float64(76.38888888888889), pvalue=np.float64(1.82556103097206e-16))"
      ]
     },
     "execution_count": 74,
     "metadata": {},
     "output_type": "execute_result"
    }
   ],
   "source": [
    "scipy.stats.chisquare(obs_counts,f_exp=exp_counts)   #chidist formula in excel for p-value"
   ]
  },
  {
   "cell_type": "code",
   "execution_count": 73,
   "id": "a86e3d79-9a69-41aa-870d-d1cdb639207b",
   "metadata": {},
   "outputs": [],
   "source": [
    "#we reject the null hypothesis"
   ]
  },
  {
   "cell_type": "code",
   "execution_count": null,
   "id": "5772dfa9-c377-4dba-8d66-b2f679980442",
   "metadata": {},
   "outputs": [],
   "source": []
  },
  {
   "cell_type": "code",
   "execution_count": null,
   "id": "cf1c4d17-7510-4eee-a288-1e3ffb15bb43",
   "metadata": {},
   "outputs": [],
   "source": []
  },
  {
   "cell_type": "markdown",
   "id": "09cc5484-33fb-4d8e-b9d4-cec30dad8a0f",
   "metadata": {},
   "source": [
    "test statistic value=summation of ((O-E)**2/E)"
   ]
  },
  {
   "cell_type": "code",
   "execution_count": null,
   "id": "a314ae21-3d60-423e-b6f8-2fb9fea66efd",
   "metadata": {},
   "outputs": [],
   "source": []
  },
  {
   "cell_type": "markdown",
   "id": "9cf829da-a160-47d5-9089-8fe0c516cebe",
   "metadata": {},
   "source": [
    "# Chi square test for Degree of Association"
   ]
  },
  {
   "cell_type": "code",
   "execution_count": 81,
   "id": "5eb944cf-1857-412f-b7b6-e5c3055b482c",
   "metadata": {},
   "outputs": [],
   "source": [
    "# NorthInd,Southind,Chinese"
   ]
  },
  {
   "cell_type": "code",
   "execution_count": 77,
   "id": "ee2f6897-85ee-472a-bd33-875a1f20171e",
   "metadata": {},
   "outputs": [
    {
     "data": {
      "text/plain": [
       "array([[20, 30, 10],\n",
       "       [15, 20, 30]])"
      ]
     },
     "execution_count": 77,
     "metadata": {},
     "output_type": "execute_result"
    }
   ],
   "source": [
    "males=[20,30,10]\n",
    "females=[15,20,30]\n",
    "food_data=np.array([males,females])\n",
    "food_data"
   ]
  },
  {
   "cell_type": "code",
   "execution_count": 80,
   "id": "9e87d868-5620-412e-a915-03aedc1ca7a0",
   "metadata": {},
   "outputs": [
    {
     "data": {
      "text/plain": [
       "Chi2ContingencyResult(statistic=np.float64(12.534340659340657), pvalue=np.float64(0.0018975905490087818), dof=2, expected_freq=array([[16.8, 24. , 19.2],\n",
       "       [18.2, 26. , 20.8]]))"
      ]
     },
     "execution_count": 80,
     "metadata": {},
     "output_type": "execute_result"
    }
   ],
   "source": [
    "scipy.stats.chi2_contingency(food_data)  #it results into a contingency table"
   ]
  },
  {
   "cell_type": "code",
   "execution_count": 79,
   "id": "02fef204-afd9-4daf-adb6-a4b5da3962aa",
   "metadata": {},
   "outputs": [],
   "source": [
    "# ddof=(row-1)*(column-1)"
   ]
  },
  {
   "cell_type": "code",
   "execution_count": 82,
   "id": "fd1b3f61-a21b-4a4f-9af0-eb4e4dde1dab",
   "metadata": {},
   "outputs": [],
   "source": [
    "#Ho : no association between gender and type of cuisine\n",
    "#Ho : there is an association"
   ]
  },
  {
   "cell_type": "code",
   "execution_count": 83,
   "id": "28c772da-e27f-4d06-9a29-ad06aeb5b839",
   "metadata": {},
   "outputs": [],
   "source": [
    "#Contingency table in exams # imp - very repeated question\n",
    "#fill in the missing values in the contingency table"
   ]
  },
  {
   "cell_type": "code",
   "execution_count": null,
   "id": "9668907f-ff2f-4a1f-a4f4-70ae6bfbe155",
   "metadata": {},
   "outputs": [],
   "source": []
  }
 ],
 "metadata": {
  "kernelspec": {
   "display_name": "Python 3 (ipykernel)",
   "language": "python",
   "name": "python3"
  },
  "language_info": {
   "codemirror_mode": {
    "name": "ipython",
    "version": 3
   },
   "file_extension": ".py",
   "mimetype": "text/x-python",
   "name": "python",
   "nbconvert_exporter": "python",
   "pygments_lexer": "ipython3",
   "version": "3.12.5"
  }
 },
 "nbformat": 4,
 "nbformat_minor": 5
}
