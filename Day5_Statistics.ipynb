{
 "cells": [
  {
   "cell_type": "code",
   "execution_count": 8,
   "id": "bc82bacd-80fa-4948-b42a-36a32043ac1a",
   "metadata": {},
   "outputs": [],
   "source": [
    "import numpy as np\n",
    "import pandas as pd\n",
    "from numpy import random"
   ]
  },
  {
   "cell_type": "code",
   "execution_count": null,
   "id": "5cc9820a-4cf3-4697-9f66-9957cc4bc7b6",
   "metadata": {},
   "outputs": [],
   "source": []
  },
  {
   "cell_type": "markdown",
   "id": "b1343c99-37f7-4dbb-96f5-d6ab2335e978",
   "metadata": {},
   "source": [
    "Statistics -part of mathematics"
   ]
  },
  {
   "cell_type": "code",
   "execution_count": null,
   "id": "a403bb5b-a497-4927-bba2-6001dbb9eebe",
   "metadata": {},
   "outputs": [],
   "source": []
  },
  {
   "cell_type": "markdown",
   "id": "94d7a5b5-f8e7-4fd9-83c8-3352fae81e52",
   "metadata": {},
   "source": [
    "\n",
    "**Types of statistics- (Branches of statistics)**\n",
    "1. Descriptive -> provides summarisation and visualisation\n",
    "    - frequency tables\n",
    "    - Mean,median,mode,std,variance\n",
    "    - charts\n",
    "2. Inferential -> inference, here we decide whether any predictor/s variable/s(input variable) influence the response(output) \n",
    "    - Inference/ conclusion.\n",
    "3. Predictive -> prediction of future data based on truthful historical data(reliable).\n",
    "   - Historical value -> Future value \n"
   ]
  },
  {
   "cell_type": "code",
   "execution_count": null,
   "id": "5a30369d-2b04-4ec8-89d9-8094588524a1",
   "metadata": {},
   "outputs": [],
   "source": []
  },
  {
   "cell_type": "code",
   "execution_count": 5,
   "id": "968f9e51-5986-48e6-90c1-6248f92d0e1a",
   "metadata": {},
   "outputs": [
    {
     "data": {
      "text/plain": [
       "array(['A', 'A', 'A', 'A', 'A', 'A', 'A', 'A', 'A', 'A', 'B', 'B', 'B',\n",
       "       'B', 'B', 'C', 'C', 'C', 'C', 'C', 'C', 'C', 'D', 'D', 'D'],\n",
       "      dtype='<U1')"
      ]
     },
     "execution_count": 5,
     "metadata": {},
     "output_type": "execute_result"
    }
   ],
   "source": [
    "grades=np.repeat(['A','B','C','D'],[10,5,7,3])\n",
    "grades"
   ]
  },
  {
   "cell_type": "code",
   "execution_count": 10,
   "id": "efd4c7d3-2ed6-442b-ace1-62626d35187c",
   "metadata": {},
   "outputs": [],
   "source": [
    "np.random.shuffle(grades)"
   ]
  },
  {
   "cell_type": "code",
   "execution_count": 11,
   "id": "cf0d1c99-3811-4635-bc9d-0877a0fb4853",
   "metadata": {},
   "outputs": [
    {
     "data": {
      "text/plain": [
       "array(['A', 'C', 'C', 'C', 'A', 'A', 'A', 'C', 'B', 'B', 'C', 'A', 'B',\n",
       "       'A', 'D', 'D', 'D', 'A', 'B', 'C', 'A', 'A', 'A', 'B', 'C'],\n",
       "      dtype='<U1')"
      ]
     },
     "execution_count": 11,
     "metadata": {},
     "output_type": "execute_result"
    }
   ],
   "source": [
    "grades"
   ]
  },
  {
   "cell_type": "code",
   "execution_count": 18,
   "id": "21970086-815c-4932-93bc-bda4a193e48e",
   "metadata": {},
   "outputs": [
    {
     "data": {
      "text/plain": [
       "25"
      ]
     },
     "execution_count": 18,
     "metadata": {},
     "output_type": "execute_result"
    }
   ],
   "source": [
    "len(grades)"
   ]
  },
  {
   "cell_type": "code",
   "execution_count": 20,
   "id": "6cc42d47-6d4d-4650-b868-920f3a339d32",
   "metadata": {},
   "outputs": [
    {
     "data": {
      "text/plain": [
       "array(['A', 'B', 'C', 'D'], dtype='<U1')"
      ]
     },
     "execution_count": 20,
     "metadata": {},
     "output_type": "execute_result"
    }
   ],
   "source": [
    "np.unique(grades)"
   ]
  },
  {
   "cell_type": "code",
   "execution_count": 25,
   "id": "e9fcf174-dbd7-40fc-ba57-21e0b5431b66",
   "metadata": {},
   "outputs": [
    {
     "data": {
      "text/plain": [
       "(array(['A', 'B', 'C', 'D'], dtype='<U1'), array([10,  5,  7,  3]))"
      ]
     },
     "execution_count": 25,
     "metadata": {},
     "output_type": "execute_result"
    }
   ],
   "source": [
    "grade_count=np.unique(grades,return_counts=True)\n",
    "grade_count"
   ]
  },
  {
   "cell_type": "code",
   "execution_count": 26,
   "id": "9caad2a5-42c3-4d40-b2e2-a5c039b4bcb8",
   "metadata": {},
   "outputs": [
    {
     "data": {
      "text/plain": [
       "array(['A', 'B', 'C', 'D'], dtype='<U1')"
      ]
     },
     "execution_count": 26,
     "metadata": {},
     "output_type": "execute_result"
    }
   ],
   "source": [
    "grade_count[0]"
   ]
  },
  {
   "cell_type": "code",
   "execution_count": 30,
   "id": "1884f830-894c-4701-927a-3464708c9f17",
   "metadata": {},
   "outputs": [
    {
     "data": {
      "text/plain": [
       "array([0.4 , 0.2 , 0.28, 0.12])"
      ]
     },
     "execution_count": 30,
     "metadata": {},
     "output_type": "execute_result"
    }
   ],
   "source": [
    "grade_proportion=grade_count[1]/len(grades)\n",
    "grade_proportion"
   ]
  },
  {
   "cell_type": "code",
   "execution_count": 33,
   "id": "41d79783-48b5-4e77-8daf-d2c6a5304c94",
   "metadata": {},
   "outputs": [
    {
     "data": {
      "text/plain": [
       "array([40., 20., 28., 12.])"
      ]
     },
     "execution_count": 33,
     "metadata": {},
     "output_type": "execute_result"
    }
   ],
   "source": [
    "grade_percentage=grade_proportion*100\n",
    "grade_percentage"
   ]
  },
  {
   "cell_type": "code",
   "execution_count": 34,
   "id": "dee29110-2e18-47a2-8249-e207553bc5b9",
   "metadata": {},
   "outputs": [
    {
     "data": {
      "text/plain": [
       "array([0.4 , 0.6 , 0.88, 1.  ])"
      ]
     },
     "execution_count": 34,
     "metadata": {},
     "output_type": "execute_result"
    }
   ],
   "source": [
    "grade_proportion.cumsum()"
   ]
  },
  {
   "cell_type": "code",
   "execution_count": 35,
   "id": "b2129d45-fa6e-4bf4-a0d6-f290d81eabf8",
   "metadata": {},
   "outputs": [
    {
     "data": {
      "text/plain": [
       "array([0.4 , 0.6 , 0.88, 1.  ])"
      ]
     },
     "execution_count": 35,
     "metadata": {},
     "output_type": "execute_result"
    }
   ],
   "source": [
    "np.cumsum(grade_proportion)"
   ]
  },
  {
   "cell_type": "code",
   "execution_count": 38,
   "id": "ae0e6e5c-958a-4faa-8f9c-561493041d76",
   "metadata": {},
   "outputs": [
    {
     "data": {
      "text/plain": [
       "array([0.4, 0.2, 0.3, 0.1])"
      ]
     },
     "execution_count": 38,
     "metadata": {},
     "output_type": "execute_result"
    }
   ],
   "source": [
    "np.round(grade_proportion,1)"
   ]
  },
  {
   "cell_type": "code",
   "execution_count": 41,
   "id": "e7f18dd0-7d3e-4508-89c4-d1eb08abfa05",
   "metadata": {},
   "outputs": [
    {
     "data": {
      "text/plain": [
       "[np.float64(0.4), np.float64(0.28), np.float64(0.2), np.float64(0.12)]"
      ]
     },
     "execution_count": 41,
     "metadata": {},
     "output_type": "execute_result"
    }
   ],
   "source": [
    "# np.sort(grade_proportion,reverse=True)\n",
    "sorted(grade_proportion,reverse=True)"
   ]
  },
  {
   "cell_type": "code",
   "execution_count": 55,
   "id": "a969c388-91d9-4382-b9c0-12e6b6dacc18",
   "metadata": {},
   "outputs": [
    {
     "data": {
      "text/plain": [
       "array([-0.4 , -0.28, -0.2 , -0.12])"
      ]
     },
     "execution_count": 55,
     "metadata": {},
     "output_type": "execute_result"
    }
   ],
   "source": [
    "np.sort(-grade_proportion)\n"
   ]
  },
  {
   "cell_type": "code",
   "execution_count": 47,
   "id": "f1663c67-b8d1-49e0-9754-71cf00c4a2b9",
   "metadata": {},
   "outputs": [
    {
     "data": {
      "text/plain": [
       "array([0.12, 0.28, 0.2 , 0.4 ])"
      ]
     },
     "execution_count": 47,
     "metadata": {},
     "output_type": "execute_result"
    }
   ],
   "source": [
    "np.flip(grade_proportion)"
   ]
  },
  {
   "cell_type": "code",
   "execution_count": null,
   "id": "6ffe90c4-8968-4f87-b8c7-38042074d9a0",
   "metadata": {},
   "outputs": [],
   "source": []
  },
  {
   "cell_type": "code",
   "execution_count": 48,
   "id": "75c9f203-15dd-4179-9e6c-105f5457b566",
   "metadata": {},
   "outputs": [
    {
     "data": {
      "text/plain": [
       "(array(['A', 'B', 'C', 'D'], dtype='<U1'), array([10,  5,  7,  3]))"
      ]
     },
     "execution_count": 48,
     "metadata": {},
     "output_type": "execute_result"
    }
   ],
   "source": [
    "grade_count"
   ]
  },
  {
   "cell_type": "code",
   "execution_count": 50,
   "id": "70d88d1d-3b78-46e0-b375-c9d5fb38581c",
   "metadata": {},
   "outputs": [
    {
     "data": {
      "text/plain": [
       "array([3, 1, 2, 0])"
      ]
     },
     "execution_count": 50,
     "metadata": {},
     "output_type": "execute_result"
    }
   ],
   "source": [
    "np.argsort(grade_count[1])   #gives index value of values in the array from the index of the lowest value to the index of the highest value."
   ]
  },
  {
   "cell_type": "code",
   "execution_count": 57,
   "id": "cab5722c-e95f-4ce9-a0ea-7454fbc48f78",
   "metadata": {},
   "outputs": [
    {
     "data": {
      "text/plain": [
       "array([0, 2, 1, 3])"
      ]
     },
     "execution_count": 57,
     "metadata": {},
     "output_type": "execute_result"
    }
   ],
   "source": [
    "np.argsort(-grade_count[1])  #same as above but reverse"
   ]
  },
  {
   "cell_type": "code",
   "execution_count": null,
   "id": "c8149945-d3fc-4f01-ae7d-eb9e8fff5392",
   "metadata": {},
   "outputs": [],
   "source": []
  },
  {
   "cell_type": "code",
   "execution_count": null,
   "id": "3e80f5d7-6967-4732-bb89-5e745447a995",
   "metadata": {},
   "outputs": [],
   "source": []
  },
  {
   "cell_type": "code",
   "execution_count": 58,
   "id": "330aeb14-3ad2-4c92-82ac-660c00b53df9",
   "metadata": {},
   "outputs": [],
   "source": [
    "# 1. Measures of central tendency -> Mean,median,mode\n",
    "# 2. Measure of dispersion\n",
    "# 3."
   ]
  },
  {
   "cell_type": "code",
   "execution_count": null,
   "id": "ee979a7d-46e8-4c1b-8821-831260082829",
   "metadata": {},
   "outputs": [],
   "source": []
  },
  {
   "cell_type": "markdown",
   "id": "bc11c9fa-7377-4b94-b31f-b1fdd317e4d6",
   "metadata": {},
   "source": [
    "**Mean should be calculated only when-**\n",
    "1. Data is symmetric\n",
    "2. Data does not have any extreme values, especially only on one side."
   ]
  },
  {
   "cell_type": "code",
   "execution_count": null,
   "id": "83cac1d6-2562-4042-b077-d3f97abe2050",
   "metadata": {},
   "outputs": [],
   "source": []
  },
  {
   "cell_type": "code",
   "execution_count": 60,
   "id": "48b19964-364c-4876-8d7e-2f4e85f01002",
   "metadata": {},
   "outputs": [],
   "source": [
    "# example-\n",
    "sal=np.array([6,7,6,7,8,7,6,7,8,8,8,6,7,6,7])"
   ]
  },
  {
   "cell_type": "code",
   "execution_count": 65,
   "id": "17a247a3-84fd-44b7-9c68-fb0e418f26bb",
   "metadata": {},
   "outputs": [
    {
     "data": {
      "text/plain": [
       "np.float64(6.933333333333334)"
      ]
     },
     "execution_count": 65,
     "metadata": {},
     "output_type": "execute_result"
    }
   ],
   "source": [
    "np.mean(sal)"
   ]
  },
  {
   "cell_type": "code",
   "execution_count": 64,
   "id": "bb8e54ea-823d-46c3-9ccd-fd972474613e",
   "metadata": {},
   "outputs": [
    {
     "data": {
      "text/plain": [
       "np.float64(7.0)"
      ]
     },
     "execution_count": 64,
     "metadata": {},
     "output_type": "execute_result"
    }
   ],
   "source": [
    "np.median(sal)"
   ]
  },
  {
   "cell_type": "code",
   "execution_count": 66,
   "id": "3ce3c2e0-e210-42ce-bb6f-b89c8305a149",
   "metadata": {},
   "outputs": [],
   "source": [
    "# But if salary has some students who got placed abroad having very high packages-60,70,80,65 then mean will give a bad\n",
    "# value and median will be more helpful in such a case."
   ]
  },
  {
   "cell_type": "code",
   "execution_count": 72,
   "id": "1ac5f3a0-43c5-4285-a7e1-92201c302e75",
   "metadata": {},
   "outputs": [],
   "source": [
    "# As in this example-\n",
    "new_sal=np.array([6,7,6,7,8,7,6,7,8,8,8,6,7,6,7,65,70,80,65])"
   ]
  },
  {
   "cell_type": "code",
   "execution_count": 73,
   "id": "1087b66b-25b7-4e14-a5e5-72fc987d8e89",
   "metadata": {},
   "outputs": [
    {
     "data": {
      "text/plain": [
       "np.float64(20.210526315789473)"
      ]
     },
     "execution_count": 73,
     "metadata": {},
     "output_type": "execute_result"
    }
   ],
   "source": [
    "np.mean(new_sal)"
   ]
  },
  {
   "cell_type": "code",
   "execution_count": 74,
   "id": "359d67a5-e8c9-437d-a925-0ab9251c839b",
   "metadata": {},
   "outputs": [
    {
     "data": {
      "text/plain": [
       "np.float64(7.0)"
      ]
     },
     "execution_count": 74,
     "metadata": {},
     "output_type": "execute_result"
    }
   ],
   "source": [
    "np.median(new_sal)"
   ]
  },
  {
   "cell_type": "code",
   "execution_count": null,
   "id": "f504b6d3-4cc5-4927-b1fb-9188a42c754a",
   "metadata": {},
   "outputs": [],
   "source": []
  },
  {
   "cell_type": "code",
   "execution_count": null,
   "id": "8cfa84e3-1cf3-4fd5-abfc-312a2b50aead",
   "metadata": {},
   "outputs": [],
   "source": []
  }
 ],
 "metadata": {
  "kernelspec": {
   "display_name": "Python 3 (ipykernel)",
   "language": "python",
   "name": "python3"
  },
  "language_info": {
   "codemirror_mode": {
    "name": "ipython",
    "version": 3
   },
   "file_extension": ".py",
   "mimetype": "text/x-python",
   "name": "python",
   "nbconvert_exporter": "python",
   "pygments_lexer": "ipython3",
   "version": "3.12.7"
  }
 },
 "nbformat": 4,
 "nbformat_minor": 5
}
