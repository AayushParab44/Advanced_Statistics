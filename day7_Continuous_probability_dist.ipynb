{
 "cells": [
  {
   "cell_type": "code",
   "execution_count": 81,
   "id": "4ba9713c-d182-4807-aa98-20b41474499a",
   "metadata": {},
   "outputs": [],
   "source": [
    "import numpy as np\n",
    "import matplotlib.pyplot as plt\n",
    "#import scipy\n",
    "\n",
    "from scipy import stats\n",
    "from scipy.stats import binom,poisson,norm,t"
   ]
  },
  {
   "cell_type": "code",
   "execution_count": null,
   "id": "38aed650-4a9f-47d5-9f5d-3a8ccd33552b",
   "metadata": {},
   "outputs": [],
   "source": []
  },
  {
   "cell_type": "markdown",
   "id": "c347390b-4327-4eb6-88a3-0cf2850377fe",
   "metadata": {},
   "source": [
    "# Normal Distribution\n",
    "- Should be used when the population standard deviation is known and sample size is more than 30.\n",
    "\n",
    "\n",
    "- 't' - Should be used when sample size is less than 30"
   ]
  },
  {
   "cell_type": "code",
   "execution_count": 82,
   "id": "c991657b-b4b0-44ce-955f-fcff816af909",
   "metadata": {},
   "outputs": [
    {
     "name": "stdout",
     "output_type": "stream",
     "text": [
      "0.2524925375469229\n",
      "-0.6666666666666666\n",
      "0.2524925375469229\n"
     ]
    }
   ],
   "source": [
    "# x=190\n",
    "# mean=200\n",
    "# sd=15\n",
    "\n",
    "# area(cdf) under the curve =?\n",
    "\n",
    "A=norm.cdf(190,200,15)\n",
    "print(A)\n",
    "\n",
    "z=(190-200)/15\n",
    "print(z)\n",
    "\n",
    "print(norm.cdf(z))"
   ]
  },
  {
   "cell_type": "code",
   "execution_count": 83,
   "id": "8ba760f0-db0d-4273-a8af-4078f7ca9a69",
   "metadata": {},
   "outputs": [
    {
     "data": {
      "text/plain": [
       "np.float64(0.25650002152468143)"
      ]
     },
     "execution_count": 83,
     "metadata": {},
     "output_type": "execute_result"
    }
   ],
   "source": [
    "t.cdf(z,19)  #sample size = 20"
   ]
  },
  {
   "cell_type": "code",
   "execution_count": 84,
   "id": "294813eb-d296-429d-a15c-6deba2ee370b",
   "metadata": {},
   "outputs": [
    {
     "data": {
      "text/plain": [
       "np.float64(0.25253100533578865)"
      ]
     },
     "execution_count": 84,
     "metadata": {},
     "output_type": "execute_result"
    }
   ],
   "source": [
    "t.cdf(z,1999)    #sample size 2000 (for t take n-1)"
   ]
  },
  {
   "cell_type": "code",
   "execution_count": null,
   "id": "a3367caa-3ca7-429b-9bb7-a1344c27e284",
   "metadata": {},
   "outputs": [],
   "source": []
  },
  {
   "cell_type": "markdown",
   "id": "fd48bb05-bc81-4381-9688-4f684eebc636",
   "metadata": {},
   "source": [
    "# z - is the projected value of a value on our normal curve to a standard normal curve"
   ]
  },
  {
   "cell_type": "code",
   "execution_count": null,
   "id": "44a20cf9-6e67-42c4-b752-d12e89b130b4",
   "metadata": {},
   "outputs": [],
   "source": []
  },
  {
   "cell_type": "code",
   "execution_count": null,
   "id": "72e972bf-947a-478b-9925-bf9e087c1224",
   "metadata": {},
   "outputs": [],
   "source": []
  },
  {
   "cell_type": "markdown",
   "id": "08ab26c6-268c-4a1f-bf15-fedf186aecbe",
   "metadata": {},
   "source": [
    "We need 2 parameters to define a normal distribution which are mean and standard deviation"
   ]
  },
  {
   "cell_type": "code",
   "execution_count": 85,
   "id": "07d856b0-3f27-4d62-a69d-419152da38ce",
   "metadata": {},
   "outputs": [],
   "source": [
    "# Average time of travelling from pune to mumbai is 200 minutes with stddev value of 15 min. \n",
    "# What is the probability that today I will take less than 180 mins."
   ]
  },
  {
   "cell_type": "code",
   "execution_count": 86,
   "id": "5873c85e-ff28-4019-ae8b-e81ace7b5346",
   "metadata": {},
   "outputs": [
    {
     "data": {
      "text/plain": [
       "np.float64(0.09121121972586788)"
      ]
     },
     "execution_count": 86,
     "metadata": {},
     "output_type": "execute_result"
    }
   ],
   "source": [
    "norm.cdf(180,200,15)    "
   ]
  },
  {
   "cell_type": "code",
   "execution_count": 87,
   "id": "cfc10fec-371a-429e-adc4-8a262fb91570",
   "metadata": {},
   "outputs": [],
   "source": [
    "z=(180-200)/15   #(x-mean)/sd"
   ]
  },
  {
   "cell_type": "code",
   "execution_count": 88,
   "id": "f57aa4de-9291-4a42-ae15-e2dbc4da8395",
   "metadata": {},
   "outputs": [
    {
     "data": {
      "text/plain": [
       "np.float64(0.09121121972586788)"
      ]
     },
     "execution_count": 88,
     "metadata": {},
     "output_type": "execute_result"
    }
   ],
   "source": [
    "norm.cdf(z)"
   ]
  },
  {
   "cell_type": "code",
   "execution_count": null,
   "id": "a4e39fa2-0063-4a50-a97d-a758b0b8f43e",
   "metadata": {},
   "outputs": [],
   "source": []
  },
  {
   "cell_type": "code",
   "execution_count": null,
   "id": "a23596fb-abca-45a1-8dc4-51d44a241cd0",
   "metadata": {},
   "outputs": [],
   "source": []
  },
  {
   "cell_type": "code",
   "execution_count": null,
   "id": "90550cc3-564a-4540-89ac-e35c9600cae2",
   "metadata": {},
   "outputs": [],
   "source": []
  },
  {
   "cell_type": "code",
   "execution_count": 89,
   "id": "f6a13c33-409b-4cee-ad10-b8cc5944738b",
   "metadata": {},
   "outputs": [
    {
     "data": {
      "text/plain": [
       "np.float64(0.4592104995256672)"
      ]
     },
     "execution_count": 89,
     "metadata": {},
     "output_type": "execute_result"
    }
   ],
   "source": [
    "# avg time for stats course completion = 150 hours(mean)\n",
    "#std dev for course completeion=12hours(stddev)\n",
    "\n",
    "# what is the prob that I complete our course between 140 to 155 hours\n",
    "\n",
    "norm.cdf(155,150,12) - norm.cdf(140,150,12)"
   ]
  },
  {
   "cell_type": "code",
   "execution_count": null,
   "id": "7347e471-52ca-4023-906b-321e4f4d710d",
   "metadata": {},
   "outputs": [],
   "source": []
  },
  {
   "cell_type": "code",
   "execution_count": null,
   "id": "6d895bf6-74ab-40c6-8a96-0816a9742424",
   "metadata": {},
   "outputs": [],
   "source": []
  },
  {
   "cell_type": "code",
   "execution_count": 90,
   "id": "011609c8-9fa4-4814-8249-2e002dfa98f7",
   "metadata": {},
   "outputs": [
    {
     "data": {
      "text/plain": [
       "np.float64(0.9044192954543706)"
      ]
     },
     "execution_count": 90,
     "metadata": {},
     "output_type": "execute_result"
    }
   ],
   "source": [
    "norm.cdf(45000,30000,9000)-norm.cdf(15000,30000,9000) #1"
   ]
  },
  {
   "cell_type": "code",
   "execution_count": 91,
   "id": "7bb37c04-8c1d-4523-8ad8-bf9caf018ec7",
   "metadata": {},
   "outputs": [
    {
     "data": {
      "text/plain": [
       "np.float64(0.013134145691021115)"
      ]
     },
     "execution_count": 91,
     "metadata": {},
     "output_type": "execute_result"
    }
   ],
   "source": [
    "1-norm.cdf(50000,30000,9000)  #2"
   ]
  },
  {
   "cell_type": "code",
   "execution_count": 92,
   "id": "26978d1e-0aba-4e0e-a3cc-9ffeab7e61f6",
   "metadata": {},
   "outputs": [
    {
     "data": {
      "text/plain": [
       "np.float64(0.13052366111626124)"
      ]
     },
     "execution_count": 92,
     "metadata": {},
     "output_type": "execute_result"
    }
   ],
   "source": [
    "norm.cdf(20000,30000,9000)-norm.cdf(5000,30000,9000)  #3"
   ]
  },
  {
   "cell_type": "code",
   "execution_count": null,
   "id": "405d95f1-f0c2-42e4-948d-2bdd3a0a0b93",
   "metadata": {},
   "outputs": [],
   "source": []
  },
  {
   "cell_type": "code",
   "execution_count": 93,
   "id": "68ae51ac-2bf6-4137-8cc7-4d2347ff17ca",
   "metadata": {},
   "outputs": [],
   "source": [
    "# z=(x-mean)/sd\n",
    "\n",
    "#sd=(x-mean)/z"
   ]
  },
  {
   "cell_type": "code",
   "execution_count": 94,
   "id": "3eec7e75-6075-4bbe-b4a9-63738bed1a50",
   "metadata": {},
   "outputs": [
    {
     "data": {
      "text/plain": [
       "np.float64(-1.3297519868799643)"
      ]
     },
     "execution_count": 94,
     "metadata": {},
     "output_type": "execute_result"
    }
   ],
   "source": [
    "norm.ppf((1-0.9082))   #gives the area below the curve till 7000  #X"
   ]
  },
  {
   "cell_type": "code",
   "execution_count": 95,
   "id": "108a7f9b-1060-4c67-b81b-00105f8a87d5",
   "metadata": {},
   "outputs": [
    {
     "data": {
      "text/plain": [
       "np.float64(17296.458457614768)"
      ]
     },
     "execution_count": 95,
     "metadata": {},
     "output_type": "execute_result"
    }
   ],
   "source": [
    "(7000-30000)/norm.ppf((1-0.9082))   #z=(x-mean)/sd"
   ]
  },
  {
   "cell_type": "code",
   "execution_count": 96,
   "id": "0de6602d-34b9-4a87-bbbb-df8364e5afd5",
   "metadata": {},
   "outputs": [],
   "source": [
    "# norm.ppf(0.00021)"
   ]
  },
  {
   "cell_type": "code",
   "execution_count": 97,
   "id": "fef56693-af64-44c9-b7ff-ca3da71cb8d0",
   "metadata": {},
   "outputs": [
    {
     "data": {
      "text/plain": [
       "np.float64(0.09179999999999994)"
      ]
     },
     "execution_count": 97,
     "metadata": {},
     "output_type": "execute_result"
    }
   ],
   "source": [
    "norm.cdf(-1.3297519868799643)"
   ]
  },
  {
   "cell_type": "code",
   "execution_count": null,
   "id": "a8132010-1aad-4e3f-8a54-dbd8dc4b7e92",
   "metadata": {},
   "outputs": [],
   "source": []
  },
  {
   "cell_type": "code",
   "execution_count": 98,
   "id": "f823e62c-17fa-43ea-813f-4195929ae2e3",
   "metadata": {},
   "outputs": [
    {
     "data": {
      "text/plain": [
       "np.float64(25441.47045289641)"
      ]
     },
     "execution_count": 98,
     "metadata": {},
     "output_type": "execute_result"
    }
   ],
   "source": [
    "# sd=9000\n",
    "# mean=?\n",
    "z=norm.ppf(0.7995)  # .7995 is the area under the curve for values less than 33K\n",
    "# z is the value for a standard normal curve\n",
    "\n",
    "#z=(x-mean)/sd\n",
    "# =>mean=x-(z*sd)\n",
    "33000-(z*9000)\n",
    "\n"
   ]
  },
  {
   "cell_type": "code",
   "execution_count": null,
   "id": "b14489ca-92e1-41de-a0b8-7ae87fa3e53e",
   "metadata": {},
   "outputs": [],
   "source": []
  },
  {
   "cell_type": "code",
   "execution_count": null,
   "id": "a82dcdae-6cba-4f9f-af9f-c29a82795975",
   "metadata": {},
   "outputs": [],
   "source": []
  },
  {
   "cell_type": "code",
   "execution_count": null,
   "id": "7007cadc-c7ed-411c-b001-81b476cafa82",
   "metadata": {},
   "outputs": [],
   "source": []
  },
  {
   "cell_type": "code",
   "execution_count": null,
   "id": "5dad62df-bae8-4487-b20c-b154ad66f7df",
   "metadata": {},
   "outputs": [],
   "source": []
  },
  {
   "cell_type": "code",
   "execution_count": null,
   "id": "0db29c09-f534-4144-85b4-d8eaf6acd46b",
   "metadata": {},
   "outputs": [],
   "source": []
  },
  {
   "cell_type": "code",
   "execution_count": null,
   "id": "bdd09285-129d-49da-bd5d-908ffe56f755",
   "metadata": {},
   "outputs": [],
   "source": []
  },
  {
   "cell_type": "code",
   "execution_count": 99,
   "id": "34f34545-db1c-4565-8dc6-9a88d519ad3c",
   "metadata": {},
   "outputs": [
    {
     "data": {
      "text/plain": [
       "array([207.30746608, 207.44409596, 197.98763669, ..., 175.50479262,\n",
       "       196.7830152 , 194.62284115])"
      ]
     },
     "execution_count": 99,
     "metadata": {},
     "output_type": "execute_result"
    }
   ],
   "source": [
    "x1=np.random.normal(200,20,3000)\n",
    "x1"
   ]
  },
  {
   "cell_type": "code",
   "execution_count": 100,
   "id": "c8e1fa97-4be2-47ff-8cad-134d65f59b7c",
   "metadata": {},
   "outputs": [
    {
     "data": {
      "text/plain": [
       "(array([  5.,  28., 136., 392., 683., 782., 586., 279.,  89.,  20.]),\n",
       " array([129.04526022, 142.38437257, 155.72348493, 169.06259729,\n",
       "        182.40170965, 195.74082201, 209.07993437, 222.41904672,\n",
       "        235.75815908, 249.09727144, 262.4363838 ]),\n",
       " <BarContainer object of 10 artists>)"
      ]
     },
     "execution_count": 100,
     "metadata": {},
     "output_type": "execute_result"
    },
    {
     "data": {
      "image/png": "[encoded data removed]",
      "text/plain": [
       "<Figure size 640x480 with 1 Axes>"
      ]
     },
     "metadata": {},
     "output_type": "display_data"
    }
   ],
   "source": [
    "plt.hist(x1)"
   ]
  },
  {
   "cell_type": "code",
   "execution_count": 101,
   "id": "04d5d223-84a5-4c7a-a8c0-5b97f918d34a",
   "metadata": {},
   "outputs": [
    {
     "data": {
      "text/plain": [
       "np.float64(19.818003811514433)"
      ]
     },
     "execution_count": 101,
     "metadata": {},
     "output_type": "execute_result"
    }
   ],
   "source": [
    "std_dev=np.std(x1)\n",
    "std_dev"
   ]
  },
  {
   "cell_type": "code",
   "execution_count": 102,
   "id": "2134b871-5c7b-4be2-8c9d-32eb3d87ddaa",
   "metadata": {},
   "outputs": [
    {
     "data": {
      "text/plain": [
       "np.float64(200.0857830216551)"
      ]
     },
     "execution_count": 102,
     "metadata": {},
     "output_type": "execute_result"
    }
   ],
   "source": [
    "mn=np.mean(x1)\n",
    "mn"
   ]
  },
  {
   "cell_type": "code",
   "execution_count": 103,
   "id": "33745945-6289-4387-83f4-9696d45d77b1",
   "metadata": {},
   "outputs": [],
   "source": [
    "left_side=mn-std_dev\n",
    "right_side=mn+std_dev"
   ]
  },
  {
   "cell_type": "code",
   "execution_count": 104,
   "id": "e4f60b63-616d-4cca-8e25-828ce8ad5e9c",
   "metadata": {},
   "outputs": [
    {
     "data": {
      "text/plain": [
       "2043"
      ]
     },
     "execution_count": 104,
     "metadata": {},
     "output_type": "execute_result"
    }
   ],
   "source": [
    "total_nums=len(x1[np.where((x1>left_side) & (x1<right_side))[0]])\n",
    "total_nums"
   ]
  },
  {
   "cell_type": "code",
   "execution_count": 105,
   "id": "e6f16c1f-cb77-4e75-80b1-5cb24d8f59e3",
   "metadata": {},
   "outputs": [
    {
     "data": {
      "text/plain": [
       "0.681"
      ]
     },
     "execution_count": 105,
     "metadata": {},
     "output_type": "execute_result"
    }
   ],
   "source": [
    "total_nums/len(x1)   #the number of values between one std dev on left and one st dev on right"
   ]
  },
  {
   "cell_type": "code",
   "execution_count": null,
   "id": "35b04074-fa93-49d6-990d-c5eea7528a96",
   "metadata": {},
   "outputs": [],
   "source": []
  },
  {
   "cell_type": "code",
   "execution_count": 106,
   "id": "9f2c974c-63f8-4e84-884f-9c7521f7c5f7",
   "metadata": {},
   "outputs": [],
   "source": [
    "# std==11.35\n",
    "# mean=60\n"
   ]
  },
  {
   "cell_type": "code",
   "execution_count": 107,
   "id": "49bf94b3-5832-4a13-9791-af8e3ced29a2",
   "metadata": {},
   "outputs": [
    {
     "data": {
      "text/plain": [
       "np.float64(0.013809954272888574)"
      ]
     },
     "execution_count": 107,
     "metadata": {},
     "output_type": "execute_result"
    }
   ],
   "source": [
    "norm.sf(85,60,11.35)"
   ]
  },
  {
   "cell_type": "code",
   "execution_count": 108,
   "id": "ab68a211-01ce-4096-af1d-eecc2d171865",
   "metadata": {},
   "outputs": [
    {
     "data": {
      "text/plain": [
       "np.float64(0.7177035479448073)"
      ]
     },
     "execution_count": 108,
     "metadata": {},
     "output_type": "execute_result"
    }
   ],
   "source": [
    "norm.cdf(70,60,11.35)-norm.cdf(45,60,11.35)"
   ]
  },
  {
   "cell_type": "code",
   "execution_count": 109,
   "id": "362a4158-a5ef-4393-a22c-c2636cbae5fb",
   "metadata": {},
   "outputs": [
    {
     "data": {
      "text/plain": [
       "np.float64(0.23662409893928538)"
      ]
     },
     "execution_count": 109,
     "metadata": {},
     "output_type": "execute_result"
    }
   ],
   "source": [
    "norm.cdf(75,60,11.35)-norm.cdf(65,60,11.35)"
   ]
  },
  {
   "cell_type": "code",
   "execution_count": 110,
   "id": "63be256f-9274-490e-b2dd-0afe19ab22ec",
   "metadata": {},
   "outputs": [
    {
     "data": {
      "text/plain": [
       "np.float64(0.03902497378778518)"
      ]
     },
     "execution_count": 110,
     "metadata": {},
     "output_type": "execute_result"
    }
   ],
   "source": [
    "norm.cdf(40,60,11.35)"
   ]
  },
  {
   "cell_type": "code",
   "execution_count": null,
   "id": "d0b8b030-2cbc-42f7-b1d6-50e7a9cc30d7",
   "metadata": {},
   "outputs": [],
   "source": []
  },
  {
   "cell_type": "code",
   "execution_count": null,
   "id": "6a73d01a-d375-4189-a891-5761078ab60d",
   "metadata": {},
   "outputs": [],
   "source": []
  },
  {
   "cell_type": "code",
   "execution_count": 111,
   "id": "9e3be9cf-25ab-4071-857a-f70335e7928c",
   "metadata": {},
   "outputs": [],
   "source": [
    "# z=(x-mean)/sd\n",
    "\n",
    "#sd=(x-mean)/z"
   ]
  },
  {
   "cell_type": "code",
   "execution_count": null,
   "id": "359ee41e-21fa-4f4b-81a2-9f60ed607bab",
   "metadata": {},
   "outputs": [],
   "source": []
  },
  {
   "cell_type": "code",
   "execution_count": 112,
   "id": "8093889c-2212-488d-8ee3-a3f733fee572",
   "metadata": {},
   "outputs": [
    {
     "data": {
      "text/plain": [
       "np.float64(4102.91390411878)"
      ]
     },
     "execution_count": 112,
     "metadata": {},
     "output_type": "execute_result"
    }
   ],
   "source": [
    "# Q.\n",
    "# Normal distribution\n",
    "# mean=5000\n",
    "# sd=700\n",
    "# At most 10% should be needed to be changed\n",
    "# implies 10% will have very less hours which will be needed to change\n",
    "\n",
    "z=norm.ppf(0.1)\n",
    "z\n",
    "# x=(sd*z)+mean\n",
    "\n",
    "(700*z)+5000   #implies 4102 bulbs"
   ]
  },
  {
   "cell_type": "code",
   "execution_count": null,
   "id": "5d844fac-4b32-4f2c-a97e-508a0ffdadd9",
   "metadata": {},
   "outputs": [],
   "source": []
  },
  {
   "cell_type": "code",
   "execution_count": null,
   "id": "2fdae948-9641-41cd-801e-4160e09a343e",
   "metadata": {},
   "outputs": [],
   "source": []
  },
  {
   "cell_type": "code",
   "execution_count": 113,
   "id": "4cfaed7b-0950-4b31-9bd9-61f3bb1bd3a8",
   "metadata": {},
   "outputs": [
    {
     "data": {
      "text/plain": [
       "np.float64(4077.5148464287954)"
      ]
     },
     "execution_count": 113,
     "metadata": {},
     "output_type": "execute_result"
    }
   ],
   "source": [
    "# Q.\n",
    "# Normal distribution\n",
    "# mean=5000\n",
    "# sd=700\n",
    "# At most 10% should be needed to be changed\n",
    "# implies 10% will have very less hours which will be needed to change\n",
    "\n",
    "z=t.ppf(0.1,24)\n",
    "z\n",
    "# x=(sd*z)+mean\n",
    "\n",
    "(700*z)+5000   #implies 4077 bulbs"
   ]
  },
  {
   "cell_type": "code",
   "execution_count": 114,
   "id": "26aaceff-acec-45c9-9870-f1fc20187a14",
   "metadata": {},
   "outputs": [
    {
     "data": {
      "text/plain": [
       "np.float64(0.10000000000000003)"
      ]
     },
     "execution_count": 114,
     "metadata": {},
     "output_type": "execute_result"
    }
   ],
   "source": [
    "t.cdf(z,24)"
   ]
  },
  {
   "cell_type": "code",
   "execution_count": null,
   "id": "82cb58c9-cf52-4ca9-b35c-d93b7fad4093",
   "metadata": {},
   "outputs": [],
   "source": []
  },
  {
   "cell_type": "code",
   "execution_count": null,
   "id": "59f9a6cf-1d05-4dac-8749-94fc305c6a20",
   "metadata": {},
   "outputs": [],
   "source": []
  },
  {
   "cell_type": "code",
   "execution_count": 115,
   "id": "1a6f013c-bdf8-439e-b980-94ed91854ba3",
   "metadata": {},
   "outputs": [
    {
     "data": {
      "text/plain": [
       "np.float64(0.2524925375469229)"
      ]
     },
     "execution_count": 115,
     "metadata": {},
     "output_type": "execute_result"
    }
   ],
   "source": [
    "#normal- \n",
    "norm.cdf(13,15,3)"
   ]
  },
  {
   "cell_type": "code",
   "execution_count": null,
   "id": "28aa5ed8-d50c-4303-b122-bcbf1249f0ba",
   "metadata": {},
   "outputs": [],
   "source": []
  },
  {
   "cell_type": "code",
   "execution_count": null,
   "id": "9f9b52e8-7e2a-4404-b7fa-eb93cec5dd01",
   "metadata": {},
   "outputs": [],
   "source": []
  },
  {
   "cell_type": "code",
   "execution_count": null,
   "id": "612a16fa-f97d-44d4-b9e1-bff3530ff982",
   "metadata": {},
   "outputs": [],
   "source": []
  },
  {
   "cell_type": "code",
   "execution_count": null,
   "id": "cbd677f5-6cd9-4e6f-b683-808f3301ce21",
   "metadata": {},
   "outputs": [],
   "source": []
  },
  {
   "cell_type": "code",
   "execution_count": null,
   "id": "e39ef792-e2fc-4daa-a413-2de451195e49",
   "metadata": {},
   "outputs": [],
   "source": []
  }
 ],
 "metadata": {
  "kernelspec": {
   "display_name": "Python 3 (ipykernel)",
   "language": "python",
   "name": "python3"
  },
  "language_info": {
   "codemirror_mode": {
    "name": "ipython",
    "version": 3
   },
   "file_extension": ".py",
   "mimetype": "text/x-python",
   "name": "python",
   "nbconvert_exporter": "python",
   "pygments_lexer": "ipython3",
   "version": "3.12.7"
  }
 },
 "nbformat": 4,
 "nbformat_minor": 5
}
