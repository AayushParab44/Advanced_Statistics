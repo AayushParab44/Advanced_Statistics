{
 "cells": [
  {
   "cell_type": "code",
   "execution_count": 2,
   "id": "4ba9713c-d182-4807-aa98-20b41474499a",
   "metadata": {},
   "outputs": [],
   "source": [
    "import numpy as np\n",
    "import matplotlib.pyplot as plt\n",
    "#import scipy\n",
    "\n",
    "from scipy import stats\n",
    "from scipy.stats import norm,t"
   ]
  },
  {
   "cell_type": "code",
   "execution_count": null,
   "id": "38aed650-4a9f-47d5-9f5d-3a8ccd33552b",
   "metadata": {},
   "outputs": [],
   "source": []
  },
  {
   "cell_type": "markdown",
   "id": "c347390b-4327-4eb6-88a3-0cf2850377fe",
   "metadata": {},
   "source": [
    "# Normal Distribution"
   ]
  },
  {
   "cell_type": "code",
   "execution_count": null,
   "id": "c991657b-b4b0-44ce-955f-fcff816af909",
   "metadata": {},
   "outputs": [],
   "source": []
  },
  {
   "cell_type": "markdown",
   "id": "08ab26c6-268c-4a1f-bf15-fedf186aecbe",
   "metadata": {},
   "source": [
    "We need 2 parameters to define a normal distribution which are mean and standard deviation"
   ]
  },
  {
   "cell_type": "code",
   "execution_count": 3,
   "id": "07d856b0-3f27-4d62-a69d-419152da38ce",
   "metadata": {},
   "outputs": [],
   "source": [
    "# Average time of travelling from pune to mumbai is 200 minutes with stddev value of 15 min. \n",
    "# What is the probability that today I will take less than 180 mins."
   ]
  },
  {
   "cell_type": "code",
   "execution_count": 4,
   "id": "5873c85e-ff28-4019-ae8b-e81ace7b5346",
   "metadata": {},
   "outputs": [
    {
     "data": {
      "text/plain": [
       "np.float64(0.09121121972586788)"
      ]
     },
     "execution_count": 4,
     "metadata": {},
     "output_type": "execute_result"
    }
   ],
   "source": [
    "norm.cdf(180,200,15)"
   ]
  },
  {
   "cell_type": "code",
   "execution_count": 5,
   "id": "cfc10fec-371a-429e-adc4-8a262fb91570",
   "metadata": {},
   "outputs": [],
   "source": [
    "z=(180-200)/15"
   ]
  },
  {
   "cell_type": "code",
   "execution_count": 6,
   "id": "f57aa4de-9291-4a42-ae15-e2dbc4da8395",
   "metadata": {},
   "outputs": [
    {
     "data": {
      "text/plain": [
       "np.float64(0.09121121972586788)"
      ]
     },
     "execution_count": 6,
     "metadata": {},
     "output_type": "execute_result"
    }
   ],
   "source": [
    "norm.cdf(z)"
   ]
  },
  {
   "cell_type": "code",
   "execution_count": null,
   "id": "a4e39fa2-0063-4a50-a97d-a758b0b8f43e",
   "metadata": {},
   "outputs": [],
   "source": []
  },
  {
   "cell_type": "code",
   "execution_count": null,
   "id": "a23596fb-abca-45a1-8dc4-51d44a241cd0",
   "metadata": {},
   "outputs": [],
   "source": []
  },
  {
   "cell_type": "code",
   "execution_count": null,
   "id": "90550cc3-564a-4540-89ac-e35c9600cae2",
   "metadata": {},
   "outputs": [],
   "source": []
  },
  {
   "cell_type": "code",
   "execution_count": 7,
   "id": "f6a13c33-409b-4cee-ad10-b8cc5944738b",
   "metadata": {},
   "outputs": [
    {
     "data": {
      "text/plain": [
       "np.float64(0.4592104995256672)"
      ]
     },
     "execution_count": 7,
     "metadata": {},
     "output_type": "execute_result"
    }
   ],
   "source": [
    "# avg time for stats course completion = 150 hours(mean)\n",
    "#std dev for course completeion=12hours(stddev)\n",
    "\n",
    "# what is the prob that I complete our course between 140 to 155 hours\n",
    "\n",
    "norm.cdf(155,150,12) - norm.cdf(140,150,12)"
   ]
  },
  {
   "cell_type": "code",
   "execution_count": null,
   "id": "7347e471-52ca-4023-906b-321e4f4d710d",
   "metadata": {},
   "outputs": [],
   "source": []
  },
  {
   "cell_type": "code",
   "execution_count": null,
   "id": "6d895bf6-74ab-40c6-8a96-0816a9742424",
   "metadata": {},
   "outputs": [],
   "source": []
  },
  {
   "cell_type": "code",
   "execution_count": 8,
   "id": "011609c8-9fa4-4814-8249-2e002dfa98f7",
   "metadata": {},
   "outputs": [
    {
     "data": {
      "text/plain": [
       "np.float64(0.9044192954543706)"
      ]
     },
     "execution_count": 8,
     "metadata": {},
     "output_type": "execute_result"
    }
   ],
   "source": [
    "norm.cdf(45000,30000,9000)-norm.cdf(15000,30000,9000) #1"
   ]
  },
  {
   "cell_type": "code",
   "execution_count": 9,
   "id": "7bb37c04-8c1d-4523-8ad8-bf9caf018ec7",
   "metadata": {},
   "outputs": [
    {
     "data": {
      "text/plain": [
       "np.float64(0.013134145691021115)"
      ]
     },
     "execution_count": 9,
     "metadata": {},
     "output_type": "execute_result"
    }
   ],
   "source": [
    "1-norm.cdf(50000,30000,9000)  #2"
   ]
  },
  {
   "cell_type": "code",
   "execution_count": 10,
   "id": "26978d1e-0aba-4e0e-a3cc-9ffeab7e61f6",
   "metadata": {},
   "outputs": [
    {
     "data": {
      "text/plain": [
       "np.float64(0.13052366111626124)"
      ]
     },
     "execution_count": 10,
     "metadata": {},
     "output_type": "execute_result"
    }
   ],
   "source": [
    "norm.cdf(20000,30000,9000)-norm.cdf(5000,30000,9000)  #3"
   ]
  },
  {
   "cell_type": "code",
   "execution_count": null,
   "id": "405d95f1-f0c2-42e4-948d-2bdd3a0a0b93",
   "metadata": {},
   "outputs": [],
   "source": []
  },
  {
   "cell_type": "code",
   "execution_count": null,
   "id": "108a7f9b-1060-4c67-b81b-00105f8a87d5",
   "metadata": {},
   "outputs": [],
   "source": []
  },
  {
   "cell_type": "code",
   "execution_count": null,
   "id": "0de6602d-34b9-4a87-bbbb-df8364e5afd5",
   "metadata": {},
   "outputs": [],
   "source": []
  },
  {
   "cell_type": "code",
   "execution_count": null,
   "id": "fef56693-af64-44c9-b7ff-ca3da71cb8d0",
   "metadata": {},
   "outputs": [],
   "source": []
  },
  {
   "cell_type": "code",
   "execution_count": 11,
   "id": "34f34545-db1c-4565-8dc6-9a88d519ad3c",
   "metadata": {},
   "outputs": [
    {
     "data": {
      "text/plain": [
       "array([206.47469964, 179.69807614, 190.24255196, ..., 218.52254009,\n",
       "       199.72777671, 211.43176407])"
      ]
     },
     "execution_count": 11,
     "metadata": {},
     "output_type": "execute_result"
    }
   ],
   "source": [
    "x1=np.random.normal(200,20,3000)\n",
    "x1"
   ]
  },
  {
   "cell_type": "code",
   "execution_count": 12,
   "id": "c8e1fa97-4be2-47ff-8cad-134d65f59b7c",
   "metadata": {},
   "outputs": [
    {
     "data": {
      "text/plain": [
       "(array([ 20., 104., 250., 514., 761., 690., 436., 167.,  46.,  12.]),\n",
       " array([138.76534893, 151.67511746, 164.58488598, 177.49465451,\n",
       "        190.40442303, 203.31419155, 216.22396008, 229.1337286 ,\n",
       "        242.04349712, 254.95326565, 267.86303417]),\n",
       " <BarContainer object of 10 artists>)"
      ]
     },
     "execution_count": 12,
     "metadata": {},
     "output_type": "execute_result"
    },
    {
     "data": {
      "image/png": "[encoded data removed]",
      "text/plain": [
       "<Figure size 640x480 with 1 Axes>"
      ]
     },
     "metadata": {},
     "output_type": "display_data"
    }
   ],
   "source": [
    "plt.hist(x1)"
   ]
  },
  {
   "cell_type": "code",
   "execution_count": 13,
   "id": "04d5d223-84a5-4c7a-a8c0-5b97f918d34a",
   "metadata": {},
   "outputs": [
    {
     "data": {
      "text/plain": [
       "np.float64(20.09147218474982)"
      ]
     },
     "execution_count": 13,
     "metadata": {},
     "output_type": "execute_result"
    }
   ],
   "source": [
    "std_dev=np.std(x1)\n",
    "std_dev"
   ]
  },
  {
   "cell_type": "code",
   "execution_count": 14,
   "id": "2134b871-5c7b-4be2-8c9d-32eb3d87ddaa",
   "metadata": {},
   "outputs": [
    {
     "data": {
      "text/plain": [
       "np.float64(200.68428276609507)"
      ]
     },
     "execution_count": 14,
     "metadata": {},
     "output_type": "execute_result"
    }
   ],
   "source": [
    "mn=np.mean(x1)\n",
    "mn"
   ]
  },
  {
   "cell_type": "code",
   "execution_count": 15,
   "id": "33745945-6289-4387-83f4-9696d45d77b1",
   "metadata": {},
   "outputs": [],
   "source": [
    "left_side=mn-std_dev\n",
    "right_side=mn+std_dev"
   ]
  },
  {
   "cell_type": "code",
   "execution_count": 16,
   "id": "e4f60b63-616d-4cca-8e25-828ce8ad5e9c",
   "metadata": {},
   "outputs": [
    {
     "data": {
      "text/plain": [
       "2047"
      ]
     },
     "execution_count": 16,
     "metadata": {},
     "output_type": "execute_result"
    }
   ],
   "source": [
    "total_nums=len(x1[np.where((x1>left_side) & (x1<right_side))[0]])\n",
    "total_nums"
   ]
  },
  {
   "cell_type": "code",
   "execution_count": 17,
   "id": "e6f16c1f-cb77-4e75-80b1-5cb24d8f59e3",
   "metadata": {},
   "outputs": [
    {
     "data": {
      "text/plain": [
       "0.6823333333333333"
      ]
     },
     "execution_count": 17,
     "metadata": {},
     "output_type": "execute_result"
    }
   ],
   "source": [
    "total_nums/len(x1)   #the number of values between one std dev on left and one st dev on right"
   ]
  },
  {
   "cell_type": "code",
   "execution_count": null,
   "id": "35b04074-fa93-49d6-990d-c5eea7528a96",
   "metadata": {},
   "outputs": [],
   "source": []
  },
  {
   "cell_type": "code",
   "execution_count": null,
   "id": "9f2c974c-63f8-4e84-884f-9c7521f7c5f7",
   "metadata": {},
   "outputs": [],
   "source": []
  },
  {
   "cell_type": "code",
   "execution_count": null,
   "id": "49bf94b3-5832-4a13-9791-af8e3ced29a2",
   "metadata": {},
   "outputs": [],
   "source": []
  },
  {
   "cell_type": "code",
   "execution_count": null,
   "id": "ab68a211-01ce-4096-af1d-eecc2d171865",
   "metadata": {},
   "outputs": [],
   "source": []
  },
  {
   "cell_type": "code",
   "execution_count": null,
   "id": "362a4158-a5ef-4393-a22c-c2636cbae5fb",
   "metadata": {},
   "outputs": [],
   "source": []
  }
 ],
 "metadata": {
  "kernelspec": {
   "display_name": "Python 3 (ipykernel)",
   "language": "python",
   "name": "python3"
  },
  "language_info": {
   "codemirror_mode": {
    "name": "ipython",
    "version": 3
   },
   "file_extension": ".py",
   "mimetype": "text/x-python",
   "name": "python",
   "nbconvert_exporter": "python",
   "pygments_lexer": "ipython3",
   "version": "3.12.5"
  }
 },
 "nbformat": 4,
 "nbformat_minor": 5
}
