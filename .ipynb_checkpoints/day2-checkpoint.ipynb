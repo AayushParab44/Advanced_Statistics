{
 "cells": [
  {
   "cell_type": "code",
   "execution_count": 80,
   "id": "4252566d-83c7-4767-b2e9-d0c0a1424231",
   "metadata": {},
   "outputs": [],
   "source": [
    "import numpy as np\n",
    "from numpy import random\n",
    "from numpy import linalg"
   ]
  },
  {
   "cell_type": "code",
   "execution_count": 2,
   "id": "1fb373fc-8d8a-4fe9-b120-4bae39784bd7",
   "metadata": {},
   "outputs": [
    {
     "data": {
      "text/plain": [
       "array([[ 0,  1,  2],\n",
       "       [ 3,  4,  5],\n",
       "       [ 6,  7,  8],\n",
       "       [ 9, 10, 11]])"
      ]
     },
     "execution_count": 2,
     "metadata": {},
     "output_type": "execute_result"
    }
   ],
   "source": [
    "a=np.arange(12).reshape(4,3)\n",
    "a"
   ]
  },
  {
   "cell_type": "code",
   "execution_count": 3,
   "id": "b2108326-69ed-49ea-bb41-331dbeb1e1c6",
   "metadata": {},
   "outputs": [
    {
     "data": {
      "text/plain": [
       "array([[0, 1, 2],\n",
       "       [6, 7, 8]])"
      ]
     },
     "execution_count": 3,
     "metadata": {},
     "output_type": "execute_result"
    }
   ],
   "source": [
    "a[[0,2]]"
   ]
  },
  {
   "cell_type": "code",
   "execution_count": 4,
   "id": "e1eb75c3-c21c-4a00-81b5-4c6672ecd603",
   "metadata": {},
   "outputs": [
    {
     "data": {
      "text/plain": [
       "array([[ 0,  1,  2],\n",
       "       [ 9, 10, 11]])"
      ]
     },
     "execution_count": 4,
     "metadata": {},
     "output_type": "execute_result"
    }
   ],
   "source": [
    "a[[0,3]]"
   ]
  },
  {
   "cell_type": "code",
   "execution_count": null,
   "id": "860a2ef4-f783-4b7c-8c46-dd668a3c39e3",
   "metadata": {},
   "outputs": [],
   "source": []
  },
  {
   "cell_type": "code",
   "execution_count": 5,
   "id": "c7a7cef4-56bf-4284-8e0e-e1ad5d89c904",
   "metadata": {},
   "outputs": [
    {
     "data": {
      "text/plain": [
       "array([[ 0,  1],\n",
       "       [ 3,  4],\n",
       "       [ 6,  7],\n",
       "       [ 9, 10]])"
      ]
     },
     "execution_count": 5,
     "metadata": {},
     "output_type": "execute_result"
    }
   ],
   "source": [
    "a[:,0:2]"
   ]
  },
  {
   "cell_type": "code",
   "execution_count": 6,
   "id": "99205131-ea6d-4764-a110-e7d05be23b51",
   "metadata": {},
   "outputs": [],
   "source": [
    "x=np.array([5,3,4])"
   ]
  },
  {
   "cell_type": "code",
   "execution_count": 7,
   "id": "8408f92c-9283-4715-9cec-d530e5c19971",
   "metadata": {},
   "outputs": [
    {
     "data": {
      "text/plain": [
       "array([[ 0,  1,  2],\n",
       "       [ 3,  4,  5],\n",
       "       [ 6,  7,  8],\n",
       "       [ 9, 10, 11],\n",
       "       [ 5,  3,  4]])"
      ]
     },
     "execution_count": 7,
     "metadata": {},
     "output_type": "execute_result"
    }
   ],
   "source": [
    "m1=np.vstack([a,x])\n",
    "m1"
   ]
  },
  {
   "cell_type": "code",
   "execution_count": 8,
   "id": "4083ad1a-3068-4213-82d7-69765c03827d",
   "metadata": {},
   "outputs": [
    {
     "data": {
      "text/plain": [
       "array([[4],\n",
       "       [8],\n",
       "       [9],\n",
       "       [3],\n",
       "       [2]])"
      ]
     },
     "execution_count": 8,
     "metadata": {},
     "output_type": "execute_result"
    }
   ],
   "source": [
    "c1=np.array([4,8,9,3,2]).reshape(5,1)\n",
    "c1"
   ]
  },
  {
   "cell_type": "code",
   "execution_count": 9,
   "id": "acf9f7ba-ec72-446c-bfd3-8e98cd813f49",
   "metadata": {},
   "outputs": [
    {
     "data": {
      "text/plain": [
       "array([[ 0,  1,  2,  4],\n",
       "       [ 3,  4,  5,  8],\n",
       "       [ 6,  7,  8,  9],\n",
       "       [ 9, 10, 11,  3],\n",
       "       [ 5,  3,  4,  2]])"
      ]
     },
     "execution_count": 9,
     "metadata": {},
     "output_type": "execute_result"
    }
   ],
   "source": [
    "m2=np.hstack([m1,c1])\n",
    "m2"
   ]
  },
  {
   "cell_type": "code",
   "execution_count": 10,
   "id": "cb5bed1e-9ca7-46f3-93d9-a090710e0bfe",
   "metadata": {},
   "outputs": [],
   "source": [
    "#axis=0  IS ALWAYS REFERRRING TO ROWS\n",
    "#axis=1  IS ALWAYS REFERRING TO COLUMNS\n"
   ]
  },
  {
   "cell_type": "code",
   "execution_count": 11,
   "id": "2cf11018-5ee7-4936-887a-06f66ca55d3c",
   "metadata": {},
   "outputs": [
    {
     "data": {
      "text/plain": [
       "array([[ 0,  1,  2,  4],\n",
       "       [ 3,  4,  5,  8],\n",
       "       [ 3,  6,  5,  9],\n",
       "       [ 6,  7,  8,  9],\n",
       "       [ 9, 10, 11,  3],\n",
       "       [ 5,  3,  4,  2]])"
      ]
     },
     "execution_count": 11,
     "metadata": {},
     "output_type": "execute_result"
    }
   ],
   "source": [
    "x1=np.insert(m2,2,[3,6,5,9],axis=0)\n",
    "x1"
   ]
  },
  {
   "cell_type": "code",
   "execution_count": null,
   "id": "a015ff9e-8969-40cf-9c5d-4fb240ac8647",
   "metadata": {},
   "outputs": [],
   "source": []
  },
  {
   "cell_type": "code",
   "execution_count": 12,
   "id": "64ae8ef4-bd89-44d7-b245-c198b245d670",
   "metadata": {},
   "outputs": [],
   "source": [
    "#incase of insert,\n",
    "#unlike hstack/vstack we do not need to reshape or convert it to numpy row or column"
   ]
  },
  {
   "cell_type": "code",
   "execution_count": 13,
   "id": "b310a385-d135-4849-8499-17f4b0e6cba3",
   "metadata": {},
   "outputs": [
    {
     "data": {
      "text/plain": [
       "array([[ 0,  1,  1,  2,  4],\n",
       "       [ 3,  2,  4,  5,  8],\n",
       "       [ 6,  3,  7,  8,  9],\n",
       "       [ 9,  4, 10, 11,  3],\n",
       "       [ 5,  5,  3,  4,  2]])"
      ]
     },
     "execution_count": 13,
     "metadata": {},
     "output_type": "execute_result"
    }
   ],
   "source": [
    "x2=np.insert(m2,1,[1,2,3,4,5],axis=1)\n",
    "x2"
   ]
  },
  {
   "cell_type": "code",
   "execution_count": 14,
   "id": "bdf0e9ab-aa6f-4b62-8e4d-ffc67e92d9bd",
   "metadata": {},
   "outputs": [
    {
     "data": {
      "text/plain": [
       "array([[ 0,  1,  2,  4],\n",
       "       [ 3,  4,  5,  8],\n",
       "       [ 6,  7,  8,  9],\n",
       "       [ 9, 10, 11,  3],\n",
       "       [ 5,  3,  4,  2]])"
      ]
     },
     "execution_count": 14,
     "metadata": {},
     "output_type": "execute_result"
    }
   ],
   "source": [
    "m2"
   ]
  },
  {
   "cell_type": "code",
   "execution_count": 15,
   "id": "f1e9c209-c4cf-48cd-b8fd-0793f3ca0dc2",
   "metadata": {},
   "outputs": [],
   "source": [
    "# x2=np.insert(m2,(1,3),(np.array([[1,2,3,4,5],[5,7,8,9,10]]).reshape(2,5)),axis=1)\n",
    "# x2"
   ]
  },
  {
   "cell_type": "code",
   "execution_count": null,
   "id": "f5270960-2dba-4a05-a012-77ba79f7d384",
   "metadata": {},
   "outputs": [],
   "source": []
  },
  {
   "cell_type": "code",
   "execution_count": 16,
   "id": "58490d04-d1dd-4a75-b46a-07874ee258e3",
   "metadata": {},
   "outputs": [
    {
     "data": {
      "text/plain": [
       "array([[0, 1, 2, 4],\n",
       "       [3, 6, 5, 9],\n",
       "       [5, 3, 4, 2]])"
      ]
     },
     "execution_count": 16,
     "metadata": {},
     "output_type": "execute_result"
    }
   ],
   "source": [
    "np.delete(x1,(1,3,4),axis=0)"
   ]
  },
  {
   "cell_type": "code",
   "execution_count": 17,
   "id": "6711d42d-ba88-457f-b506-964064846c18",
   "metadata": {},
   "outputs": [
    {
     "data": {
      "text/plain": [
       "array([[0, 4],\n",
       "       [3, 8],\n",
       "       [3, 9],\n",
       "       [6, 9],\n",
       "       [9, 3],\n",
       "       [5, 2]])"
      ]
     },
     "execution_count": 17,
     "metadata": {},
     "output_type": "execute_result"
    }
   ],
   "source": [
    "np.delete(x1,(1,2),axis=1)"
   ]
  },
  {
   "cell_type": "code",
   "execution_count": null,
   "id": "31b7034e-1226-46f9-9297-1295059b5087",
   "metadata": {},
   "outputs": [],
   "source": []
  },
  {
   "cell_type": "code",
   "execution_count": 18,
   "id": "4f5facef-b6ac-4e7a-8bb1-cb6dfcc0838a",
   "metadata": {},
   "outputs": [],
   "source": [
    "x2=np.arange(24)"
   ]
  },
  {
   "cell_type": "code",
   "execution_count": 19,
   "id": "934aa41c-18a4-4618-96d3-ab3747637dd3",
   "metadata": {},
   "outputs": [],
   "source": [
    "x2=x2.reshape(4,3,2)"
   ]
  },
  {
   "cell_type": "code",
   "execution_count": 20,
   "id": "5e6a3dc4-ea47-43ce-af0c-aac0ea54845e",
   "metadata": {},
   "outputs": [
    {
     "data": {
      "text/plain": [
       "array([[[ 0,  1],\n",
       "        [ 2,  3],\n",
       "        [ 4,  5]],\n",
       "\n",
       "       [[ 6,  7],\n",
       "        [ 8,  9],\n",
       "        [10, 11]],\n",
       "\n",
       "       [[12, 13],\n",
       "        [14, 15],\n",
       "        [16, 17]],\n",
       "\n",
       "       [[18, 19],\n",
       "        [20, 21],\n",
       "        [22, 23]]])"
      ]
     },
     "execution_count": 20,
     "metadata": {},
     "output_type": "execute_result"
    }
   ],
   "source": [
    "x2"
   ]
  },
  {
   "cell_type": "code",
   "execution_count": 21,
   "id": "3980c1f5-f2ad-45cd-ba69-eb31cb626811",
   "metadata": {},
   "outputs": [
    {
     "data": {
      "text/plain": [
       "(4, 3, 2)"
      ]
     },
     "execution_count": 21,
     "metadata": {},
     "output_type": "execute_result"
    }
   ],
   "source": [
    "x2.shape"
   ]
  },
  {
   "cell_type": "code",
   "execution_count": null,
   "id": "e947610e-2054-44d3-b6d0-90113292bac9",
   "metadata": {},
   "outputs": [],
   "source": []
  },
  {
   "cell_type": "code",
   "execution_count": null,
   "id": "e1c43769-33b1-45f4-8fa9-2ef0bf6ca66c",
   "metadata": {},
   "outputs": [],
   "source": []
  },
  {
   "cell_type": "code",
   "execution_count": 22,
   "id": "be870bc3-4569-4826-b1e7-0c2658d20636",
   "metadata": {},
   "outputs": [],
   "source": [
    "a=np.arange(12)"
   ]
  },
  {
   "cell_type": "code",
   "execution_count": 23,
   "id": "aa6321ab-b38b-41dc-986d-6cbcc4bf05d9",
   "metadata": {},
   "outputs": [
    {
     "data": {
      "text/plain": [
       "array([ 0,  1,  2,  3,  4,  5,  6,  7,  8,  9, 10, 11])"
      ]
     },
     "execution_count": 23,
     "metadata": {},
     "output_type": "execute_result"
    }
   ],
   "source": [
    "np.sort(a)"
   ]
  },
  {
   "cell_type": "code",
   "execution_count": null,
   "id": "a1f5aab6-516e-48ab-9853-b3ac20576482",
   "metadata": {},
   "outputs": [],
   "source": []
  },
  {
   "cell_type": "code",
   "execution_count": 24,
   "id": "dc124f45-8351-47f3-b0f5-8879a782799e",
   "metadata": {},
   "outputs": [
    {
     "data": {
      "text/plain": [
       "array([[ 0,  1,  2,  4],\n",
       "       [ 3,  4,  5,  8],\n",
       "       [ 6,  7,  8,  9],\n",
       "       [ 9, 10, 11,  3],\n",
       "       [ 5,  3,  4,  2]])"
      ]
     },
     "execution_count": 24,
     "metadata": {},
     "output_type": "execute_result"
    }
   ],
   "source": [
    "m2"
   ]
  },
  {
   "cell_type": "code",
   "execution_count": 25,
   "id": "c2ef8013-b946-4274-be4f-759adae354e8",
   "metadata": {},
   "outputs": [
    {
     "data": {
      "text/plain": [
       "array([[ 0,  1,  2,  2],\n",
       "       [ 3,  3,  4,  3],\n",
       "       [ 5,  4,  5,  4],\n",
       "       [ 6,  7,  8,  8],\n",
       "       [ 9, 10, 11,  9]])"
      ]
     },
     "execution_count": 25,
     "metadata": {},
     "output_type": "execute_result"
    }
   ],
   "source": [
    "a0=np.sort(m2,axis=0)   #axis=0 ,top to bottom sorted\n",
    "a0"
   ]
  },
  {
   "cell_type": "code",
   "execution_count": 26,
   "id": "0e229f85-90b2-426f-a066-c7267cc71223",
   "metadata": {},
   "outputs": [
    {
     "data": {
      "text/plain": [
       "array([[ 0,  1,  2,  4],\n",
       "       [ 3,  4,  5,  8],\n",
       "       [ 6,  7,  8,  9],\n",
       "       [ 3,  9, 10, 11],\n",
       "       [ 2,  3,  4,  5]])"
      ]
     },
     "execution_count": 26,
     "metadata": {},
     "output_type": "execute_result"
    }
   ],
   "source": [
    "np.sort(m2,axis=1)  #axis=1, left to right sorted"
   ]
  },
  {
   "cell_type": "code",
   "execution_count": null,
   "id": "6ffc2ee9-7d7a-4381-a806-79fd78ed4c0f",
   "metadata": {},
   "outputs": [],
   "source": []
  },
  {
   "cell_type": "code",
   "execution_count": 27,
   "id": "2780c77a-0570-47aa-9f34-69945a8547b4",
   "metadata": {},
   "outputs": [
    {
     "data": {
      "text/plain": [
       "array([[ 0,  1,  2,  2],\n",
       "       [ 3,  3,  3,  4],\n",
       "       [ 4,  4,  5,  5],\n",
       "       [ 6,  7,  8,  8],\n",
       "       [ 9,  9, 10, 11]])"
      ]
     },
     "execution_count": 27,
     "metadata": {},
     "output_type": "execute_result"
    }
   ],
   "source": [
    "np.sort(a0,axis=1) #sorting columns first then rows"
   ]
  },
  {
   "cell_type": "code",
   "execution_count": null,
   "id": "498444c5-59f2-4454-b429-aa957aa379bb",
   "metadata": {},
   "outputs": [],
   "source": []
  },
  {
   "cell_type": "code",
   "execution_count": 28,
   "id": "7d721f0a-5fce-4f1c-99ce-461c29187f0d",
   "metadata": {},
   "outputs": [
    {
     "data": {
      "text/plain": [
       "array([ 5, 32,  1])"
      ]
     },
     "execution_count": 28,
     "metadata": {},
     "output_type": "execute_result"
    }
   ],
   "source": [
    "x2=np.array([4,5,5,2,2,32,53,1,2,13,132,12])\n",
    "x2[[1,5,7]]  #index pos retrieval"
   ]
  },
  {
   "cell_type": "code",
   "execution_count": null,
   "id": "9b5b143b-9ad4-4fcb-8c09-a31fae385bd2",
   "metadata": {},
   "outputs": [],
   "source": []
  },
  {
   "cell_type": "code",
   "execution_count": 29,
   "id": "3ffb7b75-3239-465b-8a50-b3f37176bc06",
   "metadata": {},
   "outputs": [
    {
     "data": {
      "text/plain": [
       "array([ 20,  50,  10,   0, 100])"
      ]
     },
     "execution_count": 29,
     "metadata": {},
     "output_type": "execute_result"
    }
   ],
   "source": [
    "# Broadcasting- gets affected across all values across the array\n",
    "x3=np.array([2,5,1,0,10])\n",
    "x3*10"
   ]
  },
  {
   "cell_type": "code",
   "execution_count": 30,
   "id": "0b45dcc4-5080-46b0-aaec-78d9b97a17a9",
   "metadata": {},
   "outputs": [
    {
     "data": {
      "text/plain": [
       "array([ 23,  53,  13,   3, 103])"
      ]
     },
     "execution_count": 30,
     "metadata": {},
     "output_type": "execute_result"
    }
   ],
   "source": [
    "x3*10+3\n"
   ]
  },
  {
   "cell_type": "code",
   "execution_count": null,
   "id": "c086d3cd-4bf0-4c93-8344-8565e57669cf",
   "metadata": {},
   "outputs": [],
   "source": []
  },
  {
   "cell_type": "code",
   "execution_count": 31,
   "id": "bcbc5873-b1f8-4c3c-bc98-e604ab6f0c2c",
   "metadata": {},
   "outputs": [
    {
     "data": {
      "text/plain": [
       "array([[ 0,  1,  2,  4],\n",
       "       [ 3,  4,  5,  8],\n",
       "       [ 3,  6,  5,  9],\n",
       "       [ 6,  7,  8,  9],\n",
       "       [ 9, 10, 11,  3],\n",
       "       [ 5,  3,  4,  2]])"
      ]
     },
     "execution_count": 31,
     "metadata": {},
     "output_type": "execute_result"
    }
   ],
   "source": [
    "x1"
   ]
  },
  {
   "cell_type": "code",
   "execution_count": 32,
   "id": "175e1656-5bf9-4523-ba9e-4f081ed1afe8",
   "metadata": {},
   "outputs": [
    {
     "data": {
      "text/plain": [
       "array([[30, 31, 32, 34],\n",
       "       [33, 34, 35, 38],\n",
       "       [33, 36, 35, 39],\n",
       "       [36, 37, 38, 39],\n",
       "       [39, 40, 41, 33],\n",
       "       [35, 33, 34, 32]])"
      ]
     },
     "execution_count": 32,
     "metadata": {},
     "output_type": "execute_result"
    }
   ],
   "source": [
    "x2=x1+10*3\n",
    "x2"
   ]
  },
  {
   "cell_type": "code",
   "execution_count": 33,
   "id": "7b0eddb3-d55b-45d9-8e38-c9497b934ebf",
   "metadata": {},
   "outputs": [
    {
     "data": {
      "text/plain": [
       "array([[ 1,  2,  3,  5],\n",
       "       [ 4,  5,  6,  9],\n",
       "       [ 4,  7,  6, 10],\n",
       "       [ 7,  8,  9, 10],\n",
       "       [10, 11, 12,  4],\n",
       "       [ 6,  4,  5,  3]])"
      ]
     },
     "execution_count": 33,
     "metadata": {},
     "output_type": "execute_result"
    }
   ],
   "source": [
    "x1+np.array([1,1,1,1])"
   ]
  },
  {
   "cell_type": "code",
   "execution_count": 34,
   "id": "69c05efd-ed19-4e14-b0e9-599751aa9ab1",
   "metadata": {},
   "outputs": [
    {
     "data": {
      "text/plain": [
       "array([[10, 10, 10, 10]])"
      ]
     },
     "execution_count": 34,
     "metadata": {},
     "output_type": "execute_result"
    }
   ],
   "source": [
    "np.array([10,10,10,10]).reshape(1,4)"
   ]
  },
  {
   "cell_type": "code",
   "execution_count": null,
   "id": "079e88a0-cce7-494b-aea6-15d6f041bf19",
   "metadata": {},
   "outputs": [],
   "source": []
  },
  {
   "cell_type": "code",
   "execution_count": null,
   "id": "f43ca360-00c5-4bf6-a274-0537ed771a6a",
   "metadata": {},
   "outputs": [],
   "source": []
  },
  {
   "cell_type": "code",
   "execution_count": 35,
   "id": "2fb6de4a-ad4a-41d8-9ad6-3c1fd0c22074",
   "metadata": {},
   "outputs": [
    {
     "data": {
      "text/plain": [
       "array([[ 0,  1,  2,  4],\n",
       "       [ 3,  4,  5,  8],\n",
       "       [ 3,  6,  5,  9],\n",
       "       [ 6,  7,  8,  9],\n",
       "       [ 9, 10, 11,  3],\n",
       "       [ 5,  3,  4,  2]])"
      ]
     },
     "execution_count": 35,
     "metadata": {},
     "output_type": "execute_result"
    }
   ],
   "source": [
    "x1"
   ]
  },
  {
   "cell_type": "code",
   "execution_count": 36,
   "id": "e92332f5-93dc-4578-be30-03fb2c5c9b9b",
   "metadata": {},
   "outputs": [
    {
     "data": {
      "text/plain": [
       "array([[1],\n",
       "       [2],\n",
       "       [3],\n",
       "       [4],\n",
       "       [5],\n",
       "       [6]])"
      ]
     },
     "execution_count": 36,
     "metadata": {},
     "output_type": "execute_result"
    }
   ],
   "source": [
    "c1=np.array([1,2,3,4,5,6]).reshape(6,1)\n",
    "c1"
   ]
  },
  {
   "cell_type": "code",
   "execution_count": 37,
   "id": "846dd33c-6253-4b3b-b1e5-88e729fe52a4",
   "metadata": {},
   "outputs": [
    {
     "data": {
      "text/plain": [
       "array([[ 1,  2,  3,  5],\n",
       "       [ 5,  6,  7, 10],\n",
       "       [ 6,  9,  8, 12],\n",
       "       [10, 11, 12, 13],\n",
       "       [14, 15, 16,  8],\n",
       "       [11,  9, 10,  8]])"
      ]
     },
     "execution_count": 37,
     "metadata": {},
     "output_type": "execute_result"
    }
   ],
   "source": [
    "x1+c1"
   ]
  },
  {
   "cell_type": "code",
   "execution_count": null,
   "id": "cd23c369-2afb-4026-b40c-26a7e2ccc069",
   "metadata": {},
   "outputs": [],
   "source": []
  },
  {
   "cell_type": "code",
   "execution_count": 38,
   "id": "e5840c44-b60f-4106-884f-e651eccef550",
   "metadata": {},
   "outputs": [],
   "source": [
    "#***np.where command***-\n",
    "#input to the np.where command is a condition that needs to be checked or a logical array.\n",
    "#output of the np.where command is the indices of the array where the conditions are found to be true\n",
    "\n"
   ]
  },
  {
   "cell_type": "code",
   "execution_count": null,
   "id": "026bde6e-1467-43f3-bae3-1c9eeca7ad41",
   "metadata": {},
   "outputs": [],
   "source": []
  },
  {
   "cell_type": "code",
   "execution_count": 39,
   "id": "25c6872c-6e8c-42c9-a476-ccf6d29a8341",
   "metadata": {},
   "outputs": [
    {
     "data": {
      "text/plain": [
       "array([ 2,  5,  1,  0, 10])"
      ]
     },
     "execution_count": 39,
     "metadata": {},
     "output_type": "execute_result"
    }
   ],
   "source": [
    "x3"
   ]
  },
  {
   "cell_type": "code",
   "execution_count": 40,
   "id": "7452c6f9-4b3a-40b5-ac66-691ae442b1cb",
   "metadata": {},
   "outputs": [
    {
     "data": {
      "text/plain": [
       "array([False,  True, False, False,  True])"
      ]
     },
     "execution_count": 40,
     "metadata": {},
     "output_type": "execute_result"
    }
   ],
   "source": [
    "x3>4"
   ]
  },
  {
   "cell_type": "code",
   "execution_count": 41,
   "id": "01ee752d-ed66-41ec-b784-b1a457ce480f",
   "metadata": {},
   "outputs": [
    {
     "data": {
      "text/plain": [
       "(array([1, 4]),)"
      ]
     },
     "execution_count": 41,
     "metadata": {},
     "output_type": "execute_result"
    }
   ],
   "source": [
    "x7=np.where(x3>4)\n",
    "x7"
   ]
  },
  {
   "cell_type": "code",
   "execution_count": 42,
   "id": "ba65cb2f-8f6a-4f1c-a947-8eeecf112434",
   "metadata": {},
   "outputs": [
    {
     "name": "stdout",
     "output_type": "stream",
     "text": [
      "2\n"
     ]
    },
    {
     "data": {
      "text/plain": [
       "np.int64(2)"
      ]
     },
     "execution_count": 42,
     "metadata": {},
     "output_type": "execute_result"
    }
   ],
   "source": [
    "#how many values are there in the array?\n",
    "print(len(x7[0]))  \n",
    "\n",
    "(x3>=4).sum()"
   ]
  },
  {
   "cell_type": "code",
   "execution_count": 43,
   "id": "c0d20bb2-91da-41d3-ba24-e68a76026aab",
   "metadata": {},
   "outputs": [
    {
     "name": "stdout",
     "output_type": "stream",
     "text": [
      "[1 4]\n"
     ]
    },
    {
     "data": {
      "text/plain": [
       "array([ 5, 10])"
      ]
     },
     "execution_count": 43,
     "metadata": {},
     "output_type": "execute_result"
    }
   ],
   "source": [
    "# where are the values?\n",
    "x7=np.where(x3>4)\n",
    "print(x7[0])\n",
    "\n",
    "# what are the values?\n",
    "x3[x7]"
   ]
  },
  {
   "cell_type": "code",
   "execution_count": null,
   "id": "04caf206-d517-474b-9636-f7b437e7277e",
   "metadata": {},
   "outputs": [],
   "source": []
  },
  {
   "cell_type": "code",
   "execution_count": null,
   "id": "0bddb4e7-3cfd-4028-9ff6-bc2f2f17e328",
   "metadata": {},
   "outputs": [],
   "source": []
  },
  {
   "cell_type": "code",
   "execution_count": 44,
   "id": "a6374360-557c-4e84-804f-e1dc2fb2dec6",
   "metadata": {},
   "outputs": [],
   "source": [
    "#in a single dimensinal array the length of the array will be- \n",
    "#the first index of output of np.where command."
   ]
  },
  {
   "cell_type": "code",
   "execution_count": 45,
   "id": "5154d79b-568f-42c9-b5c9-614b5a62545f",
   "metadata": {},
   "outputs": [
    {
     "data": {
      "text/plain": [
       "array([[ 0,  1,  2,  4],\n",
       "       [ 3,  4,  5,  8],\n",
       "       [ 3,  6,  5,  9],\n",
       "       [ 6,  7,  8,  9],\n",
       "       [ 9, 10, 11,  3],\n",
       "       [ 5,  3,  4,  2]])"
      ]
     },
     "execution_count": 45,
     "metadata": {},
     "output_type": "execute_result"
    }
   ],
   "source": [
    "x1\n"
   ]
  },
  {
   "cell_type": "code",
   "execution_count": 46,
   "id": "8ce51f58-cc66-4c0b-a27a-a9591a52c9d4",
   "metadata": {},
   "outputs": [
    {
     "data": {
      "text/plain": [
       "(array([1, 1, 2, 2, 2, 3, 3, 3, 3, 4, 4, 4, 5]),\n",
       " array([2, 3, 1, 2, 3, 0, 1, 2, 3, 0, 1, 2, 0]))"
      ]
     },
     "execution_count": 46,
     "metadata": {},
     "output_type": "execute_result"
    }
   ],
   "source": [
    "np.where(x1>4) #where are the value?"
   ]
  },
  {
   "cell_type": "code",
   "execution_count": 47,
   "id": "413cb413-d1c7-4d43-b71a-08fda265778a",
   "metadata": {},
   "outputs": [
    {
     "name": "stdout",
     "output_type": "stream",
     "text": [
      "13\n",
      "13\n"
     ]
    }
   ],
   "source": [
    "print(len(np.where(x1>4)[0]))  #how many values?\n",
    "#OR\n",
    "print((x1>4).sum())"
   ]
  },
  {
   "cell_type": "code",
   "execution_count": 48,
   "id": "344f2fad-952b-4ffb-82fa-abdc8dd5aecb",
   "metadata": {},
   "outputs": [
    {
     "data": {
      "text/plain": [
       "array([ 5,  8,  6,  5,  9,  6,  7,  8,  9,  9, 10, 11,  5])"
      ]
     },
     "execution_count": 48,
     "metadata": {},
     "output_type": "execute_result"
    }
   ],
   "source": [
    "x1[np.where(x1>4)]  #what are the values?"
   ]
  },
  {
   "cell_type": "code",
   "execution_count": null,
   "id": "64710679-af51-4ab4-9724-bd70bf9cb8f6",
   "metadata": {},
   "outputs": [],
   "source": []
  },
  {
   "cell_type": "code",
   "execution_count": 49,
   "id": "7775240e-ac5e-461e-aba8-8111bbbbd697",
   "metadata": {},
   "outputs": [
    {
     "data": {
      "text/plain": [
       "array([[30, 31, 32, 34],\n",
       "       [33, 34, 35, 38],\n",
       "       [33, 36, 35, 39],\n",
       "       [36, 37, 38, 39],\n",
       "       [39, 40, 41, 33],\n",
       "       [35, 33, 34, 32]])"
      ]
     },
     "execution_count": 49,
     "metadata": {},
     "output_type": "execute_result"
    }
   ],
   "source": [
    "x2"
   ]
  },
  {
   "cell_type": "code",
   "execution_count": 50,
   "id": "f97908ca-1fd7-4d07-b0bf-ef71a7122c3a",
   "metadata": {},
   "outputs": [
    {
     "data": {
      "text/plain": [
       "(array([0, 0, 0, 0, 1, 1, 1, 1, 2, 2, 2, 2, 3, 3, 3, 3, 4, 4, 4, 4, 5, 5,\n",
       "        5, 5]),\n",
       " array([0, 1, 2, 3, 0, 1, 2, 3, 0, 1, 2, 3, 0, 1, 2, 3, 0, 1, 2, 3, 0, 1,\n",
       "        2, 3]))"
      ]
     },
     "execution_count": 50,
     "metadata": {},
     "output_type": "execute_result"
    }
   ],
   "source": [
    "np.where(x2>4)"
   ]
  },
  {
   "cell_type": "code",
   "execution_count": null,
   "id": "0541fef3-5d7b-4386-a241-368da61fab22",
   "metadata": {},
   "outputs": [],
   "source": []
  },
  {
   "cell_type": "code",
   "execution_count": 51,
   "id": "fe9ad7a7-e09a-493a-97c9-33942b68f4d5",
   "metadata": {},
   "outputs": [
    {
     "data": {
      "text/plain": [
       "array([[ 0,  1,  2,  4],\n",
       "       [ 3,  4,  5,  8],\n",
       "       [ 3,  6,  5,  9],\n",
       "       [ 6,  7,  8,  9],\n",
       "       [ 9, 10, 11,  3],\n",
       "       [ 5,  3,  4,  2]])"
      ]
     },
     "execution_count": 51,
     "metadata": {},
     "output_type": "execute_result"
    }
   ],
   "source": [
    "x1"
   ]
  },
  {
   "cell_type": "code",
   "execution_count": null,
   "id": "4686d60b-2ab8-4653-b834-a32afddd9bbb",
   "metadata": {},
   "outputs": [],
   "source": []
  },
  {
   "cell_type": "code",
   "execution_count": null,
   "id": "75ad22cd-20b4-4f0f-81e4-7f3903d1d6d4",
   "metadata": {},
   "outputs": [],
   "source": []
  },
  {
   "cell_type": "code",
   "execution_count": 52,
   "id": "24551977-db0c-47d7-8dde-31ab9496552b",
   "metadata": {},
   "outputs": [],
   "source": [
    "#how many values , where , what are those even values."
   ]
  },
  {
   "cell_type": "code",
   "execution_count": 53,
   "id": "4268c536-8a01-4132-a944-c042fde47fb9",
   "metadata": {},
   "outputs": [],
   "source": [
    "a1=np.array([1,2,7,4,8,6,9])"
   ]
  },
  {
   "cell_type": "code",
   "execution_count": 54,
   "id": "528a6925-32ca-4beb-bc60-8fcb57aa89f9",
   "metadata": {},
   "outputs": [
    {
     "name": "stdout",
     "output_type": "stream",
     "text": [
      "The original array- [1 2 7 4 8 6 9]\n",
      "4\n",
      "indices- [1 3 4 5]\n",
      "The nos.- [2 4 8 6]\n"
     ]
    }
   ],
   "source": [
    "#how many values are even \n",
    "print('The original array-',a1)\n",
    "print((a1%2==0).sum())\n",
    "\n",
    "#where are those values-\n",
    "print('indices-',np.where(a1%2==0)[0])\n",
    "\n",
    "# what are those values-\n",
    "print('The nos.-',a1[np.where(a1%2==0)[0]])\n",
    "# x=lambda a:a%2==0\n",
    "\n",
    "# x(4)\n"
   ]
  },
  {
   "cell_type": "code",
   "execution_count": null,
   "id": "d23a5177-119c-4c72-ad02-cae9f8804dda",
   "metadata": {},
   "outputs": [],
   "source": []
  },
  {
   "cell_type": "code",
   "execution_count": 55,
   "id": "e33c06b9-a2f9-4b15-b3e6-fb847774c3db",
   "metadata": {},
   "outputs": [
    {
     "data": {
      "text/plain": [
       "[3, 4, 5, 3, 4, 5, 3, 4, 5]"
      ]
     },
     "execution_count": 55,
     "metadata": {},
     "output_type": "execute_result"
    }
   ],
   "source": [
    "#(convert it to array)-\n",
    "[3,4,5]*3 #Repeat [3,4,5] 3 times in a single array."
   ]
  },
  {
   "cell_type": "code",
   "execution_count": 56,
   "id": "7eaccb74-132d-4892-b249-240da9ee1b32",
   "metadata": {},
   "outputs": [
    {
     "data": {
      "text/plain": [
       "array([3, 3, 4, 4, 4, 4, 5, 5, 5, 5, 5, 5])"
      ]
     },
     "execution_count": 56,
     "metadata": {},
     "output_type": "execute_result"
    }
   ],
   "source": [
    "np.repeat(np.array([3,4,5,]),[2,4,6])  #repeat 3 - 2times, 4- 4times, 5-6times"
   ]
  },
  {
   "cell_type": "code",
   "execution_count": null,
   "id": "8ee87692-a544-414e-831e-d40cda3e109d",
   "metadata": {},
   "outputs": [],
   "source": []
  },
  {
   "cell_type": "code",
   "execution_count": 57,
   "id": "156dd20c-cde6-4063-a8ff-654c78c82416",
   "metadata": {},
   "outputs": [
    {
     "data": {
      "text/plain": [
       "array([2, 3, 5, 6, 8, 9])"
      ]
     },
     "execution_count": 57,
     "metadata": {},
     "output_type": "execute_result"
    }
   ],
   "source": [
    "x=np.array([5,8,3,6,9,3,2])\n",
    "np.unique(x)"
   ]
  },
  {
   "cell_type": "code",
   "execution_count": null,
   "id": "0f5aa6aa-53e0-4be9-abd5-945030d50e2a",
   "metadata": {},
   "outputs": [],
   "source": []
  },
  {
   "cell_type": "code",
   "execution_count": null,
   "id": "e68000c8-f369-4832-93ee-b6ca3f3fce3a",
   "metadata": {},
   "outputs": [],
   "source": []
  },
  {
   "cell_type": "code",
   "execution_count": 58,
   "id": "86ddde56-7d1d-457a-8030-1bfa1f87fb2b",
   "metadata": {},
   "outputs": [],
   "source": [
    "#UNION AND INTERSECTION"
   ]
  },
  {
   "cell_type": "code",
   "execution_count": 59,
   "id": "5227e9f8-aaef-4b2a-bb07-9e3aa478dbec",
   "metadata": {},
   "outputs": [],
   "source": [
    "# union - or\n",
    "# intersection - and"
   ]
  },
  {
   "cell_type": "code",
   "execution_count": 60,
   "id": "003ae8e4-7f81-4f73-8994-314d0f53420d",
   "metadata": {},
   "outputs": [
    {
     "name": "stdout",
     "output_type": "stream",
     "text": [
      "[2 3 4 5 6 7 8 9]\n",
      "[2 3 5 9]\n"
     ]
    }
   ],
   "source": [
    "x=np.array([5,8,3,6,9,3,2])\n",
    "y=np.array([3,3,9,9,5,4,2,7,3])\n",
    "\n",
    "print(np.union1d(x,y))\n",
    "\n",
    "print(np.intersect1d(x,y))\n"
   ]
  },
  {
   "cell_type": "code",
   "execution_count": null,
   "id": "b7850123-5f35-4d85-ba31-f318d1923bb7",
   "metadata": {},
   "outputs": [],
   "source": []
  },
  {
   "cell_type": "code",
   "execution_count": 61,
   "id": "422bf367-1c53-4314-85ea-6a1aece058d0",
   "metadata": {},
   "outputs": [],
   "source": [
    "#in probability, generally-\n",
    "# if 'and' is present then multiple the probabilities\n",
    "# if 'or' is present then add the probabilities \n"
   ]
  },
  {
   "cell_type": "code",
   "execution_count": 62,
   "id": "98a2ac8b-f619-481f-95d6-68a3634afbb5",
   "metadata": {},
   "outputs": [],
   "source": [
    "x=[5,8,3,6,9,3,2]\n",
    "y=[4,3,9,7,3,1]"
   ]
  },
  {
   "cell_type": "code",
   "execution_count": 63,
   "id": "c7de54bf-3df4-4e02-8b8a-27ea9b35fa67",
   "metadata": {},
   "outputs": [
    {
     "name": "stderr",
     "output_type": "stream",
     "text": [
      "C:\\Users\\AAYUSH\\AppData\\Local\\Temp\\ipykernel_12732\\3832124135.py:1: DeprecationWarning: `in1d` is deprecated. Use `np.isin` instead.\n",
      "  np.in1d(x,y)\n"
     ]
    },
    {
     "data": {
      "text/plain": [
       "array([False, False,  True, False,  True,  True, False])"
      ]
     },
     "execution_count": 63,
     "metadata": {},
     "output_type": "execute_result"
    }
   ],
   "source": [
    "np.in1d(x,y)"
   ]
  },
  {
   "cell_type": "code",
   "execution_count": 64,
   "id": "3531a9f0-89ec-4dcf-a880-b033cc3c98a8",
   "metadata": {},
   "outputs": [
    {
     "name": "stderr",
     "output_type": "stream",
     "text": [
      "C:\\Users\\AAYUSH\\AppData\\Local\\Temp\\ipykernel_12732\\1140237609.py:1: DeprecationWarning: `in1d` is deprecated. Use `np.isin` instead.\n",
      "  np.where(np.in1d(x,y))  #index positions in x for which values are present in y\n"
     ]
    },
    {
     "data": {
      "text/plain": [
       "(array([2, 4, 5]),)"
      ]
     },
     "execution_count": 64,
     "metadata": {},
     "output_type": "execute_result"
    }
   ],
   "source": [
    "np.where(np.in1d(x,y))  #index positions in x for which values are present in y"
   ]
  },
  {
   "cell_type": "code",
   "execution_count": 65,
   "id": "af2d33b0-46e8-4ce4-b490-2db45c0a002f",
   "metadata": {},
   "outputs": [
    {
     "data": {
      "text/plain": [
       "(array([2, 4, 5]),)"
      ]
     },
     "execution_count": 65,
     "metadata": {},
     "output_type": "execute_result"
    }
   ],
   "source": [
    "np.where(np.isin(x,y))  #index positions in x for which those values are present in y"
   ]
  },
  {
   "cell_type": "code",
   "execution_count": null,
   "id": "e2effec9-18fd-493c-91e6-6773df2b2b50",
   "metadata": {},
   "outputs": [],
   "source": []
  },
  {
   "cell_type": "code",
   "execution_count": 66,
   "id": "90ef2b8d-6ebf-473f-834a-5d08fc1d87cf",
   "metadata": {},
   "outputs": [
    {
     "data": {
      "text/plain": [
       "array([2, 5, 6, 8])"
      ]
     },
     "execution_count": 66,
     "metadata": {},
     "output_type": "execute_result"
    }
   ],
   "source": [
    "np.setdiff1d(x,y)  #in x but not in y"
   ]
  },
  {
   "cell_type": "code",
   "execution_count": null,
   "id": "8ab72957-ff1a-4edc-baa5-f382dc8b28ba",
   "metadata": {},
   "outputs": [],
   "source": []
  },
  {
   "cell_type": "code",
   "execution_count": null,
   "id": "da2f7685-9d4e-4303-b13f-e62e2172e8f4",
   "metadata": {},
   "outputs": [],
   "source": []
  },
  {
   "cell_type": "code",
   "execution_count": 67,
   "id": "ae7432bd-3bef-4507-8d85-b02260acd388",
   "metadata": {},
   "outputs": [
    {
     "data": {
      "text/plain": [
       "array([1, 2, 4, 5, 6, 7, 8])"
      ]
     },
     "execution_count": 67,
     "metadata": {},
     "output_type": "execute_result"
    }
   ],
   "source": [
    "np.setxor1d(x,y)   #exclusively in x or exclusively in y. Basically union-intersection"
   ]
  },
  {
   "cell_type": "code",
   "execution_count": null,
   "id": "31c88bd3-db93-4f15-96a9-5789232100ea",
   "metadata": {},
   "outputs": [],
   "source": []
  },
  {
   "cell_type": "code",
   "execution_count": 68,
   "id": "b7cc0423-39e8-4f5a-95d6-3cf3030b24fd",
   "metadata": {},
   "outputs": [],
   "source": [
    "#random library functions-\n"
   ]
  },
  {
   "cell_type": "code",
   "execution_count": 69,
   "id": "c4dfb35a-110d-471e-b8e4-c26b8148f316",
   "metadata": {},
   "outputs": [],
   "source": [
    "p1=np.random.rand(10)"
   ]
  },
  {
   "cell_type": "code",
   "execution_count": 70,
   "id": "e9772e22-4e8c-457c-ba30-d7246c10152c",
   "metadata": {},
   "outputs": [
    {
     "data": {
      "text/plain": [
       "array([0.90270022, 0.21881713, 0.57765787, 0.69866618, 0.55371532,\n",
       "       0.70536717, 0.8416297 , 0.70665913, 0.32882706, 0.74500017])"
      ]
     },
     "execution_count": 70,
     "metadata": {},
     "output_type": "execute_result"
    }
   ],
   "source": [
    "p1"
   ]
  },
  {
   "cell_type": "code",
   "execution_count": 71,
   "id": "8f7f24cd-1176-4240-9a00-efcd21b6f8ed",
   "metadata": {},
   "outputs": [
    {
     "data": {
      "text/plain": [
       "array([0.617, 0.527, 0.706, 0.351, 0.313, 0.66 , 0.911, 0.076, 0.513,\n",
       "       0.608])"
      ]
     },
     "execution_count": 71,
     "metadata": {},
     "output_type": "execute_result"
    }
   ],
   "source": [
    "p1=np.round(np.random.rand(10),3)\n",
    "p1"
   ]
  },
  {
   "cell_type": "code",
   "execution_count": null,
   "id": "e96b928b-25ae-413a-b590-2bd300239c36",
   "metadata": {},
   "outputs": [],
   "source": []
  },
  {
   "cell_type": "code",
   "execution_count": 72,
   "id": "9a1a47a0-6dfc-4d6a-9f99-23d8c9f9a568",
   "metadata": {},
   "outputs": [
    {
     "data": {
      "text/plain": [
       "11"
      ]
     },
     "execution_count": 72,
     "metadata": {},
     "output_type": "execute_result"
    }
   ],
   "source": [
    "np.random.randint(10,50)"
   ]
  },
  {
   "cell_type": "code",
   "execution_count": 73,
   "id": "48a78378-daa4-4686-965a-a85b5af1f067",
   "metadata": {},
   "outputs": [
    {
     "data": {
      "text/plain": [
       "array([23, 48, 37, 47, 48, 29, 34, 31, 26, 10, 28, 23, 13, 48, 20],\n",
       "      dtype=int32)"
      ]
     },
     "execution_count": 73,
     "metadata": {},
     "output_type": "execute_result"
    }
   ],
   "source": [
    "np.random.randint(10,50,15)"
   ]
  },
  {
   "cell_type": "code",
   "execution_count": null,
   "id": "96c71217-50e8-4068-b2ee-71c1bc9a11a0",
   "metadata": {},
   "outputs": [],
   "source": []
  },
  {
   "cell_type": "code",
   "execution_count": 74,
   "id": "ec8ca30e-8ee8-4519-a072-493ae3ff3279",
   "metadata": {},
   "outputs": [],
   "source": [
    "#generate 15 random numbers between 60 and 100 upto 2 decimal places\n",
    "\n",
    "# np.round(np.random.rand(15)+61,2) #Wrong way"
   ]
  },
  {
   "cell_type": "code",
   "execution_count": null,
   "id": "ec866f21-8d2b-47f4-ae2f-ac72b1af5461",
   "metadata": {},
   "outputs": [],
   "source": []
  },
  {
   "cell_type": "code",
   "execution_count": 75,
   "id": "5ecf3466-8ca0-490c-82e2-c43cdf1f3a99",
   "metadata": {},
   "outputs": [
    {
     "data": {
      "text/plain": [
       "array([70.56, 60.02, 91.16, 76.67, 96.06, 99.67, 94.41, 92.91, 94.16,\n",
       "       73.6 , 95.99, 88.55, 99.53, 97.85, 79.6 ])"
      ]
     },
     "execution_count": 75,
     "metadata": {},
     "output_type": "execute_result"
    }
   ],
   "source": [
    "np.random.randint(6000,10000,15)/100"
   ]
  },
  {
   "cell_type": "code",
   "execution_count": 76,
   "id": "f2255f20-c4b1-4a4e-86d7-7f2d686a1eb0",
   "metadata": {},
   "outputs": [
    {
     "name": "stdout",
     "output_type": "stream",
     "text": [
      "[0.04 0.76 0.11 0.49 0.76 0.17 0.09 0.27 0.6  0.59 0.86 0.45 0.7  0.3\n",
      " 0.44]\n",
      "[88 76 63 61 76 60 65 89 79 98 79 93 98 74 79]\n"
     ]
    }
   ],
   "source": [
    "p1=np.round(np.random.rand(15),2)\n",
    "print(p1)\n",
    "p2=np.random.randint(60,100,15)\n",
    "print(p2)\n"
   ]
  },
  {
   "cell_type": "code",
   "execution_count": 77,
   "id": "18b23f84-c7b3-44cf-9246-9fdcda6e7bdd",
   "metadata": {},
   "outputs": [
    {
     "name": "stdout",
     "output_type": "stream",
     "text": [
      "[88.04 76.76 63.11 61.49 76.76 60.17 65.09 89.27 79.6  98.59 79.86 93.45\n",
      " 98.7  74.3  79.44]\n"
     ]
    }
   ],
   "source": [
    "print(p1+p2)"
   ]
  },
  {
   "cell_type": "code",
   "execution_count": null,
   "id": "69ea5b58-8660-419b-babc-52174491bdc4",
   "metadata": {},
   "outputs": [],
   "source": []
  },
  {
   "cell_type": "code",
   "execution_count": null,
   "id": "50f9fa2b-822e-45c8-8f7f-a4fe76a1eacc",
   "metadata": {},
   "outputs": [],
   "source": []
  },
  {
   "cell_type": "code",
   "execution_count": 78,
   "id": "31362c7c-b0fb-4b11-bee9-21b43264a8b0",
   "metadata": {},
   "outputs": [],
   "source": [
    "#have a cheat sheet which will contain difficult concepts\n",
    "#easy concepts will always be on fingertips"
   ]
  },
  {
   "cell_type": "code",
   "execution_count": null,
   "id": "e8c12aa1-20bc-43d1-bebc-dcb924c2555a",
   "metadata": {},
   "outputs": [],
   "source": []
  },
  {
   "cell_type": "code",
   "execution_count": 79,
   "id": "1e5a1e15-0c25-4734-936f-cf50c508a4b7",
   "metadata": {},
   "outputs": [],
   "source": [
    "#DETERMINANTS"
   ]
  },
  {
   "cell_type": "code",
   "execution_count": null,
   "id": "49af459d-3aa7-4b3b-8ee6-9144426e13f2",
   "metadata": {},
   "outputs": [],
   "source": []
  },
  {
   "cell_type": "code",
   "execution_count": null,
   "id": "1f2321e3-a79e-42d5-bd04-1817664cfc4c",
   "metadata": {},
   "outputs": [],
   "source": []
  },
  {
   "cell_type": "code",
   "execution_count": null,
   "id": "d61ce080-1410-4cb1-91b8-4b989d5b7697",
   "metadata": {},
   "outputs": [],
   "source": []
  },
  {
   "cell_type": "code",
   "execution_count": null,
   "id": "2e85857d-2c41-452f-831b-96d9c963c454",
   "metadata": {},
   "outputs": [],
   "source": []
  },
  {
   "cell_type": "code",
   "execution_count": null,
   "id": "205b0115-c90c-430e-b529-64571426179e",
   "metadata": {},
   "outputs": [],
   "source": []
  },
  {
   "cell_type": "code",
   "execution_count": null,
   "id": "3b3a2e57-ae15-469b-9424-dd06be30c4fc",
   "metadata": {},
   "outputs": [],
   "source": []
  },
  {
   "cell_type": "code",
   "execution_count": null,
   "id": "23ac2acd-ef95-4717-925e-c478baefa9a2",
   "metadata": {},
   "outputs": [],
   "source": []
  },
  {
   "cell_type": "code",
   "execution_count": null,
   "id": "e2d4c6b5-c2e3-4cd0-a177-b61f56f0f9fc",
   "metadata": {},
   "outputs": [],
   "source": []
  },
  {
   "cell_type": "code",
   "execution_count": null,
   "id": "094bd2c4-5a23-4de3-b27b-88aecca881dc",
   "metadata": {},
   "outputs": [],
   "source": []
  },
  {
   "cell_type": "code",
   "execution_count": null,
   "id": "c545217d-fdd6-4f2f-b853-715e1df6f2a3",
   "metadata": {},
   "outputs": [],
   "source": []
  },
  {
   "cell_type": "code",
   "execution_count": null,
   "id": "62af2ee4-9fd4-4475-966d-b2b0d6e9bfa8",
   "metadata": {},
   "outputs": [],
   "source": []
  },
  {
   "cell_type": "code",
   "execution_count": null,
   "id": "25e3998f-71bd-4cdc-a02d-d1db7406641f",
   "metadata": {},
   "outputs": [],
   "source": []
  },
  {
   "cell_type": "code",
   "execution_count": null,
   "id": "a86d85cd-6d87-4ce3-bdd5-886089154e96",
   "metadata": {},
   "outputs": [],
   "source": []
  },
  {
   "cell_type": "code",
   "execution_count": null,
   "id": "cab7f005-2fb2-4a88-b169-92abfade8a86",
   "metadata": {},
   "outputs": [],
   "source": []
  },
  {
   "cell_type": "code",
   "execution_count": null,
   "id": "aa211212-f619-4a41-a3de-d814586b7525",
   "metadata": {},
   "outputs": [],
   "source": []
  }
 ],
 "metadata": {
  "kernelspec": {
   "display_name": "Python 3 (ipykernel)",
   "language": "python",
   "name": "python3"
  },
  "language_info": {
   "codemirror_mode": {
    "name": "ipython",
    "version": 3
   },
   "file_extension": ".py",
   "mimetype": "text/x-python",
   "name": "python",
   "nbconvert_exporter": "python",
   "pygments_lexer": "ipython3",
   "version": "3.12.7"
  }
 },
 "nbformat": 4,
 "nbformat_minor": 5
}
