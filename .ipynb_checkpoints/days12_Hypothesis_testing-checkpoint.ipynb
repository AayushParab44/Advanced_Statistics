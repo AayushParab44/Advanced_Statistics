{
 "cells": [
  {
   "cell_type": "code",
   "execution_count": 1,
   "id": "0e426282-a386-43b8-9892-bc1677a1ef58",
   "metadata": {},
   "outputs": [],
   "source": [
    "import statsmodels\n",
    "from statsmodels import stats\n",
    "from statsmodels.stats import weightstats as ssw"
   ]
  },
  {
   "cell_type": "code",
   "execution_count": null,
   "id": "c402a54d-e772-4de1-b3fb-8798ddaf2f21",
   "metadata": {},
   "outputs": [],
   "source": []
  },
  {
   "cell_type": "markdown",
   "id": "d0469a24-16f8-4fd5-9254-9bf211a614f6",
   "metadata": {},
   "source": []
  },
  {
   "cell_type": "markdown",
   "id": "816034e6-3374-4f2a-994c-7308a63ff5f7",
   "metadata": {},
   "source": [
    "# Hypothesis testing\n",
    "1. Establish the null (Ho) and the alternative hypothesis (Ha/ H1)\n",
    "Null hypothesis is made in such a way that if it is found to be true then<br>\n",
    "a. no action is needed<br>\n",
    "b. no decision is required<br>\n",
    "c. no changes are required<br>\n",
    "d. maintain status quo<br>\n",
    "\n",
    "Swiggy claims that max time of deliver is 40 min/ travel to CST\n",
    "Ho t < = 40\n",
    "Ha t > 40\n",
    "error is only on one side which is right side\n",
    "right tail test\n",
    "<br>\n",
    "Davendar claims that the min salary is 10 LPA/ purchasing rice\n",
    "\n",
    "Ho sal >= 10\n",
    "Ha sal < 10\n",
    "error is only on one side which is left side\n",
    "left tail test\n",
    "\n",
    "\n",
    "Ho voltage = 220\n",
    "Ha voltage not= 220\n",
    "error is on both sides\n",
    "two tail test\n",
    "\n",
    "\n",
    "2. Establish the confidence level and level of significance (LoS)\n",
    "Level of significance = 100 - confidence level\n",
    "Be default the CL = 95%\n",
    "\n",
    "3. Based on type of data and type of situation, choose the appropriate statistical test\n",
    "\n",
    "4. Based on data, calculate the test statistic and the p-value (done by Python)\n",
    "\n",
    "5. Compare the p-value (from Step#4) against the LoS (from step#2).\n",
    "\n",
    "<br>\n",
    "IF THE P-VALUE IS LESS THAN THE LOS THEN WE REJECT HO<br>\n",
    "IF THE P-VALUE IS MORE THAN THE LOS THEN WE DO NOT REJECT HO\n",
    "<br>\n",
    "<br>\n",
    "Type-I : REJECTING a Ho which is true - rejecting an important phone call\n",
    "<br>\n",
    "Type-II : NOT rejecting a Ho which is false - receiving a spam call\n",
    "<br>\n",
    "<br>\n",
    "p-value (from step#4) is the actual probability of committing the type-I error\n",
    "<br>\n",
    "LoS (from step#2) is the MAX allowed probability of committing the type-II error"
   ]
  },
  {
   "cell_type": "code",
   "execution_count": null,
   "id": "603dfcee-8bb3-4265-bbc2-962d2f2537c5",
   "metadata": {},
   "outputs": [],
   "source": []
  },
  {
   "cell_type": "markdown",
   "id": "39379345-6b75-46bd-ab5b-5065217de9d8",
   "metadata": {},
   "source": [
    "If something is true for a small population it is true for the entire population."
   ]
  },
  {
   "cell_type": "markdown",
   "id": "7ce6fb7a-f6a7-41c2-aa43-ab730f129dad",
   "metadata": {},
   "source": [
    "# Errors\n",
    "- Type 1 - when we reject the null hypothesis which is actually true we are commiting type1 error.<br>\n",
    "         - For example if we reject an important call like a job opportunity then we are commiting a type 1 error.\n",
    "- Type 2 - when we do not reject a null hypothesis which is actually false, we are commiting type2 error.<br>\n",
    "         - For example if we do not reject a spam call then we are commiting a type 2 error."
   ]
  },
  {
   "cell_type": "markdown",
   "id": "c4a09639-edd3-4fd6-901b-f42e7995b3ed",
   "metadata": {},
   "source": [
    "If we decrease the probability of the type 2 error then the probability of type 1 error increases."
   ]
  },
  {
   "cell_type": "code",
   "execution_count": null,
   "id": "d29126c4-2d00-4210-9cc0-204a4b8b2d1f",
   "metadata": {},
   "outputs": [],
   "source": []
  },
  {
   "cell_type": "markdown",
   "id": "c7221d0c-ab88-4dcc-b669-b4b79fada353",
   "metadata": {},
   "source": [
    "p-value - probability of commiting the type 1 error is called as the p-value."
   ]
  },
  {
   "cell_type": "markdown",
   "id": "ec48be41-32e7-4fc4-9569-58ff450960dc",
   "metadata": {},
   "source": [
    "Level of significance - is the maximum probabilty of commiting a type 1 error."
   ]
  },
  {
   "cell_type": "code",
   "execution_count": null,
   "id": "c5da529f-a0ec-47c9-b865-fc6126864bb1",
   "metadata": {},
   "outputs": [],
   "source": []
  },
  {
   "cell_type": "code",
   "execution_count": null,
   "id": "bbc8fd4d-c903-488c-9df0-d43b7ac1deca",
   "metadata": {},
   "outputs": [],
   "source": []
  }
 ],
 "metadata": {
  "kernelspec": {
   "display_name": "Python 3 (ipykernel)",
   "language": "python",
   "name": "python3"
  },
  "language_info": {
   "codemirror_mode": {
    "name": "ipython",
    "version": 3
   },
   "file_extension": ".py",
   "mimetype": "text/x-python",
   "name": "python",
   "nbconvert_exporter": "python",
   "pygments_lexer": "ipython3",
   "version": "3.12.7"
  }
 },
 "nbformat": 4,
 "nbformat_minor": 5
}
