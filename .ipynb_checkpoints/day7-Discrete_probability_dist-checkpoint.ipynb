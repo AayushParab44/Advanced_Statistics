{
 "cells": [
  {
   "cell_type": "code",
   "execution_count": 2,
   "id": "d19ca896-4c46-4056-bfcc-6afb5716eaaf",
   "metadata": {},
   "outputs": [],
   "source": [
    "import scipy\n",
    "from scipy import stats\n",
    "from scipy.stats import binom"
   ]
  },
  {
   "cell_type": "code",
   "execution_count": null,
   "id": "a8dbff0e-8400-4166-96b4-f8ef505d8381",
   "metadata": {},
   "outputs": [],
   "source": []
  },
  {
   "cell_type": "markdown",
   "id": "21a82473-e400-4ae6-9b52-b5dc9f20b986",
   "metadata": {},
   "source": [
    "# Discrete Probability Distribution\n",
    "- Binomial Distribution\n",
    "- Poission Distribution"
   ]
  },
  {
   "cell_type": "code",
   "execution_count": null,
   "id": "68adb14b-eec6-4cdd-90a4-14f2e35d0d04",
   "metadata": {},
   "outputs": [],
   "source": []
  },
  {
   "cell_type": "markdown",
   "id": "22b6ce6f-5b6b-438d-98c2-cf0b336e6cc6",
   "metadata": {},
   "source": [
    "# Discrete Probability Distribution\n",
    "- Binomial Distribution -\n",
    "  1. exactly 2 possible outcomes.\n",
    "  2. each outcome independent of each other.\n",
    "  3. outcome of probability will be the same - (1/2) or 0.7\n",
    "#                   \n",
    "- Poission Distribution - "
   ]
  },
  {
   "cell_type": "code",
   "execution_count": null,
   "id": "1014efef-dd8d-4d4e-8067-8297109688c1",
   "metadata": {},
   "outputs": [],
   "source": []
  },
  {
   "cell_type": "code",
   "execution_count": 5,
   "id": "8b85c6a3-c108-4b02-9059-effd9d668a57",
   "metadata": {},
   "outputs": [],
   "source": [
    "#prob of rain on nay given day=0.7\n",
    "\n",
    "#1. exactly 15 out of 20 days of rain\n",
    "#2. max 15 out of 20days(0-15, both inclusive)\n",
    "#3. min 15 out of 20 days(15-20, both inclusive)\n"
   ]
  },
  {
   "cell_type": "code",
   "execution_count": null,
   "id": "0c1487ad-332c-4f0e-b50b-d94bd6fea3a4",
   "metadata": {},
   "outputs": [],
   "source": []
  },
  {
   "cell_type": "code",
   "execution_count": 4,
   "id": "ff57ffd2-b839-40e6-9a5e-b095b544310f",
   "metadata": {},
   "outputs": [],
   "source": [
    "#pmf = probability mass function"
   ]
  },
  {
   "cell_type": "code",
   "execution_count": 28,
   "id": "343a2914-d682-4281-b037-8b8bedbf6b55",
   "metadata": {},
   "outputs": [],
   "source": []
  },
  {
   "cell_type": "code",
   "execution_count": 29,
   "id": "7203a146-ba9d-4bb0-b52a-5995734b16b8",
   "metadata": {},
   "outputs": [
    {
     "data": {
      "text/plain": [
       "np.float64(0.1788630505698796)"
      ]
     },
     "execution_count": 29,
     "metadata": {},
     "output_type": "execute_result"
    }
   ],
   "source": [
    "#1\n",
    "binom.pmf(15,20,.7)  "
   ]
  },
  {
   "cell_type": "code",
   "execution_count": null,
   "id": "71a109a0-a051-4920-ad93-d91dbd3242fd",
   "metadata": {},
   "outputs": [],
   "source": []
  },
  {
   "cell_type": "code",
   "execution_count": 8,
   "id": "14ca6e18-6acd-41d9-ae42-91a7b7a9813a",
   "metadata": {},
   "outputs": [
    {
     "data": {
      "text/plain": [
       "np.float64(0.7624922211223986)"
      ]
     },
     "execution_count": 8,
     "metadata": {},
     "output_type": "execute_result"
    }
   ],
   "source": [
    "#2. will rain at max 15 days\n",
    "# binom.pmf(0,20,0.7)+binom.pmf(1,20,0.7)+binom.pmf(2,20,0.7)+binom.pmf(3,20,0.7)+binom.pmf(4,20,0.7)+.......+binom.pmf(15,20,0.7)\n",
    "binom.cdf(15,20,.7)  #cumulative distribution function\n"
   ]
  },
  {
   "cell_type": "code",
   "execution_count": 9,
   "id": "9a4ec417-d43a-40e7-a941-0d1108cdf6e3",
   "metadata": {},
   "outputs": [
    {
     "name": "stdout",
     "output_type": "stream",
     "text": [
      "0.7624922211223979\n"
     ]
    }
   ],
   "source": [
    "sm=0\n",
    "for i in range(16):\n",
    "    sm+=binom.pmf(i,20,.7) \n",
    "\n",
    "print(sm)"
   ]
  },
  {
   "cell_type": "code",
   "execution_count": null,
   "id": "568dba9c-c3f5-45e2-8408-c812e7274eef",
   "metadata": {},
   "outputs": [],
   "source": []
  },
  {
   "cell_type": "code",
   "execution_count": null,
   "id": "c149eecd-0c80-4dd8-a556-c0959e81f585",
   "metadata": {},
   "outputs": [],
   "source": []
  },
  {
   "cell_type": "code",
   "execution_count": 15,
   "id": "6f4f8407-4085-4cfe-a8be-252d3dc03eaa",
   "metadata": {},
   "outputs": [
    {
     "data": {
      "text/plain": [
       "np.float64(0.41637082944748083)"
      ]
     },
     "execution_count": 15,
     "metadata": {},
     "output_type": "execute_result"
    }
   ],
   "source": [
    "#binom.sf -survival function\n",
    "#3.\n",
    "sum([binom.pmf(15,20,.7),binom.pmf(16,20,.7),binom.pmf(17,20,.7),binom.pmf(18,20,.7),binom.pmf(19,20,.7),binom.pmf(20,20,.7)])"
   ]
  },
  {
   "cell_type": "code",
   "execution_count": 23,
   "id": "786c3802-31d3-45a3-bb9f-3f83948829d8",
   "metadata": {},
   "outputs": [
    {
     "data": {
      "text/plain": [
       "np.float64(0.41637082944748105)"
      ]
     },
     "execution_count": 23,
     "metadata": {},
     "output_type": "execute_result"
    }
   ],
   "source": [
    "1-binom.cdf(14,20,0.7)"
   ]
  },
  {
   "cell_type": "code",
   "execution_count": null,
   "id": "22849de8-a9c9-487e-9f36-c7664461014e",
   "metadata": {},
   "outputs": [],
   "source": []
  },
  {
   "cell_type": "code",
   "execution_count": null,
   "id": "8658f639-1958-4342-aaa4-efdc95281ee7",
   "metadata": {},
   "outputs": [],
   "source": []
  },
  {
   "cell_type": "code",
   "execution_count": 25,
   "id": "5da70684-1324-4bbe-8606-96f784711868",
   "metadata": {},
   "outputs": [],
   "source": [
    "#Example-"
   ]
  },
  {
   "cell_type": "code",
   "execution_count": 26,
   "id": "b9ee3042-9c6c-4833-aa88-9302b5c28afb",
   "metadata": {},
   "outputs": [
    {
     "data": {
      "text/plain": [
       "np.float64(0.1322999999999999)"
      ]
     },
     "execution_count": 26,
     "metadata": {},
     "output_type": "execute_result"
    }
   ],
   "source": [
    "binom.pmf(3,5,0.3)"
   ]
  },
  {
   "cell_type": "code",
   "execution_count": 27,
   "id": "9756dedb-86a7-490e-be00-e3b1a9a9c57e",
   "metadata": {},
   "outputs": [
    {
     "data": {
      "text/plain": [
       "0.013229999999999999"
      ]
     },
     "execution_count": 27,
     "metadata": {},
     "output_type": "execute_result"
    }
   ],
   "source": [
    "0.3*0.3*0.3*.7*.7"
   ]
  },
  {
   "cell_type": "code",
   "execution_count": null,
   "id": "68f1a4ab-e03e-4eaa-98b9-cd47989b5eea",
   "metadata": {},
   "outputs": [],
   "source": []
  },
  {
   "cell_type": "code",
   "execution_count": null,
   "id": "b0bb88c1-c9b5-4fd8-bbdd-e15b09689daf",
   "metadata": {},
   "outputs": [],
   "source": []
  },
  {
   "cell_type": "code",
   "execution_count": null,
   "id": "67de27f3-bb60-43d4-b6a7-e67136184baf",
   "metadata": {},
   "outputs": [],
   "source": []
  }
 ],
 "metadata": {
  "kernelspec": {
   "display_name": "Python 3 (ipykernel)",
   "language": "python",
   "name": "python3"
  },
  "language_info": {
   "codemirror_mode": {
    "name": "ipython",
    "version": 3
   },
   "file_extension": ".py",
   "mimetype": "text/x-python",
   "name": "python",
   "nbconvert_exporter": "python",
   "pygments_lexer": "ipython3",
   "version": "3.12.7"
  }
 },
 "nbformat": 4,
 "nbformat_minor": 5
}
