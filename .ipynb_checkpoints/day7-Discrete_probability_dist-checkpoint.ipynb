{
 "cells": [
  {
   "cell_type": "code",
   "execution_count": 92,
   "id": "d19ca896-4c46-4056-bfcc-6afb5716eaaf",
   "metadata": {},
   "outputs": [],
   "source": [
    "import scipy\n",
    "from scipy import stats\n",
    "from scipy.stats import binom\n",
    "from scipy.stats import poisson"
   ]
  },
  {
   "cell_type": "markdown",
   "id": "c734a3a1-5521-40bf-94b9-c65d467d87ab",
   "metadata": {},
   "source": [
    "# Hints-\n",
    "- more than 10    >10      sf(10,)\n",
    "- min 10          >=10     sf(9,)\n",
    "- atleast 10      >=10     sf(9,)\n",
    "- upto 4          <=4      cd(4,)\n",
    "- less than 4     <4       cd(4,)\n",
    "- atmost 4        <=4      cd(4,)"
   ]
  },
  {
   "cell_type": "markdown",
   "id": "21a82473-e400-4ae6-9b52-b5dc9f20b986",
   "metadata": {},
   "source": [
    "# Discrete Probability Distribution\n",
    "- Binomial Distribution\n",
    "- Poisson Distribution"
   ]
  },
  {
   "cell_type": "code",
   "execution_count": null,
   "id": "68adb14b-eec6-4cdd-90a4-14f2e35d0d04",
   "metadata": {},
   "outputs": [],
   "source": []
  },
  {
   "cell_type": "markdown",
   "id": "22b6ce6f-5b6b-438d-98c2-cf0b336e6cc6",
   "metadata": {},
   "source": [
    "# Discrete Probability Distribution\n",
    "- Binomial Distribution -\n",
    "  1. exactly 2 possible outcomes.\n",
    "  2. each outcome independent of each other.\n",
    "  3. outcome of probability will be the same - (1/2) or (0.7 and 0.3)\n",
    "#                   \n",
    "- Poission Distribution -\n",
    "  1. it is the probability of an event occuring when the probability of that event occuring is calculated based on historical data."
   ]
  },
  {
   "cell_type": "code",
   "execution_count": null,
   "id": "1014efef-dd8d-4d4e-8067-8297109688c1",
   "metadata": {},
   "outputs": [],
   "source": []
  },
  {
   "cell_type": "code",
   "execution_count": 93,
   "id": "8b85c6a3-c108-4b02-9059-effd9d668a57",
   "metadata": {},
   "outputs": [],
   "source": [
    "#prob of rain on any given day=0.7\n",
    "\n",
    "#1. exactly 15 out of 20 days of rain\n",
    "#2. max 15 out of 20days(0-15, both inclusive)\n",
    "#3. min 15 out of 20 days(15-20, both inclusive)\n"
   ]
  },
  {
   "cell_type": "code",
   "execution_count": null,
   "id": "0c1487ad-332c-4f0e-b50b-d94bd6fea3a4",
   "metadata": {},
   "outputs": [],
   "source": []
  },
  {
   "cell_type": "code",
   "execution_count": 94,
   "id": "ff57ffd2-b839-40e6-9a5e-b095b544310f",
   "metadata": {},
   "outputs": [],
   "source": [
    "#pmf = probability mass function"
   ]
  },
  {
   "cell_type": "code",
   "execution_count": null,
   "id": "343a2914-d682-4281-b037-8b8bedbf6b55",
   "metadata": {},
   "outputs": [],
   "source": []
  },
  {
   "cell_type": "code",
   "execution_count": 95,
   "id": "98ad387a-4237-4b10-a7ba-7cc8ca7ea1d3",
   "metadata": {},
   "outputs": [
    {
     "data": {
      "text/plain": [
       "np.float64(0.1788630505698796)"
      ]
     },
     "execution_count": 95,
     "metadata": {},
     "output_type": "execute_result"
    }
   ],
   "source": [
    "#1\n",
    "binom.pmf(15,20,.7)  "
   ]
  },
  {
   "cell_type": "code",
   "execution_count": 96,
   "id": "9341cc5c-f76c-492d-9652-479196dbdf15",
   "metadata": {},
   "outputs": [
    {
     "data": {
      "text/plain": [
       "0.17886305056987956"
      ]
     },
     "execution_count": 96,
     "metadata": {},
     "output_type": "execute_result"
    }
   ],
   "source": [
    "import math\n",
    "math.pow(0.7,15)*math.pow(0.3,5)*math.comb(20,15)    #20C15"
   ]
  },
  {
   "cell_type": "code",
   "execution_count": null,
   "id": "71a109a0-a051-4920-ad93-d91dbd3242fd",
   "metadata": {},
   "outputs": [],
   "source": []
  },
  {
   "cell_type": "code",
   "execution_count": 97,
   "id": "14ca6e18-6acd-41d9-ae42-91a7b7a9813a",
   "metadata": {},
   "outputs": [
    {
     "data": {
      "text/plain": [
       "np.float64(0.7624922211223986)"
      ]
     },
     "execution_count": 97,
     "metadata": {},
     "output_type": "execute_result"
    }
   ],
   "source": [
    "#2. will rain at max 15 days\n",
    "# binom.pmf(0,20,0.7)+binom.pmf(1,20,0.7)+binom.pmf(2,20,0.7)+binom.pmf(3,20,0.7)+binom.pmf(4,20,0.7)+.......+binom.pmf(15,20,0.7)\n",
    "binom.cdf(15,20,.7)  #cumulative distribution function\n"
   ]
  },
  {
   "cell_type": "code",
   "execution_count": 98,
   "id": "9a4ec417-d43a-40e7-a941-0d1108cdf6e3",
   "metadata": {},
   "outputs": [
    {
     "name": "stdout",
     "output_type": "stream",
     "text": [
      "0.7624922211223979\n"
     ]
    }
   ],
   "source": [
    "sm=0\n",
    "for i in range(16):\n",
    "    sm+=binom.pmf(i,20,.7) \n",
    "\n",
    "print(sm)"
   ]
  },
  {
   "cell_type": "code",
   "execution_count": null,
   "id": "568dba9c-c3f5-45e2-8408-c812e7274eef",
   "metadata": {},
   "outputs": [],
   "source": []
  },
  {
   "cell_type": "code",
   "execution_count": null,
   "id": "c149eecd-0c80-4dd8-a556-c0959e81f585",
   "metadata": {},
   "outputs": [],
   "source": []
  },
  {
   "cell_type": "code",
   "execution_count": 99,
   "id": "6f4f8407-4085-4cfe-a8be-252d3dc03eaa",
   "metadata": {},
   "outputs": [
    {
     "data": {
      "text/plain": [
       "np.float64(0.41637082944748083)"
      ]
     },
     "execution_count": 99,
     "metadata": {},
     "output_type": "execute_result"
    }
   ],
   "source": [
    "#binom.sf -survival function\n",
    "#3.\n",
    "sum([binom.pmf(15,20,.7),binom.pmf(16,20,.7),binom.pmf(17,20,.7),binom.pmf(18,20,.7),binom.pmf(19,20,.7),binom.pmf(20,20,.7)])"
   ]
  },
  {
   "cell_type": "code",
   "execution_count": 100,
   "id": "786c3802-31d3-45a3-bb9f-3f83948829d8",
   "metadata": {},
   "outputs": [
    {
     "data": {
      "text/plain": [
       "np.float64(0.41637082944748105)"
      ]
     },
     "execution_count": 100,
     "metadata": {},
     "output_type": "execute_result"
    }
   ],
   "source": [
    "1-binom.cdf(14,20,0.7)"
   ]
  },
  {
   "cell_type": "code",
   "execution_count": null,
   "id": "22849de8-a9c9-487e-9f36-c7664461014e",
   "metadata": {},
   "outputs": [],
   "source": []
  },
  {
   "cell_type": "code",
   "execution_count": null,
   "id": "8658f639-1958-4342-aaa4-efdc95281ee7",
   "metadata": {},
   "outputs": [],
   "source": []
  },
  {
   "cell_type": "code",
   "execution_count": 101,
   "id": "5da70684-1324-4bbe-8606-96f784711868",
   "metadata": {},
   "outputs": [],
   "source": [
    "#Example-"
   ]
  },
  {
   "cell_type": "code",
   "execution_count": 102,
   "id": "b9ee3042-9c6c-4833-aa88-9302b5c28afb",
   "metadata": {},
   "outputs": [
    {
     "data": {
      "text/plain": [
       "np.float64(0.3086999999999999)"
      ]
     },
     "execution_count": 102,
     "metadata": {},
     "output_type": "execute_result"
    }
   ],
   "source": [
    "binom.pmf(3,5,0.7)"
   ]
  },
  {
   "cell_type": "code",
   "execution_count": 103,
   "id": "9756dedb-86a7-490e-be00-e3b1a9a9c57e",
   "metadata": {},
   "outputs": [
    {
     "data": {
      "text/plain": [
       "0.030869999999999998"
      ]
     },
     "execution_count": 103,
     "metadata": {},
     "output_type": "execute_result"
    }
   ],
   "source": [
    "0.3*0.3*.7*.7*0.7"
   ]
  },
  {
   "cell_type": "code",
   "execution_count": 104,
   "id": "68f1a4ab-e03e-4eaa-98b9-cd47989b5eea",
   "metadata": {},
   "outputs": [
    {
     "data": {
      "text/plain": [
       "0.03086999999999999"
      ]
     },
     "execution_count": 104,
     "metadata": {},
     "output_type": "execute_result"
    }
   ],
   "source": [
    ".3**2*.7**3"
   ]
  },
  {
   "cell_type": "code",
   "execution_count": null,
   "id": "b0bb88c1-c9b5-4fd8-bbdd-e15b09689daf",
   "metadata": {},
   "outputs": [],
   "source": []
  },
  {
   "cell_type": "code",
   "execution_count": null,
   "id": "67de27f3-bb60-43d4-b6a7-e67136184baf",
   "metadata": {},
   "outputs": [],
   "source": []
  },
  {
   "cell_type": "code",
   "execution_count": 105,
   "id": "d4861910-1342-4f7d-a37c-1b7eb16105ec",
   "metadata": {},
   "outputs": [],
   "source": [
    "import math\n",
    "\n",
    "result = math.comb(5, 3) "
   ]
  },
  {
   "cell_type": "code",
   "execution_count": 106,
   "id": "d80786a7-43d7-497e-b08f-19881a189ab0",
   "metadata": {},
   "outputs": [],
   "source": [
    "a=math.comb(5, 3)*(0.7**3)*(0.3**2)"
   ]
  },
  {
   "cell_type": "code",
   "execution_count": 107,
   "id": "e0b3371d-f4bb-444a-90a1-6e6876d14b17",
   "metadata": {},
   "outputs": [],
   "source": [
    "b=math.comb(5, 2)*(0.7**2)*(0.3**3)"
   ]
  },
  {
   "cell_type": "code",
   "execution_count": 108,
   "id": "6eba74a0-57f5-49ca-87c0-5fd2c096561c",
   "metadata": {},
   "outputs": [],
   "source": [
    "c=math.comb(5, 1)*(0.7**1)*(0.3**4)"
   ]
  },
  {
   "cell_type": "code",
   "execution_count": 109,
   "id": "01d801a9-0fbd-452c-bd8f-07a07863cf56",
   "metadata": {},
   "outputs": [],
   "source": [
    "d=math.comb(5, 0)*(0.7**0)*(0.3**5)"
   ]
  },
  {
   "cell_type": "code",
   "execution_count": 110,
   "id": "d715006d-9aee-49be-b309-4b32fb69a976",
   "metadata": {},
   "outputs": [
    {
     "data": {
      "text/plain": [
       "0.47177999999999987"
      ]
     },
     "execution_count": 110,
     "metadata": {},
     "output_type": "execute_result"
    }
   ],
   "source": [
    "result=a+b+c+d\n",
    "result\n"
   ]
  },
  {
   "cell_type": "code",
   "execution_count": 111,
   "id": "a523b66c-eae8-4fcf-ad27-688faa77cbcc",
   "metadata": {},
   "outputs": [
    {
     "data": {
      "text/plain": [
       "np.float64(0.4717800000000001)"
      ]
     },
     "execution_count": 111,
     "metadata": {},
     "output_type": "execute_result"
    }
   ],
   "source": [
    "binom.cdf(3,5,0.7)  #It will rain for at max 3 out of 5 days"
   ]
  },
  {
   "cell_type": "code",
   "execution_count": null,
   "id": "06cd350d-3c0b-4ad2-842b-94b794a5f0aa",
   "metadata": {},
   "outputs": [],
   "source": []
  },
  {
   "cell_type": "code",
   "execution_count": 112,
   "id": "5f953bf8-f9ad-4d31-ae44-523743380837",
   "metadata": {},
   "outputs": [
    {
     "name": "stdout",
     "output_type": "stream",
     "text": [
      "0.20132659199999978\n",
      "0.8791261184000001\n",
      "0.8791261184000001\n"
     ]
    }
   ],
   "source": [
    "#prob of students getting a job=0.8\n",
    "\n",
    "#batch size=10\n",
    "\n",
    "# prob.-\n",
    "# 1. exactly 7 students getting a job\n",
    "# 2. min 7 getting a job\n",
    "\n",
    "\n",
    "print(binom.pmf(7,10,.8))\n",
    "print(1-binom.cdf(6,10,0.8))\n",
    "print(binom.sf(6,10,0.8))"
   ]
  },
  {
   "cell_type": "code",
   "execution_count": null,
   "id": "66b5a360-47ba-4a91-8b14-c31223824148",
   "metadata": {},
   "outputs": [],
   "source": []
  },
  {
   "cell_type": "code",
   "execution_count": 113,
   "id": "9fd03717-5961-4ae8-9a66-903a191ccea6",
   "metadata": {},
   "outputs": [
    {
     "data": {
      "text/plain": [
       "np.float64(0.8791261184000001)"
      ]
     },
     "execution_count": 113,
     "metadata": {},
     "output_type": "execute_result"
    }
   ],
   "source": [
    "binom.sf(6,10,.8)"
   ]
  },
  {
   "cell_type": "code",
   "execution_count": null,
   "id": "721fbca9-ec5c-423e-88ed-5d1c34190b0d",
   "metadata": {},
   "outputs": [],
   "source": []
  },
  {
   "cell_type": "code",
   "execution_count": null,
   "id": "066fa52d-e564-4984-9fb6-5bcde758e62a",
   "metadata": {},
   "outputs": [],
   "source": []
  },
  {
   "cell_type": "markdown",
   "id": "4e24b990-8bea-4faa-94a0-733997c88942",
   "metadata": {},
   "source": [
    "# Poisson distribution - \n",
    "On an average a particular event occurs 30 times.\n",
    "\n",
    "poisson pmf is an event occuring exactly 28 times out of a usual average of 30 days"
   ]
  },
  {
   "cell_type": "code",
   "execution_count": 136,
   "id": "ece071ee-fc94-4503-b7c8-1e6a02c419ca",
   "metadata": {},
   "outputs": [
    {
     "data": {
      "text/plain": [
       "np.float64(0.07021337558920529)"
      ]
     },
     "execution_count": 136,
     "metadata": {},
     "output_type": "execute_result"
    }
   ],
   "source": [
    "poisson.pmf(28,30)"
   ]
  },
  {
   "cell_type": "code",
   "execution_count": 115,
   "id": "dd87cd4e-2774-478d-b484-5db25be7fc97",
   "metadata": {},
   "outputs": [
    {
     "data": {
      "text/plain": [
       "np.float64(0.40308245963472844)"
      ]
     },
     "execution_count": 115,
     "metadata": {},
     "output_type": "execute_result"
    }
   ],
   "source": [
    "poisson.cdf(28,30)    #at max 28 times"
   ]
  },
  {
   "cell_type": "code",
   "execution_count": null,
   "id": "9fadc5ea-d3f3-49ea-b104-23251f1eb3cc",
   "metadata": {},
   "outputs": [],
   "source": []
  },
  {
   "cell_type": "code",
   "execution_count": null,
   "id": "5f345a98-1b67-4676-9dfc-1c7b064ccd24",
   "metadata": {},
   "outputs": [],
   "source": []
  },
  {
   "cell_type": "code",
   "execution_count": 116,
   "id": "84a10ad5-31cb-45a9-a3b5-78f9faec1ae8",
   "metadata": {},
   "outputs": [
    {
     "data": {
      "text/plain": [
       "np.float64(0.6671309159544766)"
      ]
     },
     "execution_count": 116,
     "metadata": {},
     "output_type": "execute_result"
    }
   ],
   "source": [
    "#min 28 sms\n",
    "1-poisson.cdf(27,30)"
   ]
  },
  {
   "cell_type": "code",
   "execution_count": 117,
   "id": "f96af9a6-642d-4ea2-919a-af5921f5725f",
   "metadata": {},
   "outputs": [
    {
     "data": {
      "text/plain": [
       "np.float64(0.6671309159544766)"
      ]
     },
     "execution_count": 117,
     "metadata": {},
     "output_type": "execute_result"
    }
   ],
   "source": [
    "poisson.sf(27,30)"
   ]
  },
  {
   "cell_type": "code",
   "execution_count": null,
   "id": "fd682bc5-71c7-4527-9e68-eb9fd821c341",
   "metadata": {},
   "outputs": [],
   "source": []
  },
  {
   "cell_type": "code",
   "execution_count": 118,
   "id": "d578344e-929b-426e-9def-579275255340",
   "metadata": {},
   "outputs": [],
   "source": [
    "#Poisson Question-\n"
   ]
  },
  {
   "cell_type": "code",
   "execution_count": 119,
   "id": "b36f0032-2631-42a9-83f6-0412c14b5102",
   "metadata": {},
   "outputs": [
    {
     "data": {
      "text/plain": [
       "(5.2, 5.13)"
      ]
     },
     "execution_count": 119,
     "metadata": {},
     "output_type": "execute_result"
    }
   ],
   "source": [
    "5.2,5.13"
   ]
  },
  {
   "cell_type": "code",
   "execution_count": 120,
   "id": "171c3e12-91df-4fdf-a0c6-d1e23b8a351a",
   "metadata": {},
   "outputs": [],
   "source": [
    "# 5.1\n"
   ]
  },
  {
   "cell_type": "code",
   "execution_count": 121,
   "id": "d64d965d-a22c-4d3c-a060-4ec85a4911ba",
   "metadata": {},
   "outputs": [
    {
     "data": {
      "text/plain": [
       "np.float64(0.14226971793817617)"
      ]
     },
     "execution_count": 121,
     "metadata": {},
     "output_type": "execute_result"
    }
   ],
   "source": [
    "#1. \n",
    "binom.sf(8,16,0.4)"
   ]
  },
  {
   "cell_type": "code",
   "execution_count": 122,
   "id": "28a6f56b-500c-46e3-8330-a163a30685d4",
   "metadata": {},
   "outputs": [
    {
     "data": {
      "text/plain": [
       "np.float64(0.5088368991928315)"
      ]
     },
     "execution_count": 122,
     "metadata": {},
     "output_type": "execute_result"
    }
   ],
   "source": [
    "#2.\n",
    "binom.cdf(6,16,0.4)-binom.cdf(2,16,0.4)"
   ]
  },
  {
   "cell_type": "code",
   "execution_count": 123,
   "id": "f2fe7ed9-59a9-4cd4-be9b-4b73e787106a",
   "metadata": {},
   "outputs": [
    {
     "data": {
      "text/plain": [
       "np.float64(0.13763741035165464)"
      ]
     },
     "execution_count": 123,
     "metadata": {},
     "output_type": "execute_result"
    }
   ],
   "source": [
    "#3. \n",
    "binom.pmf(10,13,0.88)"
   ]
  },
  {
   "cell_type": "code",
   "execution_count": 124,
   "id": "455eb4b9-b4cf-4615-b2ad-faf8ff87cdd3",
   "metadata": {},
   "outputs": [
    {
     "data": {
      "text/plain": [
       "np.float64(0.8015124409082108)"
      ]
     },
     "execution_count": 124,
     "metadata": {},
     "output_type": "execute_result"
    }
   ],
   "source": [
    "#3. other\n",
    "1-binom.cdf(10,13,0.88)\n",
    "# binom.sf(10,13,0.88)\n"
   ]
  },
  {
   "cell_type": "code",
   "execution_count": 125,
   "id": "de343769-c03e-4051-9287-3ac4fff31fa8",
   "metadata": {},
   "outputs": [
    {
     "data": {
      "text/plain": [
       "np.float64(0.18979061712307926)"
      ]
     },
     "execution_count": 125,
     "metadata": {},
     "output_type": "execute_result"
    }
   ],
   "source": [
    "#4.\n",
    "binom.pmf(13,13,.88)"
   ]
  },
  {
   "cell_type": "code",
   "execution_count": null,
   "id": "59d53793-85ec-4014-a668-42d41ddf3370",
   "metadata": {},
   "outputs": [],
   "source": []
  },
  {
   "cell_type": "code",
   "execution_count": null,
   "id": "a0cf6068-6026-462c-a2ed-7423a7edd004",
   "metadata": {},
   "outputs": [],
   "source": []
  },
  {
   "cell_type": "code",
   "execution_count": null,
   "id": "9e40d3d7-f130-41b3-9ef2-74b7fa89a8da",
   "metadata": {},
   "outputs": [],
   "source": []
  },
  {
   "cell_type": "code",
   "execution_count": 126,
   "id": "2e80a40a-9b6d-4d98-9a66-3053b65d54fb",
   "metadata": {},
   "outputs": [
    {
     "data": {
      "text/plain": [
       "np.float64(0.5857749563658708)"
      ]
     },
     "execution_count": 126,
     "metadata": {},
     "output_type": "execute_result"
    }
   ],
   "source": [
    "#Binomial example\n",
    "#1.\n",
    "1-binom.cdf(14,25,.6)"
   ]
  },
  {
   "cell_type": "code",
   "execution_count": 127,
   "id": "74eeb346-8a7c-4a59-859e-8fe9f18eee65",
   "metadata": {},
   "outputs": [
    {
     "data": {
      "text/plain": [
       "np.float64(0.5857749563658708)"
      ]
     },
     "execution_count": 127,
     "metadata": {},
     "output_type": "execute_result"
    }
   ],
   "source": [
    "#Binomial example\n",
    "#1.\n",
    "binom.sf(14,25,.6)"
   ]
  },
  {
   "cell_type": "code",
   "execution_count": 128,
   "id": "7a767adc-6b9f-4535-9af4-fae0f55d938f",
   "metadata": {},
   "outputs": [
    {
     "data": {
      "text/plain": [
       "np.float64(0.009470830925190077)"
      ]
     },
     "execution_count": 128,
     "metadata": {},
     "output_type": "execute_result"
    }
   ],
   "source": [
    "#2.\n",
    "binom.sf(20,25,0.6)\n"
   ]
  },
  {
   "cell_type": "code",
   "execution_count": 129,
   "id": "d0b815de-ed48-4c9f-b823-b2d3ecec07d0",
   "metadata": {},
   "outputs": [
    {
     "data": {
      "text/plain": [
       "np.float64(0.013169073488885857)"
      ]
     },
     "execution_count": 129,
     "metadata": {},
     "output_type": "execute_result"
    }
   ],
   "source": [
    "#3.\n",
    "binom.cdf(9,25,0.6)"
   ]
  },
  {
   "cell_type": "code",
   "execution_count": null,
   "id": "c173f94f-86e8-42a5-b46d-9b4cc2234e54",
   "metadata": {},
   "outputs": [],
   "source": []
  },
  {
   "cell_type": "code",
   "execution_count": null,
   "id": "83cc90d7-5229-437e-b96c-052b28e30a33",
   "metadata": {},
   "outputs": [],
   "source": []
  },
  {
   "cell_type": "code",
   "execution_count": null,
   "id": "5d81f851-557c-47d0-b9f6-ee222ff25ef8",
   "metadata": {},
   "outputs": [],
   "source": []
  },
  {
   "cell_type": "code",
   "execution_count": 130,
   "id": "ccad2705-3aab-4907-a8f1-1d3cc0f6d857",
   "metadata": {},
   "outputs": [],
   "source": [
    "# probability to answer is 0.7. In exam of 10qns what is probability that i will get 40 % marks"
   ]
  },
  {
   "cell_type": "code",
   "execution_count": 131,
   "id": "6d614bc8-e9bd-470e-8904-abadd8d14d95",
   "metadata": {},
   "outputs": [
    {
     "data": {
      "text/plain": [
       "np.float64(0.9894079216)"
      ]
     },
     "execution_count": 131,
     "metadata": {},
     "output_type": "execute_result"
    }
   ],
   "source": [
    "1-binom.cdf(3,10,0.7)"
   ]
  },
  {
   "cell_type": "code",
   "execution_count": 132,
   "id": "5f852546-d72b-44f1-8e41-f8862fd7a445",
   "metadata": {},
   "outputs": [
    {
     "data": {
      "text/plain": [
       "np.float64(0.9894079216)"
      ]
     },
     "execution_count": 132,
     "metadata": {},
     "output_type": "execute_result"
    }
   ],
   "source": [
    "binom.sf(3,10,0.7)"
   ]
  },
  {
   "cell_type": "code",
   "execution_count": null,
   "id": "5a3f4f3c-5425-4ddc-9e70-b136e3c121f5",
   "metadata": {},
   "outputs": [],
   "source": []
  },
  {
   "cell_type": "code",
   "execution_count": null,
   "id": "1cb3f59f-29cb-4b0b-ba71-e6f1d3fe7af1",
   "metadata": {},
   "outputs": [],
   "source": []
  },
  {
   "cell_type": "code",
   "execution_count": 133,
   "id": "1fb53eb2-95d9-41b5-bc8a-fc9e93613464",
   "metadata": {},
   "outputs": [],
   "source": [
    "#binomial\n"
   ]
  },
  {
   "cell_type": "code",
   "execution_count": null,
   "id": "d103ad8a-4fca-492c-8050-024fdffcc63f",
   "metadata": {},
   "outputs": [],
   "source": []
  },
  {
   "cell_type": "code",
   "execution_count": null,
   "id": "f6e8e329-9bbf-45bb-951f-eaf7e42f72b8",
   "metadata": {},
   "outputs": [],
   "source": []
  }
 ],
 "metadata": {
  "kernelspec": {
   "display_name": "Python 3 (ipykernel)",
   "language": "python",
   "name": "python3"
  },
  "language_info": {
   "codemirror_mode": {
    "name": "ipython",
    "version": 3
   },
   "file_extension": ".py",
   "mimetype": "text/x-python",
   "name": "python",
   "nbconvert_exporter": "python",
   "pygments_lexer": "ipython3",
   "version": "3.12.7"
  }
 },
 "nbformat": 4,
 "nbformat_minor": 5
}
