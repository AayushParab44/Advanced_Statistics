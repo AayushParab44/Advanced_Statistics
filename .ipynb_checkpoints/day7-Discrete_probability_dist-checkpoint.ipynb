{
 "cells": [
  {
   "cell_type": "code",
   "execution_count": 3,
   "id": "d19ca896-4c46-4056-bfcc-6afb5716eaaf",
   "metadata": {},
   "outputs": [],
   "source": [
    "import scipy\n",
    "from scipy import stats\n",
    "from scipy.stats import binom\n",
    "from scipy.stats import poisson"
   ]
  },
  {
   "cell_type": "code",
   "execution_count": null,
   "id": "a8dbff0e-8400-4166-96b4-f8ef505d8381",
   "metadata": {},
   "outputs": [],
   "source": []
  },
  {
   "cell_type": "markdown",
   "id": "21a82473-e400-4ae6-9b52-b5dc9f20b986",
   "metadata": {},
   "source": [
    "# Discrete Probability Distribution\n",
    "- Binomial Distribution\n",
    "- Poisson Distribution"
   ]
  },
  {
   "cell_type": "code",
   "execution_count": null,
   "id": "68adb14b-eec6-4cdd-90a4-14f2e35d0d04",
   "metadata": {},
   "outputs": [],
   "source": []
  },
  {
   "cell_type": "markdown",
   "id": "22b6ce6f-5b6b-438d-98c2-cf0b336e6cc6",
   "metadata": {},
   "source": [
    "# Discrete Probability Distribution\n",
    "- Binomial Distribution -\n",
    "  1. exactly 2 possible outcomes.\n",
    "  2. each outcome independent of each other.\n",
    "  3. outcome of probability will be the same - (1/2) or 0.7\n",
    "#                   \n",
    "- Poission Distribution -\n",
    "  1. it is the probability of an event occuring when the probability of that event occuring is calculated based on historical data."
   ]
  },
  {
   "cell_type": "code",
   "execution_count": null,
   "id": "1014efef-dd8d-4d4e-8067-8297109688c1",
   "metadata": {},
   "outputs": [],
   "source": []
  },
  {
   "cell_type": "code",
   "execution_count": 4,
   "id": "8b85c6a3-c108-4b02-9059-effd9d668a57",
   "metadata": {},
   "outputs": [],
   "source": [
    "#prob of rain on nay given day=0.7\n",
    "\n",
    "#1. exactly 15 out of 20 days of rain\n",
    "#2. max 15 out of 20days(0-15, both inclusive)\n",
    "#3. min 15 out of 20 days(15-20, both inclusive)\n"
   ]
  },
  {
   "cell_type": "code",
   "execution_count": null,
   "id": "0c1487ad-332c-4f0e-b50b-d94bd6fea3a4",
   "metadata": {},
   "outputs": [],
   "source": []
  },
  {
   "cell_type": "code",
   "execution_count": 5,
   "id": "ff57ffd2-b839-40e6-9a5e-b095b544310f",
   "metadata": {},
   "outputs": [],
   "source": [
    "#pmf = probability mass function"
   ]
  },
  {
   "cell_type": "code",
   "execution_count": null,
   "id": "343a2914-d682-4281-b037-8b8bedbf6b55",
   "metadata": {},
   "outputs": [],
   "source": []
  },
  {
   "cell_type": "code",
   "execution_count": 6,
   "id": "98ad387a-4237-4b10-a7ba-7cc8ca7ea1d3",
   "metadata": {},
   "outputs": [
    {
     "data": {
      "text/plain": [
       "np.float64(0.1788630505698796)"
      ]
     },
     "execution_count": 6,
     "metadata": {},
     "output_type": "execute_result"
    }
   ],
   "source": [
    "#1\n",
    "binom.pmf(15,20,.7)  "
   ]
  },
  {
   "cell_type": "code",
   "execution_count": 7,
   "id": "9341cc5c-f76c-492d-9652-479196dbdf15",
   "metadata": {},
   "outputs": [
    {
     "data": {
      "text/plain": [
       "0.17886305056987956"
      ]
     },
     "execution_count": 7,
     "metadata": {},
     "output_type": "execute_result"
    }
   ],
   "source": [
    "import math\n",
    "math.pow(0.7,15)*math.pow(0.3,5)*math.comb(20,15)    #20C15"
   ]
  },
  {
   "cell_type": "code",
   "execution_count": null,
   "id": "71a109a0-a051-4920-ad93-d91dbd3242fd",
   "metadata": {},
   "outputs": [],
   "source": []
  },
  {
   "cell_type": "code",
   "execution_count": 8,
   "id": "14ca6e18-6acd-41d9-ae42-91a7b7a9813a",
   "metadata": {},
   "outputs": [
    {
     "data": {
      "text/plain": [
       "np.float64(0.7624922211223986)"
      ]
     },
     "execution_count": 8,
     "metadata": {},
     "output_type": "execute_result"
    }
   ],
   "source": [
    "#2. will rain at max 15 days\n",
    "# binom.pmf(0,20,0.7)+binom.pmf(1,20,0.7)+binom.pmf(2,20,0.7)+binom.pmf(3,20,0.7)+binom.pmf(4,20,0.7)+.......+binom.pmf(15,20,0.7)\n",
    "binom.cdf(15,20,.7)  #cumulative distribution function\n"
   ]
  },
  {
   "cell_type": "code",
   "execution_count": 9,
   "id": "9a4ec417-d43a-40e7-a941-0d1108cdf6e3",
   "metadata": {},
   "outputs": [
    {
     "name": "stdout",
     "output_type": "stream",
     "text": [
      "0.7624922211223979\n"
     ]
    }
   ],
   "source": [
    "sm=0\n",
    "for i in range(16):\n",
    "    sm+=binom.pmf(i,20,.7) \n",
    "\n",
    "print(sm)"
   ]
  },
  {
   "cell_type": "code",
   "execution_count": null,
   "id": "568dba9c-c3f5-45e2-8408-c812e7274eef",
   "metadata": {},
   "outputs": [],
   "source": []
  },
  {
   "cell_type": "code",
   "execution_count": null,
   "id": "c149eecd-0c80-4dd8-a556-c0959e81f585",
   "metadata": {},
   "outputs": [],
   "source": []
  },
  {
   "cell_type": "code",
   "execution_count": 10,
   "id": "6f4f8407-4085-4cfe-a8be-252d3dc03eaa",
   "metadata": {},
   "outputs": [
    {
     "data": {
      "text/plain": [
       "np.float64(0.41637082944748083)"
      ]
     },
     "execution_count": 10,
     "metadata": {},
     "output_type": "execute_result"
    }
   ],
   "source": [
    "#binom.sf -survival function\n",
    "#3.\n",
    "sum([binom.pmf(15,20,.7),binom.pmf(16,20,.7),binom.pmf(17,20,.7),binom.pmf(18,20,.7),binom.pmf(19,20,.7),binom.pmf(20,20,.7)])"
   ]
  },
  {
   "cell_type": "code",
   "execution_count": 11,
   "id": "786c3802-31d3-45a3-bb9f-3f83948829d8",
   "metadata": {},
   "outputs": [
    {
     "data": {
      "text/plain": [
       "np.float64(0.41637082944748105)"
      ]
     },
     "execution_count": 11,
     "metadata": {},
     "output_type": "execute_result"
    }
   ],
   "source": [
    "1-binom.cdf(14,20,0.7)"
   ]
  },
  {
   "cell_type": "code",
   "execution_count": null,
   "id": "22849de8-a9c9-487e-9f36-c7664461014e",
   "metadata": {},
   "outputs": [],
   "source": []
  },
  {
   "cell_type": "code",
   "execution_count": null,
   "id": "8658f639-1958-4342-aaa4-efdc95281ee7",
   "metadata": {},
   "outputs": [],
   "source": []
  },
  {
   "cell_type": "code",
   "execution_count": 12,
   "id": "5da70684-1324-4bbe-8606-96f784711868",
   "metadata": {},
   "outputs": [],
   "source": [
    "#Example-"
   ]
  },
  {
   "cell_type": "code",
   "execution_count": 13,
   "id": "b9ee3042-9c6c-4833-aa88-9302b5c28afb",
   "metadata": {},
   "outputs": [
    {
     "data": {
      "text/plain": [
       "np.float64(0.3086999999999999)"
      ]
     },
     "execution_count": 13,
     "metadata": {},
     "output_type": "execute_result"
    }
   ],
   "source": [
    "binom.pmf(3,5,0.7)"
   ]
  },
  {
   "cell_type": "code",
   "execution_count": 14,
   "id": "9756dedb-86a7-490e-be00-e3b1a9a9c57e",
   "metadata": {},
   "outputs": [
    {
     "data": {
      "text/plain": [
       "0.030869999999999998"
      ]
     },
     "execution_count": 14,
     "metadata": {},
     "output_type": "execute_result"
    }
   ],
   "source": [
    "0.3*0.3*.7*.7*0.7"
   ]
  },
  {
   "cell_type": "code",
   "execution_count": 15,
   "id": "68f1a4ab-e03e-4eaa-98b9-cd47989b5eea",
   "metadata": {},
   "outputs": [
    {
     "data": {
      "text/plain": [
       "0.03086999999999999"
      ]
     },
     "execution_count": 15,
     "metadata": {},
     "output_type": "execute_result"
    }
   ],
   "source": [
    ".3**2*.7**3"
   ]
  },
  {
   "cell_type": "code",
   "execution_count": null,
   "id": "b0bb88c1-c9b5-4fd8-bbdd-e15b09689daf",
   "metadata": {},
   "outputs": [],
   "source": []
  },
  {
   "cell_type": "code",
   "execution_count": null,
   "id": "67de27f3-bb60-43d4-b6a7-e67136184baf",
   "metadata": {},
   "outputs": [],
   "source": []
  },
  {
   "cell_type": "code",
   "execution_count": 16,
   "id": "d4861910-1342-4f7d-a37c-1b7eb16105ec",
   "metadata": {},
   "outputs": [],
   "source": [
    "import math\n",
    "\n",
    "result = math.comb(5, 3) "
   ]
  },
  {
   "cell_type": "code",
   "execution_count": 17,
   "id": "d80786a7-43d7-497e-b08f-19881a189ab0",
   "metadata": {},
   "outputs": [],
   "source": [
    "a=math.comb(5, 3)*(0.7**3)*(0.3**2)"
   ]
  },
  {
   "cell_type": "code",
   "execution_count": 18,
   "id": "e0b3371d-f4bb-444a-90a1-6e6876d14b17",
   "metadata": {},
   "outputs": [],
   "source": [
    "b=math.comb(5, 2)*(0.7**2)*(0.3**3)"
   ]
  },
  {
   "cell_type": "code",
   "execution_count": 19,
   "id": "6eba74a0-57f5-49ca-87c0-5fd2c096561c",
   "metadata": {},
   "outputs": [],
   "source": [
    "c=math.comb(5, 1)*(0.7**1)*(0.3**4)"
   ]
  },
  {
   "cell_type": "code",
   "execution_count": 20,
   "id": "01d801a9-0fbd-452c-bd8f-07a07863cf56",
   "metadata": {},
   "outputs": [],
   "source": [
    "d=math.comb(5, 0)*(0.7**0)*(0.3**5)"
   ]
  },
  {
   "cell_type": "code",
   "execution_count": 21,
   "id": "d715006d-9aee-49be-b309-4b32fb69a976",
   "metadata": {},
   "outputs": [
    {
     "data": {
      "text/plain": [
       "0.47177999999999987"
      ]
     },
     "execution_count": 21,
     "metadata": {},
     "output_type": "execute_result"
    }
   ],
   "source": [
    "result=a+b+c+d\n",
    "result\n"
   ]
  },
  {
   "cell_type": "code",
   "execution_count": 22,
   "id": "a523b66c-eae8-4fcf-ad27-688faa77cbcc",
   "metadata": {},
   "outputs": [
    {
     "data": {
      "text/plain": [
       "np.float64(0.4717800000000001)"
      ]
     },
     "execution_count": 22,
     "metadata": {},
     "output_type": "execute_result"
    }
   ],
   "source": [
    "binom.cdf(3,5,0.7)  #It will rain for at max 3 out of 5 days"
   ]
  },
  {
   "cell_type": "code",
   "execution_count": null,
   "id": "06cd350d-3c0b-4ad2-842b-94b794a5f0aa",
   "metadata": {},
   "outputs": [],
   "source": []
  },
  {
   "cell_type": "code",
   "execution_count": 23,
   "id": "5f953bf8-f9ad-4d31-ae44-523743380837",
   "metadata": {},
   "outputs": [
    {
     "name": "stdout",
     "output_type": "stream",
     "text": [
      "0.20132659199999978\n",
      "0.8791261184000001\n",
      "0.8791261184000001\n"
     ]
    }
   ],
   "source": [
    "#prob of students getting a job=0.8\n",
    "\n",
    "#batch size=10\n",
    "\n",
    "# prob.-\n",
    "# 1. exactly 7 students getting a job\n",
    "# 2. min 7 getting a job\n",
    "\n",
    "\n",
    "print(binom.pmf(7,10,.8))\n",
    "print(1-binom.cdf(6,10,0.8))\n",
    "print(binom.sf(6,10,0.8))"
   ]
  },
  {
   "cell_type": "code",
   "execution_count": null,
   "id": "66b5a360-47ba-4a91-8b14-c31223824148",
   "metadata": {},
   "outputs": [],
   "source": []
  },
  {
   "cell_type": "code",
   "execution_count": 24,
   "id": "9fd03717-5961-4ae8-9a66-903a191ccea6",
   "metadata": {},
   "outputs": [
    {
     "data": {
      "text/plain": [
       "np.float64(0.8791261184000001)"
      ]
     },
     "execution_count": 24,
     "metadata": {},
     "output_type": "execute_result"
    }
   ],
   "source": [
    "binom.sf(6,10,.8)"
   ]
  },
  {
   "cell_type": "code",
   "execution_count": null,
   "id": "721fbca9-ec5c-423e-88ed-5d1c34190b0d",
   "metadata": {},
   "outputs": [],
   "source": []
  },
  {
   "cell_type": "code",
   "execution_count": null,
   "id": "066fa52d-e564-4984-9fb6-5bcde758e62a",
   "metadata": {},
   "outputs": [],
   "source": []
  },
  {
   "cell_type": "markdown",
   "id": "4e24b990-8bea-4faa-94a0-733997c88942",
   "metadata": {},
   "source": [
    "# Poisson distribution - \n",
    "On an average a particular event occurs 30 times.\n",
    "\n",
    "poisson pmf is an event occuring exactly 28 times out of a usual average of 30 days"
   ]
  },
  {
   "cell_type": "code",
   "execution_count": 25,
   "id": "ece071ee-fc94-4503-b7c8-1e6a02c419ca",
   "metadata": {},
   "outputs": [
    {
     "data": {
      "text/plain": [
       "np.float64(0.07021337558920529)"
      ]
     },
     "execution_count": 25,
     "metadata": {},
     "output_type": "execute_result"
    }
   ],
   "source": [
    "poisson.pmf(28,30)"
   ]
  },
  {
   "cell_type": "code",
   "execution_count": 26,
   "id": "dd87cd4e-2774-478d-b484-5db25be7fc97",
   "metadata": {},
   "outputs": [
    {
     "data": {
      "text/plain": [
       "np.float64(0.40308245963472844)"
      ]
     },
     "execution_count": 26,
     "metadata": {},
     "output_type": "execute_result"
    }
   ],
   "source": [
    "poisson.cdf(28,30)    #at max 28 times"
   ]
  },
  {
   "cell_type": "code",
   "execution_count": null,
   "id": "9fadc5ea-d3f3-49ea-b104-23251f1eb3cc",
   "metadata": {},
   "outputs": [],
   "source": []
  },
  {
   "cell_type": "code",
   "execution_count": null,
   "id": "5f345a98-1b67-4676-9dfc-1c7b064ccd24",
   "metadata": {},
   "outputs": [],
   "source": []
  },
  {
   "cell_type": "code",
   "execution_count": 27,
   "id": "84a10ad5-31cb-45a9-a3b5-78f9faec1ae8",
   "metadata": {},
   "outputs": [
    {
     "data": {
      "text/plain": [
       "np.float64(0.6671309159544766)"
      ]
     },
     "execution_count": 27,
     "metadata": {},
     "output_type": "execute_result"
    }
   ],
   "source": [
    "#min 28 sms\n",
    "1-poisson.cdf(27,30)"
   ]
  },
  {
   "cell_type": "code",
   "execution_count": 28,
   "id": "f96af9a6-642d-4ea2-919a-af5921f5725f",
   "metadata": {},
   "outputs": [
    {
     "data": {
      "text/plain": [
       "np.float64(0.6671309159544766)"
      ]
     },
     "execution_count": 28,
     "metadata": {},
     "output_type": "execute_result"
    }
   ],
   "source": [
    "poisson.sf(27,30)"
   ]
  },
  {
   "cell_type": "code",
   "execution_count": null,
   "id": "fd682bc5-71c7-4527-9e68-eb9fd821c341",
   "metadata": {},
   "outputs": [],
   "source": []
  },
  {
   "cell_type": "code",
   "execution_count": null,
   "id": "9e40d3d7-f130-41b3-9ef2-74b7fa89a8da",
   "metadata": {},
   "outputs": [],
   "source": []
  },
  {
   "cell_type": "code",
   "execution_count": 30,
   "id": "2e80a40a-9b6d-4d98-9a66-3053b65d54fb",
   "metadata": {},
   "outputs": [
    {
     "data": {
      "text/plain": [
       "np.float64(0.5857749563658708)"
      ]
     },
     "execution_count": 30,
     "metadata": {},
     "output_type": "execute_result"
    }
   ],
   "source": [
    "#Binomial example\n",
    "#1.\n",
    "1-binom.cdf(14,25,.6)"
   ]
  },
  {
   "cell_type": "code",
   "execution_count": 35,
   "id": "74eeb346-8a7c-4a59-859e-8fe9f18eee65",
   "metadata": {},
   "outputs": [
    {
     "data": {
      "text/plain": [
       "np.float64(0.5857749563658708)"
      ]
     },
     "execution_count": 35,
     "metadata": {},
     "output_type": "execute_result"
    }
   ],
   "source": [
    "#Binomial example\n",
    "#1.\n",
    "binom.sf(14,25,.6)"
   ]
  },
  {
   "cell_type": "code",
   "execution_count": 31,
   "id": "7a767adc-6b9f-4535-9af4-fae0f55d938f",
   "metadata": {},
   "outputs": [
    {
     "data": {
      "text/plain": [
       "np.float64(0.009470830925190077)"
      ]
     },
     "execution_count": 31,
     "metadata": {},
     "output_type": "execute_result"
    }
   ],
   "source": [
    "#2.\n",
    "binom.sf(20,25,0.6)\n"
   ]
  },
  {
   "cell_type": "code",
   "execution_count": 36,
   "id": "d0b815de-ed48-4c9f-b823-b2d3ecec07d0",
   "metadata": {},
   "outputs": [
    {
     "data": {
      "text/plain": [
       "np.float64(0.013169073488885857)"
      ]
     },
     "execution_count": 36,
     "metadata": {},
     "output_type": "execute_result"
    }
   ],
   "source": [
    "#3.\n",
    "binom.cdf(9,25,0.6)"
   ]
  },
  {
   "cell_type": "code",
   "execution_count": null,
   "id": "c173f94f-86e8-42a5-b46d-9b4cc2234e54",
   "metadata": {},
   "outputs": [],
   "source": []
  }
 ],
 "metadata": {
  "kernelspec": {
   "display_name": "Python 3 (ipykernel)",
   "language": "python",
   "name": "python3"
  },
  "language_info": {
   "codemirror_mode": {
    "name": "ipython",
    "version": 3
   },
   "file_extension": ".py",
   "mimetype": "text/x-python",
   "name": "python",
   "nbconvert_exporter": "python",
   "pygments_lexer": "ipython3",
   "version": "3.12.7"
  }
 },
 "nbformat": 4,
 "nbformat_minor": 5
}
