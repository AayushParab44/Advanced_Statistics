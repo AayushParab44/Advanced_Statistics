{
 "cells": [
  {
   "cell_type": "markdown",
   "id": "5dc2b9a8-1200-4520-8cbc-3b0da93c2fa2",
   "metadata": {},
   "source": [
    "# Inferential Statistics"
   ]
  },
  {
   "cell_type": "markdown",
   "id": "fc9d6be8-3dd1-477c-abcd-ce02eb5f33cb",
   "metadata": {},
   "source": [
    "Population- the entire population <br>\n",
    "Sample- subset of population <br>\n",
    "\n",
    "An example - Population - people eligible to vote. <br>\n",
    "Sample - For the exit polls only a small part of the population is considered this part can be called as a sample. <br>\n",
    "\n",
    "Sample should be large enough to perform the analysis. <br>\n",
    "Sample should be chosen such that there is no bias towards a particular category. <br>\n",
    "Random sampling is taking out a sample in which we have all categories of data and ensure that there is no bias.\n"
   ]
  },
  {
   "cell_type": "markdown",
   "id": "77d87f95-a413-4541-a88f-1e86ea388730",
   "metadata": {},
   "source": [
    "Sample statistics is based on the sample of the entire population. It is any number computed from your sample data. Examples include the sample average, median, sample standard deviation, and percentiles from the sample data."
   ]
  },
  {
   "cell_type": "markdown",
   "id": "87e45196-9e3f-4cb6-a11d-94e68d612eac",
   "metadata": {},
   "source": [
    "Bias - Bias towards or against an output <br>\n",
    "Chance variation - By chance getting the same output everytime even though we have the same sample"
   ]
  },
  {
   "cell_type": "markdown",
   "id": "c6a1d277-84d1-4b49-a852-5763eb9c9147",
   "metadata": {},
   "source": [
    "sample statistics = population parameter + bias(or fact) + cv"
   ]
  },
  {
   "cell_type": "markdown",
   "id": "59dab809-b039-4079-9721-31df800532a1",
   "metadata": {},
   "source": [
    "Chance variation can be eliminated only when the data is collected from the enitre population. As long as we work on the sample data, chance variation cannot be eliminated."
   ]
  },
  {
   "cell_type": "code",
   "execution_count": null,
   "id": "a2004966-65f1-404a-bb0d-135e33dd1823",
   "metadata": {},
   "outputs": [],
   "source": []
  }
 ],
 "metadata": {
  "kernelspec": {
   "display_name": "Python 3 (ipykernel)",
   "language": "python",
   "name": "python3"
  },
  "language_info": {
   "codemirror_mode": {
    "name": "ipython",
    "version": 3
   },
   "file_extension": ".py",
   "mimetype": "text/x-python",
   "name": "python",
   "nbconvert_exporter": "python",
   "pygments_lexer": "ipython3",
   "version": "3.12.7"
  }
 },
 "nbformat": 4,
 "nbformat_minor": 5
}
