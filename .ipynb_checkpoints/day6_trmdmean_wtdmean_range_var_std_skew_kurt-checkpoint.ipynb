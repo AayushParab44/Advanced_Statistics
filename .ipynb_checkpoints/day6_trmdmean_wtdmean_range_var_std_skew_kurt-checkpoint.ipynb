{
 "cells": [
  {
   "cell_type": "code",
   "execution_count": 33,
   "id": "0e41b72d-9439-4f10-a527-ddd86651f2bb",
   "metadata": {},
   "outputs": [],
   "source": [
    "import numpy as np\n",
    "import pandas as pd\n",
    "import scipy\n",
    "from scipy import stats\n",
    "import matplotlib.pyplot as plt\n",
    "\n",
    "from collections import Counter\n",
    "\n"
   ]
  },
  {
   "cell_type": "code",
   "execution_count": 34,
   "id": "dc351b6f-dc67-4bca-b6a6-40673d6ce7b3",
   "metadata": {},
   "outputs": [
    {
     "data": {
      "text/html": [
       "<div>\n",
       "<style scoped>\n",
       "    .dataframe tbody tr th:only-of-type {\n",
       "        vertical-align: middle;\n",
       "    }\n",
       "\n",
       "    .dataframe tbody tr th {\n",
       "        vertical-align: top;\n",
       "    }\n",
       "\n",
       "    .dataframe thead th {\n",
       "        text-align: right;\n",
       "    }\n",
       "</style>\n",
       "<table border=\"1\" class=\"dataframe\">\n",
       "  <thead>\n",
       "    <tr style=\"text-align: right;\">\n",
       "      <th></th>\n",
       "      <th>eruptions</th>\n",
       "      <th>waiting</th>\n",
       "    </tr>\n",
       "  </thead>\n",
       "  <tbody>\n",
       "    <tr>\n",
       "      <th>0</th>\n",
       "      <td>3.600</td>\n",
       "      <td>79</td>\n",
       "    </tr>\n",
       "    <tr>\n",
       "      <th>1</th>\n",
       "      <td>1.800</td>\n",
       "      <td>54</td>\n",
       "    </tr>\n",
       "    <tr>\n",
       "      <th>2</th>\n",
       "      <td>3.333</td>\n",
       "      <td>74</td>\n",
       "    </tr>\n",
       "    <tr>\n",
       "      <th>3</th>\n",
       "      <td>2.283</td>\n",
       "      <td>62</td>\n",
       "    </tr>\n",
       "    <tr>\n",
       "      <th>4</th>\n",
       "      <td>4.533</td>\n",
       "      <td>85</td>\n",
       "    </tr>\n",
       "    <tr>\n",
       "      <th>...</th>\n",
       "      <td>...</td>\n",
       "      <td>...</td>\n",
       "    </tr>\n",
       "    <tr>\n",
       "      <th>267</th>\n",
       "      <td>4.117</td>\n",
       "      <td>81</td>\n",
       "    </tr>\n",
       "    <tr>\n",
       "      <th>268</th>\n",
       "      <td>2.150</td>\n",
       "      <td>46</td>\n",
       "    </tr>\n",
       "    <tr>\n",
       "      <th>269</th>\n",
       "      <td>4.417</td>\n",
       "      <td>90</td>\n",
       "    </tr>\n",
       "    <tr>\n",
       "      <th>270</th>\n",
       "      <td>1.817</td>\n",
       "      <td>46</td>\n",
       "    </tr>\n",
       "    <tr>\n",
       "      <th>271</th>\n",
       "      <td>4.467</td>\n",
       "      <td>74</td>\n",
       "    </tr>\n",
       "  </tbody>\n",
       "</table>\n",
       "<p>272 rows × 2 columns</p>\n",
       "</div>"
      ],
      "text/plain": [
       "     eruptions  waiting\n",
       "0        3.600       79\n",
       "1        1.800       54\n",
       "2        3.333       74\n",
       "3        2.283       62\n",
       "4        4.533       85\n",
       "..         ...      ...\n",
       "267      4.117       81\n",
       "268      2.150       46\n",
       "269      4.417       90\n",
       "270      1.817       46\n",
       "271      4.467       74\n",
       "\n",
       "[272 rows x 2 columns]"
      ]
     },
     "execution_count": 34,
     "metadata": {},
     "output_type": "execute_result"
    }
   ],
   "source": [
    "df=pd.read_excel('CDAC_DataBook.xlsx',sheet_name='faithful')\n",
    "df"
   ]
  },
  {
   "cell_type": "code",
   "execution_count": 35,
   "id": "f3b43d0d-3e98-4ccb-88f4-365762bf2f6f",
   "metadata": {},
   "outputs": [],
   "source": [
    "erupt=df['eruptions']"
   ]
  },
  {
   "cell_type": "code",
   "execution_count": 36,
   "id": "00f9d41b-7413-4895-a2dd-373c0c1fe71a",
   "metadata": {},
   "outputs": [
    {
     "data": {
      "text/plain": [
       "np.float64(3.4877830882352936)"
      ]
     },
     "execution_count": 36,
     "metadata": {},
     "output_type": "execute_result"
    }
   ],
   "source": [
    "erupt.mean()"
   ]
  },
  {
   "cell_type": "code",
   "execution_count": 37,
   "id": "4a2b4aa9-9cd5-4cc2-b30c-b2ac90e0e043",
   "metadata": {},
   "outputs": [
    {
     "data": {
      "text/plain": [
       "3.487783088235294"
      ]
     },
     "execution_count": 37,
     "metadata": {},
     "output_type": "execute_result"
    }
   ],
   "source": [
    "sum(erupt)/len(erupt)"
   ]
  },
  {
   "cell_type": "code",
   "execution_count": 38,
   "id": "c2d2260e-7258-42e0-ab9a-16dd9c72d613",
   "metadata": {},
   "outputs": [
    {
     "data": {
      "text/plain": [
       "np.float64(4.0)"
      ]
     },
     "execution_count": 38,
     "metadata": {},
     "output_type": "execute_result"
    }
   ],
   "source": [
    "np.sort(erupt)[135]"
   ]
  },
  {
   "cell_type": "code",
   "execution_count": 39,
   "id": "8cc75f17-9838-4557-919e-5f4396f5b019",
   "metadata": {},
   "outputs": [
    {
     "data": {
      "text/plain": [
       "np.float64(4.0)"
      ]
     },
     "execution_count": 39,
     "metadata": {},
     "output_type": "execute_result"
    }
   ],
   "source": [
    "np.sort(erupt)[136]"
   ]
  },
  {
   "cell_type": "code",
   "execution_count": 40,
   "id": "ee391feb-5609-408e-a79e-a827761ec096",
   "metadata": {},
   "outputs": [
    {
     "data": {
      "text/plain": [
       "array([4, 5, 6, 7, 8, 9])"
      ]
     },
     "execution_count": 40,
     "metadata": {},
     "output_type": "execute_result"
    }
   ],
   "source": [
    "np.array([4,5,6,7,8,9])"
   ]
  },
  {
   "cell_type": "code",
   "execution_count": 41,
   "id": "65f3364f-9e7e-4604-ad25-c611cc49d94f",
   "metadata": {},
   "outputs": [
    {
     "data": {
      "text/html": [
       "<div>\n",
       "<style scoped>\n",
       "    .dataframe tbody tr th:only-of-type {\n",
       "        vertical-align: middle;\n",
       "    }\n",
       "\n",
       "    .dataframe tbody tr th {\n",
       "        vertical-align: top;\n",
       "    }\n",
       "\n",
       "    .dataframe thead th {\n",
       "        text-align: right;\n",
       "    }\n",
       "</style>\n",
       "<table border=\"1\" class=\"dataframe\">\n",
       "  <thead>\n",
       "    <tr style=\"text-align: right;\">\n",
       "      <th></th>\n",
       "      <th>Num</th>\n",
       "      <th>Freq</th>\n",
       "    </tr>\n",
       "  </thead>\n",
       "  <tbody>\n",
       "    <tr>\n",
       "      <th>0</th>\n",
       "      <td>4</td>\n",
       "      <td>20</td>\n",
       "    </tr>\n",
       "    <tr>\n",
       "      <th>1</th>\n",
       "      <td>5</td>\n",
       "      <td>35</td>\n",
       "    </tr>\n",
       "    <tr>\n",
       "      <th>2</th>\n",
       "      <td>6</td>\n",
       "      <td>42</td>\n",
       "    </tr>\n",
       "    <tr>\n",
       "      <th>3</th>\n",
       "      <td>7</td>\n",
       "      <td>38</td>\n",
       "    </tr>\n",
       "    <tr>\n",
       "      <th>4</th>\n",
       "      <td>8</td>\n",
       "      <td>17</td>\n",
       "    </tr>\n",
       "    <tr>\n",
       "      <th>5</th>\n",
       "      <td>9</td>\n",
       "      <td>10</td>\n",
       "    </tr>\n",
       "  </tbody>\n",
       "</table>\n",
       "</div>"
      ],
      "text/plain": [
       "   Num  Freq\n",
       "0    4    20\n",
       "1    5    35\n",
       "2    6    42\n",
       "3    7    38\n",
       "4    8    17\n",
       "5    9    10"
      ]
     },
     "execution_count": 41,
     "metadata": {},
     "output_type": "execute_result"
    }
   ],
   "source": [
    "rf_df=pd.DataFrame({'Num':np.array([4,5,6,7,8,9]),'Freq':(np.array([20,35,42,38,17,10]))})\n",
    "rf_df"
   ]
  },
  {
   "cell_type": "code",
   "execution_count": 42,
   "id": "4f6d69c6-3ba8-47c1-8cd9-84557a3b26e4",
   "metadata": {},
   "outputs": [
    {
     "name": "stdout",
     "output_type": "stream",
     "text": [
      "Weighted mean= 6.166666666666667\n"
     ]
    }
   ],
   "source": [
    "print('Weighted mean=',sum(rf_df['Num']*rf_df['Freq'])/sum(rf_df['Freq']))"
   ]
  },
  {
   "cell_type": "code",
   "execution_count": 43,
   "id": "717e256e-ac7c-45ed-b445-f3fb6d486079",
   "metadata": {},
   "outputs": [],
   "source": [
    "# wtd_mean=sum(num*freq)/sum(freq)"
   ]
  },
  {
   "cell_type": "code",
   "execution_count": 44,
   "id": "3e9d34a0-255c-4337-93bb-247f8c9c7d94",
   "metadata": {},
   "outputs": [
    {
     "data": {
      "text/plain": [
       "np.float64(6.166666666666667)"
      ]
     },
     "execution_count": 44,
     "metadata": {},
     "output_type": "execute_result"
    }
   ],
   "source": [
    "sum(np.array([4,5,6,7,8,9])*np.array([20,35,42,38,17,10]))/sum(np.array([20,35,42,38,17,10]))"
   ]
  },
  {
   "cell_type": "code",
   "execution_count": null,
   "id": "9862af5d-033b-4781-a475-02f8ddddd9b6",
   "metadata": {},
   "outputs": [],
   "source": []
  },
  {
   "cell_type": "code",
   "execution_count": null,
   "id": "8cd9d10e-ff2b-49f4-81ef-8e9fe67ce083",
   "metadata": {},
   "outputs": [],
   "source": []
  },
  {
   "cell_type": "code",
   "execution_count": 45,
   "id": "f2dfd77d-74b1-4a3e-802a-c11da433b231",
   "metadata": {},
   "outputs": [
    {
     "data": {
      "text/plain": [
       "array([1, 1, 1, 1, 2, 2, 2, 2, 2, 3, 3, 3, 3, 3, 3])"
      ]
     },
     "execution_count": 45,
     "metadata": {},
     "output_type": "execute_result"
    }
   ],
   "source": [
    "r1=np.repeat(np.array([1,2,3]),[4,5,6])\n",
    "r1"
   ]
  },
  {
   "cell_type": "code",
   "execution_count": 46,
   "id": "9e03caf0-9037-4b7a-ac72-a8b9500ab7ac",
   "metadata": {},
   "outputs": [
    {
     "data": {
      "text/plain": [
       "np.float64(2.1333333333333333)"
      ]
     },
     "execution_count": 46,
     "metadata": {},
     "output_type": "execute_result"
    }
   ],
   "source": [
    "r1.mean()\n"
   ]
  },
  {
   "cell_type": "code",
   "execution_count": null,
   "id": "6429bfd4-9c29-43ed-8380-65828eaa7275",
   "metadata": {},
   "outputs": [],
   "source": []
  },
  {
   "cell_type": "code",
   "execution_count": 47,
   "id": "876979cf-5620-4ba0-93a3-4f957ab88c74",
   "metadata": {},
   "outputs": [],
   "source": [
    "#generally if mean is nearly equal to trimmed mean then we do not have a lot of outliers "
   ]
  },
  {
   "cell_type": "code",
   "execution_count": 85,
   "id": "0b1fd006-d6c9-44ef-a48c-81969791f3b1",
   "metadata": {},
   "outputs": [
    {
     "data": {
      "text/plain": [
       "array([1.8  , 1.817, 1.817, 1.817, 1.833, 1.833, 1.833, 1.833, 1.833,\n",
       "       1.833, 1.833, 1.85 , 1.85 , 1.867, 1.867, 1.867, 1.867, 1.867,\n",
       "       1.867, 1.867, 1.867, 1.883, 1.883, 1.883, 1.883, 1.917, 1.917,\n",
       "       1.933, 1.933, 1.95 , 1.967, 1.967, 1.967, 1.983, 1.983, 1.983,\n",
       "       2.   , 2.   , 2.   , 2.   , 2.017, 2.017, 2.017, 2.033, 2.033,\n",
       "       2.067, 2.083, 2.083, 2.1  , 2.1  , 2.1  , 2.133, 2.15 , 2.167,\n",
       "       2.167, 2.183, 2.2  , 2.2  , 2.2  , 2.217, 2.233, 2.233, 2.25 ,\n",
       "       2.25 , 2.267, 2.283, 2.3  , 2.317, 2.333, 2.35 , 2.367, 2.383,\n",
       "       2.4  , 2.4  , 2.417, 2.417, 2.483, 2.617, 2.633, 2.8  , 2.883,\n",
       "       2.9  , 3.067, 3.317, 3.333, 3.333, 3.367, 3.417, 3.45 , 3.5  ,\n",
       "       3.5  , 3.567, 3.567, 3.6  , 3.6  , 3.6  , 3.6  , 3.683, 3.717,\n",
       "       3.733, 3.75 , 3.767, 3.767, 3.817, 3.833, 3.833, 3.833, 3.833,\n",
       "       3.833, 3.85 , 3.85 , 3.883, 3.917, 3.917, 3.917, 3.95 , 3.95 ,\n",
       "       3.966, 3.967, 4.   , 4.   , 4.   , 4.   , 4.   , 4.   , 4.033,\n",
       "       4.033, 4.05 , 4.067, 4.067, 4.083, 4.083, 4.083, 4.083, 4.083,\n",
       "       4.1  , 4.1  , 4.117, 4.117, 4.133, 4.133, 4.15 , 4.15 , 4.15 ,\n",
       "       4.15 , 4.167, 4.167, 4.167, 4.167, 4.183, 4.2  , 4.233, 4.233,\n",
       "       4.233, 4.25 , 4.25 , 4.25 , 4.25 , 4.267, 4.267, 4.283, 4.283,\n",
       "       4.3  , 4.3  , 4.317, 4.333, 4.333, 4.333, 4.333, 4.333, 4.35 ,\n",
       "       4.35 , 4.35 , 4.35 , 4.366, 4.367, 4.367, 4.367, 4.383, 4.4  ,\n",
       "       4.417, 4.417, 4.417, 4.417, 4.433, 4.433, 4.45 , 4.45 , 4.45 ,\n",
       "       4.467, 4.467, 4.483, 4.5  , 4.5  , 4.5  , 4.5  , 4.5  , 4.5  ,\n",
       "       4.5  , 4.5  , 4.517, 4.533, 4.533, 4.533, 4.533, 4.533, 4.55 ,\n",
       "       4.567, 4.567, 4.567, 4.583, 4.583, 4.583, 4.583, 4.6  , 4.6  ,\n",
       "       4.6  , 4.6  , 4.617, 4.633, 4.633, 4.633, 4.65 , 4.667, 4.667,\n",
       "       4.7  , 4.7  , 4.7  , 4.7  , 4.7  , 4.7  , 4.716, 4.733, 4.75 ,\n",
       "       4.767, 4.783, 4.8  , 4.8  , 4.8  , 4.8  , 4.8  , 4.8  ])"
      ]
     },
     "execution_count": 85,
     "metadata": {},
     "output_type": "execute_result"
    }
   ],
   "source": [
    "#On erupt\n",
    "srt_erpt=np.sort(erupt)\n",
    "srt_erpt\n",
    "\n",
    "trmd=srt_erpt[15:len(srt_erpt)-15]\n",
    "trmd"
   ]
  },
  {
   "cell_type": "code",
   "execution_count": 86,
   "id": "415700d7-39b2-4d6f-8619-d33963e4a661",
   "metadata": {},
   "outputs": [
    {
     "data": {
      "text/plain": [
       "272"
      ]
     },
     "execution_count": 86,
     "metadata": {},
     "output_type": "execute_result"
    }
   ],
   "source": [
    "len(srt_erpt)"
   ]
  },
  {
   "cell_type": "code",
   "execution_count": 87,
   "id": "5fcdff8d-adcc-4479-8652-d79841501fd5",
   "metadata": {},
   "outputs": [
    {
     "data": {
      "text/plain": [
       "np.float64(3.5069380165289257)"
      ]
     },
     "execution_count": 87,
     "metadata": {},
     "output_type": "execute_result"
    }
   ],
   "source": [
    "np.mean(trmd)"
   ]
  },
  {
   "cell_type": "code",
   "execution_count": 88,
   "id": "ffa9f0d3-6320-45ce-8846-ffe04435a393",
   "metadata": {},
   "outputs": [
    {
     "data": {
      "text/plain": [
       "np.float64(3.487783088235294)"
      ]
     },
     "execution_count": 88,
     "metadata": {},
     "output_type": "execute_result"
    }
   ],
   "source": [
    "np.mean(srt_erpt)"
   ]
  },
  {
   "cell_type": "code",
   "execution_count": 84,
   "id": "589b93c4-8a74-42ed-aab3-2a7d40881e8b",
   "metadata": {},
   "outputs": [
    {
     "name": "stdout",
     "output_type": "stream",
     "text": [
      "242\n"
     ]
    }
   ],
   "source": [
    "print(trmd)"
   ]
  },
  {
   "cell_type": "code",
   "execution_count": null,
   "id": "781fc383-9944-4e10-8215-0a3145edd00e",
   "metadata": {},
   "outputs": [],
   "source": []
  },
  {
   "cell_type": "code",
   "execution_count": 81,
   "id": "1e760f2e-0da8-445f-b1d1-60edbd24d37a",
   "metadata": {},
   "outputs": [
    {
     "name": "stdout",
     "output_type": "stream",
     "text": [
      "[1.6   1.667 1.7   1.733 1.75  1.75  1.75  1.75  1.75  1.75  1.783 1.783\n",
      " 1.8   1.8   1.8   1.8   1.817 1.817 1.817 1.833 1.833 1.833 1.833 1.833\n",
      " 1.833 1.833 1.85  1.85  1.867 1.867 1.867 1.867 1.867 1.867 1.867 1.867\n",
      " 1.883 1.883 1.883 1.883 1.917 1.917 1.933 1.933 1.95  1.967 1.967 1.967\n",
      " 1.983 1.983 1.983 2.    2.    2.    2.    2.017 2.017 2.017 2.033 2.033\n",
      " 2.067 2.083 2.083 2.1   2.1   2.1   2.133 2.15  2.167 2.167 2.183 2.2\n",
      " 2.2   2.2   2.217 2.233 2.233 2.25  2.25  2.267 2.283 2.3   2.317 2.333\n",
      " 2.35  2.367 2.383 2.4   2.4   2.417 2.417 2.483 2.617 2.633 2.8   2.883\n",
      " 2.9   3.067 3.317 3.333 3.333 3.367 3.417 3.45  3.5   3.5   3.567 3.567\n",
      " 3.6   3.6   3.6   3.6   3.683 3.717 3.733 3.75  3.767 3.767 3.817 3.833\n",
      " 3.833 3.833 3.833 3.833 3.85  3.85  3.883 3.917 3.917 3.917 3.95  3.95\n",
      " 3.966 3.967 4.    4.    4.    4.    4.    4.    4.033 4.033 4.05  4.067\n",
      " 4.067 4.083 4.083 4.083 4.083 4.083 4.1   4.1   4.117 4.117 4.133 4.133\n",
      " 4.15  4.15  4.15  4.15  4.167 4.167 4.167 4.167 4.183 4.2   4.233 4.233\n",
      " 4.233 4.25  4.25  4.25  4.25  4.267 4.267 4.283 4.283 4.3   4.3   4.317\n",
      " 4.333 4.333 4.333 4.333 4.333 4.35  4.35  4.35  4.35  4.366 4.367 4.367\n",
      " 4.367 4.383 4.4   4.417 4.417 4.417 4.417 4.433 4.433 4.45  4.45  4.45\n",
      " 4.467 4.467 4.483 4.5   4.5   4.5   4.5   4.5   4.5   4.5   4.5   4.517\n",
      " 4.533 4.533 4.533 4.533 4.533 4.55  4.567 4.567 4.567 4.583 4.583 4.583\n",
      " 4.583 4.6   4.6   4.6   4.6   4.617 4.633 4.633 4.633 4.65  4.667 4.667\n",
      " 4.7   4.7   4.7   4.7   4.7   4.7   4.716 4.733 4.75  4.767 4.783 4.8\n",
      " 4.8   4.8   4.8   4.8   4.8   4.817 4.817 4.833 4.833 4.85  4.883 4.9\n",
      " 4.9   4.933 4.933 4.933 5.    5.033 5.067 5.1  ]\n"
     ]
    }
   ],
   "source": [
    "print(srt_erpt)"
   ]
  },
  {
   "cell_type": "code",
   "execution_count": null,
   "id": "2b4b6882-a545-41b9-becf-e0b856714878",
   "metadata": {},
   "outputs": [],
   "source": []
  },
  {
   "cell_type": "code",
   "execution_count": 48,
   "id": "5cca7069-4e04-46e6-8697-911da47eb945",
   "metadata": {},
   "outputs": [],
   "source": [
    "cts=Counter(erupt)"
   ]
  },
  {
   "cell_type": "code",
   "execution_count": 51,
   "id": "d7d2e1aa-2f52-4cb2-978b-d88dc96d9c1d",
   "metadata": {},
   "outputs": [
    {
     "data": {
      "text/plain": [
       "[(1.867, 8),\n",
       " (4.5, 8),\n",
       " (1.833, 7),\n",
       " (4.7, 6),\n",
       " (1.75, 6),\n",
       " (4.8, 6),\n",
       " (4.0, 6),\n",
       " (4.533, 5),\n",
       " (4.083, 5),\n",
       " (3.833, 5),\n",
       " (4.333, 5),\n",
       " (3.6, 4),\n",
       " (1.8, 4),\n",
       " (4.35, 4),\n",
       " (4.25, 4),\n",
       " (1.883, 4),\n",
       " (2.0, 4),\n",
       " (4.167, 4),\n",
       " (4.417, 4),\n",
       " (4.6, 4),\n",
       " (4.15, 4),\n",
       " (4.583, 4),\n",
       " (3.917, 3),\n",
       " (1.967, 3),\n",
       " (2.017, 3),\n",
       " (4.567, 3),\n",
       " (2.1, 3),\n",
       " (4.633, 3),\n",
       " (1.817, 3),\n",
       " (1.983, 3),\n",
       " (4.933, 3),\n",
       " (2.2, 3),\n",
       " (4.367, 3),\n",
       " (4.233, 3),\n",
       " (4.45, 3),\n",
       " (3.333, 2),\n",
       " (2.167, 2),\n",
       " (3.85, 2),\n",
       " (4.433, 2),\n",
       " (4.3, 2),\n",
       " (4.467, 2),\n",
       " (4.033, 2),\n",
       " (4.833, 2),\n",
       " (2.233, 2),\n",
       " (4.133, 2),\n",
       " (4.1, 2),\n",
       " (4.067, 2),\n",
       " (3.95, 2),\n",
       " (4.817, 2),\n",
       " (4.667, 2),\n",
       " (4.9, 2),\n",
       " (1.783, 2),\n",
       " (3.767, 2),\n",
       " (1.917, 2),\n",
       " (2.033, 2),\n",
       " (2.4, 2),\n",
       " (3.567, 2),\n",
       " (3.5, 2),\n",
       " (1.933, 2),\n",
       " (2.083, 2),\n",
       " (2.417, 2),\n",
       " (2.25, 2),\n",
       " (4.267, 2),\n",
       " (4.117, 2),\n",
       " (1.85, 2),\n",
       " (4.283, 2),\n",
       " (2.283, 1),\n",
       " (2.883, 1),\n",
       " (1.95, 1),\n",
       " (4.2, 1),\n",
       " (1.6, 1),\n",
       " (3.45, 1),\n",
       " (3.067, 1),\n",
       " (3.367, 1),\n",
       " (4.783, 1),\n",
       " (3.317, 1),\n",
       " (4.716, 1),\n",
       " (1.733, 1),\n",
       " (4.883, 1),\n",
       " (3.717, 1),\n",
       " (1.667, 1),\n",
       " (4.317, 1),\n",
       " (4.4, 1),\n",
       " (2.067, 1),\n",
       " (5.067, 1),\n",
       " (3.883, 1),\n",
       " (2.633, 1),\n",
       " (4.517, 1),\n",
       " (3.75, 1),\n",
       " (2.483, 1),\n",
       " (4.05, 1),\n",
       " (4.85, 1),\n",
       " (3.683, 1),\n",
       " (4.733, 1),\n",
       " (2.3, 1),\n",
       " (1.7, 1),\n",
       " (2.317, 1),\n",
       " (2.617, 1),\n",
       " (2.267, 1),\n",
       " (4.65, 1),\n",
       " (2.8, 1),\n",
       " (4.383, 1),\n",
       " (3.733, 1),\n",
       " (5.1, 1),\n",
       " (5.033, 1),\n",
       " (3.967, 1),\n",
       " (2.367, 1),\n",
       " (5.0, 1),\n",
       " (4.617, 1),\n",
       " (2.183, 1),\n",
       " (3.966, 1),\n",
       " (4.366, 1),\n",
       " (2.383, 1),\n",
       " (3.417, 1),\n",
       " (4.483, 1),\n",
       " (4.55, 1),\n",
       " (4.183, 1),\n",
       " (2.217, 1),\n",
       " (2.333, 1),\n",
       " (2.35, 1),\n",
       " (2.9, 1),\n",
       " (2.133, 1),\n",
       " (3.817, 1),\n",
       " (4.767, 1),\n",
       " (4.75, 1),\n",
       " (2.15, 1)]"
      ]
     },
     "execution_count": 51,
     "metadata": {},
     "output_type": "execute_result"
    }
   ],
   "source": [
    "cts.most_common()"
   ]
  },
  {
   "cell_type": "code",
   "execution_count": null,
   "id": "9206ad0a-6199-4e40-959f-bc21efce12c9",
   "metadata": {},
   "outputs": [],
   "source": []
  },
  {
   "cell_type": "markdown",
   "id": "34269ad4-ee25-4403-9776-d412b5dbc44a",
   "metadata": {},
   "source": [
    "# Measures of dispersion-"
   ]
  },
  {
   "cell_type": "markdown",
   "id": "f40edb48-3f48-4948-86bf-67a755346bd5",
   "metadata": {},
   "source": [
    "1) Range\n",
    "=Max(data)-min(data)"
   ]
  },
  {
   "cell_type": "code",
   "execution_count": null,
   "id": "7a6df0d1-98d8-46f4-922b-bc17a1bb3f52",
   "metadata": {},
   "outputs": [],
   "source": []
  },
  {
   "cell_type": "code",
   "execution_count": 95,
   "id": "f865ccaa-7d22-4cd4-bd73-ade392e3fe6d",
   "metadata": {},
   "outputs": [
    {
     "data": {
      "text/plain": [
       "np.float64(3.5)"
      ]
     },
     "execution_count": 95,
     "metadata": {},
     "output_type": "execute_result"
    }
   ],
   "source": [
    "np.round(max(erupt)-min(erupt),2)"
   ]
  },
  {
   "cell_type": "code",
   "execution_count": 96,
   "id": "ed25b788-dfb0-46da-a1a7-022a5d5544cf",
   "metadata": {},
   "outputs": [
    {
     "data": {
      "text/plain": [
       "np.float64(3.4999999999999996)"
      ]
     },
     "execution_count": 96,
     "metadata": {},
     "output_type": "execute_result"
    }
   ],
   "source": [
    "np.ptp(erupt)  #command for range - "
   ]
  },
  {
   "cell_type": "code",
   "execution_count": 98,
   "id": "7b88996a-67f4-4881-9a16-9e73f32021ff",
   "metadata": {},
   "outputs": [
    {
     "data": {
      "text/plain": [
       "np.float64(3.5)"
      ]
     },
     "execution_count": 98,
     "metadata": {},
     "output_type": "execute_result"
    }
   ],
   "source": [
    "round(np.ptp(erupt),2)  #peak to peak"
   ]
  },
  {
   "cell_type": "code",
   "execution_count": null,
   "id": "4fc9f5cb-6043-45bb-91b1-0c5b2e5ca1b7",
   "metadata": {},
   "outputs": [],
   "source": []
  },
  {
   "cell_type": "markdown",
   "id": "694ab8f3-2705-4e41-b71d-ad69c34e7e5e",
   "metadata": {},
   "source": [
    "2) Interquartile Range - IQR - is the difference between the 75th percentile(3rd quartile) and the 25th percentile(1st quartile)\n",
    "\n",
    "=Q3-Q1"
   ]
  },
  {
   "cell_type": "markdown",
   "id": "ea8c63df-f53b-4530-8bee-5125c1d5747b",
   "metadata": {},
   "source": [
    "-Q3=75th percentile value\n",
    "\n",
    "For percentile sort the values first**\n",
    "\n",
    "For percentile we generally divide the dataset into 4 parts\n",
    "3rd part is 3rd quartile and the 75th percentile. \n",
    "It means that 75% values are below that value mark.\n",
    "\n",
    "If we have 20 students then \n",
    "-\n",
    "\n",
    "\n",
    "nth percentile value-\n",
    "it means that n percent of people are below that value.\n",
    "\n",
    "\n"
   ]
  },
  {
   "cell_type": "markdown",
   "id": "604ecad2-d5ff-43bf-bdf3-aedc1d24dc94",
   "metadata": {},
   "source": [
    "Kth percentile formula- \n",
    "P=(k/100)*(n+1)"
   ]
  },
  {
   "cell_type": "code",
   "execution_count": null,
   "id": "898d68a7-ccd1-47a7-8fd8-dc1f87567bd5",
   "metadata": {},
   "outputs": [],
   "source": []
  },
  {
   "cell_type": "code",
   "execution_count": 123,
   "id": "f0f3504b-bec1-4447-a8de-746905377df5",
   "metadata": {},
   "outputs": [
    {
     "data": {
      "text/plain": [
       "np.float64(4.0)"
      ]
     },
     "execution_count": 123,
     "metadata": {},
     "output_type": "execute_result"
    }
   ],
   "source": [
    "srt_erpt[135]"
   ]
  },
  {
   "cell_type": "code",
   "execution_count": 124,
   "id": "b18acad2-399e-4b08-a637-29bb9f9ff070",
   "metadata": {},
   "outputs": [
    {
     "data": {
      "text/plain": [
       "np.float64(4.0)"
      ]
     },
     "execution_count": 124,
     "metadata": {},
     "output_type": "execute_result"
    }
   ],
   "source": [
    "srt_erpt[136]"
   ]
  },
  {
   "cell_type": "code",
   "execution_count": null,
   "id": "ed8290f7-87fc-468f-8d47-ba7a76570a4e",
   "metadata": {},
   "outputs": [],
   "source": []
  },
  {
   "cell_type": "code",
   "execution_count": 119,
   "id": "c0cd0a97-2b2e-4c56-82a7-397dfd688e42",
   "metadata": {},
   "outputs": [
    {
     "data": {
      "text/plain": [
       "np.float64(4.0)"
      ]
     },
     "execution_count": 119,
     "metadata": {},
     "output_type": "execute_result"
    }
   ],
   "source": [
    "np.percentile(erupt,50)"
   ]
  },
  {
   "cell_type": "code",
   "execution_count": null,
   "id": "4b258495-2375-4ceb-aa80-c946aa06a976",
   "metadata": {},
   "outputs": [],
   "source": []
  },
  {
   "cell_type": "code",
   "execution_count": 120,
   "id": "1c0ace7e-f7c2-4b4f-8ba2-3008c5e7b3e5",
   "metadata": {},
   "outputs": [
    {
     "data": {
      "text/plain": [
       "np.float64(3.133)"
      ]
     },
     "execution_count": 120,
     "metadata": {},
     "output_type": "execute_result"
    }
   ],
   "source": [
    "(erupt[135]+erupt[136])/2"
   ]
  },
  {
   "cell_type": "code",
   "execution_count": null,
   "id": "1c7a8f6b-1f68-4b15-8c64-d2740f915722",
   "metadata": {},
   "outputs": [],
   "source": []
  },
  {
   "cell_type": "code",
   "execution_count": 117,
   "id": "b75925d3-7e6b-4012-863c-5bb0781b8012",
   "metadata": {},
   "outputs": [
    {
     "data": {
      "text/plain": [
       "136"
      ]
     },
     "execution_count": 117,
     "metadata": {},
     "output_type": "execute_result"
    }
   ],
   "source": [
    "len(erupt)//2"
   ]
  },
  {
   "cell_type": "code",
   "execution_count": 141,
   "id": "08056c63-6a9d-4ebc-a5e6-71d8e043dff2",
   "metadata": {},
   "outputs": [
    {
     "data": {
      "text/plain": [
       "np.float64(3.4999999999999996)"
      ]
     },
     "execution_count": 141,
     "metadata": {},
     "output_type": "execute_result"
    }
   ],
   "source": [
    "np.ptp(erupt)  #range"
   ]
  },
  {
   "cell_type": "code",
   "execution_count": 145,
   "id": "b4875f8f-df36-4fbe-baa1-b33394e98a9d",
   "metadata": {},
   "outputs": [
    {
     "data": {
      "text/plain": [
       "np.float64(2.2915)"
      ]
     },
     "execution_count": 145,
     "metadata": {},
     "output_type": "execute_result"
    }
   ],
   "source": [
    "np.percentile(erupt,75)-np.percentile(erupt,25)   #Interquartile range"
   ]
  },
  {
   "cell_type": "code",
   "execution_count": null,
   "id": "21f2a653-fb73-4583-bf1a-e568a8ffeac5",
   "metadata": {},
   "outputs": [],
   "source": []
  },
  {
   "cell_type": "code",
   "execution_count": null,
   "id": "d03e3480-be65-4974-868b-4474dbfffa9f",
   "metadata": {},
   "outputs": [],
   "source": []
  },
  {
   "cell_type": "code",
   "execution_count": 133,
   "id": "ef5a323c-1680-4153-8013-9554493c10cd",
   "metadata": {},
   "outputs": [],
   "source": [
    "df['srt_erpt']=srt_erpt"
   ]
  },
  {
   "cell_type": "code",
   "execution_count": null,
   "id": "8128b611-376e-4667-a473-e206dda16171",
   "metadata": {},
   "outputs": [],
   "source": []
  },
  {
   "cell_type": "code",
   "execution_count": 144,
   "id": "60921454-5f55-464e-86c1-f3bafd79941a",
   "metadata": {},
   "outputs": [
    {
     "data": {
      "text/html": [
       "<div>\n",
       "<style scoped>\n",
       "    .dataframe tbody tr th:only-of-type {\n",
       "        vertical-align: middle;\n",
       "    }\n",
       "\n",
       "    .dataframe tbody tr th {\n",
       "        vertical-align: top;\n",
       "    }\n",
       "\n",
       "    .dataframe thead th {\n",
       "        text-align: right;\n",
       "    }\n",
       "</style>\n",
       "<table border=\"1\" class=\"dataframe\">\n",
       "  <thead>\n",
       "    <tr style=\"text-align: right;\">\n",
       "      <th></th>\n",
       "      <th>eruptions</th>\n",
       "      <th>waiting</th>\n",
       "      <th>srt_erpt</th>\n",
       "    </tr>\n",
       "  </thead>\n",
       "  <tbody>\n",
       "    <tr>\n",
       "      <th>0</th>\n",
       "      <td>3.600</td>\n",
       "      <td>79</td>\n",
       "      <td>1.600</td>\n",
       "    </tr>\n",
       "    <tr>\n",
       "      <th>1</th>\n",
       "      <td>1.800</td>\n",
       "      <td>54</td>\n",
       "      <td>1.667</td>\n",
       "    </tr>\n",
       "    <tr>\n",
       "      <th>2</th>\n",
       "      <td>3.333</td>\n",
       "      <td>74</td>\n",
       "      <td>1.700</td>\n",
       "    </tr>\n",
       "    <tr>\n",
       "      <th>3</th>\n",
       "      <td>2.283</td>\n",
       "      <td>62</td>\n",
       "      <td>1.733</td>\n",
       "    </tr>\n",
       "    <tr>\n",
       "      <th>4</th>\n",
       "      <td>4.533</td>\n",
       "      <td>85</td>\n",
       "      <td>1.750</td>\n",
       "    </tr>\n",
       "    <tr>\n",
       "      <th>...</th>\n",
       "      <td>...</td>\n",
       "      <td>...</td>\n",
       "      <td>...</td>\n",
       "    </tr>\n",
       "    <tr>\n",
       "      <th>267</th>\n",
       "      <td>4.117</td>\n",
       "      <td>81</td>\n",
       "      <td>4.933</td>\n",
       "    </tr>\n",
       "    <tr>\n",
       "      <th>268</th>\n",
       "      <td>2.150</td>\n",
       "      <td>46</td>\n",
       "      <td>5.000</td>\n",
       "    </tr>\n",
       "    <tr>\n",
       "      <th>269</th>\n",
       "      <td>4.417</td>\n",
       "      <td>90</td>\n",
       "      <td>5.033</td>\n",
       "    </tr>\n",
       "    <tr>\n",
       "      <th>270</th>\n",
       "      <td>1.817</td>\n",
       "      <td>46</td>\n",
       "      <td>5.067</td>\n",
       "    </tr>\n",
       "    <tr>\n",
       "      <th>271</th>\n",
       "      <td>4.467</td>\n",
       "      <td>74</td>\n",
       "      <td>5.100</td>\n",
       "    </tr>\n",
       "  </tbody>\n",
       "</table>\n",
       "<p>272 rows × 3 columns</p>\n",
       "</div>"
      ],
      "text/plain": [
       "     eruptions  waiting  srt_erpt\n",
       "0        3.600       79     1.600\n",
       "1        1.800       54     1.667\n",
       "2        3.333       74     1.700\n",
       "3        2.283       62     1.733\n",
       "4        4.533       85     1.750\n",
       "..         ...      ...       ...\n",
       "267      4.117       81     4.933\n",
       "268      2.150       46     5.000\n",
       "269      4.417       90     5.033\n",
       "270      1.817       46     5.067\n",
       "271      4.467       74     5.100\n",
       "\n",
       "[272 rows x 3 columns]"
      ]
     },
     "execution_count": 144,
     "metadata": {},
     "output_type": "execute_result"
    }
   ],
   "source": [
    "df"
   ]
  },
  {
   "cell_type": "code",
   "execution_count": null,
   "id": "805b4337-9009-4554-aaa4-582e5225ef26",
   "metadata": {},
   "outputs": [],
   "source": []
  },
  {
   "cell_type": "markdown",
   "id": "3f154be8-67e3-4f7d-8186-e9a3b87994e4",
   "metadata": {},
   "source": [
    "# As the variation increases the value of std deviation and variance also increases."
   ]
  },
  {
   "cell_type": "code",
   "execution_count": null,
   "id": "02269a65-c378-4292-9e48-76ebbeb66a52",
   "metadata": {},
   "outputs": [],
   "source": []
  },
  {
   "cell_type": "code",
   "execution_count": null,
   "id": "74930f62-07fc-4a4e-bf84-a4eaef54c173",
   "metadata": {},
   "outputs": [],
   "source": []
  },
  {
   "cell_type": "code",
   "execution_count": 150,
   "id": "fc889827-768a-4bb9-a65e-85762ac12dbe",
   "metadata": {},
   "outputs": [],
   "source": [
    "x1=[10,12,15,18,20,25,10,12,15,18,20,25]\n"
   ]
  },
  {
   "cell_type": "code",
   "execution_count": 153,
   "id": "14f41f3e-07ca-418b-b0cb-6c054d3674fa",
   "metadata": {},
   "outputs": [
    {
     "data": {
      "text/plain": [
       "np.float64(25.222222222222218)"
      ]
     },
     "execution_count": 153,
     "metadata": {},
     "output_type": "execute_result"
    }
   ],
   "source": [
    "np.var(x1)    #population variance"
   ]
  },
  {
   "cell_type": "code",
   "execution_count": null,
   "id": "f73533e4-941b-4640-a4d5-c88bb06bfa04",
   "metadata": {},
   "outputs": [],
   "source": []
  },
  {
   "cell_type": "code",
   "execution_count": 154,
   "id": "a511497c-2035-4e88-ac6a-0a7229042ffc",
   "metadata": {},
   "outputs": [
    {
     "data": {
      "text/plain": [
       "np.float64(27.515151515151512)"
      ]
     },
     "execution_count": 154,
     "metadata": {},
     "output_type": "execute_result"
    }
   ],
   "source": [
    "np.var(x1,ddof=1)    #sample variance"
   ]
  },
  {
   "cell_type": "code",
   "execution_count": null,
   "id": "581733b2-8241-4858-8068-71ddced6ed36",
   "metadata": {},
   "outputs": [],
   "source": []
  },
  {
   "cell_type": "code",
   "execution_count": 155,
   "id": "163b97ed-4abc-4d4a-b484-d8b15ff35ee9",
   "metadata": {},
   "outputs": [
    {
     "data": {
      "text/plain": [
       "np.float64(5.022173057773121)"
      ]
     },
     "execution_count": 155,
     "metadata": {},
     "output_type": "execute_result"
    }
   ],
   "source": [
    "np.std(x1)"
   ]
  },
  {
   "cell_type": "code",
   "execution_count": 160,
   "id": "bbb3b371-9bb9-46d3-8e2a-b997f7517423",
   "metadata": {},
   "outputs": [
    {
     "data": {
      "text/plain": [
       "np.float64(5.245488682206026)"
      ]
     },
     "execution_count": 160,
     "metadata": {},
     "output_type": "execute_result"
    }
   ],
   "source": [
    "np.std(x1,ddof=1)"
   ]
  },
  {
   "cell_type": "code",
   "execution_count": null,
   "id": "77378cfc-37cb-498d-8331-1381b7e0d1d4",
   "metadata": {},
   "outputs": [],
   "source": []
  },
  {
   "cell_type": "code",
   "execution_count": null,
   "id": "d317b2f1-b9b5-42c8-a5f7-0cef2f1185de",
   "metadata": {},
   "outputs": [],
   "source": []
  },
  {
   "cell_type": "markdown",
   "id": "1eb8ff4d-b832-4f27-bc7c-c56a9e75d3dc",
   "metadata": {},
   "source": [
    "# MEASURES OF SHAPE"
   ]
  },
  {
   "cell_type": "markdown",
   "id": "b587e9b9-a93a-4f14-aa68-eab1a9cc2bab",
   "metadata": {},
   "source": [
    "-Skewness - peakedness\n",
    "\n",
    "-Kurtosis - symmetry\n",
    "\n"
   ]
  },
  {
   "attachments": {},
   "cell_type": "markdown",
   "id": "182075e4-2690-40fa-bb56-638160757119",
   "metadata": {},
   "source": [
    "bell shaped - normal distribution\n",
    "- Mean==Median==Mode at the centre of the bell curve, Here skewness=0\n",
    "- Here, skewness = 0"
   ]
  },
  {
   "cell_type": "code",
   "execution_count": null,
   "id": "5dd9697f-e728-4599-b49d-2b4b70b7acdb",
   "metadata": {},
   "outputs": [],
   "source": []
  },
  {
   "attachments": {
    "09e464d7-ca8c-4cd3-a15c-0f333b971cad.png": {
     "image/png": "[encoded data removed]"
    },
    "ecfaf513-7418-484e-9f96-29d88aff359f.png": {
     "image/png": "[encoded data removed]"
    }
   },
   "cell_type": "markdown",
   "id": "0f1144aa-29bd-4390-9032-b0d5731ad6aa",
   "metadata": {},
   "source": [
    "![image.png](attachment:ecfaf513-7418-484e-9f96-29d88aff359f.png)![image.png](attachment:09e464d7-ca8c-4cd3-a15c-0f333b971cad.png)"
   ]
  },
  {
   "cell_type": "code",
   "execution_count": null,
   "id": "0e8a040a-0a22-4448-abe5-da2b0439fd43",
   "metadata": {},
   "outputs": [],
   "source": []
  },
  {
   "cell_type": "code",
   "execution_count": null,
   "id": "b2229ad0-e0a2-4eca-b25b-048bb6aeea8a",
   "metadata": {},
   "outputs": [],
   "source": []
  },
  {
   "cell_type": "code",
   "execution_count": null,
   "id": "416d64ae-bac5-45f6-8661-7a7ebcccc33d",
   "metadata": {},
   "outputs": [],
   "source": []
  },
  {
   "cell_type": "markdown",
   "id": "1b708231-c546-412e-8dd5-623be149c28b",
   "metadata": {},
   "source": [
    "Left skewed curve , skewness= -ve"
   ]
  },
  {
   "cell_type": "markdown",
   "id": "d1fce278-08cd-4c20-886f-ab5eaa3105db",
   "metadata": {},
   "source": [
    "Right Skewed curve, skewness=+ve\n"
   ]
  },
  {
   "cell_type": "code",
   "execution_count": null,
   "id": "142754fb-0aae-46fe-a5a0-7e89a1097236",
   "metadata": {},
   "outputs": [],
   "source": []
  },
  {
   "cell_type": "code",
   "execution_count": null,
   "id": "13ce7674-e12f-4e7c-b9b4-95ed6965de9c",
   "metadata": {},
   "outputs": [],
   "source": []
  },
  {
   "cell_type": "code",
   "execution_count": null,
   "id": "924900c6-6397-4ac9-a138-01d0ca976f60",
   "metadata": {},
   "outputs": [],
   "source": []
  }
 ],
 "metadata": {
  "kernelspec": {
   "display_name": "Python 3 (ipykernel)",
   "language": "python",
   "name": "python3"
  },
  "language_info": {
   "codemirror_mode": {
    "name": "ipython",
    "version": 3
   },
   "file_extension": ".py",
   "mimetype": "text/x-python",
   "name": "python",
   "nbconvert_exporter": "python",
   "pygments_lexer": "ipython3",
   "version": "3.12.5"
  }
 },
 "nbformat": 4,
 "nbformat_minor": 5
}
