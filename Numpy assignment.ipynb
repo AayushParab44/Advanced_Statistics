{
 "cells": [
  {
   "cell_type": "code",
   "execution_count": 2,
   "id": "5f6f2f8c-2e8e-41e0-9e36-33dbb5be9faf",
   "metadata": {},
   "outputs": [],
   "source": [
    "import numpy as np\n",
    "from numpy import random"
   ]
  },
  {
   "cell_type": "code",
   "execution_count": 3,
   "id": "d4183a82-780b-4b14-9904-cbe307e33563",
   "metadata": {},
   "outputs": [],
   "source": [
    "# 1. Write a NumPy program to find the dot product of two arrays of different dimensions.\n"
   ]
  },
  {
   "cell_type": "code",
   "execution_count": 4,
   "id": "0b9ab27c-177f-40aa-8145-becc6dab5f4d",
   "metadata": {},
   "outputs": [
    {
     "data": {
      "text/plain": [
       "array([[1., 0., 0., 0., 0.],\n",
       "       [0., 1., 0., 0., 0.],\n",
       "       [0., 0., 1., 0., 0.],\n",
       "       [0., 0., 0., 1., 0.],\n",
       "       [0., 0., 0., 0., 1.]])"
      ]
     },
     "execution_count": 4,
     "metadata": {},
     "output_type": "execute_result"
    }
   ],
   "source": [
    "# 2. Write a NumPy program to create a 3x3 identity matrix and stack it vertically and horizontally.\n",
    "np.identity(5)\n"
   ]
  },
  {
   "cell_type": "code",
   "execution_count": null,
   "id": "e2d061d9-4e90-4e01-b2a0-5a4d88ad1a43",
   "metadata": {},
   "outputs": [],
   "source": []
  },
  {
   "cell_type": "code",
   "execution_count": 5,
   "id": "3085adf1-3ffd-473e-bdc3-500d211e0aa7",
   "metadata": {},
   "outputs": [
    {
     "name": "stdout",
     "output_type": "stream",
     "text": [
      "The 4x4 array is-\n",
      "[[ 0  1  2  3]\n",
      " [ 4  5  6  7]\n",
      " [ 8  9 10 11]\n",
      " [12 13 14 15]]\n",
      "\n",
      "Sum of -\n",
      "Row 0: 6\n",
      "Row 1: 22\n",
      "Row 2: 38\n",
      "Row 3: 54\n"
     ]
    }
   ],
   "source": [
    "# 3. Write a NumPy program to create a 4x4 array with random values and find the sum of each row.\n",
    "a=np.arange(16).reshape(4,4)\n",
    "sm=np.sum(a,axis=1)\n",
    "print('The 4x4 array is-')\n",
    "print(a)\n",
    "print()\n",
    "print('Sum of -')\n",
    "for i in range(len(sm)):\n",
    "    print(f'Row {i}:',sm[i])\n"
   ]
  },
  {
   "cell_type": "code",
   "execution_count": 6,
   "id": "be7f78c0-c6e7-4f11-9028-e9fbaf51f302",
   "metadata": {},
   "outputs": [
    {
     "name": "stdout",
     "output_type": "stream",
     "text": [
      "The 3x3 array is-\n",
      "[[0 1 2]\n",
      " [3 4 5]\n",
      " [6 7 8]]\n",
      "\n",
      "[-1.  0.  1.]\n",
      "[-1.  0.  1.]\n",
      "[-1.  0.  1.]\n"
     ]
    }
   ],
   "source": [
    "# 4. Write a NumPy program to create a 3x3 array with random values and subtract the mean of each row from each element.\n",
    "a=np.arange(9).reshape(3,3)\n",
    "print('The 3x3 array is-')\n",
    "print(a)\n",
    "print()\n",
    "for i in a:\n",
    "    print(i-np.mean(i))"
   ]
  },
  {
   "cell_type": "code",
   "execution_count": 7,
   "id": "5d36f27e-d362-4740-b16d-c84ef3110c1f",
   "metadata": {},
   "outputs": [
    {
     "name": "stdout",
     "output_type": "stream",
     "text": [
      "[[0 1 2]\n",
      " [3 4 5]\n",
      " [6 7 8]]\n",
      "\n",
      "[[-3. -2. -1.]\n",
      " [-1.  0.  1.]\n",
      " [ 1.  2.  3.]]\n"
     ]
    }
   ],
   "source": [
    "# 5. Write a NumPy program to create a 3x3 array with random values and subtract the mean of each column from each element.\n",
    "a=np.random.randint(1,100,9).reshape(3,3)\n",
    "a=np.arange(9).reshape(3,3)\n",
    "print(a)\n",
    "print()\n",
    "print(a-np.mean(a,axis=0).reshape(3,1))"
   ]
  },
  {
   "cell_type": "code",
   "execution_count": 8,
   "id": "480412b8-9855-4fb3-a577-ad617b601543",
   "metadata": {},
   "outputs": [
    {
     "data": {
      "text/plain": [
       "array([[3.],\n",
       "       [4.],\n",
       "       [5.]])"
      ]
     },
     "execution_count": 8,
     "metadata": {},
     "output_type": "execute_result"
    }
   ],
   "source": [
    "np.mean(a,axis=0).reshape(3,1)"
   ]
  },
  {
   "cell_type": "code",
   "execution_count": 54,
   "id": "db54c885-e0f5-4a12-8a4f-ab579d9d4983",
   "metadata": {},
   "outputs": [
    {
     "data": {
      "text/plain": [
       "array([[46.00029129, 57.00029129, 45.00029129, 26.00029129, 86.00029129],\n",
       "       [67.00029129, 81.00029129, 11.00029129, 82.00029129, 30.00029129],\n",
       "       [67.00029129, 68.00029129, 44.00029129, 55.00029129, 58.00029129],\n",
       "       [79.00029129, 21.00029129, 14.00029129, 91.00029129, 53.00029129],\n",
       "       [57.00029129,  2.00029129, 84.00029129, 23.00029129, 13.00029129]])"
      ]
     },
     "execution_count": 54,
     "metadata": {},
     "output_type": "execute_result"
    }
   ],
   "source": [
    "# 6. Write a NumPy program to create a 5x5 array with random values and normalize it row-wise.\n",
    "\n",
    "# normalized value = value-mean(all values)/std deviation of all values)\n",
    "# np.mean()\n",
    "# np.std()\n",
    "\n",
    "# a-(np.mean(a)/np.std(a))\n",
    "\n"
   ]
  },
  {
   "cell_type": "code",
   "execution_count": 10,
   "id": "f05b6ecc-387a-466b-9b20-33c957d5d924",
   "metadata": {},
   "outputs": [],
   "source": [
    "# 7. Write a NumPy program to create a 5x5 array with random values and normalize it column-wise.\n"
   ]
  },
  {
   "cell_type": "code",
   "execution_count": 30,
   "id": "4b5d3fa4-80ba-4380-9617-dfbbb36aa496",
   "metadata": {},
   "outputs": [
    {
     "name": "stdout",
     "output_type": "stream",
     "text": [
      "[[[ 0  1  2]\n",
      "  [ 3  4  5]\n",
      "  [ 6  7  8]]\n",
      "\n",
      " [[ 9 10 11]\n",
      "  [12 13 14]\n",
      "  [15 16 17]]\n",
      "\n",
      " [[18 19 20]\n",
      "  [21 22 23]\n",
      "  [24 25 26]]]\n"
     ]
    },
    {
     "data": {
      "text/plain": [
       "array([[27, 30, 33],\n",
       "       [36, 39, 42],\n",
       "       [45, 48, 51]])"
      ]
     },
     "execution_count": 30,
     "metadata": {},
     "output_type": "execute_result"
    }
   ],
   "source": [
    "# 8. Write a NumPy program to create a 3x3x3 array with random values and find the sum along the last axis.\n",
    "\n",
    "a=np.arange(27).reshape(3,3,3)\n",
    "print(a)\n",
    "np.sum(a,axis=0)\n"
   ]
  },
  {
   "cell_type": "code",
   "execution_count": 33,
   "id": "d5da7dc9-8de5-477a-b6a9-b34bd9128a50",
   "metadata": {},
   "outputs": [
    {
     "name": "stdout",
     "output_type": "stream",
     "text": [
      "[[42 48  9 24 93]\n",
      " [77 87 18 97 83]\n",
      " [58 42 45 76 71]\n",
      " [33 20 62 32 70]\n",
      " [12 55 18  5 46]]\n",
      "Sorted-\n"
     ]
    },
    {
     "data": {
      "text/plain": [
       "array([[ 9, 24, 42, 48, 93],\n",
       "       [18, 77, 83, 87, 97],\n",
       "       [42, 45, 58, 71, 76],\n",
       "       [20, 32, 33, 62, 70],\n",
       "       [ 5, 12, 18, 46, 55]], dtype=int32)"
      ]
     },
     "execution_count": 33,
     "metadata": {},
     "output_type": "execute_result"
    }
   ],
   "source": [
    "# 9. Write a NumPy program to create a 5x5 array with random values and sort each row.\n",
    "a=np.random.randint(0,100,25).reshape(5,5)\n",
    "print(a)\n",
    "print('Sorted-')\n",
    "\n",
    "np.sort(a,axis=1)\n"
   ]
  },
  {
   "cell_type": "code",
   "execution_count": 35,
   "id": "4c410cec-ed06-4410-bbe1-20b4035362cb",
   "metadata": {},
   "outputs": [
    {
     "name": "stdout",
     "output_type": "stream",
     "text": [
      "[[38 17 70 39 56]\n",
      " [52 50 22 57 89]\n",
      " [ 2 87 64 76 59]\n",
      " [54 73 67 51 57]\n",
      " [68 49 15 21 47]]\n"
     ]
    },
    {
     "data": {
      "text/plain": [
       "array([[ 2, 17, 15, 21, 47],\n",
       "       [38, 49, 22, 39, 56],\n",
       "       [52, 50, 64, 51, 57],\n",
       "       [54, 73, 67, 57, 59],\n",
       "       [68, 87, 70, 76, 89]], dtype=int32)"
      ]
     },
     "execution_count": 35,
     "metadata": {},
     "output_type": "execute_result"
    }
   ],
   "source": [
    "# 10. Write a NumPy program to create a 5x5 array with random values and sort each column.\n",
    "a=random.randint(1,100,25).reshape(5,5)\n",
    "print(a)\n",
    "np.sort(a,axis=0)"
   ]
  },
  {
   "cell_type": "code",
   "execution_count": null,
   "id": "dd21ee29-ed54-4a78-ad84-1b8610c20a1e",
   "metadata": {},
   "outputs": [],
   "source": [
    "np.random.randint(1,15)"
   ]
  },
  {
   "cell_type": "code",
   "execution_count": 55,
   "id": "67071ba3-5076-4c84-b03b-824ea840525f",
   "metadata": {},
   "outputs": [
    {
     "name": "stdout",
     "output_type": "stream",
     "text": [
      "[[16 59 28 81 97]\n",
      " [ 9 94 44 64 72]\n",
      " [88  5 11 23 42]\n",
      " [95  1 62 66 60]\n",
      " [ 5 95 48 50 59]]\n",
      "[[16 28 59 81 97]\n",
      " [ 9 44 64 72 94]\n",
      " [ 5 11 23 42 88]\n",
      " [ 1 60 62 66 95]\n",
      " [ 5 48 50 59 95]]\n",
      "[81 72 42 66 59]\n"
     ]
    },
    {
     "data": {
      "text/plain": [
       "array([81, 72, 42, 66, 59], dtype=int32)"
      ]
     },
     "execution_count": 55,
     "metadata": {},
     "output_type": "execute_result"
    }
   ],
   "source": [
    "# 11. Write a NumPy program to create a 5x5 array with random values and find the second-largest value in each row.\n",
    "a=random.randint(1,100,25).reshape(5,5)\n",
    "print(a)\n",
    "print(np.sort(a,axis=1))\n",
    "print(np.sort(a,axis=1)[:,3])  #wrong one\n",
    "\n",
    "np.sort(a,axis=1)[:,-2]  #correct one\n",
    "\n"
   ]
  },
  {
   "cell_type": "code",
   "execution_count": 56,
   "id": "4312f376-be30-46c0-95fb-78c8d1424897",
   "metadata": {},
   "outputs": [
    {
     "name": "stdout",
     "output_type": "stream",
     "text": [
      "[[61 64 58 47 37]\n",
      " [54 49 63 63 49]\n",
      " [33 34 79 89 64]\n",
      " [57 54 72 64 84]\n",
      " [60 98 15 70  1]]\n",
      "[[33 34 15 47  1]\n",
      " [54 49 58 63 37]\n",
      " [57 54 63 64 49]\n",
      " [60 64 72 70 64]\n",
      " [61 98 79 89 84]]\n"
     ]
    },
    {
     "data": {
      "text/plain": [
       "array([60, 64, 72, 70, 64], dtype=int32)"
      ]
     },
     "execution_count": 56,
     "metadata": {},
     "output_type": "execute_result"
    }
   ],
   "source": [
    "# 12. Write a NumPy program to create a 5x5 array with random values and find the second-largest value in each column.\n",
    "a=random.randint(1,100,25).reshape(5,5)\n",
    "print(a)\n",
    "print(np.sort(a,axis=0))\n",
    "np.sort(a,axis=0)[-2,:]"
   ]
  },
  {
   "cell_type": "code",
   "execution_count": 48,
   "id": "18355f0a-6576-4f94-97bf-a538ad61c9ac",
   "metadata": {},
   "outputs": [
    {
     "name": "stdout",
     "output_type": "stream",
     "text": [
      "[[56 21 72 53 60]\n",
      " [38  9 26 41 64]\n",
      " [57  9 14 87 87]\n",
      " [ 5  3 81 85 84]\n",
      " [58 44 63 23 91]]\n",
      "91\n",
      "[[56 21 72 53 60]\n",
      " [38  9 26 41 64]\n",
      " [57  9 14 87 87]\n",
      " [ 5  3 81 85 84]\n",
      " [58 44 63 23  0]]\n"
     ]
    }
   ],
   "source": [
    "# 13. Write a NumPy program to create a 5x5 array with random values and replace the maximum value with 0.\n",
    "a=random.randint(1,100,25).reshape(5,5)\n",
    "print(a)\n",
    "print(a.max())\n",
    "a[np.where(a==a.max())]=0\n",
    "print(a)"
   ]
  },
  {
   "cell_type": "code",
   "execution_count": 49,
   "id": "de917aed-7a3b-40f2-8908-8ea2de13497b",
   "metadata": {},
   "outputs": [
    {
     "name": "stdout",
     "output_type": "stream",
     "text": [
      "[[50 12 18 81 54]\n",
      " [47  9 40 26  7]\n",
      " [19 31  6 51  2]\n",
      " [76 70  9 18  3]\n",
      " [68 82 29 11 89]]\n",
      "2\n",
      "[[50 12 18 81 54]\n",
      " [47  9 40 26  7]\n",
      " [19 31  6 51  0]\n",
      " [76 70  9 18  3]\n",
      " [68 82 29 11 89]]\n"
     ]
    }
   ],
   "source": [
    "# 14. Write a NumPy program to create a 5x5 array with random values and replace the minimum value with 0.\n",
    "a=random.randint(1,100,25).reshape(5,5)\n",
    "print(a)\n",
    "print(a.min())\n",
    "a[np.where(a==a.min())]=0\n",
    "print(a)\n"
   ]
  },
  {
   "cell_type": "code",
   "execution_count": 3,
   "id": "b1f98a9c-1da7-4a10-8ab2-01c796621bba",
   "metadata": {},
   "outputs": [
    {
     "data": {
      "text/plain": [
       "array([[10, 60, 42, 65, 67],\n",
       "       [66,  5, 52, 51, 75],\n",
       "       [85, 32, 81, 34, 47],\n",
       "       [56, 64,  8,  9,  5],\n",
       "       [94,  7, 70, 33, 75]], dtype=int32)"
      ]
     },
     "execution_count": 3,
     "metadata": {},
     "output_type": "execute_result"
    }
   ],
   "source": [
    "# 15. Write a NumPy program to create a 5x5 array with random values and calculate the exponential of each element.\n",
    "a=random.randint(1,100,25).reshape(5,5)\n",
    "a**2\n",
    "a"
   ]
  },
  {
   "cell_type": "code",
   "execution_count": 5,
   "id": "0e928b36-c84e-42c2-bd7b-730364cd8124",
   "metadata": {},
   "outputs": [
    {
     "data": {
      "text/plain": [
       "np.int32(94)"
      ]
     },
     "execution_count": 5,
     "metadata": {},
     "output_type": "execute_result"
    }
   ],
   "source": [
    "# 1. Write a Python program to find the maximum and minimum value of a given flattened array.\n",
    "# Expected Output:\n",
    "# Original flattened array:\n",
    "# [[0 1]\n",
    "# [2 3]]\n",
    "# Maximum value of the above flattened array:\n",
    "# 3\n",
    "# Minimum value of the above flattened array:\n",
    "# 0\n",
    "\n",
    "a.max()"
   ]
  },
  {
   "cell_type": "code",
   "execution_count": 58,
   "id": "f4f38494-b31c-4739-84c6-35996aedb3ba",
   "metadata": {},
   "outputs": [
    {
     "data": {
      "text/plain": [
       "array([[0, 1],\n",
       "       [2, 3]])"
      ]
     },
     "execution_count": 58,
     "metadata": {},
     "output_type": "execute_result"
    }
   ],
   "source": [
    "# 2. Write a NumPy program to get the minimum and maximum value of a given array along the second axis.\n",
    "# Expected Output:\n",
    "# Original array:\n",
    "# [[0 1]\n",
    "# [2 3]]\n",
    "# Maximum value along the second axis:\n",
    "# [1 3]\n",
    "# Minimum value along the second axis:\n",
    "# [0 2]\n",
    "a=[[0,1],[2,3]]\n",
    "np.sort(a,axis=0)"
   ]
  },
  {
   "cell_type": "code",
   "execution_count": null,
   "id": "81657528-6288-4b0b-940a-24b7da4314b3",
   "metadata": {},
   "outputs": [],
   "source": [
    "# 3. Write a NumPy program to calculate the difference between the maximum and the minimum values of a given array along the second axis.\n",
    "# Expected Output:\n",
    "# Original array:\n",
    "# [[ 0 1 2 3 4 5]\n",
    "# [ 6 7 8 9 10 11]]\n",
    "# Difference between the maximum and the minimum values of the said array:\n",
    "# [5 5]\n",
    "\n",
    "\n"
   ]
  },
  {
   "cell_type": "code",
   "execution_count": null,
   "id": "8a9fb93c-bcbc-4da1-bb80-51deec589dfd",
   "metadata": {},
   "outputs": [],
   "source": [
    "# 4. Write a NumPy program to compute the 80th percentile for all elements in a given array along the second axis.\n",
    "# Expected Output:\n",
    "# Original array:\n",
    "# [1.0, 2.0, 3.0, 4.0]\n",
    "# Largest integer smaller or equal to the division of the inputs:\n",
    "# [ 0. 1. 2. 2.]\n",
    "\n"
   ]
  },
  {
   "cell_type": "code",
   "execution_count": null,
   "id": "965b5f38-e0aa-41c7-8f6a-b88eef1164ac",
   "metadata": {},
   "outputs": [],
   "source": [
    "# 5. Write a NumPy program to compute the median of flattened given array.\n",
    "# Note: First array elements raised to powers from second array\n",
    "# Expected Output:\n",
    "# Original array:\n",
    "# [[ 0 1 2 3 4 5]\n",
    "# [ 6 7 8 9 10 11]]\n",
    "# Median of said array:\n",
    "# 5.5"
   ]
  },
  {
   "cell_type": "code",
   "execution_count": null,
   "id": "ee7492d8-3501-4b75-be5a-c5b476a9066a",
   "metadata": {},
   "outputs": [],
   "source": [
    "# 6. Write a NumPy program to compute the weighted of a given array.\n",
    "# Sample Output:\n",
    "# Original array:\n",
    "# [0 1 2 3 4]\n",
    "# Weighted average of the said array:\n",
    "# 2.6666666666666665"
   ]
  },
  {
   "cell_type": "code",
   "execution_count": null,
   "id": "6481f06c-eef6-4a7c-8b8c-d92bed38baa1",
   "metadata": {},
   "outputs": [],
   "source": [
    "# 7. Write a NumPy program to compute the mean, standard deviation, and variance of a given array along the second axis.\n",
    "# Sample output:\n",
    "# Original array:\n",
    "# [0 1 2 3 4 5]\n",
    "# Mean: 2.5\n",
    "# std: 1\n",
    "# variance: 2.9166666666666665\n",
    "\n"
   ]
  },
  {
   "cell_type": "code",
   "execution_count": null,
   "id": "951d715b-73fd-4836-8aa8-025581411b87",
   "metadata": {},
   "outputs": [],
   "source": [
    "# 8. Write a NumPy program to compute the covariance matrix of two given arrays.\n",
    "# Sample Output:\n",
    "# Original array1:\n",
    "# [0 1 2]\n",
    "# Original array1:\n",
    "# [2 1 0]\n",
    "# Covariance matrix of the said arrays:\n",
    "# [[ 1. -1.]\n",
    "# [-1. 1.]]\n",
    "\n"
   ]
  },
  {
   "cell_type": "code",
   "execution_count": null,
   "id": "dd287613-6464-4064-b9f9-a10dca367e69",
   "metadata": {},
   "outputs": [],
   "source": [
    "# 9. Write a NumPy program to compute cross-correlation of two given arrays.\n",
    "# Sample Output:\n",
    "# Original array1:\n",
    "# [0 1 3]\n",
    "# Original array1:\n",
    "# [2 4 5]\n",
    "# Cross-correlation of the said arrays:\n",
    "# [19]"
   ]
  },
  {
   "cell_type": "code",
   "execution_count": null,
   "id": "8290e7fd-03b1-41f0-a568-b670c54ce647",
   "metadata": {},
   "outputs": [],
   "source": [
    "# 10. Write a NumPy program to compute pearson product-moment correlation coefficients of two given arrays.\n",
    "# Sample Output:\n",
    "# Original array1:\n",
    "# [0 1 3]\n",
    "# Original array1:\n",
    "# [2 4 5]\n",
    "# Pearson product-moment correlation coefficients of the said arrays:\n",
    "# [[1. 0.92857143]\n",
    "# [0.92857143 1. ]]"
   ]
  },
  {
   "cell_type": "code",
   "execution_count": null,
   "id": "02e98027-ddfa-4955-a897-74370190dba9",
   "metadata": {},
   "outputs": [],
   "source": [
    "# 11. Write a NumPy program to test element-wise of a given array for finiteness (not infinity or not Not a Number), positive or negative infinity, for NaN, for NaT (not a time), for negative infinity, for positive infinity.\n",
    "# Sample output:\n",
    "# Test element-wise for finiteness (not infinity or not Not a Number):\n",
    "# True\n",
    "# True\n",
    "# False\n",
    "# Test element-wise for positive or negative infinity:\n",
    "# True\n",
    "# False\n",
    "# True\n",
    "# Test element-wise for NaN:\n",
    "# [ True False False]\n",
    "# Test element-wise for NaT (not a time):\n",
    "# [ True False]\n",
    "# Test element-wise for negative infinity:\n",
    "# [1 0 0]\n",
    "# Test element-wise for positive infinity:\n",
    "# [0 0 1]"
   ]
  },
  {
   "cell_type": "code",
   "execution_count": null,
   "id": "3af3218f-0603-48a3-a617-3dacabee322d",
   "metadata": {},
   "outputs": [],
   "source": [
    "# 12. Write a Python NumPy program to compute the weighted average along the specified axis of a given flattened array.\n",
    "# From Wikipedia: The weighted arithmetic mean is similar to an ordinary arithmetic mean (the most common type of average), except that instead of each of the data points contributing equally to the final average, some data points contribute more than others. The notion of weighted mean plays a role in descriptive statistics and also occurs in a more general form in several other areas of mathematics.\n",
    "# Sample output:\n",
    "# Original flattened array:\n",
    "# [[0 1 2]\n",
    "# [3 4 5]\n",
    "# [6 7 8]]\n",
    "# Weighted average along the specified axis of the above flattened array:\n",
    "# [1.2 4.2 7.2]"
   ]
  },
  {
   "cell_type": "code",
   "execution_count": null,
   "id": "c13aade4-ffe3-48dc-b819-522b9e4e1a04",
   "metadata": {},
   "outputs": [],
   "source": [
    "# 13. Write a Python program to count number of occurrences of each value in a given array of non-negative integers.\n",
    "# Note: bincount() function count number of occurrences of each value in an array of non-negative integers in the range of the array between the minimum and maximum values including the values that did not occur.\n",
    "# Sample Output:\n",
    "# Original array:\n",
    "# [0, 1, 6, 1, 4, 1, 2, 2, 7]\n",
    "# Number of occurrences of each value in array:\n",
    "# [1 3 2 0 1 0 1 1]"
   ]
  },
  {
   "cell_type": "code",
   "execution_count": null,
   "id": "f5a4baac-97da-4158-85bc-51a6a6ec440e",
   "metadata": {},
   "outputs": [],
   "source": [
    "# 14. Write a NumPy program to compute the histogram of nums against the bins.\n",
    "# Sample Output:\n",
    "# nums: [0.5 0.7 1. 1.2 1.3 2.1]\n",
    "# bins: [0 1 2 3]\n",
    "# Result: (array([2, 3, 1], dtype=int64), array([0, 1, 2, 3]))"
   ]
  }
 ],
 "metadata": {
  "kernelspec": {
   "display_name": "Python 3 (ipykernel)",
   "language": "python",
   "name": "python3"
  },
  "language_info": {
   "codemirror_mode": {
    "name": "ipython",
    "version": 3
   },
   "file_extension": ".py",
   "mimetype": "text/x-python",
   "name": "python",
   "nbconvert_exporter": "python",
   "pygments_lexer": "ipython3",
   "version": "3.12.7"
  }
 },
 "nbformat": 4,
 "nbformat_minor": 5
}
