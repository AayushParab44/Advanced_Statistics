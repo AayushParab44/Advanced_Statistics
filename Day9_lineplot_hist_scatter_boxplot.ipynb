{
 "cells": [
  {
   "cell_type": "code",
   "execution_count": 138,
   "id": "73d12dcd-a2d4-41fb-b4d8-be4e0f20eed8",
   "metadata": {},
   "outputs": [],
   "source": [
    "import numpy as np\n",
    "import pandas as pd\n",
    "import matplotlib.pyplot as plt\n",
    "import seaborn as sns\n",
    "\n",
    "from numpy import random\n",
    "\n",
    "import scipy\n",
    "from scipy import stats\n",
    "from scipy.stats import binom,poisson,norm,t\n",
    "\n",
    "import pylab\n",
    "from pylab import legend, plot, show ,title, xlabel, ylabel"
   ]
  },
  {
   "cell_type": "code",
   "execution_count": 139,
   "id": "36eeb6df-a14a-476c-a083-c20554fce064",
   "metadata": {},
   "outputs": [],
   "source": [
    "#Plotting this equation-  x**3+2x**2+7x+4\n",
    "\n",
    "y_points=[]\n",
    "x_points=range(1,31)\n",
    "for ctr in x_points:\n",
    "    y_points.append(ctr**3+2*ctr**2+7*ctr+4)"
   ]
  },
  {
   "cell_type": "code",
   "execution_count": 140,
   "id": "9fdd8417-349b-4b7c-b333-12de176e2756",
   "metadata": {},
   "outputs": [
    {
     "ename": "TypeError",
     "evalue": "bad operand type for unary ~: 'range'",
     "output_type": "error",
     "traceback": [
      "\u001b[1;31m---------------------------------------------------------------------------\u001b[0m",
      "\u001b[1;31mTypeError\u001b[0m                                 Traceback (most recent call last)",
      "Cell \u001b[1;32mIn[140], line 1\u001b[0m\n\u001b[1;32m----> 1\u001b[0m plot(\u001b[38;5;241;43m~\u001b[39;49m\u001b[43mx_points\u001b[49m,y_points)\n",
      "\u001b[1;31mTypeError\u001b[0m: bad operand type for unary ~: 'range'"
     ]
    }
   ],
   "source": [
    "plot(~x_points,y_points)"
   ]
  },
  {
   "cell_type": "code",
   "execution_count": null,
   "id": "7c290869-db43-4825-a2b0-d3131a2832d3",
   "metadata": {},
   "outputs": [],
   "source": [
    "print(y_points)"
   ]
  },
  {
   "cell_type": "code",
   "execution_count": null,
   "id": "04877882-1146-4e6f-96e3-ffd9bbf5f33d",
   "metadata": {},
   "outputs": [],
   "source": [
    "#y=mx+c\n",
    "# y=3x+4"
   ]
  },
  {
   "cell_type": "code",
   "execution_count": null,
   "id": "519881ee-985a-45c9-b58b-6dd6367b8c3a",
   "metadata": {},
   "outputs": [],
   "source": [
    "plt.figure(figsize=(100,20))\n",
    "x1=np.random.randint(20,100,12)\n",
    "months=range(1,13)\n",
    "plot(months,x1)"
   ]
  },
  {
   "cell_type": "code",
   "execution_count": null,
   "id": "f2b49f58-2ad4-46ea-b731-5e98d5a6886e",
   "metadata": {},
   "outputs": [],
   "source": []
  },
  {
   "cell_type": "code",
   "execution_count": null,
   "id": "d62611f4-6621-4afc-9e98-9745221f1bba",
   "metadata": {},
   "outputs": [],
   "source": [
    "x1=np.random.randint(10,40,365)\n",
    "days=range(1,366)\n",
    "plt.scatter(days,x1)"
   ]
  },
  {
   "cell_type": "code",
   "execution_count": null,
   "id": "041c8079-2ecf-40e8-b87c-9e5698fe7876",
   "metadata": {},
   "outputs": [],
   "source": []
  },
  {
   "cell_type": "code",
   "execution_count": null,
   "id": "860c698f-784f-4f38-8daf-e61b6bfa5666",
   "metadata": {},
   "outputs": [],
   "source": [
    "x1=np.random.randint(20,100,12)\n",
    "x2=np.random.randint(10,60,12)\n",
    "x3=np.random.randint(40,150,12)\n",
    "\n",
    "months=range(1,13)\n",
    "\n",
    "plt.figure(figsize=(5,3))\n",
    "plot(months,x1,months,x2,months,x3)\n",
    "legend(['Bread','Wheat','Milk'])\n",
    "title('Consumption of food items')\n",
    "xlabel('Month')\n",
    "ylabel('Consumption in tonnes')\n",
    "\n",
    "\n",
    "\n"
   ]
  },
  {
   "cell_type": "code",
   "execution_count": null,
   "id": "8869a3e0-35f4-424f-b3e8-2de963e0779e",
   "metadata": {},
   "outputs": [],
   "source": []
  },
  {
   "cell_type": "markdown",
   "id": "4505afab-154c-4dd2-84c6-f8362b53f1ec",
   "metadata": {},
   "source": [
    "Line chart is used for visualizing a particular trend \n",
    "ex- Stock market data which "
   ]
  },
  {
   "cell_type": "code",
   "execution_count": null,
   "id": "e4f98407-ec60-4f87-a4bd-a1f4324d62ae",
   "metadata": {},
   "outputs": [],
   "source": [
    "#Line chart through matplotlib\n",
    "plt.figure(figsize=(5,3))\n",
    "plt.plot(months,x1,months,x2,months,x3)\n",
    "plt.xlabel('Month')\n",
    "plt.ylabel('Consumption in tonnes')\n",
    "plt.legend(['Bread','Wheat','Milk'])\n",
    "plt.title('Consumption of food items')\n"
   ]
  },
  {
   "cell_type": "code",
   "execution_count": null,
   "id": "f17e72cd-ef66-4b4a-b673-0c5c368e3514",
   "metadata": {},
   "outputs": [],
   "source": []
  },
  {
   "cell_type": "code",
   "execution_count": null,
   "id": "2a31d5dd-7e32-4821-9d0d-e4a0a7d96097",
   "metadata": {},
   "outputs": [],
   "source": [
    "plt.figure(figsize=(5,3))\n",
    "\n",
    "#line chart through seaborn\n",
    "sns.lineplot(x=months,y=x1)\n",
    "sns.lineplot(x=months,y=x2)\n",
    "sns.lineplot(x=months,y=x3)\n"
   ]
  },
  {
   "cell_type": "code",
   "execution_count": null,
   "id": "38983d53-6154-4145-9969-2da71ff1c95c",
   "metadata": {},
   "outputs": [],
   "source": []
  },
  {
   "cell_type": "code",
   "execution_count": null,
   "id": "2f199ea9-3067-47b5-b81c-a6dce445a2dc",
   "metadata": {},
   "outputs": [],
   "source": []
  },
  {
   "cell_type": "code",
   "execution_count": null,
   "id": "ec229a8e-1704-4694-bc36-fcb4e1f5916c",
   "metadata": {},
   "outputs": [],
   "source": []
  },
  {
   "cell_type": "code",
   "execution_count": null,
   "id": "4698b44c-6cbd-409c-a748-be07e5932021",
   "metadata": {},
   "outputs": [],
   "source": [
    "#Loading an inbuilt dataset in seaborn\n",
    "new_data=sns.load_dataset('fmri')\n",
    "new_data"
   ]
  },
  {
   "cell_type": "code",
   "execution_count": null,
   "id": "4ab297ec-e328-4810-847e-61491c9ff5dc",
   "metadata": {},
   "outputs": [],
   "source": [
    "sns.lineplot(data=new_data,x='timepoint',y='signal',hue='region',ci=None)"
   ]
  },
  {
   "cell_type": "code",
   "execution_count": null,
   "id": "d3099379-6115-45ac-b19e-d8c561ada811",
   "metadata": {},
   "outputs": [],
   "source": []
  },
  {
   "cell_type": "code",
   "execution_count": null,
   "id": "b8fc14eb-39d2-4d64-80cb-1eed443e6e48",
   "metadata": {},
   "outputs": [],
   "source": []
  },
  {
   "cell_type": "code",
   "execution_count": null,
   "id": "b480d12a-51da-4444-a6a5-a7dc5d5a192b",
   "metadata": {},
   "outputs": [],
   "source": [
    "df=pd.read_excel('CDAC_DataBook.xlsx',sheet_name='faithful')\n",
    "df"
   ]
  },
  {
   "cell_type": "code",
   "execution_count": null,
   "id": "2fe7a715-b515-4aff-b37d-39483d5f6523",
   "metadata": {},
   "outputs": [],
   "source": [
    "erupt=df.eruptions"
   ]
  },
  {
   "cell_type": "code",
   "execution_count": null,
   "id": "d7374495-96b3-4da3-a48b-1269b3400e63",
   "metadata": {},
   "outputs": [],
   "source": [
    "erupt"
   ]
  },
  {
   "cell_type": "code",
   "execution_count": null,
   "id": "f9d73c50-a994-4947-8bd8-469a2d6f2a7c",
   "metadata": {},
   "outputs": [],
   "source": [
    "plt.figure(figsize=(14,7))\n",
    "plt.hist(erupt)"
   ]
  },
  {
   "cell_type": "markdown",
   "id": "f6193eea-73ad-4888-a0de-fe9c41eadefd",
   "metadata": {},
   "source": [
    "In the above graph, we see 2 arrays, \n",
    "- the first array is the number of values in a particular range\n",
    "- the second array is that range(ex.- from 1.6 to 1.95 there are 45 values)"
   ]
  },
  {
   "cell_type": "code",
   "execution_count": null,
   "id": "aeda40db-6787-4723-8b9f-61eb29e359e7",
   "metadata": {},
   "outputs": [],
   "source": []
  },
  {
   "cell_type": "code",
   "execution_count": null,
   "id": "6c0e7259-9de0-4f55-84bb-3d9dcf3fa606",
   "metadata": {},
   "outputs": [],
   "source": [
    "categ=[2,4,6]\n",
    "plt.hist(erupt,bins=categ)"
   ]
  },
  {
   "cell_type": "code",
   "execution_count": null,
   "id": "8346a240-a6b0-45fd-b849-d14d70af5968",
   "metadata": {},
   "outputs": [],
   "source": []
  },
  {
   "cell_type": "markdown",
   "id": "1822110e-6764-4327-994a-08ee79ccc5c6",
   "metadata": {},
   "source": [
    "In case of histogram, we can set bins of our own choice, <br>\n",
    "ex- age groups- [0-10,11-18,18-54,54-70,70+]"
   ]
  },
  {
   "cell_type": "code",
   "execution_count": null,
   "id": "3c241487-0892-4dbb-9536-dc110e904b4a",
   "metadata": {},
   "outputs": [],
   "source": []
  },
  {
   "cell_type": "code",
   "execution_count": null,
   "id": "a9875f65-40c1-4f09-8444-6571f032a5c1",
   "metadata": {},
   "outputs": [],
   "source": []
  },
  {
   "cell_type": "code",
   "execution_count": null,
   "id": "01674ef0-6e8c-4731-ab7e-b8a84e8742ff",
   "metadata": {},
   "outputs": [],
   "source": [
    "categ=[1.6,2.6,3.1,4.5,5.1]\n",
    "plt.hist(erupt,bins=categ)"
   ]
  },
  {
   "cell_type": "code",
   "execution_count": null,
   "id": "40cf4cba-606f-401b-b3a4-07aed47f5f7d",
   "metadata": {},
   "outputs": [],
   "source": [
    "categ=[1.6,2.6,3.1,4.5,5.1]\n",
    "plt.hist(erupt,bins=20)"
   ]
  },
  {
   "cell_type": "code",
   "execution_count": null,
   "id": "107185a6-0d66-4317-b82d-d92d32da4adb",
   "metadata": {},
   "outputs": [],
   "source": [
    "sns.histplot(erupt,bins=20)  #same as above but in seaborn"
   ]
  },
  {
   "cell_type": "code",
   "execution_count": null,
   "id": "72dcd67a-dd4c-4f40-89fe-49eeccad6cdc",
   "metadata": {},
   "outputs": [],
   "source": []
  },
  {
   "cell_type": "code",
   "execution_count": null,
   "id": "5feeb1e1-7dfe-4cd8-b565-b48a8705a51b",
   "metadata": {},
   "outputs": [],
   "source": [
    "x=['A']*300+['B']*400+['C']*300\n",
    "y=np.random.randint(1,100,1000)\n",
    "z=np.random.randint(1,100,1000)\n",
    "df=pd.DataFrame({'Letter':x,'N1':y,'N2':z})\n",
    "df"
   ]
  },
  {
   "cell_type": "code",
   "execution_count": null,
   "id": "b68f36ca-72aa-4a1c-bdd2-c15473cbbb8d",
   "metadata": {},
   "outputs": [],
   "source": [
    "plt.figure(figsize=(20,15))\n",
    "df.hist(['N1','N2'],by='Letter',bins=20)"
   ]
  },
  {
   "cell_type": "code",
   "execution_count": null,
   "id": "3d82bdc6-30f9-4c0a-a46d-b995f6cab328",
   "metadata": {},
   "outputs": [],
   "source": []
  },
  {
   "cell_type": "markdown",
   "id": "a66bf950-4272-4b9e-bbf1-715ff3050a6f",
   "metadata": {},
   "source": [
    "# SCATTER PLOT(Relational plot)"
   ]
  },
  {
   "cell_type": "markdown",
   "id": "786fcfef-8271-4bb9-8703-9ee40c386db9",
   "metadata": {},
   "source": [
    "Scatterplot is a kind of a statistical plot to perform multivariate analysis. <br>\n",
    "Both the variables - on x and y-axis should be continuous data while the third variable should be categorical data."
   ]
  },
  {
   "cell_type": "markdown",
   "id": "aebbee5b-7295-49cd-926a-f0ad991bcfd4",
   "metadata": {},
   "source": [
    "univariate - single variable <br>\n",
    "multivariate - two or more than two variables"
   ]
  },
  {
   "cell_type": "markdown",
   "id": "92e375da-3ec0-4dfe-8f44-3776acc7b1f5",
   "metadata": {},
   "source": [
    "If there is a variation between 2 variables then we use a scatterplot. <br>\n",
    "Example - relation of salary variable with experience"
   ]
  },
  {
   "cell_type": "markdown",
   "id": "a810112c-913d-4f20-b065-ebff739be81b",
   "metadata": {},
   "source": [
    "Relation- \n",
    "- positive -> directly proportional\n",
    "- negative -> inversely proportional"
   ]
  },
  {
   "cell_type": "code",
   "execution_count": null,
   "id": "44da31c3-a2d0-4009-ab89-f8f9640e7b47",
   "metadata": {},
   "outputs": [],
   "source": []
  },
  {
   "cell_type": "code",
   "execution_count": 141,
   "id": "bae8691d-8282-46db-b66e-cfa93de06392",
   "metadata": {},
   "outputs": [
    {
     "data": {
      "text/html": [
       "<div>\n",
       "<style scoped>\n",
       "    .dataframe tbody tr th:only-of-type {\n",
       "        vertical-align: middle;\n",
       "    }\n",
       "\n",
       "    .dataframe tbody tr th {\n",
       "        vertical-align: top;\n",
       "    }\n",
       "\n",
       "    .dataframe thead th {\n",
       "        text-align: right;\n",
       "    }\n",
       "</style>\n",
       "<table border=\"1\" class=\"dataframe\">\n",
       "  <thead>\n",
       "    <tr style=\"text-align: right;\">\n",
       "      <th></th>\n",
       "      <th>eruptions</th>\n",
       "      <th>waiting</th>\n",
       "    </tr>\n",
       "  </thead>\n",
       "  <tbody>\n",
       "    <tr>\n",
       "      <th>0</th>\n",
       "      <td>3.600</td>\n",
       "      <td>79</td>\n",
       "    </tr>\n",
       "    <tr>\n",
       "      <th>1</th>\n",
       "      <td>1.800</td>\n",
       "      <td>54</td>\n",
       "    </tr>\n",
       "    <tr>\n",
       "      <th>2</th>\n",
       "      <td>3.333</td>\n",
       "      <td>74</td>\n",
       "    </tr>\n",
       "    <tr>\n",
       "      <th>3</th>\n",
       "      <td>2.283</td>\n",
       "      <td>62</td>\n",
       "    </tr>\n",
       "    <tr>\n",
       "      <th>4</th>\n",
       "      <td>4.533</td>\n",
       "      <td>85</td>\n",
       "    </tr>\n",
       "    <tr>\n",
       "      <th>...</th>\n",
       "      <td>...</td>\n",
       "      <td>...</td>\n",
       "    </tr>\n",
       "    <tr>\n",
       "      <th>267</th>\n",
       "      <td>4.117</td>\n",
       "      <td>81</td>\n",
       "    </tr>\n",
       "    <tr>\n",
       "      <th>268</th>\n",
       "      <td>2.150</td>\n",
       "      <td>46</td>\n",
       "    </tr>\n",
       "    <tr>\n",
       "      <th>269</th>\n",
       "      <td>4.417</td>\n",
       "      <td>90</td>\n",
       "    </tr>\n",
       "    <tr>\n",
       "      <th>270</th>\n",
       "      <td>1.817</td>\n",
       "      <td>46</td>\n",
       "    </tr>\n",
       "    <tr>\n",
       "      <th>271</th>\n",
       "      <td>4.467</td>\n",
       "      <td>74</td>\n",
       "    </tr>\n",
       "  </tbody>\n",
       "</table>\n",
       "<p>272 rows × 2 columns</p>\n",
       "</div>"
      ],
      "text/plain": [
       "     eruptions  waiting\n",
       "0        3.600       79\n",
       "1        1.800       54\n",
       "2        3.333       74\n",
       "3        2.283       62\n",
       "4        4.533       85\n",
       "..         ...      ...\n",
       "267      4.117       81\n",
       "268      2.150       46\n",
       "269      4.417       90\n",
       "270      1.817       46\n",
       "271      4.467       74\n",
       "\n",
       "[272 rows x 2 columns]"
      ]
     },
     "execution_count": 141,
     "metadata": {},
     "output_type": "execute_result"
    }
   ],
   "source": [
    "df=pd.read_excel('CDAC_DataBook.xlsx',sheet_name='faithful')\n",
    "df"
   ]
  },
  {
   "cell_type": "code",
   "execution_count": 142,
   "id": "3a746e87-97c0-454f-8598-825261986236",
   "metadata": {},
   "outputs": [
    {
     "data": {
      "text/plain": [
       "<matplotlib.collections.PathCollection at 0x1f326752720>"
      ]
     },
     "execution_count": 142,
     "metadata": {},
     "output_type": "execute_result"
    },
    {
     "data": {
      "image/png": "[encoded data removed]",
      "text/plain": [
       "<Figure size 640x480 with 1 Axes>"
      ]
     },
     "metadata": {},
     "output_type": "display_data"
    }
   ],
   "source": [
    "plt.scatter(x=df['eruptions'],y=df['waiting'])"
   ]
  },
  {
   "cell_type": "code",
   "execution_count": 143,
   "id": "25d0472d-5152-4996-a4fa-32df2189458e",
   "metadata": {},
   "outputs": [
    {
     "data": {
      "text/plain": [
       "Text(0.5, 1.0, 'waiting vs eruptions')"
      ]
     },
     "execution_count": 143,
     "metadata": {},
     "output_type": "execute_result"
    },
    {
     "data": {
      "image/png": "[encoded data removed]",
      "text/plain": [
       "<Figure size 640x480 with 1 Axes>"
      ]
     },
     "metadata": {},
     "output_type": "display_data"
    }
   ],
   "source": [
    "plt.scatter(data=df,x='eruptions',y='waiting')\n",
    "plt.xlabel('eruptions')\n",
    "plt.ylabel('waiting')\n",
    "plt.title('waiting vs eruptions')"
   ]
  },
  {
   "cell_type": "code",
   "execution_count": 144,
   "id": "0e184b53-0b17-4deb-9fac-d9296a6e778f",
   "metadata": {},
   "outputs": [],
   "source": [
    "#pd.cut is used to divide continuous data into n categories"
   ]
  },
  {
   "cell_type": "code",
   "execution_count": 145,
   "id": "75264b01-8d19-4a84-aac0-2e2c3813eaac",
   "metadata": {},
   "outputs": [
    {
     "data": {
      "text/html": [
       "<div>\n",
       "<style scoped>\n",
       "    .dataframe tbody tr th:only-of-type {\n",
       "        vertical-align: middle;\n",
       "    }\n",
       "\n",
       "    .dataframe tbody tr th {\n",
       "        vertical-align: top;\n",
       "    }\n",
       "\n",
       "    .dataframe thead th {\n",
       "        text-align: right;\n",
       "    }\n",
       "</style>\n",
       "<table border=\"1\" class=\"dataframe\">\n",
       "  <thead>\n",
       "    <tr style=\"text-align: right;\">\n",
       "      <th></th>\n",
       "      <th>eruptions</th>\n",
       "      <th>waiting</th>\n",
       "    </tr>\n",
       "  </thead>\n",
       "  <tbody>\n",
       "    <tr>\n",
       "      <th>0</th>\n",
       "      <td>3.600</td>\n",
       "      <td>79</td>\n",
       "    </tr>\n",
       "    <tr>\n",
       "      <th>1</th>\n",
       "      <td>1.800</td>\n",
       "      <td>54</td>\n",
       "    </tr>\n",
       "    <tr>\n",
       "      <th>2</th>\n",
       "      <td>3.333</td>\n",
       "      <td>74</td>\n",
       "    </tr>\n",
       "    <tr>\n",
       "      <th>3</th>\n",
       "      <td>2.283</td>\n",
       "      <td>62</td>\n",
       "    </tr>\n",
       "    <tr>\n",
       "      <th>4</th>\n",
       "      <td>4.533</td>\n",
       "      <td>85</td>\n",
       "    </tr>\n",
       "  </tbody>\n",
       "</table>\n",
       "</div>"
      ],
      "text/plain": [
       "   eruptions  waiting\n",
       "0      3.600       79\n",
       "1      1.800       54\n",
       "2      3.333       74\n",
       "3      2.283       62\n",
       "4      4.533       85"
      ]
     },
     "execution_count": 145,
     "metadata": {},
     "output_type": "execute_result"
    }
   ],
   "source": [
    "df.head()"
   ]
  },
  {
   "cell_type": "code",
   "execution_count": null,
   "id": "c1365907-e864-4558-a47f-50df51177209",
   "metadata": {},
   "outputs": [],
   "source": []
  },
  {
   "cell_type": "code",
   "execution_count": 146,
   "id": "62c13375-ac52-4457-8de3-20a1b62b7c52",
   "metadata": {},
   "outputs": [],
   "source": [
    "# random.choice()"
   ]
  },
  {
   "cell_type": "code",
   "execution_count": null,
   "id": "699b8aff-cdf1-473f-ada6-2a7e07c8ae6b",
   "metadata": {},
   "outputs": [],
   "source": []
  },
  {
   "cell_type": "code",
   "execution_count": 147,
   "id": "0c578efb-c6e5-4324-9926-33fb6bbf910c",
   "metadata": {},
   "outputs": [],
   "source": [
    "from random import choice\n"
   ]
  },
  {
   "cell_type": "code",
   "execution_count": 149,
   "id": "57825693-b6af-4689-938c-015bfa605a7c",
   "metadata": {},
   "outputs": [
    {
     "data": {
      "text/plain": [
       "273"
      ]
     },
     "execution_count": 149,
     "metadata": {},
     "output_type": "execute_result"
    }
   ],
   "source": [
    "grade=[random.choice(['A','B','C']) for ch in range(len(erupt))]\n",
    "len(grade)\n",
    "# df['grade']=grade"
   ]
  },
  {
   "cell_type": "code",
   "execution_count": null,
   "id": "44cbe2d7-7ab8-4f06-ad3f-f674d045e11a",
   "metadata": {},
   "outputs": [],
   "source": [
    "df"
   ]
  },
  {
   "cell_type": "code",
   "execution_count": null,
   "id": "9226a7b8-f9f4-41e6-9f56-ed3becc9c299",
   "metadata": {},
   "outputs": [],
   "source": [
    "dfA=df.iloc[np.where(df.grade=='A')[0]]\n",
    "dfB=df.iloc[np.where(df.grade=='B')[0]]\n",
    "dfC=df.iloc[np.where(df.grade=='C')[0]]\n"
   ]
  },
  {
   "cell_type": "code",
   "execution_count": null,
   "id": "f800ab2d-42ed-499b-911f-4c48d380fd38",
   "metadata": {},
   "outputs": [],
   "source": [
    "plt.figure(figsize=(5,3))\n",
    "plt.scatter(dfA.eruptions,dfA.waiting,c='Red')\n",
    "plt.scatter(dfB.eruptions,dfB.waiting,c='Green')\n",
    "plt.scatter(dfC.eruptions,dfC.waiting,c='Blue')\n"
   ]
  },
  {
   "cell_type": "code",
   "execution_count": null,
   "id": "5bf2d119-1b22-4325-99f5-c238f4ee2d71",
   "metadata": {},
   "outputs": [],
   "source": [
    "sns.scatterplot(data=df,x='eruptions',y='waiting',hue='grade')\n",
    "plt.xlabel('eruptions')\n",
    "plt.ylabel('waiting')\n",
    "plt.title('waiting vs eruptions')"
   ]
  },
  {
   "cell_type": "code",
   "execution_count": null,
   "id": "29e3d899-dca4-4d14-9412-bde59000eff8",
   "metadata": {},
   "outputs": [],
   "source": [
    "plt.scatter(data=df,x='eruptions',y='waiting')\n",
    "plt.xlabel('eruptions')\n",
    "plt.ylabel('waiting')\n",
    "plt.title('waiting vs eruptions')"
   ]
  },
  {
   "cell_type": "code",
   "execution_count": null,
   "id": "7fc8e9aa-757a-4a76-937c-4cd1d1e2a26d",
   "metadata": {},
   "outputs": [],
   "source": [
    "tps=sns.load_dataset('tips')\n",
    "tps"
   ]
  },
  {
   "cell_type": "code",
   "execution_count": null,
   "id": "257e15ae-1983-4f48-a832-b6642c4bdc19",
   "metadata": {},
   "outputs": [],
   "source": [
    "plt.figure(figsize=(5,3))\n",
    "sns.scatterplot(data=tps,x='total_bill',y='tip',hue='time')"
   ]
  },
  {
   "cell_type": "code",
   "execution_count": null,
   "id": "adc5e9a9-7080-43e5-863c-c2574e5b435b",
   "metadata": {},
   "outputs": [],
   "source": [
    "sns.scatterplot(data=tps,x='total_bill',y='tip',hue='day')\n"
   ]
  },
  {
   "cell_type": "code",
   "execution_count": null,
   "id": "71fba4f5-2f49-4087-b3ed-275a2e9d6e0c",
   "metadata": {},
   "outputs": [],
   "source": [
    "sns.scatterplot(data=tps,x='total_bill',y='tip',hue='size')\n"
   ]
  },
  {
   "cell_type": "code",
   "execution_count": null,
   "id": "5180121e-398b-42f9-af6c-26b9980d4e02",
   "metadata": {},
   "outputs": [],
   "source": [
    "sns.scatterplot(data=tps,x='total_bill',y='tip',hue='smoker',palette='rocket_r')\n"
   ]
  },
  {
   "cell_type": "code",
   "execution_count": null,
   "id": "4d5988d5-8070-411b-bf27-0f7e6d2f3e74",
   "metadata": {},
   "outputs": [],
   "source": [
    "sns.scatterplot(data=tps,x='total_bill',y='tip',hue='sex')\n"
   ]
  },
  {
   "cell_type": "code",
   "execution_count": null,
   "id": "90e89bb1-a576-4860-b8ec-cb3c186b01c9",
   "metadata": {},
   "outputs": [],
   "source": []
  },
  {
   "cell_type": "code",
   "execution_count": null,
   "id": "97ae2e72-f5d8-49a5-98a0-d824111ca53e",
   "metadata": {},
   "outputs": [],
   "source": [
    "sns.scatterplot(data=tps,x='total_bill',y='tip',hue='smoker',style='sex',palette='rocket_r')"
   ]
  },
  {
   "cell_type": "code",
   "execution_count": null,
   "id": "747b0a3d-805f-4fcd-9aed-d6d2e2e37171",
   "metadata": {},
   "outputs": [],
   "source": [
    "sns.scatterplot(data=tps,x='total_bill',y='tip',hue='sex',style='smoker',palette='rocket_r')"
   ]
  },
  {
   "cell_type": "code",
   "execution_count": null,
   "id": "333a0fd2-4540-4ffc-9877-3110dd2489c7",
   "metadata": {},
   "outputs": [],
   "source": []
  },
  {
   "cell_type": "code",
   "execution_count": null,
   "id": "118b0760-a020-41db-87a1-e37bf47a82fa",
   "metadata": {},
   "outputs": [],
   "source": []
  },
  {
   "cell_type": "code",
   "execution_count": null,
   "id": "1ffb4154-052c-4d95-8492-1418e290cbf8",
   "metadata": {},
   "outputs": [],
   "source": [
    "sns.scatterplot(data=tps,x='total_bill',y='tip',hue='smoker',style='sex',size='size',sizes=(15,100),palette='rocket_r',markers='x')"
   ]
  },
  {
   "cell_type": "code",
   "execution_count": null,
   "id": "d05d9002-1837-43e0-a7bd-5b50d815332f",
   "metadata": {},
   "outputs": [],
   "source": []
  },
  {
   "cell_type": "code",
   "execution_count": null,
   "id": "6d5344ea-4d87-4657-9a4b-5f79e7617bfb",
   "metadata": {},
   "outputs": [],
   "source": []
  },
  {
   "cell_type": "markdown",
   "id": "e9becaae-fe00-4370-8bd0-057be042a020",
   "metadata": {},
   "source": [
    "# Box Plot-"
   ]
  },
  {
   "cell_type": "code",
   "execution_count": null,
   "id": "d7d9442f-3081-4a54-b377-cde7e8fe9e11",
   "metadata": {},
   "outputs": [],
   "source": []
  },
  {
   "cell_type": "code",
   "execution_count": null,
   "id": "5406183a-875f-4291-be7c-65e6ce0d8e7c",
   "metadata": {},
   "outputs": [],
   "source": []
  },
  {
   "cell_type": "code",
   "execution_count": null,
   "id": "9c765bf6-5280-49ab-8f41-834b35b1c3c0",
   "metadata": {},
   "outputs": [],
   "source": [
    "# UF=Q3+1.5*IQR\n",
    "# LF=Q1-1.5*IQR"
   ]
  },
  {
   "cell_type": "code",
   "execution_count": null,
   "id": "ba3c2a40-28a3-4ba8-919c-93db0d5b2b9c",
   "metadata": {},
   "outputs": [],
   "source": []
  },
  {
   "cell_type": "code",
   "execution_count": null,
   "id": "7ccac3d3-ee07-4505-839e-1cd88afc3924",
   "metadata": {},
   "outputs": [],
   "source": []
  },
  {
   "cell_type": "code",
   "execution_count": null,
   "id": "8a893111-d759-4b8a-8252-e897294b0846",
   "metadata": {},
   "outputs": [],
   "source": [
    "90+(1.5)*50"
   ]
  },
  {
   "cell_type": "code",
   "execution_count": null,
   "id": "8f71b072-25d9-4db0-9184-ae35a0e6c730",
   "metadata": {},
   "outputs": [],
   "source": [
    "40-(1.5)*50\n"
   ]
  },
  {
   "cell_type": "code",
   "execution_count": null,
   "id": "a5c4a792-ff73-4a7e-a783-ed6b8edbde2e",
   "metadata": {},
   "outputs": [],
   "source": []
  },
  {
   "cell_type": "code",
   "execution_count": null,
   "id": "76e01ecc-14d0-4d78-b86f-714d53d68494",
   "metadata": {},
   "outputs": [],
   "source": [
    "df=pd.read_excel('CDAC_DataBook.xlsx',sheet_name='faithful')"
   ]
  },
  {
   "cell_type": "code",
   "execution_count": null,
   "id": "63ece8da-1b4c-4733-b708-96848af23cb3",
   "metadata": {},
   "outputs": [],
   "source": [
    "df.head()\n"
   ]
  },
  {
   "cell_type": "code",
   "execution_count": null,
   "id": "847e60ce-d405-4604-b092-c4b7c042ac65",
   "metadata": {},
   "outputs": [],
   "source": [
    "erupt=df.eruptions\n",
    "erupt\n"
   ]
  },
  {
   "cell_type": "code",
   "execution_count": null,
   "id": "a3b4e516-ed5a-4508-b27c-062cadf2738e",
   "metadata": {},
   "outputs": [],
   "source": [
    "len(erupt)"
   ]
  },
  {
   "cell_type": "code",
   "execution_count": null,
   "id": "7fcf7ba1-86a8-47fb-8dfa-fc7d731b80ba",
   "metadata": {},
   "outputs": [],
   "source": [
    "q1=np.percentile(erupt,25)\n",
    "q1"
   ]
  },
  {
   "cell_type": "code",
   "execution_count": null,
   "id": "62541108-93b7-4910-b179-e2e3978a78a6",
   "metadata": {},
   "outputs": [],
   "source": [
    "q3=np.percentile(erupt,75)\n",
    "q3"
   ]
  },
  {
   "cell_type": "code",
   "execution_count": null,
   "id": "05b7e829-8153-445b-9a8e-157b81cc0986",
   "metadata": {},
   "outputs": [],
   "source": [
    "np.percentile(erupt,50)\n"
   ]
  },
  {
   "cell_type": "code",
   "execution_count": null,
   "id": "d24e047c-652d-4db5-9ccf-e7d710938e7e",
   "metadata": {},
   "outputs": [],
   "source": [
    "iqr=np.percentile(erupt,75)-np.percentile(erupt,25)\n",
    "iqr"
   ]
  },
  {
   "cell_type": "code",
   "execution_count": null,
   "id": "8a0894f2-03f9-486a-a800-1d5ffac8ea86",
   "metadata": {},
   "outputs": [],
   "source": []
  },
  {
   "cell_type": "code",
   "execution_count": null,
   "id": "b3b464ef-a19c-4e9d-b369-0ccd5f4fb11a",
   "metadata": {},
   "outputs": [],
   "source": [
    "uf=q3+1.5*iqr\n",
    "uf"
   ]
  },
  {
   "cell_type": "code",
   "execution_count": null,
   "id": "ab10d86b-919c-40d2-a5c7-8da96bb9861b",
   "metadata": {},
   "outputs": [],
   "source": [
    "lf=q1-1.5*iqr\n",
    "lf"
   ]
  },
  {
   "cell_type": "code",
   "execution_count": null,
   "id": "f8b40599-68b4-4be2-9397-c444d10ac269",
   "metadata": {},
   "outputs": [],
   "source": [
    "lf=0  #since all values are above 0"
   ]
  },
  {
   "cell_type": "code",
   "execution_count": null,
   "id": "152c05ad-e21a-4c96-af50-17e2957e1fdb",
   "metadata": {},
   "outputs": [],
   "source": [
    "val_pos=np.where((erupt>4.45) & (erupt<7.29))\n",
    "val_pos"
   ]
  },
  {
   "cell_type": "code",
   "execution_count": null,
   "id": "6016c2ec-1ae3-4307-8a74-8195dcfbf118",
   "metadata": {},
   "outputs": [],
   "source": [
    "max(erupt[val_pos[0]])"
   ]
  },
  {
   "cell_type": "code",
   "execution_count": null,
   "id": "a92d7028-3092-4e77-a5c6-6754467beb1e",
   "metadata": {},
   "outputs": [],
   "source": [
    "ind=np.where(erupt<2.2915)"
   ]
  },
  {
   "cell_type": "code",
   "execution_count": null,
   "id": "8099a83a-0ddb-43b2-94f9-d9ced7690822",
   "metadata": {},
   "outputs": [],
   "source": [
    "min(erupt[ind[0]])"
   ]
  },
  {
   "cell_type": "code",
   "execution_count": null,
   "id": "7c8e549e-0b19-4bbb-961f-d23690b7b5be",
   "metadata": {},
   "outputs": [],
   "source": [
    "np.where(erupt>7.89)[0]"
   ]
  },
  {
   "cell_type": "code",
   "execution_count": null,
   "id": "b0861d4e-abca-4b4b-97c9-add6054ab239",
   "metadata": {},
   "outputs": [],
   "source": [
    "len(np.where(erupt>7.89)[0])"
   ]
  },
  {
   "cell_type": "code",
   "execution_count": null,
   "id": "590e3450-5fc4-4ff3-a260-f797693d8c51",
   "metadata": {},
   "outputs": [],
   "source": [
    "erupt"
   ]
  },
  {
   "cell_type": "code",
   "execution_count": null,
   "id": "9866aae5-de0e-4282-a140-e1b1d4fa159f",
   "metadata": {},
   "outputs": [],
   "source": [
    "erupt=pd.Series(list(erupt)+[15])\n",
    "erupt"
   ]
  },
  {
   "cell_type": "code",
   "execution_count": null,
   "id": "e1187ded-8a0e-4ab4-8014-8bad7e56815c",
   "metadata": {},
   "outputs": [],
   "source": []
  },
  {
   "cell_type": "code",
   "execution_count": null,
   "id": "acd78f5b-8ea7-4697-8713-82c249b94d14",
   "metadata": {},
   "outputs": [],
   "source": [
    "plt.boxplot(erupt)"
   ]
  },
  {
   "cell_type": "code",
   "execution_count": null,
   "id": "2c9696b1-f8d9-4b81-aaf7-9824567c718d",
   "metadata": {},
   "outputs": [],
   "source": []
  }
 ],
 "metadata": {
  "kernelspec": {
   "display_name": "Python 3 (ipykernel)",
   "language": "python",
   "name": "python3"
  },
  "language_info": {
   "codemirror_mode": {
    "name": "ipython",
    "version": 3
   },
   "file_extension": ".py",
   "mimetype": "text/x-python",
   "name": "python",
   "nbconvert_exporter": "python",
   "pygments_lexer": "ipython3",
   "version": "3.12.7"
  }
 },
 "nbformat": 4,
 "nbformat_minor": 5
}
