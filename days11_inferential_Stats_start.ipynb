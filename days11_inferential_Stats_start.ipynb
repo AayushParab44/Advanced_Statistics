{
 "cells": [
  {
   "cell_type": "markdown",
   "id": "5dc2b9a8-1200-4520-8cbc-3b0da93c2fa2",
   "metadata": {},
   "source": [
    "# Inferential Statistics"
   ]
  },
  {
   "cell_type": "markdown",
   "id": "fc9d6be8-3dd1-477c-abcd-ce02eb5f33cb",
   "metadata": {},
   "source": [
    "Population- the entire population <br>\n",
    "Sample- subset of population <br>\n",
    "\n",
    "An example - Population - people eligible to vote. <br>\n",
    "Sample - For the exit polls only a small part of the population is considered this part can be called as a sample. <br>\n",
    "\n",
    "Sample should be large enough to perform the analysis. <br>\n",
    "Sample should be chosen such that there is no bias towards a particular category. <br>\n",
    "Random sampling is taking out a sample in which we have all categories of data and ensure that there is no bias.\n"
   ]
  },
  {
   "cell_type": "markdown",
   "id": "77d87f95-a413-4541-a88f-1e86ea388730",
   "metadata": {},
   "source": [
    "Sample statistics is based on the sample of the entire population. It is any number computed from your sample data. Examples include the sample average, median, sample standard deviation, and percentiles from the sample data."
   ]
  },
  {
   "cell_type": "markdown",
   "id": "87e45196-9e3f-4cb6-a11d-94e68d612eac",
   "metadata": {},
   "source": [
    "Bias - Bias towards or against an output <br>\n",
    "Chance variation - By chance getting the same output everytime even though we have the same sample"
   ]
  },
  {
   "cell_type": "markdown",
   "id": "c6a1d277-84d1-4b49-a852-5763eb9c9147",
   "metadata": {},
   "source": [
    "sample statistics = population parameter + bias(or fact) + cv"
   ]
  },
  {
   "cell_type": "markdown",
   "id": "59dab809-b039-4079-9721-31df800532a1",
   "metadata": {},
   "source": [
    "Chance variation can be eliminated only when the data is collected from the enitre population. As long as we work on the sample data, chance variation cannot be eliminated."
   ]
  },
  {
   "cell_type": "code",
   "execution_count": null,
   "id": "a2004966-65f1-404a-bb0d-135e33dd1823",
   "metadata": {},
   "outputs": [],
   "source": []
  },
  {
   "cell_type": "code",
   "execution_count": null,
   "id": "739d7069-7fda-4945-8b41-27318b39d33e",
   "metadata": {},
   "outputs": [],
   "source": []
  },
  {
   "cell_type": "markdown",
   "id": "1c45126a-f995-4db0-9059-a0e2418f5859",
   "metadata": {},
   "source": [
    "# Central Limit Theorem\n",
    "Irrespective of the shape of the population distribution, if multiple samples are drawn of large sample size(n>30), \n",
    "the sample means shall follow the normal distribution.\n",
    "\n",
    "sigma/squareroot(n) - standard error of mean"
   ]
  },
  {
   "cell_type": "markdown",
   "id": "ea7ae6c7-ff49-4ba8-9ab1-692537c6c388",
   "metadata": {},
   "source": [
    "The mean of the sample means shall always be almost equal to the populaion means.\n"
   ]
  },
  {
   "cell_type": "markdown",
   "id": "f97288b3-c3e9-4640-bcfa-4c6318f1993a",
   "metadata": {},
   "source": [
    "The only minor difference might be because of bias/chance variation"
   ]
  },
  {
   "cell_type": "code",
   "execution_count": null,
   "id": "333d3ad6-4de5-4865-a96f-1de1f6ccbeeb",
   "metadata": {},
   "outputs": [],
   "source": []
  },
  {
   "cell_type": "markdown",
   "id": "53f3d3e7-7366-4997-a5e4-732676acbe40",
   "metadata": {},
   "source": [
    "confidence level -> 95%"
   ]
  },
  {
   "cell_type": "code",
   "execution_count": null,
   "id": "62d02642-0f31-40e5-b14d-522b34dc3911",
   "metadata": {},
   "outputs": [],
   "source": []
  },
  {
   "cell_type": "code",
   "execution_count": 4,
   "id": "2f73e89c-54dd-4f02-998a-d908c69c09b2",
   "metadata": {},
   "outputs": [],
   "source": [
    "import scipy\n",
    "from scipy import stats\n",
    "from scipy.stats import t,norm"
   ]
  },
  {
   "cell_type": "code",
   "execution_count": 5,
   "id": "a3eb9b8a-fc93-4861-a875-8ee22ef590e3",
   "metadata": {},
   "outputs": [],
   "source": [
    "ci = stats.t.interval(.95,49,108.7,12.5/50**.5)\n",
    "\n",
    "# 0.95 -> confidence level\n",
    "# 49 -> degrees of freedom(sample size-1)\n",
    "# 108.7 -> sample mean\n",
    "# 12.5/50**.5 -> std error of mean(sd/sqrt(n))"
   ]
  },
  {
   "cell_type": "code",
   "execution_count": 6,
   "id": "cc9f77b0-fae3-4211-8516-a6206452b00e",
   "metadata": {},
   "outputs": [
    {
     "data": {
      "text/plain": [
       "(np.float64(105.14753930630337), np.float64(112.25246069369663))"
      ]
     },
     "execution_count": 6,
     "metadata": {},
     "output_type": "execute_result"
    }
   ],
   "source": [
    "ci"
   ]
  },
  {
   "cell_type": "code",
   "execution_count": null,
   "id": "959e6534-fb6c-40a0-a79b-0aa50402584b",
   "metadata": {},
   "outputs": [],
   "source": []
  },
  {
   "cell_type": "code",
   "execution_count": 7,
   "id": "677de203-6675-4925-abc0-459209c4a776",
   "metadata": {},
   "outputs": [],
   "source": [
    "x=57.3 #sample mean\n",
    "sd=5.8 #std deviation\n",
    "n=70 #sample size\n",
    "#se=sd/n**.5   #std error\n",
    "cl=0.93 #confidence level\n"
   ]
  },
  {
   "cell_type": "code",
   "execution_count": 9,
   "id": "cea9306f-f6b0-4254-92b6-522418f8c3e6",
   "metadata": {},
   "outputs": [
    {
     "data": {
      "text/plain": [
       "np.float64(-1.8404671103320964)"
      ]
     },
     "execution_count": 9,
     "metadata": {},
     "output_type": "execute_result"
    }
   ],
   "source": [
    "t.ppf(.07/2,69)\n"
   ]
  },
  {
   "cell_type": "code",
   "execution_count": 10,
   "id": "93471a94-3d95-45eb-98e6-92007481ee57",
   "metadata": {},
   "outputs": [
    {
     "data": {
      "text/plain": [
       "56.02445202811833"
      ]
     },
     "execution_count": 10,
     "metadata": {},
     "output_type": "execute_result"
    }
   ],
   "source": [
    "57.3-1.84*5.8/70**.5"
   ]
  },
  {
   "cell_type": "code",
   "execution_count": 11,
   "id": "6fc7fa6c-10df-421d-b09f-73e0b176f223",
   "metadata": {},
   "outputs": [
    {
     "data": {
      "text/plain": [
       "58.57554797188166"
      ]
     },
     "execution_count": 11,
     "metadata": {},
     "output_type": "execute_result"
    }
   ],
   "source": [
    "57.3+1.84*5.8/70**.5"
   ]
  },
  {
   "cell_type": "code",
   "execution_count": null,
   "id": "e4627bfc-990b-4407-b44e-79825d7a16e2",
   "metadata": {},
   "outputs": [],
   "source": []
  },
  {
   "cell_type": "code",
   "execution_count": 14,
   "id": "e653ad65-cebf-4102-9e64-a04fce824255",
   "metadata": {},
   "outputs": [
    {
     "data": {
      "text/plain": [
       "np.float64(-2.381614505240304)"
      ]
     },
     "execution_count": 14,
     "metadata": {},
     "output_type": "execute_result"
    }
   ],
   "source": [
    "# 93->99\n",
    "t.ppf(0.01,69)"
   ]
  },
  {
   "cell_type": "code",
   "execution_count": null,
   "id": "4701b037-04d5-4c1b-8201-9346ceff9f17",
   "metadata": {},
   "outputs": [],
   "source": []
  },
  {
   "cell_type": "code",
   "execution_count": 17,
   "id": "6d11a565-21e8-48c7-99d8-fa57d8024810",
   "metadata": {},
   "outputs": [
    {
     "data": {
      "text/plain": [
       "np.float64(-2.3263478740408408)"
      ]
     },
     "execution_count": 17,
     "metadata": {},
     "output_type": "execute_result"
    }
   ],
   "source": [
    "norm.ppf(0.01)\n"
   ]
  },
  {
   "cell_type": "code",
   "execution_count": 25,
   "id": "122694b7-f4a5-4b93-9078-dd257c7af184",
   "metadata": {},
   "outputs": [],
   "source": [
    "z=norm.ppf(0.025)\n",
    "sd=40\n",
    "d=5"
   ]
  },
  {
   "cell_type": "code",
   "execution_count": 26,
   "id": "82c29132-a99f-4146-bed6-fd27acfd3e60",
   "metadata": {},
   "outputs": [
    {
     "data": {
      "text/plain": [
       "np.float64(245.85336452442414)"
      ]
     },
     "execution_count": 26,
     "metadata": {},
     "output_type": "execute_result"
    }
   ],
   "source": [
    "(z**2*sd**2)/(d**2)"
   ]
  },
  {
   "cell_type": "code",
   "execution_count": 27,
   "id": "8d41d4a1-f6eb-4be7-9354-455fe30f2db7",
   "metadata": {},
   "outputs": [
    {
     "data": {
      "text/plain": [
       "np.float64(983.4134580976965)"
      ]
     },
     "execution_count": 27,
     "metadata": {},
     "output_type": "execute_result"
    }
   ],
   "source": [
    "(z**2*sd**2)/(2.5**2)"
   ]
  },
  {
   "cell_type": "code",
   "execution_count": null,
   "id": "197bba51-4b44-4531-9989-22974110f591",
   "metadata": {},
   "outputs": [],
   "source": []
  },
  {
   "cell_type": "code",
   "execution_count": null,
   "id": "1f1d5f51-3929-43d5-adcc-307b19eba103",
   "metadata": {},
   "outputs": [],
   "source": []
  },
  {
   "cell_type": "code",
   "execution_count": null,
   "id": "537d84cd-2adb-4d06-8977-7ec8eb160fe1",
   "metadata": {},
   "outputs": [],
   "source": [
    "# Historically it has been seen that a flight from Delhi to Mumbai takes 140 minutes with a std deviation value of 10 min.\n",
    "# What is the probability that my flight would take less than 125 min. \n",
    "# What is the probability that it would take between 130 and 145 minutes.\n",
    "\n",
    "# Indigo wants to estimate the population mean on the basis of a sample size of 200 flights it operated last month. \n",
    "# The average flight time for these 200 flights was found to be 142 minutes with a std deviation value of 12 min. \n",
    "# What is the interval estimate for the population mean at 95% confidence level? \n",
    "\n",
    "# If Indigo wants to reduce the reported interval size to half, what would be the new sample size keeping other factors constant."
   ]
  },
  {
   "cell_type": "code",
   "execution_count": null,
   "id": "727f068e-59f5-48cd-abab-466d759438d2",
   "metadata": {},
   "outputs": [],
   "source": [
    "# sample mean=140\n",
    "# sample sd=10\n"
   ]
  },
  {
   "cell_type": "code",
   "execution_count": null,
   "id": "86d46089-4e37-44e6-8dd7-2820ac5340b5",
   "metadata": {},
   "outputs": [],
   "source": []
  }
 ],
 "metadata": {
  "kernelspec": {
   "display_name": "Python 3 (ipykernel)",
   "language": "python",
   "name": "python3"
  },
  "language_info": {
   "codemirror_mode": {
    "name": "ipython",
    "version": 3
   },
   "file_extension": ".py",
   "mimetype": "text/x-python",
   "name": "python",
   "nbconvert_exporter": "python",
   "pygments_lexer": "ipython3",
   "version": "3.12.7"
  }
 },
 "nbformat": 4,
 "nbformat_minor": 5
}
