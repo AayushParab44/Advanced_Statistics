{
 "cells": [
  {
   "cell_type": "markdown",
   "id": "5dc2b9a8-1200-4520-8cbc-3b0da93c2fa2",
   "metadata": {},
   "source": [
    "# Inferential Statistics"
   ]
  },
  {
   "cell_type": "markdown",
   "id": "fc9d6be8-3dd1-477c-abcd-ce02eb5f33cb",
   "metadata": {},
   "source": [
    "Population- the entire population <br>\n",
    "Sample- subset of population <br>\n",
    "\n",
    "An example - Population - people eligible to vote. <br>\n",
    "Sample - For the exit polls only a small part of the population is considered this part can be called as a sample. <br>\n",
    "\n",
    "Sample should be large enough to perform the analysis. <br>\n",
    "Sample should be chosen such that there is no bias towards a particular category. <br>\n",
    "Random sampling is taking out a sample in which we have all categories of data and ensure that there is no bias.\n"
   ]
  },
  {
   "cell_type": "markdown",
   "id": "77d87f95-a413-4541-a88f-1e86ea388730",
   "metadata": {},
   "source": [
    "Sample statistics is based on the sample of the entire population. It is any number computed from your sample data. Examples include the sample average, median, sample standard deviation, and percentiles from the sample data."
   ]
  },
  {
   "cell_type": "markdown",
   "id": "87e45196-9e3f-4cb6-a11d-94e68d612eac",
   "metadata": {},
   "source": [
    "Bias - Bias towards or against an output <br>\n",
    "Chance variation - By chance getting the same output everytime even though we have the same sample"
   ]
  },
  {
   "cell_type": "markdown",
   "id": "c6a1d277-84d1-4b49-a852-5763eb9c9147",
   "metadata": {},
   "source": [
    "sample statistics = population parameter + bias(or fact) + cv"
   ]
  },
  {
   "cell_type": "markdown",
   "id": "59dab809-b039-4079-9721-31df800532a1",
   "metadata": {},
   "source": [
    "Chance variation can be eliminated only when the data is collected from the enitre population. As long as we work on the sample data, chance variation cannot be eliminated."
   ]
  },
  {
   "cell_type": "code",
   "execution_count": null,
   "id": "a2004966-65f1-404a-bb0d-135e33dd1823",
   "metadata": {},
   "outputs": [],
   "source": []
  },
  {
   "cell_type": "code",
   "execution_count": null,
   "id": "739d7069-7fda-4945-8b41-27318b39d33e",
   "metadata": {},
   "outputs": [],
   "source": []
  },
  {
   "cell_type": "markdown",
   "id": "1c45126a-f995-4db0-9059-a0e2418f5859",
   "metadata": {},
   "source": [
    "# Central Limit Theorem\n",
    "Irrespective of the shape of the population distribution, if multiple samples are drawn of large sample size(n>30), \n",
    "the sample means shall follow the normal distribution.\n",
    "\n",
    "sigma/squareroot(n) - standard error of mean"
   ]
  },
  {
   "cell_type": "markdown",
   "id": "ea7ae6c7-ff49-4ba8-9ab1-692537c6c388",
   "metadata": {},
   "source": [
    "The mean of the sample means shall always be almost equal to the populaion means.\n"
   ]
  },
  {
   "cell_type": "markdown",
   "id": "f97288b3-c3e9-4640-bcfa-4c6318f1993a",
   "metadata": {},
   "source": [
    "The only minor difference might be because of bias/chance variation"
   ]
  },
  {
   "cell_type": "code",
   "execution_count": null,
   "id": "333d3ad6-4de5-4865-a96f-1de1f6ccbeeb",
   "metadata": {},
   "outputs": [],
   "source": []
  },
  {
   "cell_type": "markdown",
   "id": "53f3d3e7-7366-4997-a5e4-732676acbe40",
   "metadata": {},
   "source": [
    "confidence level -> 95%"
   ]
  },
  {
   "cell_type": "code",
   "execution_count": null,
   "id": "62d02642-0f31-40e5-b14d-522b34dc3911",
   "metadata": {},
   "outputs": [],
   "source": []
  },
  {
   "cell_type": "code",
   "execution_count": 6,
   "id": "2f73e89c-54dd-4f02-998a-d908c69c09b2",
   "metadata": {},
   "outputs": [],
   "source": [
    "import scipy\n",
    "from scipy import stats\n",
    "from scipy.stats import t,norm"
   ]
  },
  {
   "cell_type": "code",
   "execution_count": 9,
   "id": "a3eb9b8a-fc93-4861-a875-8ee22ef590e3",
   "metadata": {},
   "outputs": [],
   "source": [
    "ci = stats.t.interval(.95,49,108.7,12.5/50**.5)\n",
    "\n",
    "# 0.95 -> confidence level\n",
    "# 49 -> degrees of freedom(sample size-1)\n",
    "# 108.7 -> sample mean\n",
    "# 12.5/50**.5 -> std error of mean(sd/sqrt(n))"
   ]
  },
  {
   "cell_type": "code",
   "execution_count": 10,
   "id": "cc9f77b0-fae3-4211-8516-a6206452b00e",
   "metadata": {},
   "outputs": [
    {
     "data": {
      "text/plain": [
       "(np.float64(105.14753930630337), np.float64(112.25246069369663))"
      ]
     },
     "execution_count": 10,
     "metadata": {},
     "output_type": "execute_result"
    }
   ],
   "source": [
    "ci"
   ]
  },
  {
   "cell_type": "code",
   "execution_count": null,
   "id": "959e6534-fb6c-40a0-a79b-0aa50402584b",
   "metadata": {},
   "outputs": [],
   "source": []
  }
 ],
 "metadata": {
  "kernelspec": {
   "display_name": "Python 3 (ipykernel)",
   "language": "python",
   "name": "python3"
  },
  "language_info": {
   "codemirror_mode": {
    "name": "ipython",
    "version": 3
   },
   "file_extension": ".py",
   "mimetype": "text/x-python",
   "name": "python",
   "nbconvert_exporter": "python",
   "pygments_lexer": "ipython3",
   "version": "3.12.7"
  }
 },
 "nbformat": 4,
 "nbformat_minor": 5
}
